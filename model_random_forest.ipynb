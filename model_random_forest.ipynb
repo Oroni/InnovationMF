{
 "cells": [
  {
   "cell_type": "markdown",
   "source": [
    "# Process our data"
   ],
   "metadata": {
    "collapsed": false
   }
  },
  {
   "cell_type": "code",
   "execution_count": 1,
   "outputs": [],
   "source": [
    "X_columns = \\\n",
    "    ['Distance',\n",
    "     'MinTemp',\n",
    "     'MaxTemp',\n",
    "     'Rainfall',\n",
    "     'Evaporation',\n",
    "     'Sunshine',\n",
    "     'WindGustSpeed',\n",
    "     'WindSpeed9am',\n",
    "     'WindSpeed3pm',\n",
    "     'Humidity9am',\n",
    "     'Humidity3pm',\n",
    "     'Pressure9am',\n",
    "     'Pressure3pm',\n",
    "     'Cloud9am',\n",
    "     'Cloud3pm',\n",
    "     'Temp9am',\n",
    "     'Temp3pm',\n",
    "     'Cancellations_%',\n",
    "     'Adelaide',\n",
    "     'Albury',\n",
    "     'Alice Springs',\n",
    "     'Armidale',\n",
    "     'Ayers Rock',\n",
    "     'Ballina',\n",
    "     'Brisbane',\n",
    "     'Broome',\n",
    "     'Bundaberg',\n",
    "     'Cairns',\n",
    "     'Canberra',\n",
    "     'Coffs Harbour',\n",
    "     'Darwin',\n",
    "     'Dubbo',\n",
    "     'Emerald',\n",
    "     'Geraldton',\n",
    "     'Gladstone',\n",
    "     'Gold Coast',\n",
    "     'Hamilton Island',\n",
    "     'Hobart',\n",
    "     'Kalgoorlie',\n",
    "     'Karratha',\n",
    "     'Launceston',\n",
    "     'Mackay',\n",
    "     'Melbourne',\n",
    "     'Mildura',\n",
    "     'Moranbah',\n",
    "     'Mount Isa',\n",
    "     'Newcastle',\n",
    "     'Newman',\n",
    "     'Perth',\n",
    "     'Port Hedland',\n",
    "     'Port Lincoln',\n",
    "     'Port Macquarie',\n",
    "     'Proserpine',\n",
    "     'Rockhampton',\n",
    "     'Sunshine Coast',\n",
    "     'Sydney',\n",
    "     'Tamworth',\n",
    "     'Townsville',\n",
    "     'Wagga Wagga',\n",
    "     'Adelaide',\n",
    "     'Albury',\n",
    "     'Alice Springs',\n",
    "     'Armidale',\n",
    "     'Ayers Rock',\n",
    "     'Ballina',\n",
    "     'Brisbane',\n",
    "     'Broome',\n",
    "     'Bundaberg',\n",
    "     'Cairns',\n",
    "     'Canberra',\n",
    "     'Coffs Harbour',\n",
    "     'Darwin',\n",
    "     'Dubbo',\n",
    "     'Emerald',\n",
    "     'Geraldton',\n",
    "     'Gladstone',\n",
    "     'Gold Coast',\n",
    "     'Hamilton Island',\n",
    "     'Hobart',\n",
    "     'Kalgoorlie',\n",
    "     'Karratha',\n",
    "     'Launceston',\n",
    "     'Mackay',\n",
    "     'Melbourne',\n",
    "     'Mildura',\n",
    "     'Moranbah',\n",
    "     'Mount Isa',\n",
    "     'Newcastle',\n",
    "     'Newman',\n",
    "     'Perth',\n",
    "     'Port Hedland',\n",
    "     'Port Lincoln',\n",
    "     'Port Macquarie',\n",
    "     'Proserpine',\n",
    "     'Rockhampton',\n",
    "     'Sunshine Coast',\n",
    "     'Sydney',\n",
    "     'Tamworth',\n",
    "     'Townsville',\n",
    "     'Wagga Wagga',\n",
    "     'Jetstar',\n",
    "     'Qantas',\n",
    "     'QantasLink',\n",
    "     'Regional Express',\n",
    "     'Skywest',\n",
    "     'Tigerair Australia',\n",
    "     'Virgin Australia',\n",
    "     'Virgin Australia - ATR/F100 Operations',\n",
    "     'Virgin Australia Regional Airlines']"
   ],
   "metadata": {
    "collapsed": false,
    "ExecuteTime": {
     "end_time": "2024-09-30T13:12:48.976164200Z",
     "start_time": "2024-09-30T13:12:48.967921400Z"
    }
   }
  },
  {
   "cell_type": "code",
   "execution_count": 2,
   "metadata": {
    "collapsed": true,
    "ExecuteTime": {
     "end_time": "2024-09-30T13:12:53.137287100Z",
     "start_time": "2024-09-30T13:12:48.979155600Z"
    }
   },
   "outputs": [],
   "source": [
    "import math\n",
    "import torch\n",
    "import pandas as pd"
   ]
  },
  {
   "cell_type": "code",
   "execution_count": 3,
   "outputs": [
    {
     "data": {
      "text/plain": "      Departing_Port Arriving_Port  Month  Year  Average_Fare    Distance  \\\n0           Adelaide     Melbourne      1  2010         414.0  641.652927   \n1           Adelaide     Melbourne      1  2010         414.0  641.652927   \n2           Adelaide     Melbourne      1  2010         414.0  641.652927   \n3           Adelaide     Melbourne      1  2010         414.0  641.652927   \n4           Adelaide      Canberra      1  2010         414.0  970.229046   \n...              ...           ...    ...   ...           ...         ...   \n30111       Moranbah      Brisbane      6  2017        1277.0  779.683481   \n30112       Armidale        Sydney      6  2017         326.0  382.268024   \n30113       Armidale        Sydney      6  2017         326.0  382.268024   \n30114       Tamworth        Sydney      6  2017         643.0  319.769513   \n30115       Tamworth        Sydney      6  2017         643.0  319.769513   \n\n        MinTemp    MaxTemp  Rainfall  Evaporation  ...  Pressure9am  \\\n0      17.33103  29.763540  2.198292     8.894267  ...  1013.053858   \n1      17.33103  29.763540  2.198292     8.894267  ...  1013.053858   \n2      17.33103  29.763540  2.198292     8.894267  ...  1013.053858   \n3      17.33103  29.763540  2.198292     8.894267  ...  1013.053858   \n4      17.33103  29.763540  2.198292     8.894267  ...  1013.053858   \n...         ...        ...       ...          ...  ...          ...   \n30111   7.14584  18.217691  1.944638     2.741813  ...  1025.984182   \n30112   7.14584  18.217691  1.944638     2.741813  ...  1025.984182   \n30113   7.14584  18.217691  1.944638     2.741813  ...  1025.984182   \n30114   7.14584  18.217691  1.944638     2.741813  ...  1025.984182   \n30115   7.14584  18.217691  1.944638     2.741813  ...  1025.984182   \n\n       Pressure3pm  Cloud9am  Cloud3pm    Temp9am    Temp3pm  \\\n0      1010.905502  4.167756  4.016930  22.526185  27.847663   \n1      1010.905502  4.167756  4.016930  22.526185  27.847663   \n2      1010.905502  4.167756  4.016930  22.526185  27.847663   \n3      1010.905502  4.167756  4.016930  22.526185  27.847663   \n4      1010.905502  4.167756  4.016930  22.526185  27.847663   \n...            ...       ...       ...        ...        ...   \n30111  1023.486260  4.872945  5.115312  11.379967  16.965475   \n30112  1023.486260  4.872945  5.115312  11.379967  16.965475   \n30113  1023.486260  4.872945  5.115312  11.379967  16.965475   \n30114  1023.486260  4.872945  5.115312  11.379967  16.965475   \n30115  1023.486260  4.872945  5.115312  11.379967  16.965475   \n\n                  Airline  Departure_Delays_%  Arrival_Delays_%  \\\n0                 Jetstar            0.255319          0.234043   \n1                  Qantas            0.087542          0.090909   \n2      Tigerair Australia            0.083333          0.033333   \n3        Virgin Australia            0.072874          0.068826   \n4                  Qantas            0.111111          0.083333   \n...                   ...                 ...               ...   \n30111    Virgin Australia            0.078431          0.058824   \n30112          QantasLink            0.256198          0.297521   \n30113    Regional Express            0.278481          0.329114   \n30114          QantasLink            0.180645          0.174194   \n30115    Virgin Australia            0.156863          0.156863   \n\n       Cancellations_%  \n0             0.000000  \n1             0.003367  \n2             0.050000  \n3             0.012146  \n4             0.000000  \n...                ...  \n30111         0.000000  \n30112         0.115702  \n30113         0.050633  \n30114         0.051613  \n30115         0.019608  \n\n[30116 rows x 26 columns]",
      "text/html": "<div>\n<style scoped>\n    .dataframe tbody tr th:only-of-type {\n        vertical-align: middle;\n    }\n\n    .dataframe tbody tr th {\n        vertical-align: top;\n    }\n\n    .dataframe thead th {\n        text-align: right;\n    }\n</style>\n<table border=\"1\" class=\"dataframe\">\n  <thead>\n    <tr style=\"text-align: right;\">\n      <th></th>\n      <th>Departing_Port</th>\n      <th>Arriving_Port</th>\n      <th>Month</th>\n      <th>Year</th>\n      <th>Average_Fare</th>\n      <th>Distance</th>\n      <th>MinTemp</th>\n      <th>MaxTemp</th>\n      <th>Rainfall</th>\n      <th>Evaporation</th>\n      <th>...</th>\n      <th>Pressure9am</th>\n      <th>Pressure3pm</th>\n      <th>Cloud9am</th>\n      <th>Cloud3pm</th>\n      <th>Temp9am</th>\n      <th>Temp3pm</th>\n      <th>Airline</th>\n      <th>Departure_Delays_%</th>\n      <th>Arrival_Delays_%</th>\n      <th>Cancellations_%</th>\n    </tr>\n  </thead>\n  <tbody>\n    <tr>\n      <th>0</th>\n      <td>Adelaide</td>\n      <td>Melbourne</td>\n      <td>1</td>\n      <td>2010</td>\n      <td>414.0</td>\n      <td>641.652927</td>\n      <td>17.33103</td>\n      <td>29.763540</td>\n      <td>2.198292</td>\n      <td>8.894267</td>\n      <td>...</td>\n      <td>1013.053858</td>\n      <td>1010.905502</td>\n      <td>4.167756</td>\n      <td>4.016930</td>\n      <td>22.526185</td>\n      <td>27.847663</td>\n      <td>Jetstar</td>\n      <td>0.255319</td>\n      <td>0.234043</td>\n      <td>0.000000</td>\n    </tr>\n    <tr>\n      <th>1</th>\n      <td>Adelaide</td>\n      <td>Melbourne</td>\n      <td>1</td>\n      <td>2010</td>\n      <td>414.0</td>\n      <td>641.652927</td>\n      <td>17.33103</td>\n      <td>29.763540</td>\n      <td>2.198292</td>\n      <td>8.894267</td>\n      <td>...</td>\n      <td>1013.053858</td>\n      <td>1010.905502</td>\n      <td>4.167756</td>\n      <td>4.016930</td>\n      <td>22.526185</td>\n      <td>27.847663</td>\n      <td>Qantas</td>\n      <td>0.087542</td>\n      <td>0.090909</td>\n      <td>0.003367</td>\n    </tr>\n    <tr>\n      <th>2</th>\n      <td>Adelaide</td>\n      <td>Melbourne</td>\n      <td>1</td>\n      <td>2010</td>\n      <td>414.0</td>\n      <td>641.652927</td>\n      <td>17.33103</td>\n      <td>29.763540</td>\n      <td>2.198292</td>\n      <td>8.894267</td>\n      <td>...</td>\n      <td>1013.053858</td>\n      <td>1010.905502</td>\n      <td>4.167756</td>\n      <td>4.016930</td>\n      <td>22.526185</td>\n      <td>27.847663</td>\n      <td>Tigerair Australia</td>\n      <td>0.083333</td>\n      <td>0.033333</td>\n      <td>0.050000</td>\n    </tr>\n    <tr>\n      <th>3</th>\n      <td>Adelaide</td>\n      <td>Melbourne</td>\n      <td>1</td>\n      <td>2010</td>\n      <td>414.0</td>\n      <td>641.652927</td>\n      <td>17.33103</td>\n      <td>29.763540</td>\n      <td>2.198292</td>\n      <td>8.894267</td>\n      <td>...</td>\n      <td>1013.053858</td>\n      <td>1010.905502</td>\n      <td>4.167756</td>\n      <td>4.016930</td>\n      <td>22.526185</td>\n      <td>27.847663</td>\n      <td>Virgin Australia</td>\n      <td>0.072874</td>\n      <td>0.068826</td>\n      <td>0.012146</td>\n    </tr>\n    <tr>\n      <th>4</th>\n      <td>Adelaide</td>\n      <td>Canberra</td>\n      <td>1</td>\n      <td>2010</td>\n      <td>414.0</td>\n      <td>970.229046</td>\n      <td>17.33103</td>\n      <td>29.763540</td>\n      <td>2.198292</td>\n      <td>8.894267</td>\n      <td>...</td>\n      <td>1013.053858</td>\n      <td>1010.905502</td>\n      <td>4.167756</td>\n      <td>4.016930</td>\n      <td>22.526185</td>\n      <td>27.847663</td>\n      <td>Qantas</td>\n      <td>0.111111</td>\n      <td>0.083333</td>\n      <td>0.000000</td>\n    </tr>\n    <tr>\n      <th>...</th>\n      <td>...</td>\n      <td>...</td>\n      <td>...</td>\n      <td>...</td>\n      <td>...</td>\n      <td>...</td>\n      <td>...</td>\n      <td>...</td>\n      <td>...</td>\n      <td>...</td>\n      <td>...</td>\n      <td>...</td>\n      <td>...</td>\n      <td>...</td>\n      <td>...</td>\n      <td>...</td>\n      <td>...</td>\n      <td>...</td>\n      <td>...</td>\n      <td>...</td>\n      <td>...</td>\n    </tr>\n    <tr>\n      <th>30111</th>\n      <td>Moranbah</td>\n      <td>Brisbane</td>\n      <td>6</td>\n      <td>2017</td>\n      <td>1277.0</td>\n      <td>779.683481</td>\n      <td>7.14584</td>\n      <td>18.217691</td>\n      <td>1.944638</td>\n      <td>2.741813</td>\n      <td>...</td>\n      <td>1025.984182</td>\n      <td>1023.486260</td>\n      <td>4.872945</td>\n      <td>5.115312</td>\n      <td>11.379967</td>\n      <td>16.965475</td>\n      <td>Virgin Australia</td>\n      <td>0.078431</td>\n      <td>0.058824</td>\n      <td>0.000000</td>\n    </tr>\n    <tr>\n      <th>30112</th>\n      <td>Armidale</td>\n      <td>Sydney</td>\n      <td>6</td>\n      <td>2017</td>\n      <td>326.0</td>\n      <td>382.268024</td>\n      <td>7.14584</td>\n      <td>18.217691</td>\n      <td>1.944638</td>\n      <td>2.741813</td>\n      <td>...</td>\n      <td>1025.984182</td>\n      <td>1023.486260</td>\n      <td>4.872945</td>\n      <td>5.115312</td>\n      <td>11.379967</td>\n      <td>16.965475</td>\n      <td>QantasLink</td>\n      <td>0.256198</td>\n      <td>0.297521</td>\n      <td>0.115702</td>\n    </tr>\n    <tr>\n      <th>30113</th>\n      <td>Armidale</td>\n      <td>Sydney</td>\n      <td>6</td>\n      <td>2017</td>\n      <td>326.0</td>\n      <td>382.268024</td>\n      <td>7.14584</td>\n      <td>18.217691</td>\n      <td>1.944638</td>\n      <td>2.741813</td>\n      <td>...</td>\n      <td>1025.984182</td>\n      <td>1023.486260</td>\n      <td>4.872945</td>\n      <td>5.115312</td>\n      <td>11.379967</td>\n      <td>16.965475</td>\n      <td>Regional Express</td>\n      <td>0.278481</td>\n      <td>0.329114</td>\n      <td>0.050633</td>\n    </tr>\n    <tr>\n      <th>30114</th>\n      <td>Tamworth</td>\n      <td>Sydney</td>\n      <td>6</td>\n      <td>2017</td>\n      <td>643.0</td>\n      <td>319.769513</td>\n      <td>7.14584</td>\n      <td>18.217691</td>\n      <td>1.944638</td>\n      <td>2.741813</td>\n      <td>...</td>\n      <td>1025.984182</td>\n      <td>1023.486260</td>\n      <td>4.872945</td>\n      <td>5.115312</td>\n      <td>11.379967</td>\n      <td>16.965475</td>\n      <td>QantasLink</td>\n      <td>0.180645</td>\n      <td>0.174194</td>\n      <td>0.051613</td>\n    </tr>\n    <tr>\n      <th>30115</th>\n      <td>Tamworth</td>\n      <td>Sydney</td>\n      <td>6</td>\n      <td>2017</td>\n      <td>643.0</td>\n      <td>319.769513</td>\n      <td>7.14584</td>\n      <td>18.217691</td>\n      <td>1.944638</td>\n      <td>2.741813</td>\n      <td>...</td>\n      <td>1025.984182</td>\n      <td>1023.486260</td>\n      <td>4.872945</td>\n      <td>5.115312</td>\n      <td>11.379967</td>\n      <td>16.965475</td>\n      <td>Virgin Australia</td>\n      <td>0.156863</td>\n      <td>0.156863</td>\n      <td>0.019608</td>\n    </tr>\n  </tbody>\n</table>\n<p>30116 rows × 26 columns</p>\n</div>"
     },
     "execution_count": 3,
     "metadata": {},
     "output_type": "execute_result"
    }
   ],
   "source": [
    "raw_data = pd.read_csv(\"flights_data.csv\")\n",
    "raw_data"
   ],
   "metadata": {
    "collapsed": false,
    "ExecuteTime": {
     "end_time": "2024-09-30T13:12:53.408654600Z",
     "start_time": "2024-09-30T13:12:53.178179500Z"
    }
   }
  },
  {
   "cell_type": "markdown",
   "source": [
    "## Convert categorical variables to one-hot vectors"
   ],
   "metadata": {
    "collapsed": false
   }
  },
  {
   "cell_type": "code",
   "execution_count": 4,
   "outputs": [],
   "source": [
    "raw_data[\"Average_Delay_%\"] = (raw_data[\"Arrival_Delays_%\"] + raw_data[\"Departure_Delays_%\"]) * 0.5"
   ],
   "metadata": {
    "collapsed": false,
    "ExecuteTime": {
     "end_time": "2024-09-30T13:12:53.463796800Z",
     "start_time": "2024-09-30T13:12:53.412645500Z"
    }
   }
  },
  {
   "cell_type": "code",
   "execution_count": 5,
   "outputs": [],
   "source": [
    "categorical_variables = [\"Departing_Port\", \"Arriving_Port\", \"Airline\"]"
   ],
   "metadata": {
    "collapsed": false,
    "ExecuteTime": {
     "end_time": "2024-09-30T13:12:53.501185900Z",
     "start_time": "2024-09-30T13:12:53.443817200Z"
    }
   }
  },
  {
   "cell_type": "code",
   "execution_count": 6,
   "outputs": [],
   "source": [
    "# Convert categorical variables into integers\n",
    "processed_data = raw_data.copy()\n",
    "\n",
    "processed_data = processed_data.sort_values([\"Year\", \"Month\", \"Departing_Port\", \"Arriving_Port\", \"Airline\"])"
   ],
   "metadata": {
    "collapsed": false,
    "ExecuteTime": {
     "end_time": "2024-09-30T13:12:53.613419600Z",
     "start_time": "2024-09-30T13:12:53.456784300Z"
    }
   }
  },
  {
   "cell_type": "code",
   "execution_count": 7,
   "outputs": [],
   "source": [
    "# Convert each categorical feature to one-hot\n",
    "\n",
    "for variable in categorical_variables:\n",
    "    one_hot_airline_categories = pd.get_dummies(processed_data[variable])\n",
    "\n",
    "    del processed_data[variable]\n",
    "\n",
    "    processed_data = pd.concat([processed_data, one_hot_airline_categories], axis=1)"
   ],
   "metadata": {
    "collapsed": false,
    "ExecuteTime": {
     "end_time": "2024-09-30T13:12:53.614417300Z",
     "start_time": "2024-09-30T13:12:53.510176400Z"
    }
   }
  },
  {
   "cell_type": "code",
   "execution_count": 8,
   "outputs": [
    {
     "data": {
      "text/plain": "       Month  Year  Average_Fare     Distance   MinTemp    MaxTemp  Rainfall  \\\n11         1  2010         414.0  1316.720677  17.33103  29.763540  2.198292   \n12         1  2010         414.0  1316.720677  17.33103  29.763540  2.198292   \n16         1  2010         414.0  1619.982414  17.33103  29.763540  2.198292   \n17         1  2010         414.0  1619.982414  17.33103  29.763540  2.198292   \n18         1  2010         414.0  1619.982414  17.33103  29.763540  2.198292   \n...      ...   ...           ...          ...       ...        ...       ...   \n30093      6  2017       20941.0   284.013192   7.14584  18.217691  1.944638   \n30094      6  2017       21097.0  1691.132106   7.14584  18.217691  1.944638   \n30095      6  2017       21097.0  1691.132106   7.14584  18.217691  1.944638   \n30096      6  2017       26286.0   365.844014   7.14584  18.217691  1.944638   \n30097      6  2017       26286.0   365.844014   7.14584  18.217691  1.944638   \n\n       Evaporation  Sunshine  WindGustSpeed  ...  Wagga Wagga  Jetstar  \\\n11        8.894267  9.385116      43.838095  ...            0        0   \n12        8.894267  9.385116      43.838095  ...            0        0   \n16        8.894267  9.385116      43.838095  ...            0        1   \n17        8.894267  9.385116      43.838095  ...            0        0   \n18        8.894267  9.385116      43.838095  ...            0        0   \n...            ...       ...            ...  ...          ...      ...   \n30093     2.741813  6.264984      31.617153  ...            0        0   \n30094     2.741813  6.264984      31.617153  ...            0        1   \n30095     2.741813  6.264984      31.617153  ...            0        0   \n30096     2.741813  6.264984      31.617153  ...            0        0   \n30097     2.741813  6.264984      31.617153  ...            0        0   \n\n       Qantas  QantasLink  Regional Express  Skywest  Tigerair Australia  \\\n11          1           0                 0        0                   0   \n12          0           0                 0        0                   1   \n16          0           0                 0        0                   0   \n17          1           0                 0        0                   0   \n18          0           0                 0        0                   0   \n...       ...         ...               ...      ...                 ...   \n30093       0           0                 1        0                   0   \n30094       0           0                 0        0                   0   \n30095       0           0                 0        0                   0   \n30096       0           1                 0        0                   0   \n30097       0           0                 1        0                   0   \n\n       Virgin Australia  Virgin Australia - ATR/F100 Operations  \\\n11                    0                                       0   \n12                    0                                       0   \n16                    0                                       0   \n17                    0                                       0   \n18                    1                                       0   \n...                 ...                                     ...   \n30093                 0                                       0   \n30094                 0                                       0   \n30095                 1                                       0   \n30096                 0                                       0   \n30097                 0                                       0   \n\n       Virgin Australia Regional Airlines  \n11                                      0  \n12                                      0  \n16                                      0  \n17                                      0  \n18                                      0  \n...                                   ...  \n30093                                   0  \n30094                                   0  \n30095                                   0  \n30096                                   0  \n30097                                   0  \n\n[30116 rows x 115 columns]",
      "text/html": "<div>\n<style scoped>\n    .dataframe tbody tr th:only-of-type {\n        vertical-align: middle;\n    }\n\n    .dataframe tbody tr th {\n        vertical-align: top;\n    }\n\n    .dataframe thead th {\n        text-align: right;\n    }\n</style>\n<table border=\"1\" class=\"dataframe\">\n  <thead>\n    <tr style=\"text-align: right;\">\n      <th></th>\n      <th>Month</th>\n      <th>Year</th>\n      <th>Average_Fare</th>\n      <th>Distance</th>\n      <th>MinTemp</th>\n      <th>MaxTemp</th>\n      <th>Rainfall</th>\n      <th>Evaporation</th>\n      <th>Sunshine</th>\n      <th>WindGustSpeed</th>\n      <th>...</th>\n      <th>Wagga Wagga</th>\n      <th>Jetstar</th>\n      <th>Qantas</th>\n      <th>QantasLink</th>\n      <th>Regional Express</th>\n      <th>Skywest</th>\n      <th>Tigerair Australia</th>\n      <th>Virgin Australia</th>\n      <th>Virgin Australia - ATR/F100 Operations</th>\n      <th>Virgin Australia Regional Airlines</th>\n    </tr>\n  </thead>\n  <tbody>\n    <tr>\n      <th>11</th>\n      <td>1</td>\n      <td>2010</td>\n      <td>414.0</td>\n      <td>1316.720677</td>\n      <td>17.33103</td>\n      <td>29.763540</td>\n      <td>2.198292</td>\n      <td>8.894267</td>\n      <td>9.385116</td>\n      <td>43.838095</td>\n      <td>...</td>\n      <td>0</td>\n      <td>0</td>\n      <td>1</td>\n      <td>0</td>\n      <td>0</td>\n      <td>0</td>\n      <td>0</td>\n      <td>0</td>\n      <td>0</td>\n      <td>0</td>\n    </tr>\n    <tr>\n      <th>12</th>\n      <td>1</td>\n      <td>2010</td>\n      <td>414.0</td>\n      <td>1316.720677</td>\n      <td>17.33103</td>\n      <td>29.763540</td>\n      <td>2.198292</td>\n      <td>8.894267</td>\n      <td>9.385116</td>\n      <td>43.838095</td>\n      <td>...</td>\n      <td>0</td>\n      <td>0</td>\n      <td>0</td>\n      <td>0</td>\n      <td>0</td>\n      <td>0</td>\n      <td>1</td>\n      <td>0</td>\n      <td>0</td>\n      <td>0</td>\n    </tr>\n    <tr>\n      <th>16</th>\n      <td>1</td>\n      <td>2010</td>\n      <td>414.0</td>\n      <td>1619.982414</td>\n      <td>17.33103</td>\n      <td>29.763540</td>\n      <td>2.198292</td>\n      <td>8.894267</td>\n      <td>9.385116</td>\n      <td>43.838095</td>\n      <td>...</td>\n      <td>0</td>\n      <td>1</td>\n      <td>0</td>\n      <td>0</td>\n      <td>0</td>\n      <td>0</td>\n      <td>0</td>\n      <td>0</td>\n      <td>0</td>\n      <td>0</td>\n    </tr>\n    <tr>\n      <th>17</th>\n      <td>1</td>\n      <td>2010</td>\n      <td>414.0</td>\n      <td>1619.982414</td>\n      <td>17.33103</td>\n      <td>29.763540</td>\n      <td>2.198292</td>\n      <td>8.894267</td>\n      <td>9.385116</td>\n      <td>43.838095</td>\n      <td>...</td>\n      <td>0</td>\n      <td>0</td>\n      <td>1</td>\n      <td>0</td>\n      <td>0</td>\n      <td>0</td>\n      <td>0</td>\n      <td>0</td>\n      <td>0</td>\n      <td>0</td>\n    </tr>\n    <tr>\n      <th>18</th>\n      <td>1</td>\n      <td>2010</td>\n      <td>414.0</td>\n      <td>1619.982414</td>\n      <td>17.33103</td>\n      <td>29.763540</td>\n      <td>2.198292</td>\n      <td>8.894267</td>\n      <td>9.385116</td>\n      <td>43.838095</td>\n      <td>...</td>\n      <td>0</td>\n      <td>0</td>\n      <td>0</td>\n      <td>0</td>\n      <td>0</td>\n      <td>0</td>\n      <td>0</td>\n      <td>1</td>\n      <td>0</td>\n      <td>0</td>\n    </tr>\n    <tr>\n      <th>...</th>\n      <td>...</td>\n      <td>...</td>\n      <td>...</td>\n      <td>...</td>\n      <td>...</td>\n      <td>...</td>\n      <td>...</td>\n      <td>...</td>\n      <td>...</td>\n      <td>...</td>\n      <td>...</td>\n      <td>...</td>\n      <td>...</td>\n      <td>...</td>\n      <td>...</td>\n      <td>...</td>\n      <td>...</td>\n      <td>...</td>\n      <td>...</td>\n      <td>...</td>\n      <td>...</td>\n    </tr>\n    <tr>\n      <th>30093</th>\n      <td>6</td>\n      <td>2017</td>\n      <td>20941.0</td>\n      <td>284.013192</td>\n      <td>7.14584</td>\n      <td>18.217691</td>\n      <td>1.944638</td>\n      <td>2.741813</td>\n      <td>6.264984</td>\n      <td>31.617153</td>\n      <td>...</td>\n      <td>0</td>\n      <td>0</td>\n      <td>0</td>\n      <td>0</td>\n      <td>1</td>\n      <td>0</td>\n      <td>0</td>\n      <td>0</td>\n      <td>0</td>\n      <td>0</td>\n    </tr>\n    <tr>\n      <th>30094</th>\n      <td>6</td>\n      <td>2017</td>\n      <td>21097.0</td>\n      <td>1691.132106</td>\n      <td>7.14584</td>\n      <td>18.217691</td>\n      <td>1.944638</td>\n      <td>2.741813</td>\n      <td>6.264984</td>\n      <td>31.617153</td>\n      <td>...</td>\n      <td>0</td>\n      <td>1</td>\n      <td>0</td>\n      <td>0</td>\n      <td>0</td>\n      <td>0</td>\n      <td>0</td>\n      <td>0</td>\n      <td>0</td>\n      <td>0</td>\n    </tr>\n    <tr>\n      <th>30095</th>\n      <td>6</td>\n      <td>2017</td>\n      <td>21097.0</td>\n      <td>1691.132106</td>\n      <td>7.14584</td>\n      <td>18.217691</td>\n      <td>1.944638</td>\n      <td>2.741813</td>\n      <td>6.264984</td>\n      <td>31.617153</td>\n      <td>...</td>\n      <td>0</td>\n      <td>0</td>\n      <td>0</td>\n      <td>0</td>\n      <td>0</td>\n      <td>0</td>\n      <td>0</td>\n      <td>1</td>\n      <td>0</td>\n      <td>0</td>\n    </tr>\n    <tr>\n      <th>30096</th>\n      <td>6</td>\n      <td>2017</td>\n      <td>26286.0</td>\n      <td>365.844014</td>\n      <td>7.14584</td>\n      <td>18.217691</td>\n      <td>1.944638</td>\n      <td>2.741813</td>\n      <td>6.264984</td>\n      <td>31.617153</td>\n      <td>...</td>\n      <td>0</td>\n      <td>0</td>\n      <td>0</td>\n      <td>1</td>\n      <td>0</td>\n      <td>0</td>\n      <td>0</td>\n      <td>0</td>\n      <td>0</td>\n      <td>0</td>\n    </tr>\n    <tr>\n      <th>30097</th>\n      <td>6</td>\n      <td>2017</td>\n      <td>26286.0</td>\n      <td>365.844014</td>\n      <td>7.14584</td>\n      <td>18.217691</td>\n      <td>1.944638</td>\n      <td>2.741813</td>\n      <td>6.264984</td>\n      <td>31.617153</td>\n      <td>...</td>\n      <td>0</td>\n      <td>0</td>\n      <td>0</td>\n      <td>0</td>\n      <td>1</td>\n      <td>0</td>\n      <td>0</td>\n      <td>0</td>\n      <td>0</td>\n      <td>0</td>\n    </tr>\n  </tbody>\n</table>\n<p>30116 rows × 115 columns</p>\n</div>"
     },
     "execution_count": 8,
     "metadata": {},
     "output_type": "execute_result"
    }
   ],
   "source": [
    "processed_data"
   ],
   "metadata": {
    "collapsed": false,
    "ExecuteTime": {
     "end_time": "2024-09-30T13:12:53.615415900Z",
     "start_time": "2024-09-30T13:12:53.573527200Z"
    }
   }
  },
  {
   "cell_type": "markdown",
   "source": [
    "## Normalise the data to a value range of 0-1 (for continuous variables)"
   ],
   "metadata": {
    "collapsed": false
   }
  },
  {
   "cell_type": "code",
   "execution_count": 9,
   "outputs": [
    {
     "data": {
      "text/plain": "       Month  Year  Average_Fare  Distance   MinTemp   MaxTemp  Rainfall  \\\n11         1  2010      0.010518  0.320498  0.928133  0.966634  0.364930   \n12         1  2010      0.010518  0.320498  0.928133  0.966634  0.364930   \n16         1  2010      0.010518  0.410449  0.928133  0.966634  0.364930   \n17         1  2010      0.010518  0.410449  0.928133  0.966634  0.364930   \n18         1  2010      0.010518  0.410449  0.928133  0.966634  0.364930   \n...      ...   ...           ...       ...       ...       ...       ...   \n30093      6  2017      0.532011  0.014184  0.066673  0.138983  0.298577   \n30094      6  2017      0.535974  0.431553  0.066673  0.138983  0.298577   \n30095      6  2017      0.535974  0.431553  0.066673  0.138983  0.298577   \n30096      6  2017      0.667801  0.038456  0.066673  0.138983  0.298577   \n30097      6  2017      0.667801  0.038456  0.066673  0.138983  0.298577   \n\n       Evaporation  Sunshine  WindGustSpeed  ...  Wagga Wagga  Jetstar  \\\n11        0.898459  0.931945       0.823711  ...            0        0   \n12        0.898459  0.931945       0.823711  ...            0        0   \n16        0.898459  0.931945       0.823711  ...            0        1   \n17        0.898459  0.931945       0.823711  ...            0        0   \n18        0.898459  0.931945       0.823711  ...            0        0   \n...            ...       ...            ...  ...          ...      ...   \n30093     0.070292  0.219417       0.000000  ...            0        0   \n30094     0.070292  0.219417       0.000000  ...            0        1   \n30095     0.070292  0.219417       0.000000  ...            0        0   \n30096     0.070292  0.219417       0.000000  ...            0        0   \n30097     0.070292  0.219417       0.000000  ...            0        0   \n\n       Qantas  QantasLink  Regional Express  Skywest  Tigerair Australia  \\\n11          1           0                 0        0                   0   \n12          0           0                 0        0                   1   \n16          0           0                 0        0                   0   \n17          1           0                 0        0                   0   \n18          0           0                 0        0                   0   \n...       ...         ...               ...      ...                 ...   \n30093       0           0                 1        0                   0   \n30094       0           0                 0        0                   0   \n30095       0           0                 0        0                   0   \n30096       0           1                 0        0                   0   \n30097       0           0                 1        0                   0   \n\n       Virgin Australia  Virgin Australia - ATR/F100 Operations  \\\n11                    0                                       0   \n12                    0                                       0   \n16                    0                                       0   \n17                    0                                       0   \n18                    1                                       0   \n...                 ...                                     ...   \n30093                 0                                       0   \n30094                 0                                       0   \n30095                 1                                       0   \n30096                 0                                       0   \n30097                 0                                       0   \n\n       Virgin Australia Regional Airlines  \n11                                      0  \n12                                      0  \n16                                      0  \n17                                      0  \n18                                      0  \n...                                   ...  \n30093                                   0  \n30094                                   0  \n30095                                   0  \n30096                                   0  \n30097                                   0  \n\n[30116 rows x 115 columns]",
      "text/html": "<div>\n<style scoped>\n    .dataframe tbody tr th:only-of-type {\n        vertical-align: middle;\n    }\n\n    .dataframe tbody tr th {\n        vertical-align: top;\n    }\n\n    .dataframe thead th {\n        text-align: right;\n    }\n</style>\n<table border=\"1\" class=\"dataframe\">\n  <thead>\n    <tr style=\"text-align: right;\">\n      <th></th>\n      <th>Month</th>\n      <th>Year</th>\n      <th>Average_Fare</th>\n      <th>Distance</th>\n      <th>MinTemp</th>\n      <th>MaxTemp</th>\n      <th>Rainfall</th>\n      <th>Evaporation</th>\n      <th>Sunshine</th>\n      <th>WindGustSpeed</th>\n      <th>...</th>\n      <th>Wagga Wagga</th>\n      <th>Jetstar</th>\n      <th>Qantas</th>\n      <th>QantasLink</th>\n      <th>Regional Express</th>\n      <th>Skywest</th>\n      <th>Tigerair Australia</th>\n      <th>Virgin Australia</th>\n      <th>Virgin Australia - ATR/F100 Operations</th>\n      <th>Virgin Australia Regional Airlines</th>\n    </tr>\n  </thead>\n  <tbody>\n    <tr>\n      <th>11</th>\n      <td>1</td>\n      <td>2010</td>\n      <td>0.010518</td>\n      <td>0.320498</td>\n      <td>0.928133</td>\n      <td>0.966634</td>\n      <td>0.364930</td>\n      <td>0.898459</td>\n      <td>0.931945</td>\n      <td>0.823711</td>\n      <td>...</td>\n      <td>0</td>\n      <td>0</td>\n      <td>1</td>\n      <td>0</td>\n      <td>0</td>\n      <td>0</td>\n      <td>0</td>\n      <td>0</td>\n      <td>0</td>\n      <td>0</td>\n    </tr>\n    <tr>\n      <th>12</th>\n      <td>1</td>\n      <td>2010</td>\n      <td>0.010518</td>\n      <td>0.320498</td>\n      <td>0.928133</td>\n      <td>0.966634</td>\n      <td>0.364930</td>\n      <td>0.898459</td>\n      <td>0.931945</td>\n      <td>0.823711</td>\n      <td>...</td>\n      <td>0</td>\n      <td>0</td>\n      <td>0</td>\n      <td>0</td>\n      <td>0</td>\n      <td>0</td>\n      <td>1</td>\n      <td>0</td>\n      <td>0</td>\n      <td>0</td>\n    </tr>\n    <tr>\n      <th>16</th>\n      <td>1</td>\n      <td>2010</td>\n      <td>0.010518</td>\n      <td>0.410449</td>\n      <td>0.928133</td>\n      <td>0.966634</td>\n      <td>0.364930</td>\n      <td>0.898459</td>\n      <td>0.931945</td>\n      <td>0.823711</td>\n      <td>...</td>\n      <td>0</td>\n      <td>1</td>\n      <td>0</td>\n      <td>0</td>\n      <td>0</td>\n      <td>0</td>\n      <td>0</td>\n      <td>0</td>\n      <td>0</td>\n      <td>0</td>\n    </tr>\n    <tr>\n      <th>17</th>\n      <td>1</td>\n      <td>2010</td>\n      <td>0.010518</td>\n      <td>0.410449</td>\n      <td>0.928133</td>\n      <td>0.966634</td>\n      <td>0.364930</td>\n      <td>0.898459</td>\n      <td>0.931945</td>\n      <td>0.823711</td>\n      <td>...</td>\n      <td>0</td>\n      <td>0</td>\n      <td>1</td>\n      <td>0</td>\n      <td>0</td>\n      <td>0</td>\n      <td>0</td>\n      <td>0</td>\n      <td>0</td>\n      <td>0</td>\n    </tr>\n    <tr>\n      <th>18</th>\n      <td>1</td>\n      <td>2010</td>\n      <td>0.010518</td>\n      <td>0.410449</td>\n      <td>0.928133</td>\n      <td>0.966634</td>\n      <td>0.364930</td>\n      <td>0.898459</td>\n      <td>0.931945</td>\n      <td>0.823711</td>\n      <td>...</td>\n      <td>0</td>\n      <td>0</td>\n      <td>0</td>\n      <td>0</td>\n      <td>0</td>\n      <td>0</td>\n      <td>0</td>\n      <td>1</td>\n      <td>0</td>\n      <td>0</td>\n    </tr>\n    <tr>\n      <th>...</th>\n      <td>...</td>\n      <td>...</td>\n      <td>...</td>\n      <td>...</td>\n      <td>...</td>\n      <td>...</td>\n      <td>...</td>\n      <td>...</td>\n      <td>...</td>\n      <td>...</td>\n      <td>...</td>\n      <td>...</td>\n      <td>...</td>\n      <td>...</td>\n      <td>...</td>\n      <td>...</td>\n      <td>...</td>\n      <td>...</td>\n      <td>...</td>\n      <td>...</td>\n      <td>...</td>\n    </tr>\n    <tr>\n      <th>30093</th>\n      <td>6</td>\n      <td>2017</td>\n      <td>0.532011</td>\n      <td>0.014184</td>\n      <td>0.066673</td>\n      <td>0.138983</td>\n      <td>0.298577</td>\n      <td>0.070292</td>\n      <td>0.219417</td>\n      <td>0.000000</td>\n      <td>...</td>\n      <td>0</td>\n      <td>0</td>\n      <td>0</td>\n      <td>0</td>\n      <td>1</td>\n      <td>0</td>\n      <td>0</td>\n      <td>0</td>\n      <td>0</td>\n      <td>0</td>\n    </tr>\n    <tr>\n      <th>30094</th>\n      <td>6</td>\n      <td>2017</td>\n      <td>0.535974</td>\n      <td>0.431553</td>\n      <td>0.066673</td>\n      <td>0.138983</td>\n      <td>0.298577</td>\n      <td>0.070292</td>\n      <td>0.219417</td>\n      <td>0.000000</td>\n      <td>...</td>\n      <td>0</td>\n      <td>1</td>\n      <td>0</td>\n      <td>0</td>\n      <td>0</td>\n      <td>0</td>\n      <td>0</td>\n      <td>0</td>\n      <td>0</td>\n      <td>0</td>\n    </tr>\n    <tr>\n      <th>30095</th>\n      <td>6</td>\n      <td>2017</td>\n      <td>0.535974</td>\n      <td>0.431553</td>\n      <td>0.066673</td>\n      <td>0.138983</td>\n      <td>0.298577</td>\n      <td>0.070292</td>\n      <td>0.219417</td>\n      <td>0.000000</td>\n      <td>...</td>\n      <td>0</td>\n      <td>0</td>\n      <td>0</td>\n      <td>0</td>\n      <td>0</td>\n      <td>0</td>\n      <td>0</td>\n      <td>1</td>\n      <td>0</td>\n      <td>0</td>\n    </tr>\n    <tr>\n      <th>30096</th>\n      <td>6</td>\n      <td>2017</td>\n      <td>0.667801</td>\n      <td>0.038456</td>\n      <td>0.066673</td>\n      <td>0.138983</td>\n      <td>0.298577</td>\n      <td>0.070292</td>\n      <td>0.219417</td>\n      <td>0.000000</td>\n      <td>...</td>\n      <td>0</td>\n      <td>0</td>\n      <td>0</td>\n      <td>1</td>\n      <td>0</td>\n      <td>0</td>\n      <td>0</td>\n      <td>0</td>\n      <td>0</td>\n      <td>0</td>\n    </tr>\n    <tr>\n      <th>30097</th>\n      <td>6</td>\n      <td>2017</td>\n      <td>0.667801</td>\n      <td>0.038456</td>\n      <td>0.066673</td>\n      <td>0.138983</td>\n      <td>0.298577</td>\n      <td>0.070292</td>\n      <td>0.219417</td>\n      <td>0.000000</td>\n      <td>...</td>\n      <td>0</td>\n      <td>0</td>\n      <td>0</td>\n      <td>0</td>\n      <td>1</td>\n      <td>0</td>\n      <td>0</td>\n      <td>0</td>\n      <td>0</td>\n      <td>0</td>\n    </tr>\n  </tbody>\n</table>\n<p>30116 rows × 115 columns</p>\n</div>"
     },
     "execution_count": 9,
     "metadata": {},
     "output_type": "execute_result"
    }
   ],
   "source": [
    "from sklearn.preprocessing import MinMaxScaler\n",
    "scaler = MinMaxScaler(feature_range=(0, 1))\n",
    "\n",
    "continuous_features = processed_data.select_dtypes(\"float\").columns.values\n",
    "\n",
    "processed_data[continuous_features] = scaler.fit_transform(processed_data[continuous_features])\n",
    "processed_data"
   ],
   "metadata": {
    "collapsed": false,
    "ExecuteTime": {
     "end_time": "2024-09-30T13:12:54.536719Z",
     "start_time": "2024-09-30T13:12:53.616412Z"
    }
   }
  },
  {
   "cell_type": "markdown",
   "source": [
    "# Convert output features into categorical format"
   ],
   "metadata": {
    "collapsed": false
   }
  },
  {
   "cell_type": "code",
   "execution_count": 10,
   "outputs": [],
   "source": [
    "output_features = [\"Average_Fare\", \"Average_Delay_%\"]"
   ],
   "metadata": {
    "collapsed": false,
    "ExecuteTime": {
     "end_time": "2024-09-30T13:12:54.571934700Z",
     "start_time": "2024-09-30T13:12:54.541009700Z"
    }
   }
  },
  {
   "cell_type": "code",
   "execution_count": 25,
   "outputs": [],
   "source": [
    "def continuous_feature_to_categorical(feature, num_categories):\n",
    "    feature_categorical_values = round(feature * (num_categories - 1)) + 1\n",
    "    feature_category = pd.Series(feature_categorical_values, dtype='category')\n",
    "    return feature_category"
   ],
   "metadata": {
    "collapsed": false,
    "ExecuteTime": {
     "end_time": "2024-09-30T13:16:58.691654100Z",
     "start_time": "2024-09-30T13:16:58.677618Z"
    }
   }
  },
  {
   "cell_type": "code",
   "execution_count": 28,
   "outputs": [
    {
     "name": "stdout",
     "output_type": "stream",
     "text": [
      "11       1.0\n",
      "12       1.0\n",
      "16       1.0\n",
      "17       1.0\n",
      "18       1.0\n",
      "        ... \n",
      "30093    3.0\n",
      "30094    3.0\n",
      "30095    3.0\n",
      "30096    4.0\n",
      "30097    4.0\n",
      "Name: Average_Fare, Length: 30116, dtype: category\n",
      "Categories (5, float64): [1.0, 2.0, 3.0, 4.0, 5.0]\n",
      "11       1.0\n",
      "12       2.0\n",
      "16       2.0\n",
      "17       1.0\n",
      "18       1.0\n",
      "        ... \n",
      "30093    1.0\n",
      "30094    3.0\n",
      "30095    2.0\n",
      "30096    2.0\n",
      "30097    2.0\n",
      "Name: Average_Delay_%, Length: 30116, dtype: category\n",
      "Categories (5, float64): [1.0, 2.0, 3.0, 4.0, 5.0]\n"
     ]
    }
   ],
   "source": [
    "for feature in output_features:\n",
    "    feature_values = processed_data[feature]\n",
    "\n",
    "    feature_category = continuous_feature_to_categorical(feature_values, 5)\n",
    "\n",
    "    print(feature_category)\n",
    "\n",
    "    categorical_feature_name = f\"{feature}_Categorical\"\n",
    "\n",
    "    processed_data[categorical_feature_name] = feature_category\n"
   ],
   "metadata": {
    "collapsed": false,
    "ExecuteTime": {
     "end_time": "2024-09-30T13:18:17.856500200Z",
     "start_time": "2024-09-30T13:18:17.799365800Z"
    }
   }
  },
  {
   "cell_type": "code",
   "execution_count": 30,
   "outputs": [
    {
     "data": {
      "text/plain": "       Month  Year  Average_Fare  Distance   MinTemp   MaxTemp  Rainfall  \\\n11         1  2010      0.010518  0.320498  0.928133  0.966634  0.364930   \n12         1  2010      0.010518  0.320498  0.928133  0.966634  0.364930   \n16         1  2010      0.010518  0.410449  0.928133  0.966634  0.364930   \n17         1  2010      0.010518  0.410449  0.928133  0.966634  0.364930   \n18         1  2010      0.010518  0.410449  0.928133  0.966634  0.364930   \n...      ...   ...           ...       ...       ...       ...       ...   \n30093      6  2017      0.532011  0.014184  0.066673  0.138983  0.298577   \n30094      6  2017      0.535974  0.431553  0.066673  0.138983  0.298577   \n30095      6  2017      0.535974  0.431553  0.066673  0.138983  0.298577   \n30096      6  2017      0.667801  0.038456  0.066673  0.138983  0.298577   \n30097      6  2017      0.667801  0.038456  0.066673  0.138983  0.298577   \n\n       Evaporation  Sunshine  WindGustSpeed  ...  Qantas  QantasLink  \\\n11        0.898459  0.931945       0.823711  ...       1           0   \n12        0.898459  0.931945       0.823711  ...       0           0   \n16        0.898459  0.931945       0.823711  ...       0           0   \n17        0.898459  0.931945       0.823711  ...       1           0   \n18        0.898459  0.931945       0.823711  ...       0           0   \n...            ...       ...            ...  ...     ...         ...   \n30093     0.070292  0.219417       0.000000  ...       0           0   \n30094     0.070292  0.219417       0.000000  ...       0           0   \n30095     0.070292  0.219417       0.000000  ...       0           0   \n30096     0.070292  0.219417       0.000000  ...       0           1   \n30097     0.070292  0.219417       0.000000  ...       0           0   \n\n       Regional Express  Skywest  Tigerair Australia  Virgin Australia  \\\n11                    0        0                   0                 0   \n12                    0        0                   1                 0   \n16                    0        0                   0                 0   \n17                    0        0                   0                 0   \n18                    0        0                   0                 1   \n...                 ...      ...                 ...               ...   \n30093                 1        0                   0                 0   \n30094                 0        0                   0                 0   \n30095                 0        0                   0                 1   \n30096                 0        0                   0                 0   \n30097                 1        0                   0                 0   \n\n       Virgin Australia - ATR/F100 Operations  \\\n11                                          0   \n12                                          0   \n16                                          0   \n17                                          0   \n18                                          0   \n...                                       ...   \n30093                                       0   \n30094                                       0   \n30095                                       0   \n30096                                       0   \n30097                                       0   \n\n       Virgin Australia Regional Airlines  Average_Fare_Categorical  \\\n11                                      0                       1.0   \n12                                      0                       1.0   \n16                                      0                       1.0   \n17                                      0                       1.0   \n18                                      0                       1.0   \n...                                   ...                       ...   \n30093                                   0                       3.0   \n30094                                   0                       3.0   \n30095                                   0                       3.0   \n30096                                   0                       4.0   \n30097                                   0                       4.0   \n\n       Average_Delay_%_Categorical  \n11                             1.0  \n12                             2.0  \n16                             2.0  \n17                             1.0  \n18                             1.0  \n...                            ...  \n30093                          1.0  \n30094                          3.0  \n30095                          2.0  \n30096                          2.0  \n30097                          2.0  \n\n[30116 rows x 117 columns]",
      "text/html": "<div>\n<style scoped>\n    .dataframe tbody tr th:only-of-type {\n        vertical-align: middle;\n    }\n\n    .dataframe tbody tr th {\n        vertical-align: top;\n    }\n\n    .dataframe thead th {\n        text-align: right;\n    }\n</style>\n<table border=\"1\" class=\"dataframe\">\n  <thead>\n    <tr style=\"text-align: right;\">\n      <th></th>\n      <th>Month</th>\n      <th>Year</th>\n      <th>Average_Fare</th>\n      <th>Distance</th>\n      <th>MinTemp</th>\n      <th>MaxTemp</th>\n      <th>Rainfall</th>\n      <th>Evaporation</th>\n      <th>Sunshine</th>\n      <th>WindGustSpeed</th>\n      <th>...</th>\n      <th>Qantas</th>\n      <th>QantasLink</th>\n      <th>Regional Express</th>\n      <th>Skywest</th>\n      <th>Tigerair Australia</th>\n      <th>Virgin Australia</th>\n      <th>Virgin Australia - ATR/F100 Operations</th>\n      <th>Virgin Australia Regional Airlines</th>\n      <th>Average_Fare_Categorical</th>\n      <th>Average_Delay_%_Categorical</th>\n    </tr>\n  </thead>\n  <tbody>\n    <tr>\n      <th>11</th>\n      <td>1</td>\n      <td>2010</td>\n      <td>0.010518</td>\n      <td>0.320498</td>\n      <td>0.928133</td>\n      <td>0.966634</td>\n      <td>0.364930</td>\n      <td>0.898459</td>\n      <td>0.931945</td>\n      <td>0.823711</td>\n      <td>...</td>\n      <td>1</td>\n      <td>0</td>\n      <td>0</td>\n      <td>0</td>\n      <td>0</td>\n      <td>0</td>\n      <td>0</td>\n      <td>0</td>\n      <td>1.0</td>\n      <td>1.0</td>\n    </tr>\n    <tr>\n      <th>12</th>\n      <td>1</td>\n      <td>2010</td>\n      <td>0.010518</td>\n      <td>0.320498</td>\n      <td>0.928133</td>\n      <td>0.966634</td>\n      <td>0.364930</td>\n      <td>0.898459</td>\n      <td>0.931945</td>\n      <td>0.823711</td>\n      <td>...</td>\n      <td>0</td>\n      <td>0</td>\n      <td>0</td>\n      <td>0</td>\n      <td>1</td>\n      <td>0</td>\n      <td>0</td>\n      <td>0</td>\n      <td>1.0</td>\n      <td>2.0</td>\n    </tr>\n    <tr>\n      <th>16</th>\n      <td>1</td>\n      <td>2010</td>\n      <td>0.010518</td>\n      <td>0.410449</td>\n      <td>0.928133</td>\n      <td>0.966634</td>\n      <td>0.364930</td>\n      <td>0.898459</td>\n      <td>0.931945</td>\n      <td>0.823711</td>\n      <td>...</td>\n      <td>0</td>\n      <td>0</td>\n      <td>0</td>\n      <td>0</td>\n      <td>0</td>\n      <td>0</td>\n      <td>0</td>\n      <td>0</td>\n      <td>1.0</td>\n      <td>2.0</td>\n    </tr>\n    <tr>\n      <th>17</th>\n      <td>1</td>\n      <td>2010</td>\n      <td>0.010518</td>\n      <td>0.410449</td>\n      <td>0.928133</td>\n      <td>0.966634</td>\n      <td>0.364930</td>\n      <td>0.898459</td>\n      <td>0.931945</td>\n      <td>0.823711</td>\n      <td>...</td>\n      <td>1</td>\n      <td>0</td>\n      <td>0</td>\n      <td>0</td>\n      <td>0</td>\n      <td>0</td>\n      <td>0</td>\n      <td>0</td>\n      <td>1.0</td>\n      <td>1.0</td>\n    </tr>\n    <tr>\n      <th>18</th>\n      <td>1</td>\n      <td>2010</td>\n      <td>0.010518</td>\n      <td>0.410449</td>\n      <td>0.928133</td>\n      <td>0.966634</td>\n      <td>0.364930</td>\n      <td>0.898459</td>\n      <td>0.931945</td>\n      <td>0.823711</td>\n      <td>...</td>\n      <td>0</td>\n      <td>0</td>\n      <td>0</td>\n      <td>0</td>\n      <td>0</td>\n      <td>1</td>\n      <td>0</td>\n      <td>0</td>\n      <td>1.0</td>\n      <td>1.0</td>\n    </tr>\n    <tr>\n      <th>...</th>\n      <td>...</td>\n      <td>...</td>\n      <td>...</td>\n      <td>...</td>\n      <td>...</td>\n      <td>...</td>\n      <td>...</td>\n      <td>...</td>\n      <td>...</td>\n      <td>...</td>\n      <td>...</td>\n      <td>...</td>\n      <td>...</td>\n      <td>...</td>\n      <td>...</td>\n      <td>...</td>\n      <td>...</td>\n      <td>...</td>\n      <td>...</td>\n      <td>...</td>\n      <td>...</td>\n    </tr>\n    <tr>\n      <th>30093</th>\n      <td>6</td>\n      <td>2017</td>\n      <td>0.532011</td>\n      <td>0.014184</td>\n      <td>0.066673</td>\n      <td>0.138983</td>\n      <td>0.298577</td>\n      <td>0.070292</td>\n      <td>0.219417</td>\n      <td>0.000000</td>\n      <td>...</td>\n      <td>0</td>\n      <td>0</td>\n      <td>1</td>\n      <td>0</td>\n      <td>0</td>\n      <td>0</td>\n      <td>0</td>\n      <td>0</td>\n      <td>3.0</td>\n      <td>1.0</td>\n    </tr>\n    <tr>\n      <th>30094</th>\n      <td>6</td>\n      <td>2017</td>\n      <td>0.535974</td>\n      <td>0.431553</td>\n      <td>0.066673</td>\n      <td>0.138983</td>\n      <td>0.298577</td>\n      <td>0.070292</td>\n      <td>0.219417</td>\n      <td>0.000000</td>\n      <td>...</td>\n      <td>0</td>\n      <td>0</td>\n      <td>0</td>\n      <td>0</td>\n      <td>0</td>\n      <td>0</td>\n      <td>0</td>\n      <td>0</td>\n      <td>3.0</td>\n      <td>3.0</td>\n    </tr>\n    <tr>\n      <th>30095</th>\n      <td>6</td>\n      <td>2017</td>\n      <td>0.535974</td>\n      <td>0.431553</td>\n      <td>0.066673</td>\n      <td>0.138983</td>\n      <td>0.298577</td>\n      <td>0.070292</td>\n      <td>0.219417</td>\n      <td>0.000000</td>\n      <td>...</td>\n      <td>0</td>\n      <td>0</td>\n      <td>0</td>\n      <td>0</td>\n      <td>0</td>\n      <td>1</td>\n      <td>0</td>\n      <td>0</td>\n      <td>3.0</td>\n      <td>2.0</td>\n    </tr>\n    <tr>\n      <th>30096</th>\n      <td>6</td>\n      <td>2017</td>\n      <td>0.667801</td>\n      <td>0.038456</td>\n      <td>0.066673</td>\n      <td>0.138983</td>\n      <td>0.298577</td>\n      <td>0.070292</td>\n      <td>0.219417</td>\n      <td>0.000000</td>\n      <td>...</td>\n      <td>0</td>\n      <td>1</td>\n      <td>0</td>\n      <td>0</td>\n      <td>0</td>\n      <td>0</td>\n      <td>0</td>\n      <td>0</td>\n      <td>4.0</td>\n      <td>2.0</td>\n    </tr>\n    <tr>\n      <th>30097</th>\n      <td>6</td>\n      <td>2017</td>\n      <td>0.667801</td>\n      <td>0.038456</td>\n      <td>0.066673</td>\n      <td>0.138983</td>\n      <td>0.298577</td>\n      <td>0.070292</td>\n      <td>0.219417</td>\n      <td>0.000000</td>\n      <td>...</td>\n      <td>0</td>\n      <td>0</td>\n      <td>1</td>\n      <td>0</td>\n      <td>0</td>\n      <td>0</td>\n      <td>0</td>\n      <td>0</td>\n      <td>4.0</td>\n      <td>2.0</td>\n    </tr>\n  </tbody>\n</table>\n<p>30116 rows × 117 columns</p>\n</div>"
     },
     "execution_count": 30,
     "metadata": {},
     "output_type": "execute_result"
    }
   ],
   "source": [
    "processed_data"
   ],
   "metadata": {
    "collapsed": false,
    "ExecuteTime": {
     "end_time": "2024-09-30T13:21:19.142581700Z",
     "start_time": "2024-09-30T13:21:19.093253500Z"
    }
   }
  },
  {
   "cell_type": "markdown",
   "source": [
    "# Training the Model"
   ],
   "metadata": {
    "collapsed": false
   }
  },
  {
   "cell_type": "code",
   "execution_count": 31,
   "outputs": [],
   "source": [
    "from sklearn import svm\n",
    "from sklearn.model_selection import train_test_split\n",
    "from sklearn.metrics import accuracy_score"
   ],
   "metadata": {
    "collapsed": false,
    "ExecuteTime": {
     "end_time": "2024-09-30T13:21:29.428661800Z",
     "start_time": "2024-09-30T13:21:27.124316700Z"
    }
   }
  },
  {
   "cell_type": "markdown",
   "source": [
    "## Model training pipeline"
   ],
   "metadata": {
    "collapsed": false
   }
  },
  {
   "cell_type": "code",
   "execution_count": 32,
   "outputs": [],
   "source": [
    "from sklearn.model_selection import cross_val_score\n",
    "from sklearn.metrics import accuracy_score\n",
    "from sklearn.metrics import mean_squared_error, mean_absolute_error, r2_score\n",
    "\n",
    "def print_model_evaluation(y_pred, y_real, r2_scores):\n",
    "    mse = mean_squared_error(y_real, y_pred)\n",
    "    mae = mean_absolute_error(y_real, y_pred)\n",
    "\n",
    "    print(\"Cross-validation complete.\")\n",
    "    print(\"Cross-validated R² scores:\", r2_scores)\n",
    "    print(\"Mean R²:\", r2_scores.mean())\n",
    "    print(f\"Mean squared error: {mse:.2f}\")\n",
    "    print(f\"Mean absolute error: {mae:.2f}\")"
   ],
   "metadata": {
    "collapsed": false,
    "ExecuteTime": {
     "end_time": "2024-09-30T13:21:31.909812Z",
     "start_time": "2024-09-30T13:21:31.899806600Z"
    }
   }
  },
  {
   "cell_type": "code",
   "execution_count": 35,
   "outputs": [],
   "source": [
    "import pickle\n",
    "\n",
    "def train_models(model_type : object, y_columns : list, model_paths : list):\n",
    "    # For every Y column - we will make a separate regressor model and train it.\n",
    "    for id, y_column in enumerate(y_columns):\n",
    "        print(f\"=================================\\n\"\n",
    "             f\"Training model on output: {y_column}\\n\")\n",
    "\n",
    "        X = processed_data[X_columns]\n",
    "        y = processed_data[y_column].to_numpy().flatten()\n",
    "        x_train, x_test, y_train, y_test = train_test_split(X, y, test_size=0.3, random_state=1)\n",
    "        model = model_type(random_state=1)\n",
    "\n",
    "        # Train the model\n",
    "        print(\"Training Model...\")\n",
    "        model.fit(x_train, y_train)\n",
    "\n",
    "        y_pred = model.predict(x_test)\n",
    "\n",
    "        # Cross-validate the model\n",
    "        print(\"Cross-validating model (please wait)...\")\n",
    "        r2_scores = cross_val_score(model, x_train, y_train, cv=5, scoring='r2')\n",
    "\n",
    "        # Evaluate our model\n",
    "        print(\"Model evaluation\")\n",
    "        print_model_evaluation(y_pred, y_test, r2_scores)\n",
    "\n",
    "        # Save our model\n",
    "        model_path = model_paths[id]\n",
    "        print(f\"Saving model to file: {model_path}\")\n",
    "        pickle.dump(model, open(model_path, 'wb'))"
   ],
   "metadata": {
    "collapsed": false,
    "ExecuteTime": {
     "end_time": "2024-09-30T13:23:15.837333300Z",
     "start_time": "2024-09-30T13:23:15.827359300Z"
    }
   }
  },
  {
   "cell_type": "markdown",
   "source": [
    "## Run model train script for classification and regression"
   ],
   "metadata": {
    "collapsed": false
   }
  },
  {
   "cell_type": "code",
   "execution_count": 36,
   "outputs": [
    {
     "name": "stdout",
     "output_type": "stream",
     "text": [
      "=================================\n",
      "Training model on output: Average_Fare\n",
      "\n",
      "Training Model...\n",
      "Cross-validating model (please wait)...\n",
      "Model evaluation\n",
      "Cross-validation complete.\n",
      "Cross-validated R² scores: [0.7799065  0.91502584 0.96166931 0.91081453 0.77856623]\n",
      "Mean R²: 0.869196480049812\n",
      "Mean squared error: 0.00\n",
      "Mean absolute error: 0.00\n",
      "Saving model to file: trained_models/random_forest_fares.pkl\n",
      "=================================\n",
      "Training model on output: Average_Delay_%\n",
      "\n",
      "Training Model...\n",
      "Cross-validating model (please wait)...\n",
      "Model evaluation\n",
      "Cross-validation complete.\n",
      "Cross-validated R² scores: [0.07079903 0.03764709 0.21910456 0.08572676 0.21851677]\n",
      "Mean R²: 0.1263588401952869\n",
      "Mean squared error: 0.01\n",
      "Mean absolute error: 0.05\n",
      "Saving model to file: trained_models/random_forest_delays.pkl\n"
     ]
    }
   ],
   "source": [
    "from sklearn.ensemble import RandomForestRegressor\n",
    "\n",
    "# Continuous numerical data\n",
    "y_columns_regression = [\"Average_Fare\", \"Average_Delay_%\"]\n",
    "model_paths_regression = [\"trained_models/random_forest_fares.pkl\", \"trained_models/random_forest_delays.pkl\"]\n",
    "\n",
    "train_models(RandomForestRegressor, y_columns_regression, model_paths_regression)"
   ],
   "metadata": {
    "collapsed": false,
    "ExecuteTime": {
     "end_time": "2024-09-30T13:42:57.282153500Z",
     "start_time": "2024-09-30T13:23:20.110159800Z"
    }
   }
  },
  {
   "cell_type": "code",
   "execution_count": 37,
   "outputs": [
    {
     "name": "stdout",
     "output_type": "stream",
     "text": [
      "=================================\n",
      "Training model on output: Average_Fare_Categorical\n",
      "\n",
      "Training Model...\n",
      "Cross-validating model (please wait)...\n",
      "Model evaluation\n",
      "Cross-validation complete.\n",
      "Cross-validated R² scores: [0.72766055 0.66547562 0.78176266 0.79449549 0.84061888]\n",
      "Mean R²: 0.7620026421893276\n",
      "Mean squared error: 0.01\n",
      "Mean absolute error: 0.01\n",
      "Saving model to file: trained_models/svc_fares.pkl\n",
      "=================================\n",
      "Training model on output: Average_Delay_%_Categorical\n",
      "\n",
      "Training Model...\n",
      "Cross-validating model (please wait)...\n",
      "Model evaluation\n",
      "Cross-validation complete.\n",
      "Cross-validated R² scores: [-0.14103162 -0.22469147 -0.25485141 -0.05144619 -0.12944579]\n",
      "Mean R²: -0.1602932948109513\n",
      "Mean squared error: 0.33\n",
      "Mean absolute error: 0.31\n",
      "Saving model to file: trained_models/svc_delays.pkl\n"
     ]
    }
   ],
   "source": [
    "from sklearn.svm import SVC\n",
    "\n",
    "# Support Vector Machine Classifier - SVC\n",
    "\n",
    "# Discrete output data - we converted these to categorise\n",
    "y_columns_classification = [\"Average_Fare_Categorical\", \"Average_Delay_%_Categorical\"]\n",
    "model_paths_classification = [\"trained_models/svc_fares.pkl\", \"trained_models/svc_delays.pkl\"]\n",
    "\n",
    "train_models(SVC, y_columns_classification, model_paths_classification)"
   ],
   "metadata": {
    "collapsed": false,
    "ExecuteTime": {
     "end_time": "2024-09-30T13:58:17.768292800Z",
     "start_time": "2024-09-30T13:42:57.288137800Z"
    }
   }
  },
  {
   "cell_type": "markdown",
   "source": [
    "# Load the model"
   ],
   "metadata": {
    "collapsed": false
   }
  },
  {
   "cell_type": "code",
   "execution_count": null,
   "outputs": [],
   "source": [
    "# from sklearn.tree import DecisionTreeRegressor\n",
    "#\n",
    "# model_save_path = \"trained_models/random_forest_fares.pkl\"\n",
    "#\n",
    "# fare_regressor = pickle.load(open(model_save_path, 'rb'))\n",
    "#\n",
    "# # This will load our model without us having to train it again."
   ],
   "metadata": {
    "collapsed": false,
    "ExecuteTime": {
     "start_time": "2024-09-30T13:12:54.688743800Z"
    }
   }
  },
  {
   "cell_type": "markdown",
   "source": [
    "# Query the model"
   ],
   "metadata": {
    "collapsed": false
   }
  },
  {
   "cell_type": "code",
   "execution_count": null,
   "outputs": [],
   "source": [
    "from sklearn.preprocessing import MinMaxScaler\n",
    "\n",
    "def preprocess_data(data):\n",
    "    raw_data = data.copy(True)\n",
    "    raw_data[\"Average_Delay_%\"] = (raw_data[\"Arrival_Delays_%\"] + raw_data[\"Departure_Delays_%\"]) * 0.5\n",
    "    raw_data = raw_data.sort_values([\"Year\", \"Month\", \"Departing_Port\", \"Arriving_Port\", \"Airline\"])\n",
    "\n",
    "    categorical_variables = [\"Departing_Port\", \"Arriving_Port\", \"Airline\"]\n",
    "\n",
    "    for variable in categorical_variables:\n",
    "        categories = pd.get_dummies(raw_data[variable])\n",
    "\n",
    "        raw_data = pd.concat([raw_data, categories], axis=1)\n",
    "\n",
    "    for variable in categorical_variables:\n",
    "        del raw_data[variable]\n",
    "\n",
    "    scaler = MinMaxScaler(feature_range=(0, 1))\n",
    "\n",
    "    continuous_features = raw_data.select_dtypes(\"float\").columns.values\n",
    "\n",
    "    raw_data[continuous_features] = scaler.fit_transform(raw_data[continuous_features])\n",
    "\n",
    "    for column in raw_data.columns.values:\n",
    "     if column not in X_columns:\n",
    "      del raw_data[column]\n",
    "\n",
    "    return raw_data"
   ],
   "metadata": {
    "collapsed": false,
    "ExecuteTime": {
     "start_time": "2024-09-30T13:12:54.692734500Z"
    }
   }
  },
  {
   "cell_type": "code",
   "execution_count": null,
   "outputs": [],
   "source": [
    "# preprocess_data(data_subset)"
   ],
   "metadata": {
    "collapsed": false,
    "ExecuteTime": {
     "start_time": "2024-09-30T13:12:54.695725400Z"
    }
   }
  },
  {
   "cell_type": "code",
   "execution_count": null,
   "outputs": [],
   "source": [],
   "metadata": {
    "collapsed": false,
    "ExecuteTime": {
     "start_time": "2024-09-30T13:12:54.698716700Z"
    }
   }
  }
 ],
 "metadata": {
  "kernelspec": {
   "display_name": "Python 3",
   "language": "python",
   "name": "python3"
  },
  "language_info": {
   "codemirror_mode": {
    "name": "ipython",
    "version": 2
   },
   "file_extension": ".py",
   "mimetype": "text/x-python",
   "name": "python",
   "nbconvert_exporter": "python",
   "pygments_lexer": "ipython2",
   "version": "2.7.6"
  }
 },
 "nbformat": 4,
 "nbformat_minor": 0
}
