{
 "cells": [
  {
   "cell_type": "code",
   "execution_count": 34,
   "metadata": {
    "collapsed": true,
    "ExecuteTime": {
     "end_time": "2024-09-28T13:09:53.248110100Z",
     "start_time": "2024-09-28T13:09:53.033373200Z"
    }
   },
   "outputs": [],
   "source": [
    "import pandas as pd\n",
    "import numpy as np"
   ]
  },
  {
   "cell_type": "code",
   "execution_count": 35,
   "outputs": [],
   "source": [
    "PORT_DELAYS = r\"C:\\Users\\ASUS\\OneDrive\\Semester 3\\Innovation Project\\Assign_02\\otp_time_series_web (2).csv\""
   ],
   "metadata": {
    "collapsed": false,
    "ExecuteTime": {
     "end_time": "2024-09-28T13:09:53.518148400Z",
     "start_time": "2024-09-28T13:09:53.049333200Z"
    }
   }
  },
  {
   "cell_type": "code",
   "execution_count": 36,
   "outputs": [],
   "source": [
    "port_delays = pd.read_csv(PORT_DELAYS)"
   ],
   "metadata": {
    "collapsed": false,
    "ExecuteTime": {
     "end_time": "2024-09-28T13:09:53.546683600Z",
     "start_time": "2024-09-28T13:09:53.064534600Z"
    }
   }
  },
  {
   "cell_type": "code",
   "execution_count": 37,
   "outputs": [
    {
     "data": {
      "text/plain": "                 Route Departing_Port Arriving_Port       Airline  Month  \\\n0    Adelaide-Brisbane       Adelaide      Brisbane  All Airlines  4-Jan   \n1    Adelaide-Canberra       Adelaide      Canberra  All Airlines  4-Jan   \n2  Adelaide-Gold Coast       Adelaide    Gold Coast  All Airlines  4-Jan   \n3   Adelaide-Melbourne       Adelaide     Melbourne  All Airlines  4-Jan   \n4       Adelaide-Perth       Adelaide         Perth  All Airlines  4-Jan   \n\n   Sectors_Scheduled  Sectors_Flown  Cancellations  Departures_On_Time  \\\n0              155.0            155            0.0               123.0   \n1               75.0             75            0.0                72.0   \n2               40.0             40            0.0                36.0   \n3              550.0            548            2.0               478.0   \n4              191.0            191            0.0               169.0   \n\n   Arrivals_On_Time  Departures_Delayed  Arrivals_Delayed  Year  Month_Num  \n0             120.0                32.0              35.0  2004          1  \n1              72.0                 3.0               3.0  2004          1  \n2              35.0                 4.0               5.0  2004          1  \n3             487.0                70.0              61.0  2004          1  \n4             168.0                22.0              23.0  2004          1  ",
      "text/html": "<div>\n<style scoped>\n    .dataframe tbody tr th:only-of-type {\n        vertical-align: middle;\n    }\n\n    .dataframe tbody tr th {\n        vertical-align: top;\n    }\n\n    .dataframe thead th {\n        text-align: right;\n    }\n</style>\n<table border=\"1\" class=\"dataframe\">\n  <thead>\n    <tr style=\"text-align: right;\">\n      <th></th>\n      <th>Route</th>\n      <th>Departing_Port</th>\n      <th>Arriving_Port</th>\n      <th>Airline</th>\n      <th>Month</th>\n      <th>Sectors_Scheduled</th>\n      <th>Sectors_Flown</th>\n      <th>Cancellations</th>\n      <th>Departures_On_Time</th>\n      <th>Arrivals_On_Time</th>\n      <th>Departures_Delayed</th>\n      <th>Arrivals_Delayed</th>\n      <th>Year</th>\n      <th>Month_Num</th>\n    </tr>\n  </thead>\n  <tbody>\n    <tr>\n      <th>0</th>\n      <td>Adelaide-Brisbane</td>\n      <td>Adelaide</td>\n      <td>Brisbane</td>\n      <td>All Airlines</td>\n      <td>4-Jan</td>\n      <td>155.0</td>\n      <td>155</td>\n      <td>0.0</td>\n      <td>123.0</td>\n      <td>120.0</td>\n      <td>32.0</td>\n      <td>35.0</td>\n      <td>2004</td>\n      <td>1</td>\n    </tr>\n    <tr>\n      <th>1</th>\n      <td>Adelaide-Canberra</td>\n      <td>Adelaide</td>\n      <td>Canberra</td>\n      <td>All Airlines</td>\n      <td>4-Jan</td>\n      <td>75.0</td>\n      <td>75</td>\n      <td>0.0</td>\n      <td>72.0</td>\n      <td>72.0</td>\n      <td>3.0</td>\n      <td>3.0</td>\n      <td>2004</td>\n      <td>1</td>\n    </tr>\n    <tr>\n      <th>2</th>\n      <td>Adelaide-Gold Coast</td>\n      <td>Adelaide</td>\n      <td>Gold Coast</td>\n      <td>All Airlines</td>\n      <td>4-Jan</td>\n      <td>40.0</td>\n      <td>40</td>\n      <td>0.0</td>\n      <td>36.0</td>\n      <td>35.0</td>\n      <td>4.0</td>\n      <td>5.0</td>\n      <td>2004</td>\n      <td>1</td>\n    </tr>\n    <tr>\n      <th>3</th>\n      <td>Adelaide-Melbourne</td>\n      <td>Adelaide</td>\n      <td>Melbourne</td>\n      <td>All Airlines</td>\n      <td>4-Jan</td>\n      <td>550.0</td>\n      <td>548</td>\n      <td>2.0</td>\n      <td>478.0</td>\n      <td>487.0</td>\n      <td>70.0</td>\n      <td>61.0</td>\n      <td>2004</td>\n      <td>1</td>\n    </tr>\n    <tr>\n      <th>4</th>\n      <td>Adelaide-Perth</td>\n      <td>Adelaide</td>\n      <td>Perth</td>\n      <td>All Airlines</td>\n      <td>4-Jan</td>\n      <td>191.0</td>\n      <td>191</td>\n      <td>0.0</td>\n      <td>169.0</td>\n      <td>168.0</td>\n      <td>22.0</td>\n      <td>23.0</td>\n      <td>2004</td>\n      <td>1</td>\n    </tr>\n  </tbody>\n</table>\n</div>"
     },
     "execution_count": 37,
     "metadata": {},
     "output_type": "execute_result"
    }
   ],
   "source": [
    "port_delays.head()"
   ],
   "metadata": {
    "collapsed": false,
    "ExecuteTime": {
     "end_time": "2024-09-28T13:09:53.556655Z",
     "start_time": "2024-09-28T13:09:53.253095400Z"
    }
   }
  },
  {
   "cell_type": "code",
   "execution_count": 38,
   "outputs": [
    {
     "data": {
      "text/plain": "Index(['Route', 'Departing_Port', 'Arriving_Port', 'Airline', 'Month',\n       'Sectors_Scheduled', 'Sectors_Flown', 'Cancellations',\n       'Departures_On_Time', 'Arrivals_On_Time', 'Departures_Delayed',\n       'Arrivals_Delayed', 'Year', 'Month_Num'],\n      dtype='object')"
     },
     "execution_count": 38,
     "metadata": {},
     "output_type": "execute_result"
    }
   ],
   "source": [
    "port_delays.columns\n"
   ],
   "metadata": {
    "collapsed": false,
    "ExecuteTime": {
     "end_time": "2024-09-28T13:09:53.556655Z",
     "start_time": "2024-09-28T13:09:53.287004800Z"
    }
   }
  },
  {
   "cell_type": "code",
   "execution_count": 39,
   "outputs": [],
   "source": [
    "port_delays['Date'] = port_delays['Year'].astype(str) + '-' + port_delays['Month_Num'].astype(str).str.zfill(2)"
   ],
   "metadata": {
    "collapsed": false,
    "ExecuteTime": {
     "end_time": "2024-09-28T13:09:53.720839500Z",
     "start_time": "2024-09-28T13:09:53.302019Z"
    }
   }
  },
  {
   "cell_type": "code",
   "execution_count": 40,
   "outputs": [
    {
     "data": {
      "text/plain": "                 Route Departing_Port Arriving_Port       Airline  Month  \\\n0    Adelaide-Brisbane       Adelaide      Brisbane  All Airlines  4-Jan   \n1    Adelaide-Canberra       Adelaide      Canberra  All Airlines  4-Jan   \n2  Adelaide-Gold Coast       Adelaide    Gold Coast  All Airlines  4-Jan   \n3   Adelaide-Melbourne       Adelaide     Melbourne  All Airlines  4-Jan   \n4       Adelaide-Perth       Adelaide         Perth  All Airlines  4-Jan   \n\n   Sectors_Scheduled  Sectors_Flown  Cancellations  Departures_On_Time  \\\n0              155.0            155            0.0               123.0   \n1               75.0             75            0.0                72.0   \n2               40.0             40            0.0                36.0   \n3              550.0            548            2.0               478.0   \n4              191.0            191            0.0               169.0   \n\n   Arrivals_On_Time  Departures_Delayed  Arrivals_Delayed  Year  Month_Num  \\\n0             120.0                32.0              35.0  2004          1   \n1              72.0                 3.0               3.0  2004          1   \n2              35.0                 4.0               5.0  2004          1   \n3             487.0                70.0              61.0  2004          1   \n4             168.0                22.0              23.0  2004          1   \n\n      Date  \n0  2004-01  \n1  2004-01  \n2  2004-01  \n3  2004-01  \n4  2004-01  ",
      "text/html": "<div>\n<style scoped>\n    .dataframe tbody tr th:only-of-type {\n        vertical-align: middle;\n    }\n\n    .dataframe tbody tr th {\n        vertical-align: top;\n    }\n\n    .dataframe thead th {\n        text-align: right;\n    }\n</style>\n<table border=\"1\" class=\"dataframe\">\n  <thead>\n    <tr style=\"text-align: right;\">\n      <th></th>\n      <th>Route</th>\n      <th>Departing_Port</th>\n      <th>Arriving_Port</th>\n      <th>Airline</th>\n      <th>Month</th>\n      <th>Sectors_Scheduled</th>\n      <th>Sectors_Flown</th>\n      <th>Cancellations</th>\n      <th>Departures_On_Time</th>\n      <th>Arrivals_On_Time</th>\n      <th>Departures_Delayed</th>\n      <th>Arrivals_Delayed</th>\n      <th>Year</th>\n      <th>Month_Num</th>\n      <th>Date</th>\n    </tr>\n  </thead>\n  <tbody>\n    <tr>\n      <th>0</th>\n      <td>Adelaide-Brisbane</td>\n      <td>Adelaide</td>\n      <td>Brisbane</td>\n      <td>All Airlines</td>\n      <td>4-Jan</td>\n      <td>155.0</td>\n      <td>155</td>\n      <td>0.0</td>\n      <td>123.0</td>\n      <td>120.0</td>\n      <td>32.0</td>\n      <td>35.0</td>\n      <td>2004</td>\n      <td>1</td>\n      <td>2004-01</td>\n    </tr>\n    <tr>\n      <th>1</th>\n      <td>Adelaide-Canberra</td>\n      <td>Adelaide</td>\n      <td>Canberra</td>\n      <td>All Airlines</td>\n      <td>4-Jan</td>\n      <td>75.0</td>\n      <td>75</td>\n      <td>0.0</td>\n      <td>72.0</td>\n      <td>72.0</td>\n      <td>3.0</td>\n      <td>3.0</td>\n      <td>2004</td>\n      <td>1</td>\n      <td>2004-01</td>\n    </tr>\n    <tr>\n      <th>2</th>\n      <td>Adelaide-Gold Coast</td>\n      <td>Adelaide</td>\n      <td>Gold Coast</td>\n      <td>All Airlines</td>\n      <td>4-Jan</td>\n      <td>40.0</td>\n      <td>40</td>\n      <td>0.0</td>\n      <td>36.0</td>\n      <td>35.0</td>\n      <td>4.0</td>\n      <td>5.0</td>\n      <td>2004</td>\n      <td>1</td>\n      <td>2004-01</td>\n    </tr>\n    <tr>\n      <th>3</th>\n      <td>Adelaide-Melbourne</td>\n      <td>Adelaide</td>\n      <td>Melbourne</td>\n      <td>All Airlines</td>\n      <td>4-Jan</td>\n      <td>550.0</td>\n      <td>548</td>\n      <td>2.0</td>\n      <td>478.0</td>\n      <td>487.0</td>\n      <td>70.0</td>\n      <td>61.0</td>\n      <td>2004</td>\n      <td>1</td>\n      <td>2004-01</td>\n    </tr>\n    <tr>\n      <th>4</th>\n      <td>Adelaide-Perth</td>\n      <td>Adelaide</td>\n      <td>Perth</td>\n      <td>All Airlines</td>\n      <td>4-Jan</td>\n      <td>191.0</td>\n      <td>191</td>\n      <td>0.0</td>\n      <td>169.0</td>\n      <td>168.0</td>\n      <td>22.0</td>\n      <td>23.0</td>\n      <td>2004</td>\n      <td>1</td>\n      <td>2004-01</td>\n    </tr>\n  </tbody>\n</table>\n</div>"
     },
     "execution_count": 40,
     "metadata": {},
     "output_type": "execute_result"
    }
   ],
   "source": [
    "port_delays.head()"
   ],
   "metadata": {
    "collapsed": false,
    "ExecuteTime": {
     "end_time": "2024-09-28T13:09:53.783250600Z",
     "start_time": "2024-09-28T13:09:53.552702300Z"
    }
   }
  },
  {
   "cell_type": "code",
   "execution_count": 41,
   "outputs": [
    {
     "data": {
      "text/plain": "                      Route Departing_Port Arriving_Port       Airline  \\\n0         Adelaide-Brisbane       Adelaide      Brisbane  All Airlines   \n1         Adelaide-Canberra       Adelaide      Canberra  All Airlines   \n2       Adelaide-Gold Coast       Adelaide    Gold Coast  All Airlines   \n3        Adelaide-Melbourne       Adelaide     Melbourne  All Airlines   \n4            Adelaide-Perth       Adelaide         Perth  All Airlines   \n...                     ...            ...           ...           ...   \n105291   Sydney-Wagga Wagga         Sydney   Wagga Wagga  All Airlines   \n105292  Townsville-Brisbane     Townsville      Brisbane  All Airlines   \n105293    Townsville-Cairns     Townsville        Cairns  All Airlines   \n105294   Wagga Wagga-Sydney    Wagga Wagga        Sydney  All Airlines   \n105295  All Ports-All Ports      All Ports     All Ports  All Airlines   \n\n         Month  Sectors_Scheduled  Sectors_Flown  Cancellations  \\\n0        4-Jan              155.0            155            0.0   \n1        4-Jan               75.0             75            0.0   \n2        4-Jan               40.0             40            0.0   \n3        4-Jan              550.0            548            2.0   \n4        4-Jan              191.0            191            0.0   \n...        ...                ...            ...            ...   \n105291  24-Feb              176.0            169            7.0   \n105292  24-Feb              300.0            291            9.0   \n105293  24-Feb              150.0            139           11.0   \n105294  24-Feb              174.0            167            7.0   \n105295  24-Feb            43561.0          41811         1750.0   \n\n        Departures_On_Time  Arrivals_On_Time  Departures_Delayed  \\\n0                    123.0             120.0                32.0   \n1                     72.0              72.0                 3.0   \n2                     36.0              35.0                 4.0   \n3                    478.0             487.0                70.0   \n4                    169.0             168.0                22.0   \n...                    ...               ...                 ...   \n105291               122.0             118.0                47.0   \n105292               213.0             204.0                78.0   \n105293               123.0             121.0                16.0   \n105294               130.0             127.0                37.0   \n105295             31170.0           30535.0             10641.0   \n\n        Arrivals_Delayed  Year  Month_Num     Date  \n0                   35.0  2004          1  2004-01  \n1                    3.0  2004          1  2004-01  \n2                    5.0  2004          1  2004-01  \n3                   61.0  2004          1  2004-01  \n4                   23.0  2004          1  2004-01  \n...                  ...   ...        ...      ...  \n105291              51.0  2024          2  2024-02  \n105292              87.0  2024          2  2024-02  \n105293              18.0  2024          2  2024-02  \n105294              40.0  2024          2  2024-02  \n105295           11276.0  2024          2  2024-02  \n\n[105296 rows x 15 columns]",
      "text/html": "<div>\n<style scoped>\n    .dataframe tbody tr th:only-of-type {\n        vertical-align: middle;\n    }\n\n    .dataframe tbody tr th {\n        vertical-align: top;\n    }\n\n    .dataframe thead th {\n        text-align: right;\n    }\n</style>\n<table border=\"1\" class=\"dataframe\">\n  <thead>\n    <tr style=\"text-align: right;\">\n      <th></th>\n      <th>Route</th>\n      <th>Departing_Port</th>\n      <th>Arriving_Port</th>\n      <th>Airline</th>\n      <th>Month</th>\n      <th>Sectors_Scheduled</th>\n      <th>Sectors_Flown</th>\n      <th>Cancellations</th>\n      <th>Departures_On_Time</th>\n      <th>Arrivals_On_Time</th>\n      <th>Departures_Delayed</th>\n      <th>Arrivals_Delayed</th>\n      <th>Year</th>\n      <th>Month_Num</th>\n      <th>Date</th>\n    </tr>\n  </thead>\n  <tbody>\n    <tr>\n      <th>0</th>\n      <td>Adelaide-Brisbane</td>\n      <td>Adelaide</td>\n      <td>Brisbane</td>\n      <td>All Airlines</td>\n      <td>4-Jan</td>\n      <td>155.0</td>\n      <td>155</td>\n      <td>0.0</td>\n      <td>123.0</td>\n      <td>120.0</td>\n      <td>32.0</td>\n      <td>35.0</td>\n      <td>2004</td>\n      <td>1</td>\n      <td>2004-01</td>\n    </tr>\n    <tr>\n      <th>1</th>\n      <td>Adelaide-Canberra</td>\n      <td>Adelaide</td>\n      <td>Canberra</td>\n      <td>All Airlines</td>\n      <td>4-Jan</td>\n      <td>75.0</td>\n      <td>75</td>\n      <td>0.0</td>\n      <td>72.0</td>\n      <td>72.0</td>\n      <td>3.0</td>\n      <td>3.0</td>\n      <td>2004</td>\n      <td>1</td>\n      <td>2004-01</td>\n    </tr>\n    <tr>\n      <th>2</th>\n      <td>Adelaide-Gold Coast</td>\n      <td>Adelaide</td>\n      <td>Gold Coast</td>\n      <td>All Airlines</td>\n      <td>4-Jan</td>\n      <td>40.0</td>\n      <td>40</td>\n      <td>0.0</td>\n      <td>36.0</td>\n      <td>35.0</td>\n      <td>4.0</td>\n      <td>5.0</td>\n      <td>2004</td>\n      <td>1</td>\n      <td>2004-01</td>\n    </tr>\n    <tr>\n      <th>3</th>\n      <td>Adelaide-Melbourne</td>\n      <td>Adelaide</td>\n      <td>Melbourne</td>\n      <td>All Airlines</td>\n      <td>4-Jan</td>\n      <td>550.0</td>\n      <td>548</td>\n      <td>2.0</td>\n      <td>478.0</td>\n      <td>487.0</td>\n      <td>70.0</td>\n      <td>61.0</td>\n      <td>2004</td>\n      <td>1</td>\n      <td>2004-01</td>\n    </tr>\n    <tr>\n      <th>4</th>\n      <td>Adelaide-Perth</td>\n      <td>Adelaide</td>\n      <td>Perth</td>\n      <td>All Airlines</td>\n      <td>4-Jan</td>\n      <td>191.0</td>\n      <td>191</td>\n      <td>0.0</td>\n      <td>169.0</td>\n      <td>168.0</td>\n      <td>22.0</td>\n      <td>23.0</td>\n      <td>2004</td>\n      <td>1</td>\n      <td>2004-01</td>\n    </tr>\n    <tr>\n      <th>...</th>\n      <td>...</td>\n      <td>...</td>\n      <td>...</td>\n      <td>...</td>\n      <td>...</td>\n      <td>...</td>\n      <td>...</td>\n      <td>...</td>\n      <td>...</td>\n      <td>...</td>\n      <td>...</td>\n      <td>...</td>\n      <td>...</td>\n      <td>...</td>\n      <td>...</td>\n    </tr>\n    <tr>\n      <th>105291</th>\n      <td>Sydney-Wagga Wagga</td>\n      <td>Sydney</td>\n      <td>Wagga Wagga</td>\n      <td>All Airlines</td>\n      <td>24-Feb</td>\n      <td>176.0</td>\n      <td>169</td>\n      <td>7.0</td>\n      <td>122.0</td>\n      <td>118.0</td>\n      <td>47.0</td>\n      <td>51.0</td>\n      <td>2024</td>\n      <td>2</td>\n      <td>2024-02</td>\n    </tr>\n    <tr>\n      <th>105292</th>\n      <td>Townsville-Brisbane</td>\n      <td>Townsville</td>\n      <td>Brisbane</td>\n      <td>All Airlines</td>\n      <td>24-Feb</td>\n      <td>300.0</td>\n      <td>291</td>\n      <td>9.0</td>\n      <td>213.0</td>\n      <td>204.0</td>\n      <td>78.0</td>\n      <td>87.0</td>\n      <td>2024</td>\n      <td>2</td>\n      <td>2024-02</td>\n    </tr>\n    <tr>\n      <th>105293</th>\n      <td>Townsville-Cairns</td>\n      <td>Townsville</td>\n      <td>Cairns</td>\n      <td>All Airlines</td>\n      <td>24-Feb</td>\n      <td>150.0</td>\n      <td>139</td>\n      <td>11.0</td>\n      <td>123.0</td>\n      <td>121.0</td>\n      <td>16.0</td>\n      <td>18.0</td>\n      <td>2024</td>\n      <td>2</td>\n      <td>2024-02</td>\n    </tr>\n    <tr>\n      <th>105294</th>\n      <td>Wagga Wagga-Sydney</td>\n      <td>Wagga Wagga</td>\n      <td>Sydney</td>\n      <td>All Airlines</td>\n      <td>24-Feb</td>\n      <td>174.0</td>\n      <td>167</td>\n      <td>7.0</td>\n      <td>130.0</td>\n      <td>127.0</td>\n      <td>37.0</td>\n      <td>40.0</td>\n      <td>2024</td>\n      <td>2</td>\n      <td>2024-02</td>\n    </tr>\n    <tr>\n      <th>105295</th>\n      <td>All Ports-All Ports</td>\n      <td>All Ports</td>\n      <td>All Ports</td>\n      <td>All Airlines</td>\n      <td>24-Feb</td>\n      <td>43561.0</td>\n      <td>41811</td>\n      <td>1750.0</td>\n      <td>31170.0</td>\n      <td>30535.0</td>\n      <td>10641.0</td>\n      <td>11276.0</td>\n      <td>2024</td>\n      <td>2</td>\n      <td>2024-02</td>\n    </tr>\n  </tbody>\n</table>\n<p>105296 rows × 15 columns</p>\n</div>"
     },
     "execution_count": 41,
     "metadata": {},
     "output_type": "execute_result"
    }
   ],
   "source": [
    "port_delays.drop_duplicates()"
   ],
   "metadata": {
    "collapsed": false,
    "ExecuteTime": {
     "end_time": "2024-09-28T13:09:53.956751700Z",
     "start_time": "2024-09-28T13:09:53.589566500Z"
    }
   }
  },
  {
   "cell_type": "code",
   "execution_count": 42,
   "outputs": [],
   "source": [
    "# port_delays = port_delays.drop(columns = ['Route', 'Month', 'Sectors_Scheduled', 'Sectors_Flown', 'Year', 'Month_Num'] )"
   ],
   "metadata": {
    "collapsed": false,
    "ExecuteTime": {
     "end_time": "2024-09-28T13:09:53.956751700Z",
     "start_time": "2024-09-28T13:09:53.863542400Z"
    }
   }
  },
  {
   "cell_type": "code",
   "execution_count": 43,
   "outputs": [
    {
     "data": {
      "text/plain": "                      Route Departing_Port Arriving_Port       Airline  \\\n0         Adelaide-Brisbane       Adelaide      Brisbane  All Airlines   \n1         Adelaide-Canberra       Adelaide      Canberra  All Airlines   \n2       Adelaide-Gold Coast       Adelaide    Gold Coast  All Airlines   \n3        Adelaide-Melbourne       Adelaide     Melbourne  All Airlines   \n4            Adelaide-Perth       Adelaide         Perth  All Airlines   \n...                     ...            ...           ...           ...   \n105291   Sydney-Wagga Wagga         Sydney   Wagga Wagga  All Airlines   \n105292  Townsville-Brisbane     Townsville      Brisbane  All Airlines   \n105293    Townsville-Cairns     Townsville        Cairns  All Airlines   \n105294   Wagga Wagga-Sydney    Wagga Wagga        Sydney  All Airlines   \n105295  All Ports-All Ports      All Ports     All Ports  All Airlines   \n\n         Month  Sectors_Scheduled  Sectors_Flown  Cancellations  \\\n0        4-Jan              155.0            155            0.0   \n1        4-Jan               75.0             75            0.0   \n2        4-Jan               40.0             40            0.0   \n3        4-Jan              550.0            548            2.0   \n4        4-Jan              191.0            191            0.0   \n...        ...                ...            ...            ...   \n105291  24-Feb              176.0            169            7.0   \n105292  24-Feb              300.0            291            9.0   \n105293  24-Feb              150.0            139           11.0   \n105294  24-Feb              174.0            167            7.0   \n105295  24-Feb            43561.0          41811         1750.0   \n\n        Departures_On_Time  Arrivals_On_Time  Departures_Delayed  \\\n0                    123.0             120.0                32.0   \n1                     72.0              72.0                 3.0   \n2                     36.0              35.0                 4.0   \n3                    478.0             487.0                70.0   \n4                    169.0             168.0                22.0   \n...                    ...               ...                 ...   \n105291               122.0             118.0                47.0   \n105292               213.0             204.0                78.0   \n105293               123.0             121.0                16.0   \n105294               130.0             127.0                37.0   \n105295             31170.0           30535.0             10641.0   \n\n        Arrivals_Delayed  Year  Month_Num     Date  \n0                   35.0  2004          1  2004-01  \n1                    3.0  2004          1  2004-01  \n2                    5.0  2004          1  2004-01  \n3                   61.0  2004          1  2004-01  \n4                   23.0  2004          1  2004-01  \n...                  ...   ...        ...      ...  \n105291              51.0  2024          2  2024-02  \n105292              87.0  2024          2  2024-02  \n105293              18.0  2024          2  2024-02  \n105294              40.0  2024          2  2024-02  \n105295           11276.0  2024          2  2024-02  \n\n[105296 rows x 15 columns]",
      "text/html": "<div>\n<style scoped>\n    .dataframe tbody tr th:only-of-type {\n        vertical-align: middle;\n    }\n\n    .dataframe tbody tr th {\n        vertical-align: top;\n    }\n\n    .dataframe thead th {\n        text-align: right;\n    }\n</style>\n<table border=\"1\" class=\"dataframe\">\n  <thead>\n    <tr style=\"text-align: right;\">\n      <th></th>\n      <th>Route</th>\n      <th>Departing_Port</th>\n      <th>Arriving_Port</th>\n      <th>Airline</th>\n      <th>Month</th>\n      <th>Sectors_Scheduled</th>\n      <th>Sectors_Flown</th>\n      <th>Cancellations</th>\n      <th>Departures_On_Time</th>\n      <th>Arrivals_On_Time</th>\n      <th>Departures_Delayed</th>\n      <th>Arrivals_Delayed</th>\n      <th>Year</th>\n      <th>Month_Num</th>\n      <th>Date</th>\n    </tr>\n  </thead>\n  <tbody>\n    <tr>\n      <th>0</th>\n      <td>Adelaide-Brisbane</td>\n      <td>Adelaide</td>\n      <td>Brisbane</td>\n      <td>All Airlines</td>\n      <td>4-Jan</td>\n      <td>155.0</td>\n      <td>155</td>\n      <td>0.0</td>\n      <td>123.0</td>\n      <td>120.0</td>\n      <td>32.0</td>\n      <td>35.0</td>\n      <td>2004</td>\n      <td>1</td>\n      <td>2004-01</td>\n    </tr>\n    <tr>\n      <th>1</th>\n      <td>Adelaide-Canberra</td>\n      <td>Adelaide</td>\n      <td>Canberra</td>\n      <td>All Airlines</td>\n      <td>4-Jan</td>\n      <td>75.0</td>\n      <td>75</td>\n      <td>0.0</td>\n      <td>72.0</td>\n      <td>72.0</td>\n      <td>3.0</td>\n      <td>3.0</td>\n      <td>2004</td>\n      <td>1</td>\n      <td>2004-01</td>\n    </tr>\n    <tr>\n      <th>2</th>\n      <td>Adelaide-Gold Coast</td>\n      <td>Adelaide</td>\n      <td>Gold Coast</td>\n      <td>All Airlines</td>\n      <td>4-Jan</td>\n      <td>40.0</td>\n      <td>40</td>\n      <td>0.0</td>\n      <td>36.0</td>\n      <td>35.0</td>\n      <td>4.0</td>\n      <td>5.0</td>\n      <td>2004</td>\n      <td>1</td>\n      <td>2004-01</td>\n    </tr>\n    <tr>\n      <th>3</th>\n      <td>Adelaide-Melbourne</td>\n      <td>Adelaide</td>\n      <td>Melbourne</td>\n      <td>All Airlines</td>\n      <td>4-Jan</td>\n      <td>550.0</td>\n      <td>548</td>\n      <td>2.0</td>\n      <td>478.0</td>\n      <td>487.0</td>\n      <td>70.0</td>\n      <td>61.0</td>\n      <td>2004</td>\n      <td>1</td>\n      <td>2004-01</td>\n    </tr>\n    <tr>\n      <th>4</th>\n      <td>Adelaide-Perth</td>\n      <td>Adelaide</td>\n      <td>Perth</td>\n      <td>All Airlines</td>\n      <td>4-Jan</td>\n      <td>191.0</td>\n      <td>191</td>\n      <td>0.0</td>\n      <td>169.0</td>\n      <td>168.0</td>\n      <td>22.0</td>\n      <td>23.0</td>\n      <td>2004</td>\n      <td>1</td>\n      <td>2004-01</td>\n    </tr>\n    <tr>\n      <th>...</th>\n      <td>...</td>\n      <td>...</td>\n      <td>...</td>\n      <td>...</td>\n      <td>...</td>\n      <td>...</td>\n      <td>...</td>\n      <td>...</td>\n      <td>...</td>\n      <td>...</td>\n      <td>...</td>\n      <td>...</td>\n      <td>...</td>\n      <td>...</td>\n      <td>...</td>\n    </tr>\n    <tr>\n      <th>105291</th>\n      <td>Sydney-Wagga Wagga</td>\n      <td>Sydney</td>\n      <td>Wagga Wagga</td>\n      <td>All Airlines</td>\n      <td>24-Feb</td>\n      <td>176.0</td>\n      <td>169</td>\n      <td>7.0</td>\n      <td>122.0</td>\n      <td>118.0</td>\n      <td>47.0</td>\n      <td>51.0</td>\n      <td>2024</td>\n      <td>2</td>\n      <td>2024-02</td>\n    </tr>\n    <tr>\n      <th>105292</th>\n      <td>Townsville-Brisbane</td>\n      <td>Townsville</td>\n      <td>Brisbane</td>\n      <td>All Airlines</td>\n      <td>24-Feb</td>\n      <td>300.0</td>\n      <td>291</td>\n      <td>9.0</td>\n      <td>213.0</td>\n      <td>204.0</td>\n      <td>78.0</td>\n      <td>87.0</td>\n      <td>2024</td>\n      <td>2</td>\n      <td>2024-02</td>\n    </tr>\n    <tr>\n      <th>105293</th>\n      <td>Townsville-Cairns</td>\n      <td>Townsville</td>\n      <td>Cairns</td>\n      <td>All Airlines</td>\n      <td>24-Feb</td>\n      <td>150.0</td>\n      <td>139</td>\n      <td>11.0</td>\n      <td>123.0</td>\n      <td>121.0</td>\n      <td>16.0</td>\n      <td>18.0</td>\n      <td>2024</td>\n      <td>2</td>\n      <td>2024-02</td>\n    </tr>\n    <tr>\n      <th>105294</th>\n      <td>Wagga Wagga-Sydney</td>\n      <td>Wagga Wagga</td>\n      <td>Sydney</td>\n      <td>All Airlines</td>\n      <td>24-Feb</td>\n      <td>174.0</td>\n      <td>167</td>\n      <td>7.0</td>\n      <td>130.0</td>\n      <td>127.0</td>\n      <td>37.0</td>\n      <td>40.0</td>\n      <td>2024</td>\n      <td>2</td>\n      <td>2024-02</td>\n    </tr>\n    <tr>\n      <th>105295</th>\n      <td>All Ports-All Ports</td>\n      <td>All Ports</td>\n      <td>All Ports</td>\n      <td>All Airlines</td>\n      <td>24-Feb</td>\n      <td>43561.0</td>\n      <td>41811</td>\n      <td>1750.0</td>\n      <td>31170.0</td>\n      <td>30535.0</td>\n      <td>10641.0</td>\n      <td>11276.0</td>\n      <td>2024</td>\n      <td>2</td>\n      <td>2024-02</td>\n    </tr>\n  </tbody>\n</table>\n<p>105296 rows × 15 columns</p>\n</div>"
     },
     "execution_count": 43,
     "metadata": {},
     "output_type": "execute_result"
    }
   ],
   "source": [
    "port_delays"
   ],
   "metadata": {
    "collapsed": false,
    "ExecuteTime": {
     "end_time": "2024-09-28T13:09:53.957749Z",
     "start_time": "2024-09-28T13:09:53.863542400Z"
    }
   }
  },
  {
   "cell_type": "code",
   "execution_count": 44,
   "outputs": [],
   "source": [
    "port_delays[\"Arrivals_On_Time_%\"] = port_delays[\"Arrivals_On_Time\"] / (port_delays[\"Arrivals_On_Time\"] + port_delays[\"Arrivals_Delayed\"])\n",
    "port_delays[\"Departures_On_Time_%\"] = port_delays[\"Departures_On_Time\"] / (port_delays[\"Departures_On_Time\"] + port_delays[\"Departures_Delayed\"])\n",
    "port_delays[\"Cancellations_%\"] = port_delays[\"Cancellations\"] / port_delays[\"Sectors_Scheduled\"]"
   ],
   "metadata": {
    "collapsed": false,
    "ExecuteTime": {
     "end_time": "2024-09-28T13:09:54.020449700Z",
     "start_time": "2024-09-28T13:09:53.880500700Z"
    }
   }
  },
  {
   "cell_type": "code",
   "execution_count": 45,
   "outputs": [
    {
     "data": {
      "text/plain": "                      Route Departing_Port Arriving_Port       Airline  \\\n0         Adelaide-Brisbane       Adelaide      Brisbane  All Airlines   \n1         Adelaide-Canberra       Adelaide      Canberra  All Airlines   \n2       Adelaide-Gold Coast       Adelaide    Gold Coast  All Airlines   \n3        Adelaide-Melbourne       Adelaide     Melbourne  All Airlines   \n4            Adelaide-Perth       Adelaide         Perth  All Airlines   \n...                     ...            ...           ...           ...   \n105291   Sydney-Wagga Wagga         Sydney   Wagga Wagga  All Airlines   \n105292  Townsville-Brisbane     Townsville      Brisbane  All Airlines   \n105293    Townsville-Cairns     Townsville        Cairns  All Airlines   \n105294   Wagga Wagga-Sydney    Wagga Wagga        Sydney  All Airlines   \n105295  All Ports-All Ports      All Ports     All Ports  All Airlines   \n\n         Month  Sectors_Scheduled  Sectors_Flown  Cancellations  \\\n0        4-Jan              155.0            155            0.0   \n1        4-Jan               75.0             75            0.0   \n2        4-Jan               40.0             40            0.0   \n3        4-Jan              550.0            548            2.0   \n4        4-Jan              191.0            191            0.0   \n...        ...                ...            ...            ...   \n105291  24-Feb              176.0            169            7.0   \n105292  24-Feb              300.0            291            9.0   \n105293  24-Feb              150.0            139           11.0   \n105294  24-Feb              174.0            167            7.0   \n105295  24-Feb            43561.0          41811         1750.0   \n\n        Departures_On_Time  Arrivals_On_Time  Departures_Delayed  \\\n0                    123.0             120.0                32.0   \n1                     72.0              72.0                 3.0   \n2                     36.0              35.0                 4.0   \n3                    478.0             487.0                70.0   \n4                    169.0             168.0                22.0   \n...                    ...               ...                 ...   \n105291               122.0             118.0                47.0   \n105292               213.0             204.0                78.0   \n105293               123.0             121.0                16.0   \n105294               130.0             127.0                37.0   \n105295             31170.0           30535.0             10641.0   \n\n        Arrivals_Delayed  Year  Month_Num     Date  Arrivals_On_Time_%  \\\n0                   35.0  2004          1  2004-01            0.774194   \n1                    3.0  2004          1  2004-01            0.960000   \n2                    5.0  2004          1  2004-01            0.875000   \n3                   61.0  2004          1  2004-01            0.888686   \n4                   23.0  2004          1  2004-01            0.879581   \n...                  ...   ...        ...      ...                 ...   \n105291              51.0  2024          2  2024-02            0.698225   \n105292              87.0  2024          2  2024-02            0.701031   \n105293              18.0  2024          2  2024-02            0.870504   \n105294              40.0  2024          2  2024-02            0.760479   \n105295           11276.0  2024          2  2024-02            0.730310   \n\n        Departures_On_Time_%  Cancellations_%  \n0                   0.793548         0.000000  \n1                   0.960000         0.000000  \n2                   0.900000         0.000000  \n3                   0.872263         0.003636  \n4                   0.884817         0.000000  \n...                      ...              ...  \n105291              0.721893         0.039773  \n105292              0.731959         0.030000  \n105293              0.884892         0.073333  \n105294              0.778443         0.040230  \n105295              0.745498         0.040174  \n\n[105296 rows x 18 columns]",
      "text/html": "<div>\n<style scoped>\n    .dataframe tbody tr th:only-of-type {\n        vertical-align: middle;\n    }\n\n    .dataframe tbody tr th {\n        vertical-align: top;\n    }\n\n    .dataframe thead th {\n        text-align: right;\n    }\n</style>\n<table border=\"1\" class=\"dataframe\">\n  <thead>\n    <tr style=\"text-align: right;\">\n      <th></th>\n      <th>Route</th>\n      <th>Departing_Port</th>\n      <th>Arriving_Port</th>\n      <th>Airline</th>\n      <th>Month</th>\n      <th>Sectors_Scheduled</th>\n      <th>Sectors_Flown</th>\n      <th>Cancellations</th>\n      <th>Departures_On_Time</th>\n      <th>Arrivals_On_Time</th>\n      <th>Departures_Delayed</th>\n      <th>Arrivals_Delayed</th>\n      <th>Year</th>\n      <th>Month_Num</th>\n      <th>Date</th>\n      <th>Arrivals_On_Time_%</th>\n      <th>Departures_On_Time_%</th>\n      <th>Cancellations_%</th>\n    </tr>\n  </thead>\n  <tbody>\n    <tr>\n      <th>0</th>\n      <td>Adelaide-Brisbane</td>\n      <td>Adelaide</td>\n      <td>Brisbane</td>\n      <td>All Airlines</td>\n      <td>4-Jan</td>\n      <td>155.0</td>\n      <td>155</td>\n      <td>0.0</td>\n      <td>123.0</td>\n      <td>120.0</td>\n      <td>32.0</td>\n      <td>35.0</td>\n      <td>2004</td>\n      <td>1</td>\n      <td>2004-01</td>\n      <td>0.774194</td>\n      <td>0.793548</td>\n      <td>0.000000</td>\n    </tr>\n    <tr>\n      <th>1</th>\n      <td>Adelaide-Canberra</td>\n      <td>Adelaide</td>\n      <td>Canberra</td>\n      <td>All Airlines</td>\n      <td>4-Jan</td>\n      <td>75.0</td>\n      <td>75</td>\n      <td>0.0</td>\n      <td>72.0</td>\n      <td>72.0</td>\n      <td>3.0</td>\n      <td>3.0</td>\n      <td>2004</td>\n      <td>1</td>\n      <td>2004-01</td>\n      <td>0.960000</td>\n      <td>0.960000</td>\n      <td>0.000000</td>\n    </tr>\n    <tr>\n      <th>2</th>\n      <td>Adelaide-Gold Coast</td>\n      <td>Adelaide</td>\n      <td>Gold Coast</td>\n      <td>All Airlines</td>\n      <td>4-Jan</td>\n      <td>40.0</td>\n      <td>40</td>\n      <td>0.0</td>\n      <td>36.0</td>\n      <td>35.0</td>\n      <td>4.0</td>\n      <td>5.0</td>\n      <td>2004</td>\n      <td>1</td>\n      <td>2004-01</td>\n      <td>0.875000</td>\n      <td>0.900000</td>\n      <td>0.000000</td>\n    </tr>\n    <tr>\n      <th>3</th>\n      <td>Adelaide-Melbourne</td>\n      <td>Adelaide</td>\n      <td>Melbourne</td>\n      <td>All Airlines</td>\n      <td>4-Jan</td>\n      <td>550.0</td>\n      <td>548</td>\n      <td>2.0</td>\n      <td>478.0</td>\n      <td>487.0</td>\n      <td>70.0</td>\n      <td>61.0</td>\n      <td>2004</td>\n      <td>1</td>\n      <td>2004-01</td>\n      <td>0.888686</td>\n      <td>0.872263</td>\n      <td>0.003636</td>\n    </tr>\n    <tr>\n      <th>4</th>\n      <td>Adelaide-Perth</td>\n      <td>Adelaide</td>\n      <td>Perth</td>\n      <td>All Airlines</td>\n      <td>4-Jan</td>\n      <td>191.0</td>\n      <td>191</td>\n      <td>0.0</td>\n      <td>169.0</td>\n      <td>168.0</td>\n      <td>22.0</td>\n      <td>23.0</td>\n      <td>2004</td>\n      <td>1</td>\n      <td>2004-01</td>\n      <td>0.879581</td>\n      <td>0.884817</td>\n      <td>0.000000</td>\n    </tr>\n    <tr>\n      <th>...</th>\n      <td>...</td>\n      <td>...</td>\n      <td>...</td>\n      <td>...</td>\n      <td>...</td>\n      <td>...</td>\n      <td>...</td>\n      <td>...</td>\n      <td>...</td>\n      <td>...</td>\n      <td>...</td>\n      <td>...</td>\n      <td>...</td>\n      <td>...</td>\n      <td>...</td>\n      <td>...</td>\n      <td>...</td>\n      <td>...</td>\n    </tr>\n    <tr>\n      <th>105291</th>\n      <td>Sydney-Wagga Wagga</td>\n      <td>Sydney</td>\n      <td>Wagga Wagga</td>\n      <td>All Airlines</td>\n      <td>24-Feb</td>\n      <td>176.0</td>\n      <td>169</td>\n      <td>7.0</td>\n      <td>122.0</td>\n      <td>118.0</td>\n      <td>47.0</td>\n      <td>51.0</td>\n      <td>2024</td>\n      <td>2</td>\n      <td>2024-02</td>\n      <td>0.698225</td>\n      <td>0.721893</td>\n      <td>0.039773</td>\n    </tr>\n    <tr>\n      <th>105292</th>\n      <td>Townsville-Brisbane</td>\n      <td>Townsville</td>\n      <td>Brisbane</td>\n      <td>All Airlines</td>\n      <td>24-Feb</td>\n      <td>300.0</td>\n      <td>291</td>\n      <td>9.0</td>\n      <td>213.0</td>\n      <td>204.0</td>\n      <td>78.0</td>\n      <td>87.0</td>\n      <td>2024</td>\n      <td>2</td>\n      <td>2024-02</td>\n      <td>0.701031</td>\n      <td>0.731959</td>\n      <td>0.030000</td>\n    </tr>\n    <tr>\n      <th>105293</th>\n      <td>Townsville-Cairns</td>\n      <td>Townsville</td>\n      <td>Cairns</td>\n      <td>All Airlines</td>\n      <td>24-Feb</td>\n      <td>150.0</td>\n      <td>139</td>\n      <td>11.0</td>\n      <td>123.0</td>\n      <td>121.0</td>\n      <td>16.0</td>\n      <td>18.0</td>\n      <td>2024</td>\n      <td>2</td>\n      <td>2024-02</td>\n      <td>0.870504</td>\n      <td>0.884892</td>\n      <td>0.073333</td>\n    </tr>\n    <tr>\n      <th>105294</th>\n      <td>Wagga Wagga-Sydney</td>\n      <td>Wagga Wagga</td>\n      <td>Sydney</td>\n      <td>All Airlines</td>\n      <td>24-Feb</td>\n      <td>174.0</td>\n      <td>167</td>\n      <td>7.0</td>\n      <td>130.0</td>\n      <td>127.0</td>\n      <td>37.0</td>\n      <td>40.0</td>\n      <td>2024</td>\n      <td>2</td>\n      <td>2024-02</td>\n      <td>0.760479</td>\n      <td>0.778443</td>\n      <td>0.040230</td>\n    </tr>\n    <tr>\n      <th>105295</th>\n      <td>All Ports-All Ports</td>\n      <td>All Ports</td>\n      <td>All Ports</td>\n      <td>All Airlines</td>\n      <td>24-Feb</td>\n      <td>43561.0</td>\n      <td>41811</td>\n      <td>1750.0</td>\n      <td>31170.0</td>\n      <td>30535.0</td>\n      <td>10641.0</td>\n      <td>11276.0</td>\n      <td>2024</td>\n      <td>2</td>\n      <td>2024-02</td>\n      <td>0.730310</td>\n      <td>0.745498</td>\n      <td>0.040174</td>\n    </tr>\n  </tbody>\n</table>\n<p>105296 rows × 18 columns</p>\n</div>"
     },
     "execution_count": 45,
     "metadata": {},
     "output_type": "execute_result"
    }
   ],
   "source": [
    "port_delays\n"
   ],
   "metadata": {
    "collapsed": false,
    "ExecuteTime": {
     "end_time": "2024-09-28T13:09:54.080464800Z",
     "start_time": "2024-09-28T13:09:53.914310600Z"
    }
   }
  },
  {
   "cell_type": "code",
   "execution_count": 46,
   "outputs": [],
   "source": [
    "port_delays['Departure_Delays_%'] = (port_delays['Departures_Delayed'] / port_delays['Sectors_Scheduled']) #* 100\n",
    "# Departure delay and Arrival delay columns to get the range from 0-1\n",
    "port_delays['Arrival_Delays_%'] = (port_delays['Arrivals_Delayed'] / port_delays['Sectors_Scheduled']) #* 100"
   ],
   "metadata": {
    "collapsed": false,
    "ExecuteTime": {
     "end_time": "2024-09-28T13:09:54.095424100Z",
     "start_time": "2024-09-28T13:09:53.966732800Z"
    }
   }
  },
  {
   "cell_type": "code",
   "execution_count": 47,
   "outputs": [
    {
     "data": {
      "text/plain": "                      Route Departing_Port Arriving_Port       Airline  \\\n0         Adelaide-Brisbane       Adelaide      Brisbane  All Airlines   \n1         Adelaide-Canberra       Adelaide      Canberra  All Airlines   \n2       Adelaide-Gold Coast       Adelaide    Gold Coast  All Airlines   \n3        Adelaide-Melbourne       Adelaide     Melbourne  All Airlines   \n4            Adelaide-Perth       Adelaide         Perth  All Airlines   \n...                     ...            ...           ...           ...   \n105291   Sydney-Wagga Wagga         Sydney   Wagga Wagga  All Airlines   \n105292  Townsville-Brisbane     Townsville      Brisbane  All Airlines   \n105293    Townsville-Cairns     Townsville        Cairns  All Airlines   \n105294   Wagga Wagga-Sydney    Wagga Wagga        Sydney  All Airlines   \n105295  All Ports-All Ports      All Ports     All Ports  All Airlines   \n\n         Month  Sectors_Scheduled  Sectors_Flown  Cancellations  \\\n0        4-Jan              155.0            155            0.0   \n1        4-Jan               75.0             75            0.0   \n2        4-Jan               40.0             40            0.0   \n3        4-Jan              550.0            548            2.0   \n4        4-Jan              191.0            191            0.0   \n...        ...                ...            ...            ...   \n105291  24-Feb              176.0            169            7.0   \n105292  24-Feb              300.0            291            9.0   \n105293  24-Feb              150.0            139           11.0   \n105294  24-Feb              174.0            167            7.0   \n105295  24-Feb            43561.0          41811         1750.0   \n\n        Departures_On_Time  Arrivals_On_Time  Departures_Delayed  \\\n0                    123.0             120.0                32.0   \n1                     72.0              72.0                 3.0   \n2                     36.0              35.0                 4.0   \n3                    478.0             487.0                70.0   \n4                    169.0             168.0                22.0   \n...                    ...               ...                 ...   \n105291               122.0             118.0                47.0   \n105292               213.0             204.0                78.0   \n105293               123.0             121.0                16.0   \n105294               130.0             127.0                37.0   \n105295             31170.0           30535.0             10641.0   \n\n        Arrivals_Delayed  Year  Month_Num     Date  Arrivals_On_Time_%  \\\n0                   35.0  2004          1  2004-01            0.774194   \n1                    3.0  2004          1  2004-01            0.960000   \n2                    5.0  2004          1  2004-01            0.875000   \n3                   61.0  2004          1  2004-01            0.888686   \n4                   23.0  2004          1  2004-01            0.879581   \n...                  ...   ...        ...      ...                 ...   \n105291              51.0  2024          2  2024-02            0.698225   \n105292              87.0  2024          2  2024-02            0.701031   \n105293              18.0  2024          2  2024-02            0.870504   \n105294              40.0  2024          2  2024-02            0.760479   \n105295           11276.0  2024          2  2024-02            0.730310   \n\n        Departures_On_Time_%  Cancellations_%  Departure_Delays_%  \\\n0                   0.793548         0.000000            0.206452   \n1                   0.960000         0.000000            0.040000   \n2                   0.900000         0.000000            0.100000   \n3                   0.872263         0.003636            0.127273   \n4                   0.884817         0.000000            0.115183   \n...                      ...              ...                 ...   \n105291              0.721893         0.039773            0.267045   \n105292              0.731959         0.030000            0.260000   \n105293              0.884892         0.073333            0.106667   \n105294              0.778443         0.040230            0.212644   \n105295              0.745498         0.040174            0.244278   \n\n        Arrival_Delays_%  \n0               0.225806  \n1               0.040000  \n2               0.125000  \n3               0.110909  \n4               0.120419  \n...                  ...  \n105291          0.289773  \n105292          0.290000  \n105293          0.120000  \n105294          0.229885  \n105295          0.258855  \n\n[105296 rows x 20 columns]",
      "text/html": "<div>\n<style scoped>\n    .dataframe tbody tr th:only-of-type {\n        vertical-align: middle;\n    }\n\n    .dataframe tbody tr th {\n        vertical-align: top;\n    }\n\n    .dataframe thead th {\n        text-align: right;\n    }\n</style>\n<table border=\"1\" class=\"dataframe\">\n  <thead>\n    <tr style=\"text-align: right;\">\n      <th></th>\n      <th>Route</th>\n      <th>Departing_Port</th>\n      <th>Arriving_Port</th>\n      <th>Airline</th>\n      <th>Month</th>\n      <th>Sectors_Scheduled</th>\n      <th>Sectors_Flown</th>\n      <th>Cancellations</th>\n      <th>Departures_On_Time</th>\n      <th>Arrivals_On_Time</th>\n      <th>Departures_Delayed</th>\n      <th>Arrivals_Delayed</th>\n      <th>Year</th>\n      <th>Month_Num</th>\n      <th>Date</th>\n      <th>Arrivals_On_Time_%</th>\n      <th>Departures_On_Time_%</th>\n      <th>Cancellations_%</th>\n      <th>Departure_Delays_%</th>\n      <th>Arrival_Delays_%</th>\n    </tr>\n  </thead>\n  <tbody>\n    <tr>\n      <th>0</th>\n      <td>Adelaide-Brisbane</td>\n      <td>Adelaide</td>\n      <td>Brisbane</td>\n      <td>All Airlines</td>\n      <td>4-Jan</td>\n      <td>155.0</td>\n      <td>155</td>\n      <td>0.0</td>\n      <td>123.0</td>\n      <td>120.0</td>\n      <td>32.0</td>\n      <td>35.0</td>\n      <td>2004</td>\n      <td>1</td>\n      <td>2004-01</td>\n      <td>0.774194</td>\n      <td>0.793548</td>\n      <td>0.000000</td>\n      <td>0.206452</td>\n      <td>0.225806</td>\n    </tr>\n    <tr>\n      <th>1</th>\n      <td>Adelaide-Canberra</td>\n      <td>Adelaide</td>\n      <td>Canberra</td>\n      <td>All Airlines</td>\n      <td>4-Jan</td>\n      <td>75.0</td>\n      <td>75</td>\n      <td>0.0</td>\n      <td>72.0</td>\n      <td>72.0</td>\n      <td>3.0</td>\n      <td>3.0</td>\n      <td>2004</td>\n      <td>1</td>\n      <td>2004-01</td>\n      <td>0.960000</td>\n      <td>0.960000</td>\n      <td>0.000000</td>\n      <td>0.040000</td>\n      <td>0.040000</td>\n    </tr>\n    <tr>\n      <th>2</th>\n      <td>Adelaide-Gold Coast</td>\n      <td>Adelaide</td>\n      <td>Gold Coast</td>\n      <td>All Airlines</td>\n      <td>4-Jan</td>\n      <td>40.0</td>\n      <td>40</td>\n      <td>0.0</td>\n      <td>36.0</td>\n      <td>35.0</td>\n      <td>4.0</td>\n      <td>5.0</td>\n      <td>2004</td>\n      <td>1</td>\n      <td>2004-01</td>\n      <td>0.875000</td>\n      <td>0.900000</td>\n      <td>0.000000</td>\n      <td>0.100000</td>\n      <td>0.125000</td>\n    </tr>\n    <tr>\n      <th>3</th>\n      <td>Adelaide-Melbourne</td>\n      <td>Adelaide</td>\n      <td>Melbourne</td>\n      <td>All Airlines</td>\n      <td>4-Jan</td>\n      <td>550.0</td>\n      <td>548</td>\n      <td>2.0</td>\n      <td>478.0</td>\n      <td>487.0</td>\n      <td>70.0</td>\n      <td>61.0</td>\n      <td>2004</td>\n      <td>1</td>\n      <td>2004-01</td>\n      <td>0.888686</td>\n      <td>0.872263</td>\n      <td>0.003636</td>\n      <td>0.127273</td>\n      <td>0.110909</td>\n    </tr>\n    <tr>\n      <th>4</th>\n      <td>Adelaide-Perth</td>\n      <td>Adelaide</td>\n      <td>Perth</td>\n      <td>All Airlines</td>\n      <td>4-Jan</td>\n      <td>191.0</td>\n      <td>191</td>\n      <td>0.0</td>\n      <td>169.0</td>\n      <td>168.0</td>\n      <td>22.0</td>\n      <td>23.0</td>\n      <td>2004</td>\n      <td>1</td>\n      <td>2004-01</td>\n      <td>0.879581</td>\n      <td>0.884817</td>\n      <td>0.000000</td>\n      <td>0.115183</td>\n      <td>0.120419</td>\n    </tr>\n    <tr>\n      <th>...</th>\n      <td>...</td>\n      <td>...</td>\n      <td>...</td>\n      <td>...</td>\n      <td>...</td>\n      <td>...</td>\n      <td>...</td>\n      <td>...</td>\n      <td>...</td>\n      <td>...</td>\n      <td>...</td>\n      <td>...</td>\n      <td>...</td>\n      <td>...</td>\n      <td>...</td>\n      <td>...</td>\n      <td>...</td>\n      <td>...</td>\n      <td>...</td>\n      <td>...</td>\n    </tr>\n    <tr>\n      <th>105291</th>\n      <td>Sydney-Wagga Wagga</td>\n      <td>Sydney</td>\n      <td>Wagga Wagga</td>\n      <td>All Airlines</td>\n      <td>24-Feb</td>\n      <td>176.0</td>\n      <td>169</td>\n      <td>7.0</td>\n      <td>122.0</td>\n      <td>118.0</td>\n      <td>47.0</td>\n      <td>51.0</td>\n      <td>2024</td>\n      <td>2</td>\n      <td>2024-02</td>\n      <td>0.698225</td>\n      <td>0.721893</td>\n      <td>0.039773</td>\n      <td>0.267045</td>\n      <td>0.289773</td>\n    </tr>\n    <tr>\n      <th>105292</th>\n      <td>Townsville-Brisbane</td>\n      <td>Townsville</td>\n      <td>Brisbane</td>\n      <td>All Airlines</td>\n      <td>24-Feb</td>\n      <td>300.0</td>\n      <td>291</td>\n      <td>9.0</td>\n      <td>213.0</td>\n      <td>204.0</td>\n      <td>78.0</td>\n      <td>87.0</td>\n      <td>2024</td>\n      <td>2</td>\n      <td>2024-02</td>\n      <td>0.701031</td>\n      <td>0.731959</td>\n      <td>0.030000</td>\n      <td>0.260000</td>\n      <td>0.290000</td>\n    </tr>\n    <tr>\n      <th>105293</th>\n      <td>Townsville-Cairns</td>\n      <td>Townsville</td>\n      <td>Cairns</td>\n      <td>All Airlines</td>\n      <td>24-Feb</td>\n      <td>150.0</td>\n      <td>139</td>\n      <td>11.0</td>\n      <td>123.0</td>\n      <td>121.0</td>\n      <td>16.0</td>\n      <td>18.0</td>\n      <td>2024</td>\n      <td>2</td>\n      <td>2024-02</td>\n      <td>0.870504</td>\n      <td>0.884892</td>\n      <td>0.073333</td>\n      <td>0.106667</td>\n      <td>0.120000</td>\n    </tr>\n    <tr>\n      <th>105294</th>\n      <td>Wagga Wagga-Sydney</td>\n      <td>Wagga Wagga</td>\n      <td>Sydney</td>\n      <td>All Airlines</td>\n      <td>24-Feb</td>\n      <td>174.0</td>\n      <td>167</td>\n      <td>7.0</td>\n      <td>130.0</td>\n      <td>127.0</td>\n      <td>37.0</td>\n      <td>40.0</td>\n      <td>2024</td>\n      <td>2</td>\n      <td>2024-02</td>\n      <td>0.760479</td>\n      <td>0.778443</td>\n      <td>0.040230</td>\n      <td>0.212644</td>\n      <td>0.229885</td>\n    </tr>\n    <tr>\n      <th>105295</th>\n      <td>All Ports-All Ports</td>\n      <td>All Ports</td>\n      <td>All Ports</td>\n      <td>All Airlines</td>\n      <td>24-Feb</td>\n      <td>43561.0</td>\n      <td>41811</td>\n      <td>1750.0</td>\n      <td>31170.0</td>\n      <td>30535.0</td>\n      <td>10641.0</td>\n      <td>11276.0</td>\n      <td>2024</td>\n      <td>2</td>\n      <td>2024-02</td>\n      <td>0.730310</td>\n      <td>0.745498</td>\n      <td>0.040174</td>\n      <td>0.244278</td>\n      <td>0.258855</td>\n    </tr>\n  </tbody>\n</table>\n<p>105296 rows × 20 columns</p>\n</div>"
     },
     "execution_count": 47,
     "metadata": {},
     "output_type": "execute_result"
    }
   ],
   "source": [
    "port_delays"
   ],
   "metadata": {
    "collapsed": false,
    "ExecuteTime": {
     "end_time": "2024-09-28T13:09:54.223678600Z",
     "start_time": "2024-09-28T13:09:53.990660600Z"
    }
   }
  },
  {
   "cell_type": "code",
   "execution_count": 48,
   "outputs": [
    {
     "data": {
      "text/plain": "Index(['Route', 'Departing_Port', 'Arriving_Port', 'Airline', 'Month',\n       'Sectors_Scheduled', 'Sectors_Flown', 'Cancellations',\n       'Departures_On_Time', 'Arrivals_On_Time', 'Departures_Delayed',\n       'Arrivals_Delayed', 'Year', 'Month_Num', 'Date', 'Arrivals_On_Time_%',\n       'Departures_On_Time_%', 'Cancellations_%', 'Departure_Delays_%',\n       'Arrival_Delays_%'],\n      dtype='object')"
     },
     "execution_count": 48,
     "metadata": {},
     "output_type": "execute_result"
    }
   ],
   "source": [
    "port_delays.columns"
   ],
   "metadata": {
    "collapsed": false,
    "ExecuteTime": {
     "end_time": "2024-09-28T13:09:54.224677Z",
     "start_time": "2024-09-28T13:09:54.024438500Z"
    }
   }
  },
  {
   "cell_type": "code",
   "execution_count": 49,
   "outputs": [
    {
     "data": {
      "text/plain": "       Departing_Port Arriving_Port       Airline  Cancellations  \\\n0            Adelaide      Brisbane  All Airlines            0.0   \n1            Adelaide      Canberra  All Airlines            0.0   \n2            Adelaide    Gold Coast  All Airlines            0.0   \n3            Adelaide     Melbourne  All Airlines            2.0   \n4            Adelaide         Perth  All Airlines            0.0   \n...               ...           ...           ...            ...   \n105291         Sydney   Wagga Wagga  All Airlines            7.0   \n105292     Townsville      Brisbane  All Airlines            9.0   \n105293     Townsville        Cairns  All Airlines           11.0   \n105294    Wagga Wagga        Sydney  All Airlines            7.0   \n105295      All Ports     All Ports  All Airlines         1750.0   \n\n        Departures_On_Time  Arrivals_On_Time  Departures_Delayed  \\\n0                    123.0             120.0                32.0   \n1                     72.0              72.0                 3.0   \n2                     36.0              35.0                 4.0   \n3                    478.0             487.0                70.0   \n4                    169.0             168.0                22.0   \n...                    ...               ...                 ...   \n105291               122.0             118.0                47.0   \n105292               213.0             204.0                78.0   \n105293               123.0             121.0                16.0   \n105294               130.0             127.0                37.0   \n105295             31170.0           30535.0             10641.0   \n\n        Arrivals_Delayed     Date  Arrivals_On_Time_%  Departures_On_Time_%  \\\n0                   35.0  2004-01            0.774194              0.793548   \n1                    3.0  2004-01            0.960000              0.960000   \n2                    5.0  2004-01            0.875000              0.900000   \n3                   61.0  2004-01            0.888686              0.872263   \n4                   23.0  2004-01            0.879581              0.884817   \n...                  ...      ...                 ...                   ...   \n105291              51.0  2024-02            0.698225              0.721893   \n105292              87.0  2024-02            0.701031              0.731959   \n105293              18.0  2024-02            0.870504              0.884892   \n105294              40.0  2024-02            0.760479              0.778443   \n105295           11276.0  2024-02            0.730310              0.745498   \n\n        Cancellations_%  Departure_Delays_%  Arrival_Delays_%  \n0              0.000000            0.206452          0.225806  \n1              0.000000            0.040000          0.040000  \n2              0.000000            0.100000          0.125000  \n3              0.003636            0.127273          0.110909  \n4              0.000000            0.115183          0.120419  \n...                 ...                 ...               ...  \n105291         0.039773            0.267045          0.289773  \n105292         0.030000            0.260000          0.290000  \n105293         0.073333            0.106667          0.120000  \n105294         0.040230            0.212644          0.229885  \n105295         0.040174            0.244278          0.258855  \n\n[105296 rows x 14 columns]",
      "text/html": "<div>\n<style scoped>\n    .dataframe tbody tr th:only-of-type {\n        vertical-align: middle;\n    }\n\n    .dataframe tbody tr th {\n        vertical-align: top;\n    }\n\n    .dataframe thead th {\n        text-align: right;\n    }\n</style>\n<table border=\"1\" class=\"dataframe\">\n  <thead>\n    <tr style=\"text-align: right;\">\n      <th></th>\n      <th>Departing_Port</th>\n      <th>Arriving_Port</th>\n      <th>Airline</th>\n      <th>Cancellations</th>\n      <th>Departures_On_Time</th>\n      <th>Arrivals_On_Time</th>\n      <th>Departures_Delayed</th>\n      <th>Arrivals_Delayed</th>\n      <th>Date</th>\n      <th>Arrivals_On_Time_%</th>\n      <th>Departures_On_Time_%</th>\n      <th>Cancellations_%</th>\n      <th>Departure_Delays_%</th>\n      <th>Arrival_Delays_%</th>\n    </tr>\n  </thead>\n  <tbody>\n    <tr>\n      <th>0</th>\n      <td>Adelaide</td>\n      <td>Brisbane</td>\n      <td>All Airlines</td>\n      <td>0.0</td>\n      <td>123.0</td>\n      <td>120.0</td>\n      <td>32.0</td>\n      <td>35.0</td>\n      <td>2004-01</td>\n      <td>0.774194</td>\n      <td>0.793548</td>\n      <td>0.000000</td>\n      <td>0.206452</td>\n      <td>0.225806</td>\n    </tr>\n    <tr>\n      <th>1</th>\n      <td>Adelaide</td>\n      <td>Canberra</td>\n      <td>All Airlines</td>\n      <td>0.0</td>\n      <td>72.0</td>\n      <td>72.0</td>\n      <td>3.0</td>\n      <td>3.0</td>\n      <td>2004-01</td>\n      <td>0.960000</td>\n      <td>0.960000</td>\n      <td>0.000000</td>\n      <td>0.040000</td>\n      <td>0.040000</td>\n    </tr>\n    <tr>\n      <th>2</th>\n      <td>Adelaide</td>\n      <td>Gold Coast</td>\n      <td>All Airlines</td>\n      <td>0.0</td>\n      <td>36.0</td>\n      <td>35.0</td>\n      <td>4.0</td>\n      <td>5.0</td>\n      <td>2004-01</td>\n      <td>0.875000</td>\n      <td>0.900000</td>\n      <td>0.000000</td>\n      <td>0.100000</td>\n      <td>0.125000</td>\n    </tr>\n    <tr>\n      <th>3</th>\n      <td>Adelaide</td>\n      <td>Melbourne</td>\n      <td>All Airlines</td>\n      <td>2.0</td>\n      <td>478.0</td>\n      <td>487.0</td>\n      <td>70.0</td>\n      <td>61.0</td>\n      <td>2004-01</td>\n      <td>0.888686</td>\n      <td>0.872263</td>\n      <td>0.003636</td>\n      <td>0.127273</td>\n      <td>0.110909</td>\n    </tr>\n    <tr>\n      <th>4</th>\n      <td>Adelaide</td>\n      <td>Perth</td>\n      <td>All Airlines</td>\n      <td>0.0</td>\n      <td>169.0</td>\n      <td>168.0</td>\n      <td>22.0</td>\n      <td>23.0</td>\n      <td>2004-01</td>\n      <td>0.879581</td>\n      <td>0.884817</td>\n      <td>0.000000</td>\n      <td>0.115183</td>\n      <td>0.120419</td>\n    </tr>\n    <tr>\n      <th>...</th>\n      <td>...</td>\n      <td>...</td>\n      <td>...</td>\n      <td>...</td>\n      <td>...</td>\n      <td>...</td>\n      <td>...</td>\n      <td>...</td>\n      <td>...</td>\n      <td>...</td>\n      <td>...</td>\n      <td>...</td>\n      <td>...</td>\n      <td>...</td>\n    </tr>\n    <tr>\n      <th>105291</th>\n      <td>Sydney</td>\n      <td>Wagga Wagga</td>\n      <td>All Airlines</td>\n      <td>7.0</td>\n      <td>122.0</td>\n      <td>118.0</td>\n      <td>47.0</td>\n      <td>51.0</td>\n      <td>2024-02</td>\n      <td>0.698225</td>\n      <td>0.721893</td>\n      <td>0.039773</td>\n      <td>0.267045</td>\n      <td>0.289773</td>\n    </tr>\n    <tr>\n      <th>105292</th>\n      <td>Townsville</td>\n      <td>Brisbane</td>\n      <td>All Airlines</td>\n      <td>9.0</td>\n      <td>213.0</td>\n      <td>204.0</td>\n      <td>78.0</td>\n      <td>87.0</td>\n      <td>2024-02</td>\n      <td>0.701031</td>\n      <td>0.731959</td>\n      <td>0.030000</td>\n      <td>0.260000</td>\n      <td>0.290000</td>\n    </tr>\n    <tr>\n      <th>105293</th>\n      <td>Townsville</td>\n      <td>Cairns</td>\n      <td>All Airlines</td>\n      <td>11.0</td>\n      <td>123.0</td>\n      <td>121.0</td>\n      <td>16.0</td>\n      <td>18.0</td>\n      <td>2024-02</td>\n      <td>0.870504</td>\n      <td>0.884892</td>\n      <td>0.073333</td>\n      <td>0.106667</td>\n      <td>0.120000</td>\n    </tr>\n    <tr>\n      <th>105294</th>\n      <td>Wagga Wagga</td>\n      <td>Sydney</td>\n      <td>All Airlines</td>\n      <td>7.0</td>\n      <td>130.0</td>\n      <td>127.0</td>\n      <td>37.0</td>\n      <td>40.0</td>\n      <td>2024-02</td>\n      <td>0.760479</td>\n      <td>0.778443</td>\n      <td>0.040230</td>\n      <td>0.212644</td>\n      <td>0.229885</td>\n    </tr>\n    <tr>\n      <th>105295</th>\n      <td>All Ports</td>\n      <td>All Ports</td>\n      <td>All Airlines</td>\n      <td>1750.0</td>\n      <td>31170.0</td>\n      <td>30535.0</td>\n      <td>10641.0</td>\n      <td>11276.0</td>\n      <td>2024-02</td>\n      <td>0.730310</td>\n      <td>0.745498</td>\n      <td>0.040174</td>\n      <td>0.244278</td>\n      <td>0.258855</td>\n    </tr>\n  </tbody>\n</table>\n<p>105296 rows × 14 columns</p>\n</div>"
     },
     "execution_count": 49,
     "metadata": {},
     "output_type": "execute_result"
    }
   ],
   "source": [
    "port_delays = port_delays.drop(columns = ['Month',\n",
    "       'Sectors_Scheduled', 'Sectors_Flown', 'Year', 'Month_Num', 'Route'])\n",
    "\n",
    "\n",
    "port_delays"
   ],
   "metadata": {
    "collapsed": false,
    "ExecuteTime": {
     "end_time": "2024-09-28T13:09:54.227667600Z",
     "start_time": "2024-09-28T13:09:54.042569300Z"
    }
   }
  },
  {
   "cell_type": "code",
   "execution_count": 50,
   "outputs": [
    {
     "data": {
      "text/plain": "Index(['Departing_Port', 'Arriving_Port', 'Airline', 'Cancellations',\n       'Departures_On_Time', 'Arrivals_On_Time', 'Departures_Delayed',\n       'Arrivals_Delayed', 'Date', 'Arrivals_On_Time_%',\n       'Departures_On_Time_%', 'Cancellations_%', 'Departure_Delays_%',\n       'Arrival_Delays_%'],\n      dtype='object')"
     },
     "execution_count": 50,
     "metadata": {},
     "output_type": "execute_result"
    }
   ],
   "source": [
    "port_delays.columns"
   ],
   "metadata": {
    "collapsed": false,
    "ExecuteTime": {
     "end_time": "2024-09-28T13:09:54.228629600Z",
     "start_time": "2024-09-28T13:09:54.104400100Z"
    }
   }
  },
  {
   "cell_type": "code",
   "execution_count": 51,
   "outputs": [],
   "source": [
    "port_delays_processed = port_delays.copy()"
   ],
   "metadata": {
    "collapsed": false,
    "ExecuteTime": {
     "end_time": "2024-09-28T13:09:54.250896400Z",
     "start_time": "2024-09-28T13:09:54.116371400Z"
    }
   }
  },
  {
   "cell_type": "code",
   "execution_count": 52,
   "outputs": [],
   "source": [
    "port_delays_processed = port_delays_processed [['Departing_Port', 'Arriving_Port', 'Airline', 'Date',\n",
    "       'Arrivals_On_Time_%', 'Departures_On_Time_%', 'Cancellations_%',\n",
    "       'Departure_Delays_%', 'Arrival_Delays_%']]"
   ],
   "metadata": {
    "collapsed": false,
    "ExecuteTime": {
     "end_time": "2024-09-28T13:09:54.362229700Z",
     "start_time": "2024-09-28T13:09:54.145848700Z"
    }
   }
  },
  {
   "cell_type": "code",
   "execution_count": 53,
   "outputs": [
    {
     "data": {
      "text/plain": "       Departing_Port Arriving_Port       Airline     Date  \\\n0            Adelaide      Brisbane  All Airlines  2004-01   \n1            Adelaide      Canberra  All Airlines  2004-01   \n2            Adelaide    Gold Coast  All Airlines  2004-01   \n3            Adelaide     Melbourne  All Airlines  2004-01   \n4            Adelaide         Perth  All Airlines  2004-01   \n...               ...           ...           ...      ...   \n105291         Sydney   Wagga Wagga  All Airlines  2024-02   \n105292     Townsville      Brisbane  All Airlines  2024-02   \n105293     Townsville        Cairns  All Airlines  2024-02   \n105294    Wagga Wagga        Sydney  All Airlines  2024-02   \n105295      All Ports     All Ports  All Airlines  2024-02   \n\n        Arrivals_On_Time_%  Departures_On_Time_%  Cancellations_%  \\\n0                 0.774194              0.793548         0.000000   \n1                 0.960000              0.960000         0.000000   \n2                 0.875000              0.900000         0.000000   \n3                 0.888686              0.872263         0.003636   \n4                 0.879581              0.884817         0.000000   \n...                    ...                   ...              ...   \n105291            0.698225              0.721893         0.039773   \n105292            0.701031              0.731959         0.030000   \n105293            0.870504              0.884892         0.073333   \n105294            0.760479              0.778443         0.040230   \n105295            0.730310              0.745498         0.040174   \n\n        Departure_Delays_%  Arrival_Delays_%  \n0                 0.206452          0.225806  \n1                 0.040000          0.040000  \n2                 0.100000          0.125000  \n3                 0.127273          0.110909  \n4                 0.115183          0.120419  \n...                    ...               ...  \n105291            0.267045          0.289773  \n105292            0.260000          0.290000  \n105293            0.106667          0.120000  \n105294            0.212644          0.229885  \n105295            0.244278          0.258855  \n\n[105296 rows x 9 columns]",
      "text/html": "<div>\n<style scoped>\n    .dataframe tbody tr th:only-of-type {\n        vertical-align: middle;\n    }\n\n    .dataframe tbody tr th {\n        vertical-align: top;\n    }\n\n    .dataframe thead th {\n        text-align: right;\n    }\n</style>\n<table border=\"1\" class=\"dataframe\">\n  <thead>\n    <tr style=\"text-align: right;\">\n      <th></th>\n      <th>Departing_Port</th>\n      <th>Arriving_Port</th>\n      <th>Airline</th>\n      <th>Date</th>\n      <th>Arrivals_On_Time_%</th>\n      <th>Departures_On_Time_%</th>\n      <th>Cancellations_%</th>\n      <th>Departure_Delays_%</th>\n      <th>Arrival_Delays_%</th>\n    </tr>\n  </thead>\n  <tbody>\n    <tr>\n      <th>0</th>\n      <td>Adelaide</td>\n      <td>Brisbane</td>\n      <td>All Airlines</td>\n      <td>2004-01</td>\n      <td>0.774194</td>\n      <td>0.793548</td>\n      <td>0.000000</td>\n      <td>0.206452</td>\n      <td>0.225806</td>\n    </tr>\n    <tr>\n      <th>1</th>\n      <td>Adelaide</td>\n      <td>Canberra</td>\n      <td>All Airlines</td>\n      <td>2004-01</td>\n      <td>0.960000</td>\n      <td>0.960000</td>\n      <td>0.000000</td>\n      <td>0.040000</td>\n      <td>0.040000</td>\n    </tr>\n    <tr>\n      <th>2</th>\n      <td>Adelaide</td>\n      <td>Gold Coast</td>\n      <td>All Airlines</td>\n      <td>2004-01</td>\n      <td>0.875000</td>\n      <td>0.900000</td>\n      <td>0.000000</td>\n      <td>0.100000</td>\n      <td>0.125000</td>\n    </tr>\n    <tr>\n      <th>3</th>\n      <td>Adelaide</td>\n      <td>Melbourne</td>\n      <td>All Airlines</td>\n      <td>2004-01</td>\n      <td>0.888686</td>\n      <td>0.872263</td>\n      <td>0.003636</td>\n      <td>0.127273</td>\n      <td>0.110909</td>\n    </tr>\n    <tr>\n      <th>4</th>\n      <td>Adelaide</td>\n      <td>Perth</td>\n      <td>All Airlines</td>\n      <td>2004-01</td>\n      <td>0.879581</td>\n      <td>0.884817</td>\n      <td>0.000000</td>\n      <td>0.115183</td>\n      <td>0.120419</td>\n    </tr>\n    <tr>\n      <th>...</th>\n      <td>...</td>\n      <td>...</td>\n      <td>...</td>\n      <td>...</td>\n      <td>...</td>\n      <td>...</td>\n      <td>...</td>\n      <td>...</td>\n      <td>...</td>\n    </tr>\n    <tr>\n      <th>105291</th>\n      <td>Sydney</td>\n      <td>Wagga Wagga</td>\n      <td>All Airlines</td>\n      <td>2024-02</td>\n      <td>0.698225</td>\n      <td>0.721893</td>\n      <td>0.039773</td>\n      <td>0.267045</td>\n      <td>0.289773</td>\n    </tr>\n    <tr>\n      <th>105292</th>\n      <td>Townsville</td>\n      <td>Brisbane</td>\n      <td>All Airlines</td>\n      <td>2024-02</td>\n      <td>0.701031</td>\n      <td>0.731959</td>\n      <td>0.030000</td>\n      <td>0.260000</td>\n      <td>0.290000</td>\n    </tr>\n    <tr>\n      <th>105293</th>\n      <td>Townsville</td>\n      <td>Cairns</td>\n      <td>All Airlines</td>\n      <td>2024-02</td>\n      <td>0.870504</td>\n      <td>0.884892</td>\n      <td>0.073333</td>\n      <td>0.106667</td>\n      <td>0.120000</td>\n    </tr>\n    <tr>\n      <th>105294</th>\n      <td>Wagga Wagga</td>\n      <td>Sydney</td>\n      <td>All Airlines</td>\n      <td>2024-02</td>\n      <td>0.760479</td>\n      <td>0.778443</td>\n      <td>0.040230</td>\n      <td>0.212644</td>\n      <td>0.229885</td>\n    </tr>\n    <tr>\n      <th>105295</th>\n      <td>All Ports</td>\n      <td>All Ports</td>\n      <td>All Airlines</td>\n      <td>2024-02</td>\n      <td>0.730310</td>\n      <td>0.745498</td>\n      <td>0.040174</td>\n      <td>0.244278</td>\n      <td>0.258855</td>\n    </tr>\n  </tbody>\n</table>\n<p>105296 rows × 9 columns</p>\n</div>"
     },
     "execution_count": 53,
     "metadata": {},
     "output_type": "execute_result"
    }
   ],
   "source": [
    "port_delays_processed"
   ],
   "metadata": {
    "collapsed": false,
    "ExecuteTime": {
     "end_time": "2024-09-28T13:09:54.409108100Z",
     "start_time": "2024-09-28T13:09:54.172775100Z"
    }
   }
  },
  {
   "cell_type": "code",
   "execution_count": 54,
   "outputs": [],
   "source": [
    "# Delete null values\n",
    "\n",
    "port_delays_processed = port_delays_processed.dropna()"
   ],
   "metadata": {
    "collapsed": false,
    "ExecuteTime": {
     "end_time": "2024-09-28T13:09:54.578683500Z",
     "start_time": "2024-09-28T13:09:54.218651600Z"
    }
   }
  },
  {
   "cell_type": "code",
   "execution_count": 55,
   "outputs": [
    {
     "name": "stderr",
     "output_type": "stream",
     "text": [
      "<ipython-input-55-ed66ce8ceec4>:1: SettingWithCopyWarning: \n",
      "A value is trying to be set on a copy of a slice from a DataFrame.\n",
      "Try using .loc[row_indexer,col_indexer] = value instead\n",
      "\n",
      "See the caveats in the documentation: https://pandas.pydata.org/pandas-docs/stable/user_guide/indexing.html#returning-a-view-versus-a-copy\n",
      "  port_delays_processed['Date'] = pd.to_datetime(port_delays_processed['Date'], format='%Y-%m')\n"
     ]
    }
   ],
   "source": [
    "port_delays_processed['Date'] = pd.to_datetime(port_delays_processed['Date'], format='%Y-%m')\n",
    "\n",
    "port_delays_processed = port_delays_processed.loc[port_delays_processed['Airline'] != 'All Airlines']\n",
    "port_delays_processed = port_delays_processed.loc[port_delays_processed['Departing_Port'] != 'All Ports']\n",
    "port_delays_processed = port_delays_processed.loc[port_delays_processed['Arriving_Port'] != 'All Ports']\n",
    "\n",
    "port_delays_processed = port_delays_processed[port_delays_processed['Date'].dt.year >= 2010]\n",
    "port_delays_processed = port_delays_processed.reset_index(drop=True)"
   ],
   "metadata": {
    "collapsed": false,
    "ExecuteTime": {
     "end_time": "2024-09-28T13:09:54.708205400Z",
     "start_time": "2024-09-28T13:09:54.268818700Z"
    }
   }
  },
  {
   "cell_type": "code",
   "execution_count": 56,
   "outputs": [
    {
     "data": {
      "text/plain": "      Departing_Port Arriving_Port                             Airline  \\\n0           Adelaide      Brisbane                             Jetstar   \n1           Adelaide    Gold Coast                             Jetstar   \n2           Adelaide     Melbourne                             Jetstar   \n3           Adelaide         Perth                             Jetstar   \n4           Adelaide        Sydney                             Jetstar   \n...              ...           ...                                 ...   \n59377          Perth    Kalgoorlie  Virgin Australia Regional Airlines   \n59378          Perth      Karratha  Virgin Australia Regional Airlines   \n59379          Perth        Newman  Virgin Australia Regional Airlines   \n59380          Perth  Port Hedland  Virgin Australia Regional Airlines   \n59381   Port Hedland         Perth  Virgin Australia Regional Airlines   \n\n            Date  Arrivals_On_Time_%  Departures_On_Time_%  Cancellations_%  \\\n0     2010-01-01            0.766667              0.733333         0.000000   \n1     2010-01-01            0.833333              0.833333         0.000000   \n2     2010-01-01            0.765957              0.744681         0.000000   \n3     2010-01-01            0.896552              0.862069         0.000000   \n4     2010-01-01            0.677966              0.881356         0.000000   \n...          ...                 ...                   ...              ...   \n59377 2024-02-01            0.777778              0.833333         0.052632   \n59378 2024-02-01            0.928571              0.857143         0.000000   \n59379 2024-02-01            0.846154              0.923077         0.000000   \n59380 2024-02-01            0.818182              0.818182         0.083333   \n59381 2024-02-01            0.454545              0.363636         0.153846   \n\n       Departure_Delays_%  Arrival_Delays_%  \n0                0.266667          0.233333  \n1                0.166667          0.166667  \n2                0.255319          0.234043  \n3                0.137931          0.103448  \n4                0.118644          0.322034  \n...                   ...               ...  \n59377            0.157895          0.210526  \n59378            0.142857          0.071429  \n59379            0.076923          0.153846  \n59380            0.166667          0.166667  \n59381            0.538462          0.461538  \n\n[59382 rows x 9 columns]",
      "text/html": "<div>\n<style scoped>\n    .dataframe tbody tr th:only-of-type {\n        vertical-align: middle;\n    }\n\n    .dataframe tbody tr th {\n        vertical-align: top;\n    }\n\n    .dataframe thead th {\n        text-align: right;\n    }\n</style>\n<table border=\"1\" class=\"dataframe\">\n  <thead>\n    <tr style=\"text-align: right;\">\n      <th></th>\n      <th>Departing_Port</th>\n      <th>Arriving_Port</th>\n      <th>Airline</th>\n      <th>Date</th>\n      <th>Arrivals_On_Time_%</th>\n      <th>Departures_On_Time_%</th>\n      <th>Cancellations_%</th>\n      <th>Departure_Delays_%</th>\n      <th>Arrival_Delays_%</th>\n    </tr>\n  </thead>\n  <tbody>\n    <tr>\n      <th>0</th>\n      <td>Adelaide</td>\n      <td>Brisbane</td>\n      <td>Jetstar</td>\n      <td>2010-01-01</td>\n      <td>0.766667</td>\n      <td>0.733333</td>\n      <td>0.000000</td>\n      <td>0.266667</td>\n      <td>0.233333</td>\n    </tr>\n    <tr>\n      <th>1</th>\n      <td>Adelaide</td>\n      <td>Gold Coast</td>\n      <td>Jetstar</td>\n      <td>2010-01-01</td>\n      <td>0.833333</td>\n      <td>0.833333</td>\n      <td>0.000000</td>\n      <td>0.166667</td>\n      <td>0.166667</td>\n    </tr>\n    <tr>\n      <th>2</th>\n      <td>Adelaide</td>\n      <td>Melbourne</td>\n      <td>Jetstar</td>\n      <td>2010-01-01</td>\n      <td>0.765957</td>\n      <td>0.744681</td>\n      <td>0.000000</td>\n      <td>0.255319</td>\n      <td>0.234043</td>\n    </tr>\n    <tr>\n      <th>3</th>\n      <td>Adelaide</td>\n      <td>Perth</td>\n      <td>Jetstar</td>\n      <td>2010-01-01</td>\n      <td>0.896552</td>\n      <td>0.862069</td>\n      <td>0.000000</td>\n      <td>0.137931</td>\n      <td>0.103448</td>\n    </tr>\n    <tr>\n      <th>4</th>\n      <td>Adelaide</td>\n      <td>Sydney</td>\n      <td>Jetstar</td>\n      <td>2010-01-01</td>\n      <td>0.677966</td>\n      <td>0.881356</td>\n      <td>0.000000</td>\n      <td>0.118644</td>\n      <td>0.322034</td>\n    </tr>\n    <tr>\n      <th>...</th>\n      <td>...</td>\n      <td>...</td>\n      <td>...</td>\n      <td>...</td>\n      <td>...</td>\n      <td>...</td>\n      <td>...</td>\n      <td>...</td>\n      <td>...</td>\n    </tr>\n    <tr>\n      <th>59377</th>\n      <td>Perth</td>\n      <td>Kalgoorlie</td>\n      <td>Virgin Australia Regional Airlines</td>\n      <td>2024-02-01</td>\n      <td>0.777778</td>\n      <td>0.833333</td>\n      <td>0.052632</td>\n      <td>0.157895</td>\n      <td>0.210526</td>\n    </tr>\n    <tr>\n      <th>59378</th>\n      <td>Perth</td>\n      <td>Karratha</td>\n      <td>Virgin Australia Regional Airlines</td>\n      <td>2024-02-01</td>\n      <td>0.928571</td>\n      <td>0.857143</td>\n      <td>0.000000</td>\n      <td>0.142857</td>\n      <td>0.071429</td>\n    </tr>\n    <tr>\n      <th>59379</th>\n      <td>Perth</td>\n      <td>Newman</td>\n      <td>Virgin Australia Regional Airlines</td>\n      <td>2024-02-01</td>\n      <td>0.846154</td>\n      <td>0.923077</td>\n      <td>0.000000</td>\n      <td>0.076923</td>\n      <td>0.153846</td>\n    </tr>\n    <tr>\n      <th>59380</th>\n      <td>Perth</td>\n      <td>Port Hedland</td>\n      <td>Virgin Australia Regional Airlines</td>\n      <td>2024-02-01</td>\n      <td>0.818182</td>\n      <td>0.818182</td>\n      <td>0.083333</td>\n      <td>0.166667</td>\n      <td>0.166667</td>\n    </tr>\n    <tr>\n      <th>59381</th>\n      <td>Port Hedland</td>\n      <td>Perth</td>\n      <td>Virgin Australia Regional Airlines</td>\n      <td>2024-02-01</td>\n      <td>0.454545</td>\n      <td>0.363636</td>\n      <td>0.153846</td>\n      <td>0.538462</td>\n      <td>0.461538</td>\n    </tr>\n  </tbody>\n</table>\n<p>59382 rows × 9 columns</p>\n</div>"
     },
     "execution_count": 56,
     "metadata": {},
     "output_type": "execute_result"
    }
   ],
   "source": [
    "port_delays_processed"
   ],
   "metadata": {
    "collapsed": false,
    "ExecuteTime": {
     "end_time": "2024-09-28T13:09:54.770888200Z",
     "start_time": "2024-09-28T13:09:54.376158900Z"
    }
   }
  },
  {
   "cell_type": "code",
   "execution_count": 57,
   "outputs": [],
   "source": [
    "# Convert Categorical variables into Numerical\n",
    "\n",
    "port_delays_processed['Departing_Port'] = port_delays_processed['Departing_Port'].astype('category')\n",
    "port_delays_processed['Arriving_Port'] = port_delays_processed['Arriving_Port'].astype('category')\n",
    "port_delays_processed['Airline'] = port_delays_processed['Airline'].astype('category')"
   ],
   "metadata": {
    "collapsed": false,
    "ExecuteTime": {
     "end_time": "2024-09-28T13:09:54.770888200Z",
     "start_time": "2024-09-28T13:09:54.399095200Z"
    }
   }
  },
  {
   "cell_type": "code",
   "execution_count": 58,
   "outputs": [
    {
     "data": {
      "text/plain": "0    Adelaide\n1    Adelaide\n2    Adelaide\n3    Adelaide\n4    Adelaide\nName: Departing_Port, dtype: category\nCategories (42, object): ['Adelaide', 'Albury', 'Alice Springs', 'Armidale', ..., 'Sydney', 'Tamworth', 'Townsville', 'Wagga Wagga']"
     },
     "execution_count": 58,
     "metadata": {},
     "output_type": "execute_result"
    }
   ],
   "source": [
    "port_delays_processed['Departing_Port'].head()"
   ],
   "metadata": {
    "collapsed": false,
    "ExecuteTime": {
     "end_time": "2024-09-28T13:09:54.835262400Z",
     "start_time": "2024-09-28T13:09:54.450505800Z"
    }
   }
  },
  {
   "cell_type": "code",
   "execution_count": 59,
   "outputs": [],
   "source": [
    "# Data Encoding - Convert categorical variables to integer values\n",
    "\n",
    "\n",
    "# port_delays_processed['Departing_Port'].cat.codes"
   ],
   "metadata": {
    "collapsed": false,
    "ExecuteTime": {
     "end_time": "2024-09-28T13:09:54.867724300Z",
     "start_time": "2024-09-28T13:09:54.462475400Z"
    }
   }
  },
  {
   "cell_type": "code",
   "execution_count": 60,
   "outputs": [],
   "source": [
    "# port_delays_categorical = port_delays_processed.copy()"
   ],
   "metadata": {
    "collapsed": false,
    "ExecuteTime": {
     "end_time": "2024-09-28T13:09:54.927532200Z",
     "start_time": "2024-09-28T13:09:54.481423300Z"
    }
   }
  },
  {
   "cell_type": "code",
   "execution_count": 61,
   "outputs": [],
   "source": [
    "# Source: https://stackoverflow.com/a/32011969\n",
    "\n",
    "# cat_columns = port_delays_categorical.select_dtypes(['category']).columns\n",
    "# port_delays_categorical[cat_columns] = port_delays_categorical[cat_columns].apply(lambda x: x.cat.codes)"
   ],
   "metadata": {
    "collapsed": false,
    "ExecuteTime": {
     "end_time": "2024-09-28T13:09:54.950995100Z",
     "start_time": "2024-09-28T13:09:54.496383700Z"
    }
   }
  },
  {
   "cell_type": "code",
   "execution_count": 62,
   "outputs": [],
   "source": [
    "# port_delays_categorical\n",
    "\n"
   ],
   "metadata": {
    "collapsed": false,
    "ExecuteTime": {
     "end_time": "2024-09-28T13:09:55.006841200Z",
     "start_time": "2024-09-28T13:09:54.508351Z"
    }
   }
  },
  {
   "cell_type": "markdown",
   "source": [
    "# Data Analysis"
   ],
   "metadata": {
    "collapsed": false
   }
  },
  {
   "cell_type": "code",
   "execution_count": 63,
   "outputs": [],
   "source": [
    "# Univariate Analysis\n",
    "\n",
    "import seaborn as sns\n",
    "\n",
    "# sns.displot(port_delays_categorical['Airline'])"
   ],
   "metadata": {
    "collapsed": false,
    "ExecuteTime": {
     "end_time": "2024-09-28T13:09:55.007839700Z",
     "start_time": "2024-09-28T13:09:54.525312700Z"
    }
   }
  },
  {
   "cell_type": "code",
   "execution_count": 64,
   "outputs": [
    {
     "data": {
      "text/plain": "<seaborn.axisgrid.FacetGrid at 0x239ca3d35e0>"
     },
     "execution_count": 64,
     "metadata": {},
     "output_type": "execute_result"
    },
    {
     "data": {
      "text/plain": "<Figure size 360x360 with 1 Axes>",
      "image/png": "[encoded data removed]"
     },
     "metadata": {},
     "output_type": "display_data"
    }
   ],
   "source": [
    "sns.displot(port_delays_processed['Arrivals_On_Time_%'])"
   ],
   "metadata": {
    "collapsed": false,
    "ExecuteTime": {
     "end_time": "2024-09-28T13:09:55.748253800Z",
     "start_time": "2024-09-28T13:09:54.578683500Z"
    }
   }
  },
  {
   "cell_type": "code",
   "execution_count": 65,
   "outputs": [
    {
     "data": {
      "text/plain": "<seaborn.axisgrid.FacetGrid at 0x239c65113d0>"
     },
     "execution_count": 65,
     "metadata": {},
     "output_type": "execute_result"
    },
    {
     "data": {
      "text/plain": "<Figure size 360x360 with 1 Axes>",
      "image/png": "[encoded data removed]"
     },
     "metadata": {},
     "output_type": "display_data"
    }
   ],
   "source": [
    "sns.displot(port_delays_processed['Departures_On_Time_%'])"
   ],
   "metadata": {
    "collapsed": false,
    "ExecuteTime": {
     "end_time": "2024-09-28T13:09:56.645094100Z",
     "start_time": "2024-09-28T13:09:55.557653800Z"
    }
   }
  },
  {
   "cell_type": "code",
   "execution_count": 66,
   "outputs": [],
   "source": [
    "# sns.pairplot(port_delays_processed)"
   ],
   "metadata": {
    "collapsed": false,
    "ExecuteTime": {
     "end_time": "2024-09-28T13:09:56.754364500Z",
     "start_time": "2024-09-28T13:09:56.650078900Z"
    }
   }
  },
  {
   "cell_type": "code",
   "execution_count": 67,
   "outputs": [],
   "source": [
    "import seaborn as sns\n",
    "from matplotlib import pyplot as plt\n",
    "\n",
    "# Got this part of code from a friend ^^\n",
    "\n",
    "def plot_variable_correlation(data):\n",
    "    corr = abs(data.corr()) # correlation matrix\n",
    "    lower_triangle = np.tril(corr, k = -1)  # select only the lower triangle of the correlation matrix\n",
    "    mask = lower_triangle == 0  # to mask the upper triangle in the following heatmap\n",
    "\n",
    "    plt.figure(figsize = (12,10))\n",
    "    sns.heatmap(lower_triangle, center = 0.5, cmap = 'coolwarm', annot= False, xticklabels = corr.index, yticklabels = corr.columns,\n",
    "                cbar= True, linewidths= 1, mask = mask)   # Da Heatmap\n",
    "    plt.show()\n",
    "\n",
    "# plot_variable_correlation(port_delays_processed)"
   ],
   "metadata": {
    "collapsed": false,
    "ExecuteTime": {
     "end_time": "2024-09-28T13:09:56.754364500Z",
     "start_time": "2024-09-28T13:09:56.670068Z"
    }
   }
  },
  {
   "cell_type": "markdown",
   "source": [],
   "metadata": {
    "collapsed": false
   }
  },
  {
   "cell_type": "code",
   "execution_count": 68,
   "outputs": [],
   "source": [
    "port_delays_processed[\"Total_Delays%\"] = (port_delays_processed[\"Departure_Delays_%\"] + port_delays_processed[\"Arrival_Delays_%\"]) * 0.5"
   ],
   "metadata": {
    "collapsed": false,
    "ExecuteTime": {
     "end_time": "2024-09-28T13:09:56.754364500Z",
     "start_time": "2024-09-28T13:09:56.680042Z"
    }
   }
  },
  {
   "cell_type": "code",
   "execution_count": 69,
   "outputs": [
    {
     "data": {
      "text/plain": "      Departing_Port Arriving_Port                             Airline  \\\n0           Adelaide      Brisbane                             Jetstar   \n1           Adelaide    Gold Coast                             Jetstar   \n2           Adelaide     Melbourne                             Jetstar   \n3           Adelaide         Perth                             Jetstar   \n4           Adelaide        Sydney                             Jetstar   \n...              ...           ...                                 ...   \n59377          Perth    Kalgoorlie  Virgin Australia Regional Airlines   \n59378          Perth      Karratha  Virgin Australia Regional Airlines   \n59379          Perth        Newman  Virgin Australia Regional Airlines   \n59380          Perth  Port Hedland  Virgin Australia Regional Airlines   \n59381   Port Hedland         Perth  Virgin Australia Regional Airlines   \n\n            Date  Arrivals_On_Time_%  Departures_On_Time_%  Cancellations_%  \\\n0     2010-01-01            0.766667              0.733333         0.000000   \n1     2010-01-01            0.833333              0.833333         0.000000   \n2     2010-01-01            0.765957              0.744681         0.000000   \n3     2010-01-01            0.896552              0.862069         0.000000   \n4     2010-01-01            0.677966              0.881356         0.000000   \n...          ...                 ...                   ...              ...   \n59377 2024-02-01            0.777778              0.833333         0.052632   \n59378 2024-02-01            0.928571              0.857143         0.000000   \n59379 2024-02-01            0.846154              0.923077         0.000000   \n59380 2024-02-01            0.818182              0.818182         0.083333   \n59381 2024-02-01            0.454545              0.363636         0.153846   \n\n       Departure_Delays_%  Arrival_Delays_%  Total_Delays%  \n0                0.266667          0.233333       0.250000  \n1                0.166667          0.166667       0.166667  \n2                0.255319          0.234043       0.244681  \n3                0.137931          0.103448       0.120690  \n4                0.118644          0.322034       0.220339  \n...                   ...               ...            ...  \n59377            0.157895          0.210526       0.184211  \n59378            0.142857          0.071429       0.107143  \n59379            0.076923          0.153846       0.115385  \n59380            0.166667          0.166667       0.166667  \n59381            0.538462          0.461538       0.500000  \n\n[59382 rows x 10 columns]",
      "text/html": "<div>\n<style scoped>\n    .dataframe tbody tr th:only-of-type {\n        vertical-align: middle;\n    }\n\n    .dataframe tbody tr th {\n        vertical-align: top;\n    }\n\n    .dataframe thead th {\n        text-align: right;\n    }\n</style>\n<table border=\"1\" class=\"dataframe\">\n  <thead>\n    <tr style=\"text-align: right;\">\n      <th></th>\n      <th>Departing_Port</th>\n      <th>Arriving_Port</th>\n      <th>Airline</th>\n      <th>Date</th>\n      <th>Arrivals_On_Time_%</th>\n      <th>Departures_On_Time_%</th>\n      <th>Cancellations_%</th>\n      <th>Departure_Delays_%</th>\n      <th>Arrival_Delays_%</th>\n      <th>Total_Delays%</th>\n    </tr>\n  </thead>\n  <tbody>\n    <tr>\n      <th>0</th>\n      <td>Adelaide</td>\n      <td>Brisbane</td>\n      <td>Jetstar</td>\n      <td>2010-01-01</td>\n      <td>0.766667</td>\n      <td>0.733333</td>\n      <td>0.000000</td>\n      <td>0.266667</td>\n      <td>0.233333</td>\n      <td>0.250000</td>\n    </tr>\n    <tr>\n      <th>1</th>\n      <td>Adelaide</td>\n      <td>Gold Coast</td>\n      <td>Jetstar</td>\n      <td>2010-01-01</td>\n      <td>0.833333</td>\n      <td>0.833333</td>\n      <td>0.000000</td>\n      <td>0.166667</td>\n      <td>0.166667</td>\n      <td>0.166667</td>\n    </tr>\n    <tr>\n      <th>2</th>\n      <td>Adelaide</td>\n      <td>Melbourne</td>\n      <td>Jetstar</td>\n      <td>2010-01-01</td>\n      <td>0.765957</td>\n      <td>0.744681</td>\n      <td>0.000000</td>\n      <td>0.255319</td>\n      <td>0.234043</td>\n      <td>0.244681</td>\n    </tr>\n    <tr>\n      <th>3</th>\n      <td>Adelaide</td>\n      <td>Perth</td>\n      <td>Jetstar</td>\n      <td>2010-01-01</td>\n      <td>0.896552</td>\n      <td>0.862069</td>\n      <td>0.000000</td>\n      <td>0.137931</td>\n      <td>0.103448</td>\n      <td>0.120690</td>\n    </tr>\n    <tr>\n      <th>4</th>\n      <td>Adelaide</td>\n      <td>Sydney</td>\n      <td>Jetstar</td>\n      <td>2010-01-01</td>\n      <td>0.677966</td>\n      <td>0.881356</td>\n      <td>0.000000</td>\n      <td>0.118644</td>\n      <td>0.322034</td>\n      <td>0.220339</td>\n    </tr>\n    <tr>\n      <th>...</th>\n      <td>...</td>\n      <td>...</td>\n      <td>...</td>\n      <td>...</td>\n      <td>...</td>\n      <td>...</td>\n      <td>...</td>\n      <td>...</td>\n      <td>...</td>\n      <td>...</td>\n    </tr>\n    <tr>\n      <th>59377</th>\n      <td>Perth</td>\n      <td>Kalgoorlie</td>\n      <td>Virgin Australia Regional Airlines</td>\n      <td>2024-02-01</td>\n      <td>0.777778</td>\n      <td>0.833333</td>\n      <td>0.052632</td>\n      <td>0.157895</td>\n      <td>0.210526</td>\n      <td>0.184211</td>\n    </tr>\n    <tr>\n      <th>59378</th>\n      <td>Perth</td>\n      <td>Karratha</td>\n      <td>Virgin Australia Regional Airlines</td>\n      <td>2024-02-01</td>\n      <td>0.928571</td>\n      <td>0.857143</td>\n      <td>0.000000</td>\n      <td>0.142857</td>\n      <td>0.071429</td>\n      <td>0.107143</td>\n    </tr>\n    <tr>\n      <th>59379</th>\n      <td>Perth</td>\n      <td>Newman</td>\n      <td>Virgin Australia Regional Airlines</td>\n      <td>2024-02-01</td>\n      <td>0.846154</td>\n      <td>0.923077</td>\n      <td>0.000000</td>\n      <td>0.076923</td>\n      <td>0.153846</td>\n      <td>0.115385</td>\n    </tr>\n    <tr>\n      <th>59380</th>\n      <td>Perth</td>\n      <td>Port Hedland</td>\n      <td>Virgin Australia Regional Airlines</td>\n      <td>2024-02-01</td>\n      <td>0.818182</td>\n      <td>0.818182</td>\n      <td>0.083333</td>\n      <td>0.166667</td>\n      <td>0.166667</td>\n      <td>0.166667</td>\n    </tr>\n    <tr>\n      <th>59381</th>\n      <td>Port Hedland</td>\n      <td>Perth</td>\n      <td>Virgin Australia Regional Airlines</td>\n      <td>2024-02-01</td>\n      <td>0.454545</td>\n      <td>0.363636</td>\n      <td>0.153846</td>\n      <td>0.538462</td>\n      <td>0.461538</td>\n      <td>0.500000</td>\n    </tr>\n  </tbody>\n</table>\n<p>59382 rows × 10 columns</p>\n</div>"
     },
     "execution_count": 69,
     "metadata": {},
     "output_type": "execute_result"
    }
   ],
   "source": [
    "port_delays_processed"
   ],
   "metadata": {
    "collapsed": false,
    "ExecuteTime": {
     "end_time": "2024-09-28T13:09:56.755362Z",
     "start_time": "2024-09-28T13:09:56.712953800Z"
    }
   }
  },
  {
   "cell_type": "code",
   "execution_count": 71,
   "outputs": [],
   "source": [
    "port_delays_processed = port_delays_processed[[\"Departing_Port\", \"Arriving_Port\", \"Airline\", \"Date\", \"Departure_Delays_%\", \"Arrival_Delays_%\", \"Cancellations_%\"]]"
   ],
   "metadata": {
    "collapsed": false,
    "ExecuteTime": {
     "end_time": "2024-09-28T13:10:08.682904100Z",
     "start_time": "2024-09-28T13:10:08.659366700Z"
    }
   }
  },
  {
   "cell_type": "code",
   "execution_count": 72,
   "outputs": [
    {
     "data": {
      "text/plain": "      Departing_Port Arriving_Port                             Airline  \\\n0           Adelaide      Brisbane                             Jetstar   \n1           Adelaide    Gold Coast                             Jetstar   \n2           Adelaide     Melbourne                             Jetstar   \n3           Adelaide         Perth                             Jetstar   \n4           Adelaide        Sydney                             Jetstar   \n...              ...           ...                                 ...   \n59377          Perth    Kalgoorlie  Virgin Australia Regional Airlines   \n59378          Perth      Karratha  Virgin Australia Regional Airlines   \n59379          Perth        Newman  Virgin Australia Regional Airlines   \n59380          Perth  Port Hedland  Virgin Australia Regional Airlines   \n59381   Port Hedland         Perth  Virgin Australia Regional Airlines   \n\n            Date  Departure_Delays_%  Arrival_Delays_%  Cancellations_%  \n0     2010-01-01            0.266667          0.233333         0.000000  \n1     2010-01-01            0.166667          0.166667         0.000000  \n2     2010-01-01            0.255319          0.234043         0.000000  \n3     2010-01-01            0.137931          0.103448         0.000000  \n4     2010-01-01            0.118644          0.322034         0.000000  \n...          ...                 ...               ...              ...  \n59377 2024-02-01            0.157895          0.210526         0.052632  \n59378 2024-02-01            0.142857          0.071429         0.000000  \n59379 2024-02-01            0.076923          0.153846         0.000000  \n59380 2024-02-01            0.166667          0.166667         0.083333  \n59381 2024-02-01            0.538462          0.461538         0.153846  \n\n[59382 rows x 7 columns]",
      "text/html": "<div>\n<style scoped>\n    .dataframe tbody tr th:only-of-type {\n        vertical-align: middle;\n    }\n\n    .dataframe tbody tr th {\n        vertical-align: top;\n    }\n\n    .dataframe thead th {\n        text-align: right;\n    }\n</style>\n<table border=\"1\" class=\"dataframe\">\n  <thead>\n    <tr style=\"text-align: right;\">\n      <th></th>\n      <th>Departing_Port</th>\n      <th>Arriving_Port</th>\n      <th>Airline</th>\n      <th>Date</th>\n      <th>Departure_Delays_%</th>\n      <th>Arrival_Delays_%</th>\n      <th>Cancellations_%</th>\n    </tr>\n  </thead>\n  <tbody>\n    <tr>\n      <th>0</th>\n      <td>Adelaide</td>\n      <td>Brisbane</td>\n      <td>Jetstar</td>\n      <td>2010-01-01</td>\n      <td>0.266667</td>\n      <td>0.233333</td>\n      <td>0.000000</td>\n    </tr>\n    <tr>\n      <th>1</th>\n      <td>Adelaide</td>\n      <td>Gold Coast</td>\n      <td>Jetstar</td>\n      <td>2010-01-01</td>\n      <td>0.166667</td>\n      <td>0.166667</td>\n      <td>0.000000</td>\n    </tr>\n    <tr>\n      <th>2</th>\n      <td>Adelaide</td>\n      <td>Melbourne</td>\n      <td>Jetstar</td>\n      <td>2010-01-01</td>\n      <td>0.255319</td>\n      <td>0.234043</td>\n      <td>0.000000</td>\n    </tr>\n    <tr>\n      <th>3</th>\n      <td>Adelaide</td>\n      <td>Perth</td>\n      <td>Jetstar</td>\n      <td>2010-01-01</td>\n      <td>0.137931</td>\n      <td>0.103448</td>\n      <td>0.000000</td>\n    </tr>\n    <tr>\n      <th>4</th>\n      <td>Adelaide</td>\n      <td>Sydney</td>\n      <td>Jetstar</td>\n      <td>2010-01-01</td>\n      <td>0.118644</td>\n      <td>0.322034</td>\n      <td>0.000000</td>\n    </tr>\n    <tr>\n      <th>...</th>\n      <td>...</td>\n      <td>...</td>\n      <td>...</td>\n      <td>...</td>\n      <td>...</td>\n      <td>...</td>\n      <td>...</td>\n    </tr>\n    <tr>\n      <th>59377</th>\n      <td>Perth</td>\n      <td>Kalgoorlie</td>\n      <td>Virgin Australia Regional Airlines</td>\n      <td>2024-02-01</td>\n      <td>0.157895</td>\n      <td>0.210526</td>\n      <td>0.052632</td>\n    </tr>\n    <tr>\n      <th>59378</th>\n      <td>Perth</td>\n      <td>Karratha</td>\n      <td>Virgin Australia Regional Airlines</td>\n      <td>2024-02-01</td>\n      <td>0.142857</td>\n      <td>0.071429</td>\n      <td>0.000000</td>\n    </tr>\n    <tr>\n      <th>59379</th>\n      <td>Perth</td>\n      <td>Newman</td>\n      <td>Virgin Australia Regional Airlines</td>\n      <td>2024-02-01</td>\n      <td>0.076923</td>\n      <td>0.153846</td>\n      <td>0.000000</td>\n    </tr>\n    <tr>\n      <th>59380</th>\n      <td>Perth</td>\n      <td>Port Hedland</td>\n      <td>Virgin Australia Regional Airlines</td>\n      <td>2024-02-01</td>\n      <td>0.166667</td>\n      <td>0.166667</td>\n      <td>0.083333</td>\n    </tr>\n    <tr>\n      <th>59381</th>\n      <td>Port Hedland</td>\n      <td>Perth</td>\n      <td>Virgin Australia Regional Airlines</td>\n      <td>2024-02-01</td>\n      <td>0.538462</td>\n      <td>0.461538</td>\n      <td>0.153846</td>\n    </tr>\n  </tbody>\n</table>\n<p>59382 rows × 7 columns</p>\n</div>"
     },
     "execution_count": 72,
     "metadata": {},
     "output_type": "execute_result"
    }
   ],
   "source": [
    "port_delays_processed"
   ],
   "metadata": {
    "collapsed": false,
    "ExecuteTime": {
     "end_time": "2024-09-28T13:10:10.088686300Z",
     "start_time": "2024-09-28T13:10:10.048509600Z"
    }
   }
  },
  {
   "cell_type": "code",
   "execution_count": 74,
   "outputs": [],
   "source": [
    "port_delays_processed.to_csv(\"delays.csv\", index=False)"
   ],
   "metadata": {
    "collapsed": false,
    "ExecuteTime": {
     "end_time": "2024-09-28T13:13:00.108142900Z",
     "start_time": "2024-09-28T13:12:58.846024900Z"
    }
   }
  },
  {
   "cell_type": "code",
   "execution_count": null,
   "outputs": [],
   "source": [
    "# Got this partzz from Internet\n",
    "\n",
    "def delay_percentage_to_category(x, num_cats=4):\n",
    "    return max(min(round(x * num_cats), num_cats), 0) + 1\n",
    "\n",
    "#port_delays_categorical[\"Total_Delays%\"].map(lambda x: )"
   ],
   "metadata": {
    "collapsed": false
   }
  },
  {
   "cell_type": "code",
   "execution_count": null,
   "outputs": [],
   "source": [
    "port_delays_processed[\"Total_Delays%\"].describe()"
   ],
   "metadata": {
    "collapsed": false
   }
  },
  {
   "cell_type": "code",
   "execution_count": null,
   "outputs": [],
   "source": [
    "#port_delays_processed[\"Total_Delays%\"] = port_delays_processed[\"Total_Delays%\"].map(delay_percentage_to_category)\n",
    "\n",
    "# Convert Total Delay feature from float32 data type (floating point number) to categorical data type\n",
    "#port_delays_processed[\"Total_Delays%\"] = port_delays_processed[\"Total_Delays%\"].astype(\"category\")\n",
    "#port_delays_processed"
   ],
   "metadata": {
    "collapsed": false
   }
  }
 ],
 "metadata": {
  "kernelspec": {
   "display_name": "Python 3",
   "language": "python",
   "name": "python3"
  },
  "language_info": {
   "codemirror_mode": {
    "name": "ipython",
    "version": 2
   },
   "file_extension": ".py",
   "mimetype": "text/x-python",
   "name": "python",
   "nbconvert_exporter": "python",
   "pygments_lexer": "ipython2",
   "version": "2.7.6"
  }
 },
 "nbformat": 4,
 "nbformat_minor": 0
}
