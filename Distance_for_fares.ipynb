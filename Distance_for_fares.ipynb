{
 "cells": [
  {
   "cell_type": "code",
   "execution_count": 1,
   "metadata": {
    "collapsed": true,
    "ExecuteTime": {
     "end_time": "2024-09-26T13:37:47.073635500Z",
     "start_time": "2024-09-26T13:37:46.911140400Z"
    }
   },
   "outputs": [],
   "source": [
    "import pandas as pd\n",
    "import numpy as np\n",
    "import itertools"
   ]
  },
  {
   "cell_type": "code",
   "execution_count": 2,
   "outputs": [],
   "source": [
    "AIRPORT_DISTANCE = r\"C:\\Users\\ASUS\\OneDrive\\Semester 3\\Innovation Project\\Assign_02\\Airport_Distance.csv\""
   ],
   "metadata": {
    "collapsed": false,
    "ExecuteTime": {
     "end_time": "2024-09-26T13:37:47.074632700Z",
     "start_time": "2024-09-26T13:37:46.927014700Z"
    }
   }
  },
  {
   "cell_type": "code",
   "execution_count": 3,
   "outputs": [],
   "source": [
    "airport_distance = pd.read_csv(AIRPORT_DISTANCE)"
   ],
   "metadata": {
    "collapsed": false,
    "ExecuteTime": {
     "end_time": "2024-09-26T13:37:47.074632700Z",
     "start_time": "2024-09-26T13:37:46.943967100Z"
    }
   }
  },
  {
   "cell_type": "code",
   "execution_count": 4,
   "outputs": [
    {
     "data": {
      "text/plain": "      Departing_Port  Arriving_Port  Distance_GC_(km)  Year  Month_Num\n0           ADELAIDE  ALICE SPRINGS              1316  2008          1\n1           ADELAIDE       BRISBANE              1622  2008          1\n2           ADELAIDE       CANBERRA               972  2008          1\n3           ADELAIDE     GOLD COAST              1607  2008          1\n4           ADELAIDE      MELBOURNE               643  2008          1\n...              ...            ...               ...   ...        ...\n13126         SYDNEY    WAGGA WAGGA               367  2023          9\n13127         SYDNEY    WAGGA WAGGA               367  2023         10\n13128         SYDNEY    WAGGA WAGGA               367  2023         11\n13129         SYDNEY    WAGGA WAGGA               367  2023         12\n13130         SYDNEY    WAGGA WAGGA               367  2024          1\n\n[13131 rows x 5 columns]",
      "text/html": "<div>\n<style scoped>\n    .dataframe tbody tr th:only-of-type {\n        vertical-align: middle;\n    }\n\n    .dataframe tbody tr th {\n        vertical-align: top;\n    }\n\n    .dataframe thead th {\n        text-align: right;\n    }\n</style>\n<table border=\"1\" class=\"dataframe\">\n  <thead>\n    <tr style=\"text-align: right;\">\n      <th></th>\n      <th>Departing_Port</th>\n      <th>Arriving_Port</th>\n      <th>Distance_GC_(km)</th>\n      <th>Year</th>\n      <th>Month_Num</th>\n    </tr>\n  </thead>\n  <tbody>\n    <tr>\n      <th>0</th>\n      <td>ADELAIDE</td>\n      <td>ALICE SPRINGS</td>\n      <td>1316</td>\n      <td>2008</td>\n      <td>1</td>\n    </tr>\n    <tr>\n      <th>1</th>\n      <td>ADELAIDE</td>\n      <td>BRISBANE</td>\n      <td>1622</td>\n      <td>2008</td>\n      <td>1</td>\n    </tr>\n    <tr>\n      <th>2</th>\n      <td>ADELAIDE</td>\n      <td>CANBERRA</td>\n      <td>972</td>\n      <td>2008</td>\n      <td>1</td>\n    </tr>\n    <tr>\n      <th>3</th>\n      <td>ADELAIDE</td>\n      <td>GOLD COAST</td>\n      <td>1607</td>\n      <td>2008</td>\n      <td>1</td>\n    </tr>\n    <tr>\n      <th>4</th>\n      <td>ADELAIDE</td>\n      <td>MELBOURNE</td>\n      <td>643</td>\n      <td>2008</td>\n      <td>1</td>\n    </tr>\n    <tr>\n      <th>...</th>\n      <td>...</td>\n      <td>...</td>\n      <td>...</td>\n      <td>...</td>\n      <td>...</td>\n    </tr>\n    <tr>\n      <th>13126</th>\n      <td>SYDNEY</td>\n      <td>WAGGA WAGGA</td>\n      <td>367</td>\n      <td>2023</td>\n      <td>9</td>\n    </tr>\n    <tr>\n      <th>13127</th>\n      <td>SYDNEY</td>\n      <td>WAGGA WAGGA</td>\n      <td>367</td>\n      <td>2023</td>\n      <td>10</td>\n    </tr>\n    <tr>\n      <th>13128</th>\n      <td>SYDNEY</td>\n      <td>WAGGA WAGGA</td>\n      <td>367</td>\n      <td>2023</td>\n      <td>11</td>\n    </tr>\n    <tr>\n      <th>13129</th>\n      <td>SYDNEY</td>\n      <td>WAGGA WAGGA</td>\n      <td>367</td>\n      <td>2023</td>\n      <td>12</td>\n    </tr>\n    <tr>\n      <th>13130</th>\n      <td>SYDNEY</td>\n      <td>WAGGA WAGGA</td>\n      <td>367</td>\n      <td>2024</td>\n      <td>1</td>\n    </tr>\n  </tbody>\n</table>\n<p>13131 rows × 5 columns</p>\n</div>"
     },
     "execution_count": 4,
     "metadata": {},
     "output_type": "execute_result"
    }
   ],
   "source": [
    "airport_distance"
   ],
   "metadata": {
    "collapsed": false,
    "ExecuteTime": {
     "end_time": "2024-09-26T13:37:47.074632700Z",
     "start_time": "2024-09-26T13:37:46.981867700Z"
    }
   }
  },
  {
   "cell_type": "code",
   "execution_count": 5,
   "outputs": [
    {
     "data": {
      "text/plain": "      Departing_Port  Arriving_Port  Distance_GC_(km)  Year  Month_Num\n0           ADELAIDE  ALICE SPRINGS              1316  2008          1\n1           ADELAIDE       BRISBANE              1622  2008          1\n2           ADELAIDE       CANBERRA               972  2008          1\n3           ADELAIDE     GOLD COAST              1607  2008          1\n4           ADELAIDE      MELBOURNE               643  2008          1\n...              ...            ...               ...   ...        ...\n13126         SYDNEY    WAGGA WAGGA               367  2023          9\n13127         SYDNEY    WAGGA WAGGA               367  2023         10\n13128         SYDNEY    WAGGA WAGGA               367  2023         11\n13129         SYDNEY    WAGGA WAGGA               367  2023         12\n13130         SYDNEY    WAGGA WAGGA               367  2024          1\n\n[13131 rows x 5 columns]",
      "text/html": "<div>\n<style scoped>\n    .dataframe tbody tr th:only-of-type {\n        vertical-align: middle;\n    }\n\n    .dataframe tbody tr th {\n        vertical-align: top;\n    }\n\n    .dataframe thead th {\n        text-align: right;\n    }\n</style>\n<table border=\"1\" class=\"dataframe\">\n  <thead>\n    <tr style=\"text-align: right;\">\n      <th></th>\n      <th>Departing_Port</th>\n      <th>Arriving_Port</th>\n      <th>Distance_GC_(km)</th>\n      <th>Year</th>\n      <th>Month_Num</th>\n    </tr>\n  </thead>\n  <tbody>\n    <tr>\n      <th>0</th>\n      <td>ADELAIDE</td>\n      <td>ALICE SPRINGS</td>\n      <td>1316</td>\n      <td>2008</td>\n      <td>1</td>\n    </tr>\n    <tr>\n      <th>1</th>\n      <td>ADELAIDE</td>\n      <td>BRISBANE</td>\n      <td>1622</td>\n      <td>2008</td>\n      <td>1</td>\n    </tr>\n    <tr>\n      <th>2</th>\n      <td>ADELAIDE</td>\n      <td>CANBERRA</td>\n      <td>972</td>\n      <td>2008</td>\n      <td>1</td>\n    </tr>\n    <tr>\n      <th>3</th>\n      <td>ADELAIDE</td>\n      <td>GOLD COAST</td>\n      <td>1607</td>\n      <td>2008</td>\n      <td>1</td>\n    </tr>\n    <tr>\n      <th>4</th>\n      <td>ADELAIDE</td>\n      <td>MELBOURNE</td>\n      <td>643</td>\n      <td>2008</td>\n      <td>1</td>\n    </tr>\n    <tr>\n      <th>...</th>\n      <td>...</td>\n      <td>...</td>\n      <td>...</td>\n      <td>...</td>\n      <td>...</td>\n    </tr>\n    <tr>\n      <th>13126</th>\n      <td>SYDNEY</td>\n      <td>WAGGA WAGGA</td>\n      <td>367</td>\n      <td>2023</td>\n      <td>9</td>\n    </tr>\n    <tr>\n      <th>13127</th>\n      <td>SYDNEY</td>\n      <td>WAGGA WAGGA</td>\n      <td>367</td>\n      <td>2023</td>\n      <td>10</td>\n    </tr>\n    <tr>\n      <th>13128</th>\n      <td>SYDNEY</td>\n      <td>WAGGA WAGGA</td>\n      <td>367</td>\n      <td>2023</td>\n      <td>11</td>\n    </tr>\n    <tr>\n      <th>13129</th>\n      <td>SYDNEY</td>\n      <td>WAGGA WAGGA</td>\n      <td>367</td>\n      <td>2023</td>\n      <td>12</td>\n    </tr>\n    <tr>\n      <th>13130</th>\n      <td>SYDNEY</td>\n      <td>WAGGA WAGGA</td>\n      <td>367</td>\n      <td>2024</td>\n      <td>1</td>\n    </tr>\n  </tbody>\n</table>\n<p>13131 rows × 5 columns</p>\n</div>"
     },
     "execution_count": 5,
     "metadata": {},
     "output_type": "execute_result"
    }
   ],
   "source": [
    "airport_distance.dropna()"
   ],
   "metadata": {
    "collapsed": false,
    "ExecuteTime": {
     "end_time": "2024-09-26T13:37:47.075630700Z",
     "start_time": "2024-09-26T13:37:47.010305900Z"
    }
   }
  },
  {
   "cell_type": "code",
   "execution_count": 6,
   "outputs": [
    {
     "data": {
      "text/plain": "      Departing_Port  Arriving_Port  Distance_GC_(km)  Year  Month_Num\n0           ADELAIDE  ALICE SPRINGS              1316  2008          1\n1           ADELAIDE       BRISBANE              1622  2008          1\n2           ADELAIDE       CANBERRA               972  2008          1\n3           ADELAIDE     GOLD COAST              1607  2008          1\n4           ADELAIDE      MELBOURNE               643  2008          1\n...              ...            ...               ...   ...        ...\n13126         SYDNEY    WAGGA WAGGA               367  2023          9\n13127         SYDNEY    WAGGA WAGGA               367  2023         10\n13128         SYDNEY    WAGGA WAGGA               367  2023         11\n13129         SYDNEY    WAGGA WAGGA               367  2023         12\n13130         SYDNEY    WAGGA WAGGA               367  2024          1\n\n[13131 rows x 5 columns]",
      "text/html": "<div>\n<style scoped>\n    .dataframe tbody tr th:only-of-type {\n        vertical-align: middle;\n    }\n\n    .dataframe tbody tr th {\n        vertical-align: top;\n    }\n\n    .dataframe thead th {\n        text-align: right;\n    }\n</style>\n<table border=\"1\" class=\"dataframe\">\n  <thead>\n    <tr style=\"text-align: right;\">\n      <th></th>\n      <th>Departing_Port</th>\n      <th>Arriving_Port</th>\n      <th>Distance_GC_(km)</th>\n      <th>Year</th>\n      <th>Month_Num</th>\n    </tr>\n  </thead>\n  <tbody>\n    <tr>\n      <th>0</th>\n      <td>ADELAIDE</td>\n      <td>ALICE SPRINGS</td>\n      <td>1316</td>\n      <td>2008</td>\n      <td>1</td>\n    </tr>\n    <tr>\n      <th>1</th>\n      <td>ADELAIDE</td>\n      <td>BRISBANE</td>\n      <td>1622</td>\n      <td>2008</td>\n      <td>1</td>\n    </tr>\n    <tr>\n      <th>2</th>\n      <td>ADELAIDE</td>\n      <td>CANBERRA</td>\n      <td>972</td>\n      <td>2008</td>\n      <td>1</td>\n    </tr>\n    <tr>\n      <th>3</th>\n      <td>ADELAIDE</td>\n      <td>GOLD COAST</td>\n      <td>1607</td>\n      <td>2008</td>\n      <td>1</td>\n    </tr>\n    <tr>\n      <th>4</th>\n      <td>ADELAIDE</td>\n      <td>MELBOURNE</td>\n      <td>643</td>\n      <td>2008</td>\n      <td>1</td>\n    </tr>\n    <tr>\n      <th>...</th>\n      <td>...</td>\n      <td>...</td>\n      <td>...</td>\n      <td>...</td>\n      <td>...</td>\n    </tr>\n    <tr>\n      <th>13126</th>\n      <td>SYDNEY</td>\n      <td>WAGGA WAGGA</td>\n      <td>367</td>\n      <td>2023</td>\n      <td>9</td>\n    </tr>\n    <tr>\n      <th>13127</th>\n      <td>SYDNEY</td>\n      <td>WAGGA WAGGA</td>\n      <td>367</td>\n      <td>2023</td>\n      <td>10</td>\n    </tr>\n    <tr>\n      <th>13128</th>\n      <td>SYDNEY</td>\n      <td>WAGGA WAGGA</td>\n      <td>367</td>\n      <td>2023</td>\n      <td>11</td>\n    </tr>\n    <tr>\n      <th>13129</th>\n      <td>SYDNEY</td>\n      <td>WAGGA WAGGA</td>\n      <td>367</td>\n      <td>2023</td>\n      <td>12</td>\n    </tr>\n    <tr>\n      <th>13130</th>\n      <td>SYDNEY</td>\n      <td>WAGGA WAGGA</td>\n      <td>367</td>\n      <td>2024</td>\n      <td>1</td>\n    </tr>\n  </tbody>\n</table>\n<p>13131 rows × 5 columns</p>\n</div>"
     },
     "execution_count": 6,
     "metadata": {},
     "output_type": "execute_result"
    }
   ],
   "source": [
    "airport_distance.drop_duplicates()"
   ],
   "metadata": {
    "collapsed": false,
    "ExecuteTime": {
     "end_time": "2024-09-26T13:37:47.088096200Z",
     "start_time": "2024-09-26T13:37:47.054755600Z"
    }
   }
  },
  {
   "cell_type": "code",
   "execution_count": 7,
   "outputs": [],
   "source": [
    "unique_departure_port = len(airport_distance['Departing_Port'].unique().tolist())"
   ],
   "metadata": {
    "collapsed": false,
    "ExecuteTime": {
     "end_time": "2024-09-26T13:37:47.141625500Z",
     "start_time": "2024-09-26T13:37:47.088096200Z"
    }
   }
  },
  {
   "cell_type": "code",
   "execution_count": 8,
   "outputs": [
    {
     "data": {
      "text/plain": "30"
     },
     "execution_count": 8,
     "metadata": {},
     "output_type": "execute_result"
    }
   ],
   "source": [
    "unique_departure_port"
   ],
   "metadata": {
    "collapsed": false,
    "ExecuteTime": {
     "end_time": "2024-09-26T13:37:47.173357100Z",
     "start_time": "2024-09-26T13:37:47.102231300Z"
    }
   }
  },
  {
   "cell_type": "code",
   "execution_count": 9,
   "outputs": [],
   "source": [
    "unique_arrival_port = len(airport_distance['Arriving_Port'].unique().tolist())"
   ],
   "metadata": {
    "collapsed": false,
    "ExecuteTime": {
     "end_time": "2024-09-26T13:37:47.253655700Z",
     "start_time": "2024-09-26T13:37:47.120680800Z"
    }
   }
  },
  {
   "cell_type": "code",
   "execution_count": 10,
   "outputs": [
    {
     "data": {
      "text/plain": "29"
     },
     "execution_count": 10,
     "metadata": {},
     "output_type": "execute_result"
    }
   ],
   "source": [
    "unique_arrival_port"
   ],
   "metadata": {
    "collapsed": false,
    "ExecuteTime": {
     "end_time": "2024-09-26T13:37:47.316997800Z",
     "start_time": "2024-09-26T13:37:47.134644500Z"
    }
   }
  },
  {
   "cell_type": "code",
   "execution_count": 11,
   "outputs": [],
   "source": [
    "port_combination = airport_distance.groupby(['Departing_Port', 'Arriving_Port', 'Distance_GC_(km)', 'Year', 'Month_Num'])"
   ],
   "metadata": {
    "collapsed": false,
    "ExecuteTime": {
     "end_time": "2024-09-26T13:37:47.319990800Z",
     "start_time": "2024-09-26T13:37:47.151597100Z"
    }
   }
  },
  {
   "cell_type": "code",
   "execution_count": 12,
   "outputs": [],
   "source": [
    "def get_individual_port_combination (departing_port_name):\n",
    "    selected_departing_port = airport_distance[airport_distance['Departing_Port'] == departing_port_name]\n",
    "\n",
    "    port_combinations_grouped = selected_departing_port.groupby(['Year', 'Month_Num', 'Distance_GC_(km)', 'Arriving_Port']).size().reset_index(name='count')\n",
    "\n",
    "    port_combinations_grouped['departure_port'] = departing_port_name\n",
    "\n",
    "    return port_combinations_grouped"
   ],
   "metadata": {
    "collapsed": false,
    "ExecuteTime": {
     "end_time": "2024-09-26T13:37:47.439267700Z",
     "start_time": "2024-09-26T13:37:47.166756900Z"
    }
   }
  },
  {
   "cell_type": "code",
   "execution_count": 13,
   "outputs": [],
   "source": [
    "results = []\n",
    "unique_departure_port = airport_distance['Departing_Port'].unique()\n",
    "\n",
    "for departing_port_name in unique_departure_port:\n",
    "    port_data = get_individual_port_combination(departing_port_name)\n",
    "\n",
    "    results.append(port_data)\n",
    "\n",
    "all_combinations = pd.concat(results, ignore_index=True)"
   ],
   "metadata": {
    "collapsed": false,
    "ExecuteTime": {
     "end_time": "2024-09-26T13:37:47.505603300Z",
     "start_time": "2024-09-26T13:37:47.181336600Z"
    }
   }
  },
  {
   "cell_type": "code",
   "execution_count": 14,
   "outputs": [
    {
     "data": {
      "text/plain": "       Year  Month_Num  Distance_GC_(km)  Arriving_Port  count departure_port\n0      2008          1               246   PORT LINCOLN      1       ADELAIDE\n1      2008          1               643      MELBOURNE      1       ADELAIDE\n2      2008          1               972       CANBERRA      1       ADELAIDE\n3      2008          1              1167         SYDNEY      1       ADELAIDE\n4      2008          1              1316  ALICE SPRINGS      1       ADELAIDE\n...     ...        ...               ...            ...    ...            ...\n13126  2023         12               367    WAGGA WAGGA      1         SYDNEY\n13127  2023         12              1690     TOWNSVILLE      1         SYDNEY\n13128  2024          1               320       TAMWORTH      1         SYDNEY\n13129  2024          1               367    WAGGA WAGGA      1         SYDNEY\n13130  2024          1              1690     TOWNSVILLE      1         SYDNEY\n\n[13131 rows x 6 columns]",
      "text/html": "<div>\n<style scoped>\n    .dataframe tbody tr th:only-of-type {\n        vertical-align: middle;\n    }\n\n    .dataframe tbody tr th {\n        vertical-align: top;\n    }\n\n    .dataframe thead th {\n        text-align: right;\n    }\n</style>\n<table border=\"1\" class=\"dataframe\">\n  <thead>\n    <tr style=\"text-align: right;\">\n      <th></th>\n      <th>Year</th>\n      <th>Month_Num</th>\n      <th>Distance_GC_(km)</th>\n      <th>Arriving_Port</th>\n      <th>count</th>\n      <th>departure_port</th>\n    </tr>\n  </thead>\n  <tbody>\n    <tr>\n      <th>0</th>\n      <td>2008</td>\n      <td>1</td>\n      <td>246</td>\n      <td>PORT LINCOLN</td>\n      <td>1</td>\n      <td>ADELAIDE</td>\n    </tr>\n    <tr>\n      <th>1</th>\n      <td>2008</td>\n      <td>1</td>\n      <td>643</td>\n      <td>MELBOURNE</td>\n      <td>1</td>\n      <td>ADELAIDE</td>\n    </tr>\n    <tr>\n      <th>2</th>\n      <td>2008</td>\n      <td>1</td>\n      <td>972</td>\n      <td>CANBERRA</td>\n      <td>1</td>\n      <td>ADELAIDE</td>\n    </tr>\n    <tr>\n      <th>3</th>\n      <td>2008</td>\n      <td>1</td>\n      <td>1167</td>\n      <td>SYDNEY</td>\n      <td>1</td>\n      <td>ADELAIDE</td>\n    </tr>\n    <tr>\n      <th>4</th>\n      <td>2008</td>\n      <td>1</td>\n      <td>1316</td>\n      <td>ALICE SPRINGS</td>\n      <td>1</td>\n      <td>ADELAIDE</td>\n    </tr>\n    <tr>\n      <th>...</th>\n      <td>...</td>\n      <td>...</td>\n      <td>...</td>\n      <td>...</td>\n      <td>...</td>\n      <td>...</td>\n    </tr>\n    <tr>\n      <th>13126</th>\n      <td>2023</td>\n      <td>12</td>\n      <td>367</td>\n      <td>WAGGA WAGGA</td>\n      <td>1</td>\n      <td>SYDNEY</td>\n    </tr>\n    <tr>\n      <th>13127</th>\n      <td>2023</td>\n      <td>12</td>\n      <td>1690</td>\n      <td>TOWNSVILLE</td>\n      <td>1</td>\n      <td>SYDNEY</td>\n    </tr>\n    <tr>\n      <th>13128</th>\n      <td>2024</td>\n      <td>1</td>\n      <td>320</td>\n      <td>TAMWORTH</td>\n      <td>1</td>\n      <td>SYDNEY</td>\n    </tr>\n    <tr>\n      <th>13129</th>\n      <td>2024</td>\n      <td>1</td>\n      <td>367</td>\n      <td>WAGGA WAGGA</td>\n      <td>1</td>\n      <td>SYDNEY</td>\n    </tr>\n    <tr>\n      <th>13130</th>\n      <td>2024</td>\n      <td>1</td>\n      <td>1690</td>\n      <td>TOWNSVILLE</td>\n      <td>1</td>\n      <td>SYDNEY</td>\n    </tr>\n  </tbody>\n</table>\n<p>13131 rows × 6 columns</p>\n</div>"
     },
     "execution_count": 14,
     "metadata": {},
     "output_type": "execute_result"
    }
   ],
   "source": [
    "all_combinations"
   ],
   "metadata": {
    "collapsed": false,
    "ExecuteTime": {
     "end_time": "2024-09-26T13:37:47.505603300Z",
     "start_time": "2024-09-26T13:37:47.391885100Z"
    }
   }
  },
  {
   "cell_type": "code",
   "execution_count": 15,
   "outputs": [],
   "source": [
    "all_combinations.rename(columns={'Month_Num': 'Month'}, inplace=True)\n",
    "all_combinations.rename(columns={'departure_port': 'Departing_Port'}, inplace=True)"
   ],
   "metadata": {
    "collapsed": false,
    "ExecuteTime": {
     "end_time": "2024-09-26T13:37:47.505603300Z",
     "start_time": "2024-09-26T13:37:47.421315700Z"
    }
   }
  },
  {
   "cell_type": "code",
   "execution_count": 22,
   "outputs": [
    {
     "data": {
      "text/plain": "       Year  Month  Distance_GC_(km)  Arriving_Port Departing_Port\n0      2008      1               246   Port Lincoln       Adelaide\n1      2008      1               643      Melbourne       Adelaide\n2      2008      1               972       Canberra       Adelaide\n3      2008      1              1167         Sydney       Adelaide\n4      2008      1              1316  Alice Springs       Adelaide\n...     ...    ...               ...            ...            ...\n13126  2023     12               367    Wagga Wagga         Sydney\n13127  2023     12              1690     Townsville         Sydney\n13128  2024      1               320       Tamworth         Sydney\n13129  2024      1               367    Wagga Wagga         Sydney\n13130  2024      1              1690     Townsville         Sydney\n\n[13131 rows x 5 columns]",
      "text/html": "<div>\n<style scoped>\n    .dataframe tbody tr th:only-of-type {\n        vertical-align: middle;\n    }\n\n    .dataframe tbody tr th {\n        vertical-align: top;\n    }\n\n    .dataframe thead th {\n        text-align: right;\n    }\n</style>\n<table border=\"1\" class=\"dataframe\">\n  <thead>\n    <tr style=\"text-align: right;\">\n      <th></th>\n      <th>Year</th>\n      <th>Month</th>\n      <th>Distance_GC_(km)</th>\n      <th>Arriving_Port</th>\n      <th>Departing_Port</th>\n    </tr>\n  </thead>\n  <tbody>\n    <tr>\n      <th>0</th>\n      <td>2008</td>\n      <td>1</td>\n      <td>246</td>\n      <td>Port Lincoln</td>\n      <td>Adelaide</td>\n    </tr>\n    <tr>\n      <th>1</th>\n      <td>2008</td>\n      <td>1</td>\n      <td>643</td>\n      <td>Melbourne</td>\n      <td>Adelaide</td>\n    </tr>\n    <tr>\n      <th>2</th>\n      <td>2008</td>\n      <td>1</td>\n      <td>972</td>\n      <td>Canberra</td>\n      <td>Adelaide</td>\n    </tr>\n    <tr>\n      <th>3</th>\n      <td>2008</td>\n      <td>1</td>\n      <td>1167</td>\n      <td>Sydney</td>\n      <td>Adelaide</td>\n    </tr>\n    <tr>\n      <th>4</th>\n      <td>2008</td>\n      <td>1</td>\n      <td>1316</td>\n      <td>Alice Springs</td>\n      <td>Adelaide</td>\n    </tr>\n    <tr>\n      <th>...</th>\n      <td>...</td>\n      <td>...</td>\n      <td>...</td>\n      <td>...</td>\n      <td>...</td>\n    </tr>\n    <tr>\n      <th>13126</th>\n      <td>2023</td>\n      <td>12</td>\n      <td>367</td>\n      <td>Wagga Wagga</td>\n      <td>Sydney</td>\n    </tr>\n    <tr>\n      <th>13127</th>\n      <td>2023</td>\n      <td>12</td>\n      <td>1690</td>\n      <td>Townsville</td>\n      <td>Sydney</td>\n    </tr>\n    <tr>\n      <th>13128</th>\n      <td>2024</td>\n      <td>1</td>\n      <td>320</td>\n      <td>Tamworth</td>\n      <td>Sydney</td>\n    </tr>\n    <tr>\n      <th>13129</th>\n      <td>2024</td>\n      <td>1</td>\n      <td>367</td>\n      <td>Wagga Wagga</td>\n      <td>Sydney</td>\n    </tr>\n    <tr>\n      <th>13130</th>\n      <td>2024</td>\n      <td>1</td>\n      <td>1690</td>\n      <td>Townsville</td>\n      <td>Sydney</td>\n    </tr>\n  </tbody>\n</table>\n<p>13131 rows × 5 columns</p>\n</div>"
     },
     "execution_count": 22,
     "metadata": {},
     "output_type": "execute_result"
    }
   ],
   "source": [
    "all_combinations"
   ],
   "metadata": {
    "collapsed": false,
    "ExecuteTime": {
     "end_time": "2024-09-26T13:41:25.534187400Z",
     "start_time": "2024-09-26T13:41:25.512927800Z"
    }
   }
  },
  {
   "cell_type": "code",
   "execution_count": 23,
   "outputs": [],
   "source": [
    "all_combinations = all_combinations[[\"Year\", \"Month\", \"Distance_GC_(km)\", \"Arriving_Port\", \"Departing_Port\"]]\n",
    "\n",
    "all_combinations[\"Arriving_Port\"] = all_combinations[\"Arriving_Port\"].str.title()\n",
    "all_combinations[\"Departing_Port\"] = all_combinations[\"Departing_Port\"].str.title()"
   ],
   "metadata": {
    "collapsed": false,
    "ExecuteTime": {
     "end_time": "2024-09-26T13:41:28.960277800Z",
     "start_time": "2024-09-26T13:41:28.944465300Z"
    }
   }
  },
  {
   "cell_type": "code",
   "execution_count": 24,
   "outputs": [
    {
     "data": {
      "text/plain": "       Year  Month  Distance_GC_(km)  Arriving_Port Departing_Port\n0      2008      1               246   Port Lincoln       Adelaide\n1      2008      1               643      Melbourne       Adelaide\n2      2008      1               972       Canberra       Adelaide\n3      2008      1              1167         Sydney       Adelaide\n4      2008      1              1316  Alice Springs       Adelaide\n...     ...    ...               ...            ...            ...\n13126  2023     12               367    Wagga Wagga         Sydney\n13127  2023     12              1690     Townsville         Sydney\n13128  2024      1               320       Tamworth         Sydney\n13129  2024      1               367    Wagga Wagga         Sydney\n13130  2024      1              1690     Townsville         Sydney\n\n[13131 rows x 5 columns]",
      "text/html": "<div>\n<style scoped>\n    .dataframe tbody tr th:only-of-type {\n        vertical-align: middle;\n    }\n\n    .dataframe tbody tr th {\n        vertical-align: top;\n    }\n\n    .dataframe thead th {\n        text-align: right;\n    }\n</style>\n<table border=\"1\" class=\"dataframe\">\n  <thead>\n    <tr style=\"text-align: right;\">\n      <th></th>\n      <th>Year</th>\n      <th>Month</th>\n      <th>Distance_GC_(km)</th>\n      <th>Arriving_Port</th>\n      <th>Departing_Port</th>\n    </tr>\n  </thead>\n  <tbody>\n    <tr>\n      <th>0</th>\n      <td>2008</td>\n      <td>1</td>\n      <td>246</td>\n      <td>Port Lincoln</td>\n      <td>Adelaide</td>\n    </tr>\n    <tr>\n      <th>1</th>\n      <td>2008</td>\n      <td>1</td>\n      <td>643</td>\n      <td>Melbourne</td>\n      <td>Adelaide</td>\n    </tr>\n    <tr>\n      <th>2</th>\n      <td>2008</td>\n      <td>1</td>\n      <td>972</td>\n      <td>Canberra</td>\n      <td>Adelaide</td>\n    </tr>\n    <tr>\n      <th>3</th>\n      <td>2008</td>\n      <td>1</td>\n      <td>1167</td>\n      <td>Sydney</td>\n      <td>Adelaide</td>\n    </tr>\n    <tr>\n      <th>4</th>\n      <td>2008</td>\n      <td>1</td>\n      <td>1316</td>\n      <td>Alice Springs</td>\n      <td>Adelaide</td>\n    </tr>\n    <tr>\n      <th>...</th>\n      <td>...</td>\n      <td>...</td>\n      <td>...</td>\n      <td>...</td>\n      <td>...</td>\n    </tr>\n    <tr>\n      <th>13126</th>\n      <td>2023</td>\n      <td>12</td>\n      <td>367</td>\n      <td>Wagga Wagga</td>\n      <td>Sydney</td>\n    </tr>\n    <tr>\n      <th>13127</th>\n      <td>2023</td>\n      <td>12</td>\n      <td>1690</td>\n      <td>Townsville</td>\n      <td>Sydney</td>\n    </tr>\n    <tr>\n      <th>13128</th>\n      <td>2024</td>\n      <td>1</td>\n      <td>320</td>\n      <td>Tamworth</td>\n      <td>Sydney</td>\n    </tr>\n    <tr>\n      <th>13129</th>\n      <td>2024</td>\n      <td>1</td>\n      <td>367</td>\n      <td>Wagga Wagga</td>\n      <td>Sydney</td>\n    </tr>\n    <tr>\n      <th>13130</th>\n      <td>2024</td>\n      <td>1</td>\n      <td>1690</td>\n      <td>Townsville</td>\n      <td>Sydney</td>\n    </tr>\n  </tbody>\n</table>\n<p>13131 rows × 5 columns</p>\n</div>"
     },
     "execution_count": 24,
     "metadata": {},
     "output_type": "execute_result"
    }
   ],
   "source": [
    "all_combinations"
   ],
   "metadata": {
    "collapsed": false,
    "ExecuteTime": {
     "end_time": "2024-09-26T13:41:31.530300Z",
     "start_time": "2024-09-26T13:41:31.496863900Z"
    }
   }
  },
  {
   "cell_type": "code",
   "execution_count": 31,
   "outputs": [],
   "source": [
    "missing_distance = all_combinations[all_combinations['Distance_GC_(km)'].isnull()]"
   ],
   "metadata": {
    "collapsed": false,
    "ExecuteTime": {
     "end_time": "2024-09-26T13:42:46.542700300Z",
     "start_time": "2024-09-26T13:42:46.532396Z"
    }
   }
  },
  {
   "cell_type": "code",
   "execution_count": 32,
   "outputs": [
    {
     "data": {
      "text/plain": "Empty DataFrame\nColumns: [Year, Month, Distance_GC_(km), Arriving_Port, Departing_Port]\nIndex: []",
      "text/html": "<div>\n<style scoped>\n    .dataframe tbody tr th:only-of-type {\n        vertical-align: middle;\n    }\n\n    .dataframe tbody tr th {\n        vertical-align: top;\n    }\n\n    .dataframe thead th {\n        text-align: right;\n    }\n</style>\n<table border=\"1\" class=\"dataframe\">\n  <thead>\n    <tr style=\"text-align: right;\">\n      <th></th>\n      <th>Year</th>\n      <th>Month</th>\n      <th>Distance_GC_(km)</th>\n      <th>Arriving_Port</th>\n      <th>Departing_Port</th>\n    </tr>\n  </thead>\n  <tbody>\n  </tbody>\n</table>\n</div>"
     },
     "execution_count": 32,
     "metadata": {},
     "output_type": "execute_result"
    }
   ],
   "source": [
    "missing_distance"
   ],
   "metadata": {
    "collapsed": false,
    "ExecuteTime": {
     "end_time": "2024-09-26T13:42:49.227755900Z",
     "start_time": "2024-09-26T13:42:49.210733800Z"
    }
   }
  },
  {
   "cell_type": "code",
   "execution_count": 33,
   "outputs": [],
   "source": [
    "all_combinations.to_csv('fares_with_distance.csv', index=False, header=True)"
   ],
   "metadata": {
    "collapsed": false,
    "ExecuteTime": {
     "end_time": "2024-09-26T13:46:49.121856300Z",
     "start_time": "2024-09-26T13:46:49.074380800Z"
    }
   }
  },
  {
   "cell_type": "code",
   "execution_count": null,
   "outputs": [],
   "source": [],
   "metadata": {
    "collapsed": false
   }
  }
 ],
 "metadata": {
  "kernelspec": {
   "display_name": "Python 3",
   "language": "python",
   "name": "python3"
  },
  "language_info": {
   "codemirror_mode": {
    "name": "ipython",
    "version": 2
   },
   "file_extension": ".py",
   "mimetype": "text/x-python",
   "name": "python",
   "nbconvert_exporter": "python",
   "pygments_lexer": "ipython2",
   "version": "2.7.6"
  }
 },
 "nbformat": 4,
 "nbformat_minor": 0
}
