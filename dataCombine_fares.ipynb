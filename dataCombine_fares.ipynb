{
 "cells": [
  {
   "cell_type": "code",
   "execution_count": 1,
   "metadata": {
    "collapsed": true
   },
   "outputs": [],
   "source": [
    "import pandas as pd\n",
    "import numpy as np\n",
    "import itertools"
   ]
  },
  {
   "cell_type": "code",
   "execution_count": 2,
   "outputs": [],
   "source": [
    "FARES_READING = r'C:\\Users\\ASUS\\OneDrive\\Semester 3\\Innovation Project\\Assign_02\\fares_reading.csv'\n",
    "FARES_WITH_DISTANCE = r'C:\\Users\\ASUS\\OneDrive\\Semester 3\\Innovation Project\\Assign_02\\fares_with_distance.csv'"
   ],
   "metadata": {
    "collapsed": false
   }
  },
  {
   "cell_type": "code",
   "execution_count": 3,
   "outputs": [],
   "source": [
    "fares_reading = pd.read_csv(FARES_READING)\n",
    "fares_with_distance = pd.read_csv(FARES_WITH_DISTANCE)\n"
   ],
   "metadata": {
    "collapsed": false
   }
  },
  {
   "cell_type": "code",
   "execution_count": 4,
   "outputs": [
    {
     "data": {
      "text/plain": "Index(['Year', 'Month', 'Distance_GC_(km)', 'Arriving_Port', 'Departing_Port'], dtype='object')"
     },
     "execution_count": 4,
     "metadata": {},
     "output_type": "execute_result"
    }
   ],
   "source": [
    "fares_with_distance.columns"
   ],
   "metadata": {
    "collapsed": false
   }
  },
  {
   "cell_type": "code",
   "execution_count": 5,
   "outputs": [],
   "source": [
    "# Make Arriving_Port and Departing_Port for fares_with_distance match capitalisation of fares_reading\n",
    "#fares_with_distance[\"Arriving_Port\"] = fares_with_distance[\"Arriving_Port\"].str.title()\n",
    "#fares_with_distance[\"Departing_Port\"] = fares_with_distance[\"Departing_Port\"].str.title()"
   ],
   "metadata": {
    "collapsed": false
   }
  },
  {
   "cell_type": "code",
   "execution_count": 6,
   "outputs": [],
   "source": [
    "# Source: https://stackoverflow.com/a/41815118\n",
    "\n",
    "fares_reading = fares_reading[['Departing_Port', 'Arriving_Port', 'Month', 'Year', 'Average_Fare']]\n",
    "fares_with_distance = fares_with_distance[['Year', 'Month', 'Arriving_Port', 'Departing_Port']]\n",
    "\n",
    "combined_fares_data = pd.merge(\n",
    "    left=fares_reading,\n",
    "    right=fares_with_distance,\n",
    "    how='outer',\n",
    "    left_on=['Departing_Port', 'Arriving_Port', 'Month', 'Year'],\n",
    "    right_on=['Departing_Port', 'Arriving_Port', 'Month', 'Year'],\n",
    ")"
   ],
   "metadata": {
    "collapsed": false
   }
  },
  {
   "cell_type": "code",
   "execution_count": 7,
   "outputs": [
    {
     "data": {
      "text/plain": "      Departing_Port Arriving_Port  Month  Year  Average_Fare\n0           Adelaide      Brisbane      8  2010         157.0\n1           Adelaide      Canberra      8  2010         350.0\n2           Adelaide    Gold Coast      8  2010         232.0\n3           Adelaide     Melbourne      8  2010          87.0\n4           Adelaide         Perth      8  2010         406.0\n...              ...           ...    ...   ...           ...\n22886         Sydney    Townsville     11  2023           NaN\n22887         Sydney      Tamworth     12  2023           NaN\n22888         Sydney    Townsville     12  2023           NaN\n22889         Sydney      Tamworth      1  2024           NaN\n22890         Sydney    Townsville      1  2024           NaN\n\n[22891 rows x 5 columns]",
      "text/html": "<div>\n<style scoped>\n    .dataframe tbody tr th:only-of-type {\n        vertical-align: middle;\n    }\n\n    .dataframe tbody tr th {\n        vertical-align: top;\n    }\n\n    .dataframe thead th {\n        text-align: right;\n    }\n</style>\n<table border=\"1\" class=\"dataframe\">\n  <thead>\n    <tr style=\"text-align: right;\">\n      <th></th>\n      <th>Departing_Port</th>\n      <th>Arriving_Port</th>\n      <th>Month</th>\n      <th>Year</th>\n      <th>Average_Fare</th>\n    </tr>\n  </thead>\n  <tbody>\n    <tr>\n      <th>0</th>\n      <td>Adelaide</td>\n      <td>Brisbane</td>\n      <td>8</td>\n      <td>2010</td>\n      <td>157.0</td>\n    </tr>\n    <tr>\n      <th>1</th>\n      <td>Adelaide</td>\n      <td>Canberra</td>\n      <td>8</td>\n      <td>2010</td>\n      <td>350.0</td>\n    </tr>\n    <tr>\n      <th>2</th>\n      <td>Adelaide</td>\n      <td>Gold Coast</td>\n      <td>8</td>\n      <td>2010</td>\n      <td>232.0</td>\n    </tr>\n    <tr>\n      <th>3</th>\n      <td>Adelaide</td>\n      <td>Melbourne</td>\n      <td>8</td>\n      <td>2010</td>\n      <td>87.0</td>\n    </tr>\n    <tr>\n      <th>4</th>\n      <td>Adelaide</td>\n      <td>Perth</td>\n      <td>8</td>\n      <td>2010</td>\n      <td>406.0</td>\n    </tr>\n    <tr>\n      <th>...</th>\n      <td>...</td>\n      <td>...</td>\n      <td>...</td>\n      <td>...</td>\n      <td>...</td>\n    </tr>\n    <tr>\n      <th>22886</th>\n      <td>Sydney</td>\n      <td>Townsville</td>\n      <td>11</td>\n      <td>2023</td>\n      <td>NaN</td>\n    </tr>\n    <tr>\n      <th>22887</th>\n      <td>Sydney</td>\n      <td>Tamworth</td>\n      <td>12</td>\n      <td>2023</td>\n      <td>NaN</td>\n    </tr>\n    <tr>\n      <th>22888</th>\n      <td>Sydney</td>\n      <td>Townsville</td>\n      <td>12</td>\n      <td>2023</td>\n      <td>NaN</td>\n    </tr>\n    <tr>\n      <th>22889</th>\n      <td>Sydney</td>\n      <td>Tamworth</td>\n      <td>1</td>\n      <td>2024</td>\n      <td>NaN</td>\n    </tr>\n    <tr>\n      <th>22890</th>\n      <td>Sydney</td>\n      <td>Townsville</td>\n      <td>1</td>\n      <td>2024</td>\n      <td>NaN</td>\n    </tr>\n  </tbody>\n</table>\n<p>22891 rows × 5 columns</p>\n</div>"
     },
     "execution_count": 7,
     "metadata": {},
     "output_type": "execute_result"
    }
   ],
   "source": [
    "combined_fares_data"
   ],
   "metadata": {
    "collapsed": false
   }
  },
  {
   "cell_type": "code",
   "execution_count": 8,
   "outputs": [
    {
     "data": {
      "text/plain": "      Departing_Port Arriving_Port  Month  Year  Average_Fare\n0           Adelaide      Brisbane      8  2010         157.0\n1           Adelaide      Canberra      8  2010         350.0\n2           Adelaide    Gold Coast      8  2010         232.0\n3           Adelaide     Melbourne      8  2010          87.0\n4           Adelaide         Perth      8  2010         406.0\n...              ...           ...    ...   ...           ...\n22886         Sydney    Townsville     11  2023           NaN\n22887         Sydney      Tamworth     12  2023           NaN\n22888         Sydney    Townsville     12  2023           NaN\n22889         Sydney      Tamworth      1  2024           NaN\n22890         Sydney    Townsville      1  2024           NaN\n\n[22891 rows x 5 columns]",
      "text/html": "<div>\n<style scoped>\n    .dataframe tbody tr th:only-of-type {\n        vertical-align: middle;\n    }\n\n    .dataframe tbody tr th {\n        vertical-align: top;\n    }\n\n    .dataframe thead th {\n        text-align: right;\n    }\n</style>\n<table border=\"1\" class=\"dataframe\">\n  <thead>\n    <tr style=\"text-align: right;\">\n      <th></th>\n      <th>Departing_Port</th>\n      <th>Arriving_Port</th>\n      <th>Month</th>\n      <th>Year</th>\n      <th>Average_Fare</th>\n    </tr>\n  </thead>\n  <tbody>\n    <tr>\n      <th>0</th>\n      <td>Adelaide</td>\n      <td>Brisbane</td>\n      <td>8</td>\n      <td>2010</td>\n      <td>157.0</td>\n    </tr>\n    <tr>\n      <th>1</th>\n      <td>Adelaide</td>\n      <td>Canberra</td>\n      <td>8</td>\n      <td>2010</td>\n      <td>350.0</td>\n    </tr>\n    <tr>\n      <th>2</th>\n      <td>Adelaide</td>\n      <td>Gold Coast</td>\n      <td>8</td>\n      <td>2010</td>\n      <td>232.0</td>\n    </tr>\n    <tr>\n      <th>3</th>\n      <td>Adelaide</td>\n      <td>Melbourne</td>\n      <td>8</td>\n      <td>2010</td>\n      <td>87.0</td>\n    </tr>\n    <tr>\n      <th>4</th>\n      <td>Adelaide</td>\n      <td>Perth</td>\n      <td>8</td>\n      <td>2010</td>\n      <td>406.0</td>\n    </tr>\n    <tr>\n      <th>...</th>\n      <td>...</td>\n      <td>...</td>\n      <td>...</td>\n      <td>...</td>\n      <td>...</td>\n    </tr>\n    <tr>\n      <th>22886</th>\n      <td>Sydney</td>\n      <td>Townsville</td>\n      <td>11</td>\n      <td>2023</td>\n      <td>NaN</td>\n    </tr>\n    <tr>\n      <th>22887</th>\n      <td>Sydney</td>\n      <td>Tamworth</td>\n      <td>12</td>\n      <td>2023</td>\n      <td>NaN</td>\n    </tr>\n    <tr>\n      <th>22888</th>\n      <td>Sydney</td>\n      <td>Townsville</td>\n      <td>12</td>\n      <td>2023</td>\n      <td>NaN</td>\n    </tr>\n    <tr>\n      <th>22889</th>\n      <td>Sydney</td>\n      <td>Tamworth</td>\n      <td>1</td>\n      <td>2024</td>\n      <td>NaN</td>\n    </tr>\n    <tr>\n      <th>22890</th>\n      <td>Sydney</td>\n      <td>Townsville</td>\n      <td>1</td>\n      <td>2024</td>\n      <td>NaN</td>\n    </tr>\n  </tbody>\n</table>\n<p>22891 rows × 5 columns</p>\n</div>"
     },
     "execution_count": 8,
     "metadata": {},
     "output_type": "execute_result"
    }
   ],
   "source": [
    "combined_fares_data"
   ],
   "metadata": {
    "collapsed": false
   }
  },
  {
   "cell_type": "markdown",
   "source": [
    "## Get the name of all airports in our dataset"
   ],
   "metadata": {
    "collapsed": false
   }
  },
  {
   "cell_type": "code",
   "execution_count": 9,
   "outputs": [],
   "source": [
    "airports = np.unique(np.array([np.unique(combined_fares_data[\"Departing_Port\"]), np.unique(combined_fares_data[\"Arriving_Port\"])]).flatten())"
   ],
   "metadata": {
    "collapsed": false
   }
  },
  {
   "cell_type": "code",
   "execution_count": 10,
   "outputs": [
    {
     "data": {
      "text/plain": "array(['Adelaide', 'Albury', 'Alice Springs', 'Armidale', 'Ayers Rock',\n       'Ballina', 'Brisbane', 'Broome', 'Bundaberg', 'Burnie', 'Cairns',\n       'Canberra', 'Coffs Harbour', 'Darwin', 'Devonport', 'Dubbo',\n       'Emerald', 'Geraldton', 'Gladstone', 'Gold Coast',\n       'Hamilton Island', 'Hervey Bay', 'Hobart', 'Kalgoorlie',\n       'Karratha', 'Launceston', 'Mackay', 'Melbourne', 'Mildura',\n       'Moranbah', 'Mount Isa', 'Newcastle', 'Newman', 'Perth',\n       'Port Hedland', 'Port Lincoln', 'Port Macquarie', 'Proserpine',\n       'Rockhampton', 'Sunshine Coast', 'Sydney', 'Tamworth',\n       'Townsville', 'Wagga Wagga'], dtype=object)"
     },
     "execution_count": 10,
     "metadata": {},
     "output_type": "execute_result"
    }
   ],
   "source": [
    "airports"
   ],
   "metadata": {
    "collapsed": false
   }
  },
  {
   "cell_type": "markdown",
   "source": [
    "## Load a dataset containing the location of all of our airports"
   ],
   "metadata": {
    "collapsed": false
   }
  },
  {
   "cell_type": "code",
   "execution_count": 11,
   "outputs": [],
   "source": [
    "distances_file = pd.read_csv(\"australian_air_distances_updated.csv\")"
   ],
   "metadata": {
    "collapsed": false
   }
  },
  {
   "cell_type": "code",
   "execution_count": 12,
   "outputs": [
    {
     "data": {
      "text/plain": "      A NAME A CODE  A LAT DEG  A LAT MIN  A LAT SEC A LAT DIR  A LONG DEG  \\\n0  Abu Dhabi    AUH         24         26          0         N          54   \n1  Abu Dhabi    AUH         24         26          0         N          54   \n2  Abu Dhabi    AUH         24         26          0         N          54   \n3  Abu Dhabi    AUH         24         26          0         N          54   \n4  Abu Dhabi    AUH         24         26          0         N          54   \n\n   A LONG MIN  A LONG SEC A LONG DIR  ... B LAT MIN B LAT SEC  B LAT DIR  \\\n0          39           0          E  ...        56        47          S   \n1          39           0          E  ...        23         9          S   \n2          39           0          E  ...        40        29          S   \n3          39           0          E  ...        56        29          S   \n4          39           0          E  ...        56        51          S   \n\n   B LONG DEG  B LONG MIN B LONG SEC  B LONG DIR  DIST KM  DIST NM DIST SM  \n0         138          31         46           E    11018     5945    6846  \n1         153           6         59           E    12018     6485    7468  \n2         144          50         32           E    11657     6290    7243  \n3         115          57         55           E     9035     4875    5614  \n4         151          10         34           E    12068     6512    7499  \n\n[5 rows x 23 columns]",
      "text/html": "<div>\n<style scoped>\n    .dataframe tbody tr th:only-of-type {\n        vertical-align: middle;\n    }\n\n    .dataframe tbody tr th {\n        vertical-align: top;\n    }\n\n    .dataframe thead th {\n        text-align: right;\n    }\n</style>\n<table border=\"1\" class=\"dataframe\">\n  <thead>\n    <tr style=\"text-align: right;\">\n      <th></th>\n      <th>A NAME</th>\n      <th>A CODE</th>\n      <th>A LAT DEG</th>\n      <th>A LAT MIN</th>\n      <th>A LAT SEC</th>\n      <th>A LAT DIR</th>\n      <th>A LONG DEG</th>\n      <th>A LONG MIN</th>\n      <th>A LONG SEC</th>\n      <th>A LONG DIR</th>\n      <th>...</th>\n      <th>B LAT MIN</th>\n      <th>B LAT SEC</th>\n      <th>B LAT DIR</th>\n      <th>B LONG DEG</th>\n      <th>B LONG MIN</th>\n      <th>B LONG SEC</th>\n      <th>B LONG DIR</th>\n      <th>DIST KM</th>\n      <th>DIST NM</th>\n      <th>DIST SM</th>\n    </tr>\n  </thead>\n  <tbody>\n    <tr>\n      <th>0</th>\n      <td>Abu Dhabi</td>\n      <td>AUH</td>\n      <td>24</td>\n      <td>26</td>\n      <td>0</td>\n      <td>N</td>\n      <td>54</td>\n      <td>39</td>\n      <td>0</td>\n      <td>E</td>\n      <td>...</td>\n      <td>56</td>\n      <td>47</td>\n      <td>S</td>\n      <td>138</td>\n      <td>31</td>\n      <td>46</td>\n      <td>E</td>\n      <td>11018</td>\n      <td>5945</td>\n      <td>6846</td>\n    </tr>\n    <tr>\n      <th>1</th>\n      <td>Abu Dhabi</td>\n      <td>AUH</td>\n      <td>24</td>\n      <td>26</td>\n      <td>0</td>\n      <td>N</td>\n      <td>54</td>\n      <td>39</td>\n      <td>0</td>\n      <td>E</td>\n      <td>...</td>\n      <td>23</td>\n      <td>9</td>\n      <td>S</td>\n      <td>153</td>\n      <td>6</td>\n      <td>59</td>\n      <td>E</td>\n      <td>12018</td>\n      <td>6485</td>\n      <td>7468</td>\n    </tr>\n    <tr>\n      <th>2</th>\n      <td>Abu Dhabi</td>\n      <td>AUH</td>\n      <td>24</td>\n      <td>26</td>\n      <td>0</td>\n      <td>N</td>\n      <td>54</td>\n      <td>39</td>\n      <td>0</td>\n      <td>E</td>\n      <td>...</td>\n      <td>40</td>\n      <td>29</td>\n      <td>S</td>\n      <td>144</td>\n      <td>50</td>\n      <td>32</td>\n      <td>E</td>\n      <td>11657</td>\n      <td>6290</td>\n      <td>7243</td>\n    </tr>\n    <tr>\n      <th>3</th>\n      <td>Abu Dhabi</td>\n      <td>AUH</td>\n      <td>24</td>\n      <td>26</td>\n      <td>0</td>\n      <td>N</td>\n      <td>54</td>\n      <td>39</td>\n      <td>0</td>\n      <td>E</td>\n      <td>...</td>\n      <td>56</td>\n      <td>29</td>\n      <td>S</td>\n      <td>115</td>\n      <td>57</td>\n      <td>55</td>\n      <td>E</td>\n      <td>9035</td>\n      <td>4875</td>\n      <td>5614</td>\n    </tr>\n    <tr>\n      <th>4</th>\n      <td>Abu Dhabi</td>\n      <td>AUH</td>\n      <td>24</td>\n      <td>26</td>\n      <td>0</td>\n      <td>N</td>\n      <td>54</td>\n      <td>39</td>\n      <td>0</td>\n      <td>E</td>\n      <td>...</td>\n      <td>56</td>\n      <td>51</td>\n      <td>S</td>\n      <td>151</td>\n      <td>10</td>\n      <td>34</td>\n      <td>E</td>\n      <td>12068</td>\n      <td>6512</td>\n      <td>7499</td>\n    </tr>\n  </tbody>\n</table>\n<p>5 rows × 23 columns</p>\n</div>"
     },
     "execution_count": 12,
     "metadata": {},
     "output_type": "execute_result"
    }
   ],
   "source": [
    "distances_file.head()"
   ],
   "metadata": {
    "collapsed": false
   }
  },
  {
   "cell_type": "markdown",
   "source": [
    "There are two airports which have different names in the locations\n",
    "dataset compared to our dataset, so we must replace them"
   ],
   "metadata": {
    "collapsed": false
   }
  },
  {
   "cell_type": "code",
   "execution_count": 13,
   "outputs": [
    {
     "data": {
      "text/plain": "array(['Adelaide', 'Albury', 'Alice Springs', 'Armidale', 'Ayers Rock',\n       'Ballina', 'Brisbane', 'Broome', 'Bundaberg', 'Burnie', 'Cairns',\n       'Canberra', 'Coffs Harbour', 'Darwin', 'Devonport', 'Dubbo',\n       'Emerald', 'Geraldton', 'Gladstone', 'Gold Coast',\n       'Hamilton Island', 'Hervey Bay', 'Hobart', 'Kalgoorlie',\n       'Karratha', 'Launceston', 'Mackay', 'Melbourne', 'Mildura',\n       'Moranbah', 'Mount Isa', 'Newcastle', 'Newman', 'Perth',\n       'Port Hedland', 'Port Lincoln', 'Port Macquarie', 'Proserpine',\n       'Rockhampton', 'Sunshine Coast', 'Sydney', 'Tamworth',\n       'Townsville', 'Wagga Wagga'], dtype=object)"
     },
     "execution_count": 13,
     "metadata": {},
     "output_type": "execute_result"
    }
   ],
   "source": [
    "airports"
   ],
   "metadata": {
    "collapsed": false
   }
  },
  {
   "cell_type": "code",
   "execution_count": 14,
   "outputs": [],
   "source": [
    "def location_decimal_to_degrees(degrees, minutes, seconds, direction, is_latitude):\n",
    "\n",
    "    positive_direction = \"N\" if is_latitude else \"E\"\n",
    "    sign = (1 if direction == positive_direction else -1)\n",
    "\n",
    "    decimal = (degrees + minutes / 60. + seconds / 3600.) * sign\n",
    "\n",
    "    return decimal"
   ],
   "metadata": {
    "collapsed": false
   }
  },
  {
   "cell_type": "code",
   "execution_count": 15,
   "outputs": [
    {
     "data": {
      "text/plain": "-34.94638888888888"
     },
     "execution_count": 15,
     "metadata": {},
     "output_type": "execute_result"
    }
   ],
   "source": [
    "location_decimal_to_degrees(34, 56, 47, \"S\", True)"
   ],
   "metadata": {
    "collapsed": false
   }
  },
  {
   "cell_type": "code",
   "execution_count": 16,
   "outputs": [
    {
     "data": {
      "text/plain": "               name code   latitude   longitude\n0          Adelaide  ADL -34.946389  138.529444\n1            Albury  ABX -36.068889  146.956389\n2     Alice Springs  ASP -23.808333  133.900833\n3          Armidale  ARM -30.530000  151.617500\n4        Ayers Rock  AYQ -25.186944  130.973889\n5           Ballina  QNA -28.836111  153.561389\n6          Brisbane  BNE -27.385833  153.116389\n7            Broome  BME -17.946111  122.230556\n8         Bundaberg  BDB -24.905278  152.317500\n9            Burnie  WNY -41.000278  145.730000\n10           Cairns  CNS -16.887500  145.753611\n11         Canberra  CBR -35.308333  149.193889\n12    Coffs Harbour  CFS -30.321944  153.115556\n13           Darwin  DRW -12.416111  130.875556\n14        Devonport  DPO -41.171667  146.428889\n15            Dubbo  DBO -32.218333  148.573611\n16          Emerald  EMD -23.567500  148.180556\n17        Geraldton  GET -28.797500  114.706111\n18        Gladstone  GLT -23.871389  151.221667\n19       Gold Coast  OOL -28.166111  153.503611\n20  Hamilton Island  HTI -20.359722  148.950556\n21       Hervey Bay  HVB -25.320556  152.879444\n22           Hobart  HBA -42.837778  147.508889\n23       Kalgoorlie  KGI -30.790833  121.461389\n24         Karratha  KTA -20.713611  116.771944\n25       Launceston  LST -41.545556  147.214167\n26           Mackay  MKY -21.173056  149.178611\n27        Melbourne  MEL -37.674722  144.842222\n28          Mildura  MQL -34.230833  142.084167\n29         Moranbah  MOV -22.066667  148.083333\n30        Mount Isa  ISA -20.665278  139.487500\n31        Newcastle  PHJ -32.925000  151.783333\n32           Newman  ZNE -23.419167  119.801389\n33            Perth  PER -31.941389  115.965278\n34     Port Hedland  PHE -20.379167  118.625278\n35     Port Lincoln  PLO -34.606944  135.878889\n36   Port Macquarie  PQQ -31.437778  152.863611\n37       Proserpine  PPP -20.496667  148.551389\n38      Rockhampton  ROK -23.383333  150.474167\n39   Sunshine Coast  MCY -26.604167  153.090000\n40           Sydney  SYD -33.947500  151.176111\n41         Tamworth  TMW -31.085278  150.845556\n42       Townsville  TSV -19.254167  146.764167\n43      Wagga Wagga  WGA -35.166944  147.465278",
      "text/html": "<div>\n<style scoped>\n    .dataframe tbody tr th:only-of-type {\n        vertical-align: middle;\n    }\n\n    .dataframe tbody tr th {\n        vertical-align: top;\n    }\n\n    .dataframe thead th {\n        text-align: right;\n    }\n</style>\n<table border=\"1\" class=\"dataframe\">\n  <thead>\n    <tr style=\"text-align: right;\">\n      <th></th>\n      <th>name</th>\n      <th>code</th>\n      <th>latitude</th>\n      <th>longitude</th>\n    </tr>\n  </thead>\n  <tbody>\n    <tr>\n      <th>0</th>\n      <td>Adelaide</td>\n      <td>ADL</td>\n      <td>-34.946389</td>\n      <td>138.529444</td>\n    </tr>\n    <tr>\n      <th>1</th>\n      <td>Albury</td>\n      <td>ABX</td>\n      <td>-36.068889</td>\n      <td>146.956389</td>\n    </tr>\n    <tr>\n      <th>2</th>\n      <td>Alice Springs</td>\n      <td>ASP</td>\n      <td>-23.808333</td>\n      <td>133.900833</td>\n    </tr>\n    <tr>\n      <th>3</th>\n      <td>Armidale</td>\n      <td>ARM</td>\n      <td>-30.530000</td>\n      <td>151.617500</td>\n    </tr>\n    <tr>\n      <th>4</th>\n      <td>Ayers Rock</td>\n      <td>AYQ</td>\n      <td>-25.186944</td>\n      <td>130.973889</td>\n    </tr>\n    <tr>\n      <th>5</th>\n      <td>Ballina</td>\n      <td>QNA</td>\n      <td>-28.836111</td>\n      <td>153.561389</td>\n    </tr>\n    <tr>\n      <th>6</th>\n      <td>Brisbane</td>\n      <td>BNE</td>\n      <td>-27.385833</td>\n      <td>153.116389</td>\n    </tr>\n    <tr>\n      <th>7</th>\n      <td>Broome</td>\n      <td>BME</td>\n      <td>-17.946111</td>\n      <td>122.230556</td>\n    </tr>\n    <tr>\n      <th>8</th>\n      <td>Bundaberg</td>\n      <td>BDB</td>\n      <td>-24.905278</td>\n      <td>152.317500</td>\n    </tr>\n    <tr>\n      <th>9</th>\n      <td>Burnie</td>\n      <td>WNY</td>\n      <td>-41.000278</td>\n      <td>145.730000</td>\n    </tr>\n    <tr>\n      <th>10</th>\n      <td>Cairns</td>\n      <td>CNS</td>\n      <td>-16.887500</td>\n      <td>145.753611</td>\n    </tr>\n    <tr>\n      <th>11</th>\n      <td>Canberra</td>\n      <td>CBR</td>\n      <td>-35.308333</td>\n      <td>149.193889</td>\n    </tr>\n    <tr>\n      <th>12</th>\n      <td>Coffs Harbour</td>\n      <td>CFS</td>\n      <td>-30.321944</td>\n      <td>153.115556</td>\n    </tr>\n    <tr>\n      <th>13</th>\n      <td>Darwin</td>\n      <td>DRW</td>\n      <td>-12.416111</td>\n      <td>130.875556</td>\n    </tr>\n    <tr>\n      <th>14</th>\n      <td>Devonport</td>\n      <td>DPO</td>\n      <td>-41.171667</td>\n      <td>146.428889</td>\n    </tr>\n    <tr>\n      <th>15</th>\n      <td>Dubbo</td>\n      <td>DBO</td>\n      <td>-32.218333</td>\n      <td>148.573611</td>\n    </tr>\n    <tr>\n      <th>16</th>\n      <td>Emerald</td>\n      <td>EMD</td>\n      <td>-23.567500</td>\n      <td>148.180556</td>\n    </tr>\n    <tr>\n      <th>17</th>\n      <td>Geraldton</td>\n      <td>GET</td>\n      <td>-28.797500</td>\n      <td>114.706111</td>\n    </tr>\n    <tr>\n      <th>18</th>\n      <td>Gladstone</td>\n      <td>GLT</td>\n      <td>-23.871389</td>\n      <td>151.221667</td>\n    </tr>\n    <tr>\n      <th>19</th>\n      <td>Gold Coast</td>\n      <td>OOL</td>\n      <td>-28.166111</td>\n      <td>153.503611</td>\n    </tr>\n    <tr>\n      <th>20</th>\n      <td>Hamilton Island</td>\n      <td>HTI</td>\n      <td>-20.359722</td>\n      <td>148.950556</td>\n    </tr>\n    <tr>\n      <th>21</th>\n      <td>Hervey Bay</td>\n      <td>HVB</td>\n      <td>-25.320556</td>\n      <td>152.879444</td>\n    </tr>\n    <tr>\n      <th>22</th>\n      <td>Hobart</td>\n      <td>HBA</td>\n      <td>-42.837778</td>\n      <td>147.508889</td>\n    </tr>\n    <tr>\n      <th>23</th>\n      <td>Kalgoorlie</td>\n      <td>KGI</td>\n      <td>-30.790833</td>\n      <td>121.461389</td>\n    </tr>\n    <tr>\n      <th>24</th>\n      <td>Karratha</td>\n      <td>KTA</td>\n      <td>-20.713611</td>\n      <td>116.771944</td>\n    </tr>\n    <tr>\n      <th>25</th>\n      <td>Launceston</td>\n      <td>LST</td>\n      <td>-41.545556</td>\n      <td>147.214167</td>\n    </tr>\n    <tr>\n      <th>26</th>\n      <td>Mackay</td>\n      <td>MKY</td>\n      <td>-21.173056</td>\n      <td>149.178611</td>\n    </tr>\n    <tr>\n      <th>27</th>\n      <td>Melbourne</td>\n      <td>MEL</td>\n      <td>-37.674722</td>\n      <td>144.842222</td>\n    </tr>\n    <tr>\n      <th>28</th>\n      <td>Mildura</td>\n      <td>MQL</td>\n      <td>-34.230833</td>\n      <td>142.084167</td>\n    </tr>\n    <tr>\n      <th>29</th>\n      <td>Moranbah</td>\n      <td>MOV</td>\n      <td>-22.066667</td>\n      <td>148.083333</td>\n    </tr>\n    <tr>\n      <th>30</th>\n      <td>Mount Isa</td>\n      <td>ISA</td>\n      <td>-20.665278</td>\n      <td>139.487500</td>\n    </tr>\n    <tr>\n      <th>31</th>\n      <td>Newcastle</td>\n      <td>PHJ</td>\n      <td>-32.925000</td>\n      <td>151.783333</td>\n    </tr>\n    <tr>\n      <th>32</th>\n      <td>Newman</td>\n      <td>ZNE</td>\n      <td>-23.419167</td>\n      <td>119.801389</td>\n    </tr>\n    <tr>\n      <th>33</th>\n      <td>Perth</td>\n      <td>PER</td>\n      <td>-31.941389</td>\n      <td>115.965278</td>\n    </tr>\n    <tr>\n      <th>34</th>\n      <td>Port Hedland</td>\n      <td>PHE</td>\n      <td>-20.379167</td>\n      <td>118.625278</td>\n    </tr>\n    <tr>\n      <th>35</th>\n      <td>Port Lincoln</td>\n      <td>PLO</td>\n      <td>-34.606944</td>\n      <td>135.878889</td>\n    </tr>\n    <tr>\n      <th>36</th>\n      <td>Port Macquarie</td>\n      <td>PQQ</td>\n      <td>-31.437778</td>\n      <td>152.863611</td>\n    </tr>\n    <tr>\n      <th>37</th>\n      <td>Proserpine</td>\n      <td>PPP</td>\n      <td>-20.496667</td>\n      <td>148.551389</td>\n    </tr>\n    <tr>\n      <th>38</th>\n      <td>Rockhampton</td>\n      <td>ROK</td>\n      <td>-23.383333</td>\n      <td>150.474167</td>\n    </tr>\n    <tr>\n      <th>39</th>\n      <td>Sunshine Coast</td>\n      <td>MCY</td>\n      <td>-26.604167</td>\n      <td>153.090000</td>\n    </tr>\n    <tr>\n      <th>40</th>\n      <td>Sydney</td>\n      <td>SYD</td>\n      <td>-33.947500</td>\n      <td>151.176111</td>\n    </tr>\n    <tr>\n      <th>41</th>\n      <td>Tamworth</td>\n      <td>TMW</td>\n      <td>-31.085278</td>\n      <td>150.845556</td>\n    </tr>\n    <tr>\n      <th>42</th>\n      <td>Townsville</td>\n      <td>TSV</td>\n      <td>-19.254167</td>\n      <td>146.764167</td>\n    </tr>\n    <tr>\n      <th>43</th>\n      <td>Wagga Wagga</td>\n      <td>WGA</td>\n      <td>-35.166944</td>\n      <td>147.465278</td>\n    </tr>\n  </tbody>\n</table>\n</div>"
     },
     "execution_count": 16,
     "metadata": {},
     "output_type": "execute_result"
    }
   ],
   "source": [
    "# There are two airports which are referred to by different\n",
    "# names in the distances dataset compared to ours, so we\n",
    "# will need to translate them to get the relevant data.\n",
    "name_replacements = {\n",
    "    \"Newcastle\" : \"Newcastle Seaplane\",\n",
    "    \"Sunshine Coast\" : \"Maroochydore\"\n",
    "}\n",
    "\n",
    "airport_latitudes = []\n",
    "airport_longitudes = []\n",
    "airport_codes = []\n",
    "\n",
    "for airport in airports:\n",
    "    #print(airport)\n",
    "\n",
    "    airport_name = airport\n",
    "    if airport_name in name_replacements:\n",
    "        airport_name = name_replacements[airport_name]\n",
    "\n",
    "    # Get the entry in australian_air_distances_updated that matches our airport.\n",
    "    try:\n",
    "        data = distances_file.loc[distances_file[\"A NAME\"] == airport_name].iloc[0]\n",
    "\n",
    "        # Set the following four variables to the airport's latitude in degrees/minutes/seconds format\n",
    "        # We will convert this to decimal\n",
    "        lat_deg, lat_min, lat_sec, lat_dir = data[\"A LAT DEG\"], data[\"A LAT MIN\"], data[\"A LAT SEC\"], data[\"A LAT DIR\"]\n",
    "\n",
    "        long_deg, long_min, long_sec, long_dir = data[\"A LONG DEG\"], data[\"A LONG MIN\"], data[\"A LONG SEC\"], data[\"A LONG DIR\"]\n",
    "\n",
    "        # Convert location (latitude and longitude) into decimal format\n",
    "        latitude = location_decimal_to_degrees(lat_deg, lat_min, lat_sec, lat_dir, True)\n",
    "\n",
    "        longitude = location_decimal_to_degrees(long_deg, long_min, long_sec, long_dir, False)\n",
    "\n",
    "        airport_latitudes.append(latitude)\n",
    "        airport_longitudes.append(longitude)\n",
    "        airport_codes.append(data[\"A CODE\"])\n",
    "    except Exception:\n",
    "        print(f\"Airport {airport} not included in dataset\")\n",
    "\n",
    "airport_locations = pd.DataFrame({\n",
    "    \"name\" : airports,\n",
    "    \"code\" : airport_codes,\n",
    "    \"latitude\" : airport_latitudes,\n",
    "    \"longitude\" : airport_longitudes\n",
    "})\n",
    "\n",
    "airport_locations"
   ],
   "metadata": {
    "collapsed": false
   }
  },
  {
   "cell_type": "code",
   "execution_count": 17,
   "outputs": [],
   "source": [
    "airport_locations.to_csv(\"airport_locations.csv\")"
   ],
   "metadata": {
    "collapsed": false
   }
  },
  {
   "cell_type": "code",
   "execution_count": 18,
   "outputs": [
    {
     "data": {
      "text/plain": "A NAME        Adelaide\nA CODE             ADL\nA LAT DEG           34\nA LAT MIN           56\nA LAT SEC           47\nA LAT DIR            S\nA LONG DEG         138\nA LONG MIN          31\nA LONG SEC          46\nA LONG DIR           E\nB NAME          Albury\nB CODE             ABX\nB LAT DEG           36\nB LAT MIN            4\nB LAT SEC            8\nB LAT DIR            S\nB LONG DEG         146\nB LONG MIN          57\nB LONG SEC          23\nB LONG DIR           E\nDIST KM            774\nDIST NM            418\nDIST SM            481\nName: 6, dtype: object"
     },
     "execution_count": 18,
     "metadata": {},
     "output_type": "execute_result"
    }
   ],
   "source": [
    "distances_file.loc[distances_file[\"A NAME\"] == \"Adelaide\"].iloc[0]"
   ],
   "metadata": {
    "collapsed": false
   }
  },
  {
   "cell_type": "code",
   "execution_count": 19,
   "outputs": [
    {
     "data": {
      "text/plain": "           A NAME A CODE  A LAT DEG  A LAT MIN  A LAT SEC A LAT DIR  \\\n0       Abu Dhabi    AUH         24         26          0         N   \n1       Abu Dhabi    AUH         24         26          0         N   \n2       Abu Dhabi    AUH         24         26          0         N   \n3       Abu Dhabi    AUH         24         26          0         N   \n4       Abu Dhabi    AUH         24         26          0         N   \n...           ...    ...        ...        ...        ...       ...   \n5631  Williamtown    NTL         32         47         47         S   \n5632     Willowra    WLW         21         15         18         S   \n5633       Wiluna    WUN         26         38          7         S   \n5634       Wiluna    WUN         26         38          7         S   \n5635   Yam Island    YAM          9         54          0         S   \n\n      A LONG DEG  A LONG MIN  A LONG SEC A LONG DIR  ... B LAT MIN B LAT SEC  \\\n0             54          39           0          E  ...        56        47   \n1             54          39           0          E  ...        23         9   \n2             54          39           0          E  ...        40        29   \n3             54          39           0          E  ...        56        29   \n4             54          39           0          E  ...        56        51   \n...          ...         ...         ...        ...  ...       ...       ...   \n5631         151          50           0          E  ...        15        30   \n5632         132          37          21          E  ...        15        22   \n5633         120          13          15          E  ...        22         0   \n5634         120          13          15          E  ...        17         0   \n5635         142          46           0          E  ...        44         0   \n\n      B LAT DIR  B LONG DEG  B LONG MIN B LONG SEC  B LONG DIR  DIST KM  \\\n0             S         138          31         46           E    11018   \n1             S         153           6         59           E    12018   \n2             S         144          50         32           E    11657   \n3             S         115          57         55           E     9035   \n4             S         151          10         34           E    12068   \n...         ...         ...         ...        ...         ...      ...   \n5631          S         148          15          0           E      370   \n5632          S         131          46         50           E      141   \n5633          S         116          39          0           E      402   \n5634          S         120           5          0           E       73   \n5635          S         143          25          0           E       74   \n\n      DIST NM DIST SM  \n0        5945    6846  \n1        6485    7468  \n2        6290    7243  \n3        4875    5614  \n4        6512    7499  \n...       ...     ...  \n5631      200     230  \n5632       76      88  \n5633      217     250  \n5634       39      45  \n5635       40      46  \n\n[5636 rows x 23 columns]",
      "text/html": "<div>\n<style scoped>\n    .dataframe tbody tr th:only-of-type {\n        vertical-align: middle;\n    }\n\n    .dataframe tbody tr th {\n        vertical-align: top;\n    }\n\n    .dataframe thead th {\n        text-align: right;\n    }\n</style>\n<table border=\"1\" class=\"dataframe\">\n  <thead>\n    <tr style=\"text-align: right;\">\n      <th></th>\n      <th>A NAME</th>\n      <th>A CODE</th>\n      <th>A LAT DEG</th>\n      <th>A LAT MIN</th>\n      <th>A LAT SEC</th>\n      <th>A LAT DIR</th>\n      <th>A LONG DEG</th>\n      <th>A LONG MIN</th>\n      <th>A LONG SEC</th>\n      <th>A LONG DIR</th>\n      <th>...</th>\n      <th>B LAT MIN</th>\n      <th>B LAT SEC</th>\n      <th>B LAT DIR</th>\n      <th>B LONG DEG</th>\n      <th>B LONG MIN</th>\n      <th>B LONG SEC</th>\n      <th>B LONG DIR</th>\n      <th>DIST KM</th>\n      <th>DIST NM</th>\n      <th>DIST SM</th>\n    </tr>\n  </thead>\n  <tbody>\n    <tr>\n      <th>0</th>\n      <td>Abu Dhabi</td>\n      <td>AUH</td>\n      <td>24</td>\n      <td>26</td>\n      <td>0</td>\n      <td>N</td>\n      <td>54</td>\n      <td>39</td>\n      <td>0</td>\n      <td>E</td>\n      <td>...</td>\n      <td>56</td>\n      <td>47</td>\n      <td>S</td>\n      <td>138</td>\n      <td>31</td>\n      <td>46</td>\n      <td>E</td>\n      <td>11018</td>\n      <td>5945</td>\n      <td>6846</td>\n    </tr>\n    <tr>\n      <th>1</th>\n      <td>Abu Dhabi</td>\n      <td>AUH</td>\n      <td>24</td>\n      <td>26</td>\n      <td>0</td>\n      <td>N</td>\n      <td>54</td>\n      <td>39</td>\n      <td>0</td>\n      <td>E</td>\n      <td>...</td>\n      <td>23</td>\n      <td>9</td>\n      <td>S</td>\n      <td>153</td>\n      <td>6</td>\n      <td>59</td>\n      <td>E</td>\n      <td>12018</td>\n      <td>6485</td>\n      <td>7468</td>\n    </tr>\n    <tr>\n      <th>2</th>\n      <td>Abu Dhabi</td>\n      <td>AUH</td>\n      <td>24</td>\n      <td>26</td>\n      <td>0</td>\n      <td>N</td>\n      <td>54</td>\n      <td>39</td>\n      <td>0</td>\n      <td>E</td>\n      <td>...</td>\n      <td>40</td>\n      <td>29</td>\n      <td>S</td>\n      <td>144</td>\n      <td>50</td>\n      <td>32</td>\n      <td>E</td>\n      <td>11657</td>\n      <td>6290</td>\n      <td>7243</td>\n    </tr>\n    <tr>\n      <th>3</th>\n      <td>Abu Dhabi</td>\n      <td>AUH</td>\n      <td>24</td>\n      <td>26</td>\n      <td>0</td>\n      <td>N</td>\n      <td>54</td>\n      <td>39</td>\n      <td>0</td>\n      <td>E</td>\n      <td>...</td>\n      <td>56</td>\n      <td>29</td>\n      <td>S</td>\n      <td>115</td>\n      <td>57</td>\n      <td>55</td>\n      <td>E</td>\n      <td>9035</td>\n      <td>4875</td>\n      <td>5614</td>\n    </tr>\n    <tr>\n      <th>4</th>\n      <td>Abu Dhabi</td>\n      <td>AUH</td>\n      <td>24</td>\n      <td>26</td>\n      <td>0</td>\n      <td>N</td>\n      <td>54</td>\n      <td>39</td>\n      <td>0</td>\n      <td>E</td>\n      <td>...</td>\n      <td>56</td>\n      <td>51</td>\n      <td>S</td>\n      <td>151</td>\n      <td>10</td>\n      <td>34</td>\n      <td>E</td>\n      <td>12068</td>\n      <td>6512</td>\n      <td>7499</td>\n    </tr>\n    <tr>\n      <th>...</th>\n      <td>...</td>\n      <td>...</td>\n      <td>...</td>\n      <td>...</td>\n      <td>...</td>\n      <td>...</td>\n      <td>...</td>\n      <td>...</td>\n      <td>...</td>\n      <td>...</td>\n      <td>...</td>\n      <td>...</td>\n      <td>...</td>\n      <td>...</td>\n      <td>...</td>\n      <td>...</td>\n      <td>...</td>\n      <td>...</td>\n      <td>...</td>\n      <td>...</td>\n      <td>...</td>\n    </tr>\n    <tr>\n      <th>5631</th>\n      <td>Williamtown</td>\n      <td>NTL</td>\n      <td>32</td>\n      <td>47</td>\n      <td>47</td>\n      <td>S</td>\n      <td>151</td>\n      <td>50</td>\n      <td>0</td>\n      <td>E</td>\n      <td>...</td>\n      <td>15</td>\n      <td>30</td>\n      <td>S</td>\n      <td>148</td>\n      <td>15</td>\n      <td>0</td>\n      <td>E</td>\n      <td>370</td>\n      <td>200</td>\n      <td>230</td>\n    </tr>\n    <tr>\n      <th>5632</th>\n      <td>Willowra</td>\n      <td>WLW</td>\n      <td>21</td>\n      <td>15</td>\n      <td>18</td>\n      <td>S</td>\n      <td>132</td>\n      <td>37</td>\n      <td>21</td>\n      <td>E</td>\n      <td>...</td>\n      <td>15</td>\n      <td>22</td>\n      <td>S</td>\n      <td>131</td>\n      <td>46</td>\n      <td>50</td>\n      <td>E</td>\n      <td>141</td>\n      <td>76</td>\n      <td>88</td>\n    </tr>\n    <tr>\n      <th>5633</th>\n      <td>Wiluna</td>\n      <td>WUN</td>\n      <td>26</td>\n      <td>38</td>\n      <td>7</td>\n      <td>S</td>\n      <td>120</td>\n      <td>13</td>\n      <td>15</td>\n      <td>E</td>\n      <td>...</td>\n      <td>22</td>\n      <td>0</td>\n      <td>S</td>\n      <td>116</td>\n      <td>39</td>\n      <td>0</td>\n      <td>E</td>\n      <td>402</td>\n      <td>217</td>\n      <td>250</td>\n    </tr>\n    <tr>\n      <th>5634</th>\n      <td>Wiluna</td>\n      <td>WUN</td>\n      <td>26</td>\n      <td>38</td>\n      <td>7</td>\n      <td>S</td>\n      <td>120</td>\n      <td>13</td>\n      <td>15</td>\n      <td>E</td>\n      <td>...</td>\n      <td>17</td>\n      <td>0</td>\n      <td>S</td>\n      <td>120</td>\n      <td>5</td>\n      <td>0</td>\n      <td>E</td>\n      <td>73</td>\n      <td>39</td>\n      <td>45</td>\n    </tr>\n    <tr>\n      <th>5635</th>\n      <td>Yam Island</td>\n      <td>YAM</td>\n      <td>9</td>\n      <td>54</td>\n      <td>0</td>\n      <td>S</td>\n      <td>142</td>\n      <td>46</td>\n      <td>0</td>\n      <td>E</td>\n      <td>...</td>\n      <td>44</td>\n      <td>0</td>\n      <td>S</td>\n      <td>143</td>\n      <td>25</td>\n      <td>0</td>\n      <td>E</td>\n      <td>74</td>\n      <td>40</td>\n      <td>46</td>\n    </tr>\n  </tbody>\n</table>\n<p>5636 rows × 23 columns</p>\n</div>"
     },
     "execution_count": 19,
     "metadata": {},
     "output_type": "execute_result"
    }
   ],
   "source": [
    "distances_file"
   ],
   "metadata": {
    "collapsed": false
   }
  },
  {
   "cell_type": "code",
   "execution_count": 20,
   "outputs": [
    {
     "data": {
      "text/plain": "      Departing_Port Arriving_Port  Month  Year  Average_Fare\n0           Adelaide      Brisbane      8  2010         157.0\n1           Adelaide      Canberra      8  2010         350.0\n2           Adelaide    Gold Coast      8  2010         232.0\n3           Adelaide     Melbourne      8  2010          87.0\n4           Adelaide         Perth      8  2010         406.0\n...              ...           ...    ...   ...           ...\n22886         Sydney    Townsville     11  2023           NaN\n22887         Sydney      Tamworth     12  2023           NaN\n22888         Sydney    Townsville     12  2023           NaN\n22889         Sydney      Tamworth      1  2024           NaN\n22890         Sydney    Townsville      1  2024           NaN\n\n[22891 rows x 5 columns]",
      "text/html": "<div>\n<style scoped>\n    .dataframe tbody tr th:only-of-type {\n        vertical-align: middle;\n    }\n\n    .dataframe tbody tr th {\n        vertical-align: top;\n    }\n\n    .dataframe thead th {\n        text-align: right;\n    }\n</style>\n<table border=\"1\" class=\"dataframe\">\n  <thead>\n    <tr style=\"text-align: right;\">\n      <th></th>\n      <th>Departing_Port</th>\n      <th>Arriving_Port</th>\n      <th>Month</th>\n      <th>Year</th>\n      <th>Average_Fare</th>\n    </tr>\n  </thead>\n  <tbody>\n    <tr>\n      <th>0</th>\n      <td>Adelaide</td>\n      <td>Brisbane</td>\n      <td>8</td>\n      <td>2010</td>\n      <td>157.0</td>\n    </tr>\n    <tr>\n      <th>1</th>\n      <td>Adelaide</td>\n      <td>Canberra</td>\n      <td>8</td>\n      <td>2010</td>\n      <td>350.0</td>\n    </tr>\n    <tr>\n      <th>2</th>\n      <td>Adelaide</td>\n      <td>Gold Coast</td>\n      <td>8</td>\n      <td>2010</td>\n      <td>232.0</td>\n    </tr>\n    <tr>\n      <th>3</th>\n      <td>Adelaide</td>\n      <td>Melbourne</td>\n      <td>8</td>\n      <td>2010</td>\n      <td>87.0</td>\n    </tr>\n    <tr>\n      <th>4</th>\n      <td>Adelaide</td>\n      <td>Perth</td>\n      <td>8</td>\n      <td>2010</td>\n      <td>406.0</td>\n    </tr>\n    <tr>\n      <th>...</th>\n      <td>...</td>\n      <td>...</td>\n      <td>...</td>\n      <td>...</td>\n      <td>...</td>\n    </tr>\n    <tr>\n      <th>22886</th>\n      <td>Sydney</td>\n      <td>Townsville</td>\n      <td>11</td>\n      <td>2023</td>\n      <td>NaN</td>\n    </tr>\n    <tr>\n      <th>22887</th>\n      <td>Sydney</td>\n      <td>Tamworth</td>\n      <td>12</td>\n      <td>2023</td>\n      <td>NaN</td>\n    </tr>\n    <tr>\n      <th>22888</th>\n      <td>Sydney</td>\n      <td>Townsville</td>\n      <td>12</td>\n      <td>2023</td>\n      <td>NaN</td>\n    </tr>\n    <tr>\n      <th>22889</th>\n      <td>Sydney</td>\n      <td>Tamworth</td>\n      <td>1</td>\n      <td>2024</td>\n      <td>NaN</td>\n    </tr>\n    <tr>\n      <th>22890</th>\n      <td>Sydney</td>\n      <td>Townsville</td>\n      <td>1</td>\n      <td>2024</td>\n      <td>NaN</td>\n    </tr>\n  </tbody>\n</table>\n<p>22891 rows × 5 columns</p>\n</div>"
     },
     "execution_count": 20,
     "metadata": {},
     "output_type": "execute_result"
    }
   ],
   "source": [
    "combined_fares_data"
   ],
   "metadata": {
    "collapsed": false
   }
  },
  {
   "cell_type": "code",
   "execution_count": 21,
   "outputs": [],
   "source": [
    "# Source: https://medium.com/@petehouston/calculate-distance-of-two-locations-on-earth-using-python-1501b1944d97\n",
    "from math import radians, degrees, sin, cos, asin, acos, sqrt\n",
    "def great_circle_distance(lat1, lon1, lat2, lon2):\n",
    "    lon1, lat1, lon2, lat2 = map(radians, [lon1, lat1, lon2, lat2])\n",
    "    return 6371 * (\n",
    "        acos(sin(lat1) * sin(lat2) + cos(lat1) * cos(lat2) * cos(lon1 - lon2))\n",
    "    )"
   ],
   "metadata": {
    "collapsed": false
   }
  },
  {
   "cell_type": "code",
   "execution_count": 22,
   "outputs": [],
   "source": [
    "# For all airports in our combined_fares_data dataset,\n",
    "# iterate through all rows of the data,\n",
    "# and get the locations for the arriving and departing airport through\n",
    "# cross-referencing our airport_locations dataset.\n",
    "\n",
    "airport_distances = []\n",
    "\n",
    "for fare_id, fare in combined_fares_data.iterrows():\n",
    "    departing_port = fare[\"Arriving_Port\"]\n",
    "    arriving_port = fare[\"Departing_Port\"]\n",
    "\n",
    "    arriving_airport_data = airport_locations.loc[airport_locations[\"name\"] == arriving_port]\n",
    "    departing_airport_data = airport_locations.loc[airport_locations[\"name\"] == departing_port]\n",
    "\n",
    "    arriving_airport_latitude = arriving_airport_data[\"latitude\"]\n",
    "    arriving_airport_longitude = arriving_airport_data[\"longitude\"]\n",
    "    arriving_airport_code = arriving_airport_data[\"code\"]\n",
    "\n",
    "    departing_airport_latitude = departing_airport_data[\"latitude\"]\n",
    "    departing_airport_longitude = departing_airport_data[\"longitude\"]\n",
    "    departing_airport_code = departing_airport_data[\"code\"]\n",
    "\n",
    "    try:\n",
    "        distance = great_circle_distance(arriving_airport_latitude, arriving_airport_longitude, departing_airport_latitude, departing_airport_longitude)\n",
    "    except Exception as e:\n",
    "        print(f\"Error calculating great-circle distance between {departing_port} and {arriving_port}.\")\n",
    "        print(f\"Row: {fare_id}\")\n",
    "        print(f\"Departing airport location: {departing_airport_latitude}, {departing_airport_longitude}\")\n",
    "        print(f\"Arriving airport location: {arriving_airport_latitude}, {arriving_airport_longitude}\")\n",
    "        print(f\"Traceback:\\n{str(e)}\")\n",
    "\n",
    "        break\n",
    "\n",
    "    # print(arriving_airport_data)\n",
    "    # print(departing_airport_data)\n",
    "    # print(distance)\n",
    "\n",
    "    airport_distances.append(distance)"
   ],
   "metadata": {
    "collapsed": false
   }
  },
  {
   "cell_type": "code",
   "execution_count": 23,
   "outputs": [],
   "source": [
    "combined_fares_data[\"Distance\"] = airport_distances"
   ],
   "metadata": {
    "collapsed": false
   }
  },
  {
   "cell_type": "code",
   "execution_count": 24,
   "outputs": [
    {
     "data": {
      "text/plain": "      Departing_Port Arriving_Port  Month  Year  Average_Fare     Distance\n0           Adelaide      Brisbane      8  2010         157.0  1619.982414\n1           Adelaide      Canberra      8  2010         350.0   970.229046\n2           Adelaide    Gold Coast      8  2010         232.0  1604.162840\n3           Adelaide     Melbourne      8  2010          87.0   641.652927\n4           Adelaide         Perth      8  2010         406.0  2115.440208\n...              ...           ...    ...   ...           ...          ...\n22886         Sydney    Townsville     11  2023           NaN  1691.132106\n22887         Sydney      Tamworth     12  2023           NaN   319.769513\n22888         Sydney    Townsville     12  2023           NaN  1691.132106\n22889         Sydney      Tamworth      1  2024           NaN   319.769513\n22890         Sydney    Townsville      1  2024           NaN  1691.132106\n\n[22891 rows x 6 columns]",
      "text/html": "<div>\n<style scoped>\n    .dataframe tbody tr th:only-of-type {\n        vertical-align: middle;\n    }\n\n    .dataframe tbody tr th {\n        vertical-align: top;\n    }\n\n    .dataframe thead th {\n        text-align: right;\n    }\n</style>\n<table border=\"1\" class=\"dataframe\">\n  <thead>\n    <tr style=\"text-align: right;\">\n      <th></th>\n      <th>Departing_Port</th>\n      <th>Arriving_Port</th>\n      <th>Month</th>\n      <th>Year</th>\n      <th>Average_Fare</th>\n      <th>Distance</th>\n    </tr>\n  </thead>\n  <tbody>\n    <tr>\n      <th>0</th>\n      <td>Adelaide</td>\n      <td>Brisbane</td>\n      <td>8</td>\n      <td>2010</td>\n      <td>157.0</td>\n      <td>1619.982414</td>\n    </tr>\n    <tr>\n      <th>1</th>\n      <td>Adelaide</td>\n      <td>Canberra</td>\n      <td>8</td>\n      <td>2010</td>\n      <td>350.0</td>\n      <td>970.229046</td>\n    </tr>\n    <tr>\n      <th>2</th>\n      <td>Adelaide</td>\n      <td>Gold Coast</td>\n      <td>8</td>\n      <td>2010</td>\n      <td>232.0</td>\n      <td>1604.162840</td>\n    </tr>\n    <tr>\n      <th>3</th>\n      <td>Adelaide</td>\n      <td>Melbourne</td>\n      <td>8</td>\n      <td>2010</td>\n      <td>87.0</td>\n      <td>641.652927</td>\n    </tr>\n    <tr>\n      <th>4</th>\n      <td>Adelaide</td>\n      <td>Perth</td>\n      <td>8</td>\n      <td>2010</td>\n      <td>406.0</td>\n      <td>2115.440208</td>\n    </tr>\n    <tr>\n      <th>...</th>\n      <td>...</td>\n      <td>...</td>\n      <td>...</td>\n      <td>...</td>\n      <td>...</td>\n      <td>...</td>\n    </tr>\n    <tr>\n      <th>22886</th>\n      <td>Sydney</td>\n      <td>Townsville</td>\n      <td>11</td>\n      <td>2023</td>\n      <td>NaN</td>\n      <td>1691.132106</td>\n    </tr>\n    <tr>\n      <th>22887</th>\n      <td>Sydney</td>\n      <td>Tamworth</td>\n      <td>12</td>\n      <td>2023</td>\n      <td>NaN</td>\n      <td>319.769513</td>\n    </tr>\n    <tr>\n      <th>22888</th>\n      <td>Sydney</td>\n      <td>Townsville</td>\n      <td>12</td>\n      <td>2023</td>\n      <td>NaN</td>\n      <td>1691.132106</td>\n    </tr>\n    <tr>\n      <th>22889</th>\n      <td>Sydney</td>\n      <td>Tamworth</td>\n      <td>1</td>\n      <td>2024</td>\n      <td>NaN</td>\n      <td>319.769513</td>\n    </tr>\n    <tr>\n      <th>22890</th>\n      <td>Sydney</td>\n      <td>Townsville</td>\n      <td>1</td>\n      <td>2024</td>\n      <td>NaN</td>\n      <td>1691.132106</td>\n    </tr>\n  </tbody>\n</table>\n<p>22891 rows × 6 columns</p>\n</div>"
     },
     "execution_count": 24,
     "metadata": {},
     "output_type": "execute_result"
    }
   ],
   "source": [
    "combined_fares_data"
   ],
   "metadata": {
    "collapsed": false
   }
  },
  {
   "cell_type": "code",
   "execution_count": 25,
   "outputs": [],
   "source": [
    "combined_fares_data.to_csv(\"fares_with_distance_fixed.csv\", index=False)"
   ],
   "metadata": {
    "collapsed": false
   }
  },
  {
   "cell_type": "code",
   "execution_count": 25,
   "outputs": [],
   "source": [],
   "metadata": {
    "collapsed": false
   }
  }
 ],
 "metadata": {
  "kernelspec": {
   "display_name": "Python 3",
   "language": "python",
   "name": "python3"
  },
  "language_info": {
   "codemirror_mode": {
    "name": "ipython",
    "version": 2
   },
   "file_extension": ".py",
   "mimetype": "text/x-python",
   "name": "python",
   "nbconvert_exporter": "python",
   "pygments_lexer": "ipython2",
   "version": "2.7.6"
  }
 },
 "nbformat": 4,
 "nbformat_minor": 0
}
