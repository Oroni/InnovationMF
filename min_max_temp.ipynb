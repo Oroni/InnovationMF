{
 "cells": [
  {
   "cell_type": "code",
   "execution_count": 41,
   "metadata": {
    "collapsed": true,
    "ExecuteTime": {
     "end_time": "2024-09-28T12:45:07.296074400Z",
     "start_time": "2024-09-28T12:45:07.264271100Z"
    }
   },
   "outputs": [],
   "source": [
    "import pandas as pd\n",
    "import numpy as np"
   ]
  },
  {
   "cell_type": "code",
   "execution_count": 42,
   "outputs": [],
   "source": [
    "MAX_TEMP = r\"C:\\Users\\ASUS\\OneDrive\\Semester 3\\Innovation Project\\Assign_02\\Temperature Data\\Albury\\IDCJAC0002_072160\\albury_max_temp.csv\"\n",
    "MIN_TEMP = r\"C:\\Users\\ASUS\\OneDrive\\Semester 3\\Innovation Project\\Assign_02\\Temperature Data\\Albury\\IDCJAC0004_072160\\albury_min_temp.csv\""
   ],
   "metadata": {
    "collapsed": false,
    "ExecuteTime": {
     "end_time": "2024-09-28T12:45:09.643823500Z",
     "start_time": "2024-09-28T12:45:09.619429100Z"
    }
   }
  },
  {
   "cell_type": "code",
   "execution_count": 43,
   "outputs": [],
   "source": [
    "max_temp = pd.read_csv(MAX_TEMP)\n",
    "min_temp = pd.read_csv(MIN_TEMP)"
   ],
   "metadata": {
    "collapsed": false,
    "ExecuteTime": {
     "end_time": "2024-09-28T12:45:11.859998600Z",
     "start_time": "2024-09-28T12:45:11.830643400Z"
    }
   }
  },
  {
   "cell_type": "code",
   "execution_count": 44,
   "outputs": [
    {
     "data": {
      "text/plain": "   Product code  Station Number  Year   Jan   Feb   Mar   Apr   May   Jun  \\\n0    IDCJAC0002           72160  1993   NaN   NaN   NaN   NaN  16.9  12.4   \n1    IDCJAC0002           72160  1994  28.3  29.1  24.0  22.4  18.9  13.5   \n2    IDCJAC0002           72160  1995  30.3  29.7  26.8  20.2  16.9  13.8   \n3    IDCJAC0002           72160  1996  29.2  27.4  26.5  19.6  17.9  14.5   \n4    IDCJAC0002           72160  1997  31.9  34.7  26.9  23.6  17.6  14.2   \n5    IDCJAC0002           72160  1998  32.9  32.7  30.0  22.1  17.3  14.1   \n6    IDCJAC0002           72160  1999  34.7  31.4  26.5  21.3  18.0  14.4   \n7    IDCJAC0002           72160  2000  28.0  32.9  27.5  22.0  15.4  12.7   \n8    IDCJAC0002           72160  2001  34.0  31.8  26.5  22.8  17.7  14.7   \n9    IDCJAC0002           72160  2002  30.8  28.3  28.5  24.2  18.5  14.6   \n10   IDCJAC0002           72160  2003  33.5  32.9  27.8  22.9  18.8  13.3   \n11   IDCJAC0002           72160  2004  30.1  33.7  29.3  23.4  16.2  13.2   \n12   IDCJAC0002           72160  2005  31.0  27.0  26.3  25.8  19.4  15.9   \n13   IDCJAC0002           72160  2006  35.2  32.6  30.4  19.8  16.9  14.0   \n14   IDCJAC0002           72160  2007  33.0  33.8  28.8  24.9  19.1  13.7   \n15   IDCJAC0002           72160  2008  33.2  27.3  29.2  21.7  17.5  16.1   \n16   IDCJAC0002           72160  2009  34.7  33.4  28.3  21.8  18.3  13.8   \n17   IDCJAC0002           72160  2010  34.4  31.1  27.4  22.5  18.1  13.7   \n18   IDCJAC0002           72160  2011  31.3  28.2  25.2  21.0  16.3  14.5   \n19   IDCJAC0002           72160  2012  31.6  29.2  24.7  22.4  16.4  13.8   \n20   IDCJAC0002           72160  2013  34.9  32.7  28.7  23.0  17.2  14.6   \n21   IDCJAC0002           72160  2014  34.0  33.2  28.4  22.0  17.8  14.2   \n22   IDCJAC0002           72160  2015  30.3  32.3  27.7  22.0  17.0  13.3   \n23   IDCJAC0002           72160  2016  31.5  32.4  30.8  25.8  18.1  13.4   \n24   IDCJAC0002           72160  2017  33.7  31.4  30.2  22.1  17.3  14.2   \n25   IDCJAC0002           72160  2018  34.3  32.1  29.6  26.8  18.5  14.5   \n26   IDCJAC0002           72160  2019  37.4  31.8  28.7  24.7  17.0  14.1   \n27   IDCJAC0002           72160  2020  33.1  31.0  26.2  20.3  16.3  13.6   \n28   IDCJAC0002           72160  2021  31.5  28.7  25.7  22.4  18.2  13.7   \n29   IDCJAC0002           72160  2022  30.7  29.1  27.6  22.5  17.7  13.0   \n30   IDCJAC0002           72160  2023  31.0  29.6  27.6  21.6  15.8  14.1   \n31   IDCJAC0002           72160  2024  31.5  33.4  31.2  22.8  19.9  14.8   \n\n     Jul   Aug   Sep   Oct   Nov   Dec  Annual  \n0   13.1  14.7  17.0  18.6  23.2  26.1     NaN  \n1   13.6  14.8  16.6  23.2  25.5  32.7    21.9  \n2   10.9  16.3  17.1  20.9  23.1  26.4    21.0  \n3   12.0  14.0  16.9  21.2  22.6  27.7    20.8  \n4   13.3  13.8  18.0  22.4  27.7  31.7    23.0  \n5   12.2  15.7  17.8  19.9  23.8  30.8    22.4  \n6   14.6  15.8  19.6  22.0  23.7  27.4    22.4  \n7   13.0  14.3  17.4  19.5  26.4  30.1    21.6  \n8   14.1  15.0  19.3  19.0  24.2  27.1    22.2  \n9   13.5  15.7  18.8  22.8  29.7  31.6    23.1  \n10  13.4  13.7  16.0  17.8  25.5  30.0    22.1  \n11  12.2  14.5  16.7  22.2  25.5  28.2    22.1  \n12  13.3  15.2  17.5  20.6  25.1  29.0    22.2  \n13  13.9  16.0  20.3  25.5  28.9  30.9    23.7  \n14  12.3  16.7  18.2  23.9  28.3  29.2    23.5  \n15  13.1  13.9  19.3  24.5  25.5  27.3    22.4  \n16  13.1  15.1  18.2  21.3  30.5  31.0    23.3  \n17  13.4  13.2  16.6  20.8  24.9  27.1    21.9  \n18  13.0  16.3  18.7  21.8  26.7  27.7    21.7  \n19  13.7  14.3  18.3  21.5  27.3  29.8    21.9  \n20  14.4  15.0  19.6  21.6  26.3  30.8    23.2  \n21  13.3  15.8  19.1  24.6  28.5  30.0    23.4  \n22  12.5  13.8  18.7  27.0  28.0  31.4    22.8  \n23  13.3  15.2  16.8  19.7  25.6  30.5    22.8  \n24  13.1  14.1  17.5  23.1  27.7  30.0    22.9  \n25  13.6  14.1  18.6  24.9  26.4  32.6    23.8  \n26  13.6  14.1  18.0  24.3  26.8  32.8    23.6  \n27  13.9  14.4  18.9  22.5  29.2  29.0    22.4  \n28  12.7  15.6  18.2  20.5  23.1  29.0    21.6  \n29  13.9  15.4  17.4  20.7  22.1  27.4    21.5  \n30  14.5  16.6  21.4  21.5  27.2  29.9    22.6  \n31  13.7  17.1   NaN   NaN   NaN   NaN     NaN  ",
      "text/html": "<div>\n<style scoped>\n    .dataframe tbody tr th:only-of-type {\n        vertical-align: middle;\n    }\n\n    .dataframe tbody tr th {\n        vertical-align: top;\n    }\n\n    .dataframe thead th {\n        text-align: right;\n    }\n</style>\n<table border=\"1\" class=\"dataframe\">\n  <thead>\n    <tr style=\"text-align: right;\">\n      <th></th>\n      <th>Product code</th>\n      <th>Station Number</th>\n      <th>Year</th>\n      <th>Jan</th>\n      <th>Feb</th>\n      <th>Mar</th>\n      <th>Apr</th>\n      <th>May</th>\n      <th>Jun</th>\n      <th>Jul</th>\n      <th>Aug</th>\n      <th>Sep</th>\n      <th>Oct</th>\n      <th>Nov</th>\n      <th>Dec</th>\n      <th>Annual</th>\n    </tr>\n  </thead>\n  <tbody>\n    <tr>\n      <th>0</th>\n      <td>IDCJAC0002</td>\n      <td>72160</td>\n      <td>1993</td>\n      <td>NaN</td>\n      <td>NaN</td>\n      <td>NaN</td>\n      <td>NaN</td>\n      <td>16.9</td>\n      <td>12.4</td>\n      <td>13.1</td>\n      <td>14.7</td>\n      <td>17.0</td>\n      <td>18.6</td>\n      <td>23.2</td>\n      <td>26.1</td>\n      <td>NaN</td>\n    </tr>\n    <tr>\n      <th>1</th>\n      <td>IDCJAC0002</td>\n      <td>72160</td>\n      <td>1994</td>\n      <td>28.3</td>\n      <td>29.1</td>\n      <td>24.0</td>\n      <td>22.4</td>\n      <td>18.9</td>\n      <td>13.5</td>\n      <td>13.6</td>\n      <td>14.8</td>\n      <td>16.6</td>\n      <td>23.2</td>\n      <td>25.5</td>\n      <td>32.7</td>\n      <td>21.9</td>\n    </tr>\n    <tr>\n      <th>2</th>\n      <td>IDCJAC0002</td>\n      <td>72160</td>\n      <td>1995</td>\n      <td>30.3</td>\n      <td>29.7</td>\n      <td>26.8</td>\n      <td>20.2</td>\n      <td>16.9</td>\n      <td>13.8</td>\n      <td>10.9</td>\n      <td>16.3</td>\n      <td>17.1</td>\n      <td>20.9</td>\n      <td>23.1</td>\n      <td>26.4</td>\n      <td>21.0</td>\n    </tr>\n    <tr>\n      <th>3</th>\n      <td>IDCJAC0002</td>\n      <td>72160</td>\n      <td>1996</td>\n      <td>29.2</td>\n      <td>27.4</td>\n      <td>26.5</td>\n      <td>19.6</td>\n      <td>17.9</td>\n      <td>14.5</td>\n      <td>12.0</td>\n      <td>14.0</td>\n      <td>16.9</td>\n      <td>21.2</td>\n      <td>22.6</td>\n      <td>27.7</td>\n      <td>20.8</td>\n    </tr>\n    <tr>\n      <th>4</th>\n      <td>IDCJAC0002</td>\n      <td>72160</td>\n      <td>1997</td>\n      <td>31.9</td>\n      <td>34.7</td>\n      <td>26.9</td>\n      <td>23.6</td>\n      <td>17.6</td>\n      <td>14.2</td>\n      <td>13.3</td>\n      <td>13.8</td>\n      <td>18.0</td>\n      <td>22.4</td>\n      <td>27.7</td>\n      <td>31.7</td>\n      <td>23.0</td>\n    </tr>\n    <tr>\n      <th>5</th>\n      <td>IDCJAC0002</td>\n      <td>72160</td>\n      <td>1998</td>\n      <td>32.9</td>\n      <td>32.7</td>\n      <td>30.0</td>\n      <td>22.1</td>\n      <td>17.3</td>\n      <td>14.1</td>\n      <td>12.2</td>\n      <td>15.7</td>\n      <td>17.8</td>\n      <td>19.9</td>\n      <td>23.8</td>\n      <td>30.8</td>\n      <td>22.4</td>\n    </tr>\n    <tr>\n      <th>6</th>\n      <td>IDCJAC0002</td>\n      <td>72160</td>\n      <td>1999</td>\n      <td>34.7</td>\n      <td>31.4</td>\n      <td>26.5</td>\n      <td>21.3</td>\n      <td>18.0</td>\n      <td>14.4</td>\n      <td>14.6</td>\n      <td>15.8</td>\n      <td>19.6</td>\n      <td>22.0</td>\n      <td>23.7</td>\n      <td>27.4</td>\n      <td>22.4</td>\n    </tr>\n    <tr>\n      <th>7</th>\n      <td>IDCJAC0002</td>\n      <td>72160</td>\n      <td>2000</td>\n      <td>28.0</td>\n      <td>32.9</td>\n      <td>27.5</td>\n      <td>22.0</td>\n      <td>15.4</td>\n      <td>12.7</td>\n      <td>13.0</td>\n      <td>14.3</td>\n      <td>17.4</td>\n      <td>19.5</td>\n      <td>26.4</td>\n      <td>30.1</td>\n      <td>21.6</td>\n    </tr>\n    <tr>\n      <th>8</th>\n      <td>IDCJAC0002</td>\n      <td>72160</td>\n      <td>2001</td>\n      <td>34.0</td>\n      <td>31.8</td>\n      <td>26.5</td>\n      <td>22.8</td>\n      <td>17.7</td>\n      <td>14.7</td>\n      <td>14.1</td>\n      <td>15.0</td>\n      <td>19.3</td>\n      <td>19.0</td>\n      <td>24.2</td>\n      <td>27.1</td>\n      <td>22.2</td>\n    </tr>\n    <tr>\n      <th>9</th>\n      <td>IDCJAC0002</td>\n      <td>72160</td>\n      <td>2002</td>\n      <td>30.8</td>\n      <td>28.3</td>\n      <td>28.5</td>\n      <td>24.2</td>\n      <td>18.5</td>\n      <td>14.6</td>\n      <td>13.5</td>\n      <td>15.7</td>\n      <td>18.8</td>\n      <td>22.8</td>\n      <td>29.7</td>\n      <td>31.6</td>\n      <td>23.1</td>\n    </tr>\n    <tr>\n      <th>10</th>\n      <td>IDCJAC0002</td>\n      <td>72160</td>\n      <td>2003</td>\n      <td>33.5</td>\n      <td>32.9</td>\n      <td>27.8</td>\n      <td>22.9</td>\n      <td>18.8</td>\n      <td>13.3</td>\n      <td>13.4</td>\n      <td>13.7</td>\n      <td>16.0</td>\n      <td>17.8</td>\n      <td>25.5</td>\n      <td>30.0</td>\n      <td>22.1</td>\n    </tr>\n    <tr>\n      <th>11</th>\n      <td>IDCJAC0002</td>\n      <td>72160</td>\n      <td>2004</td>\n      <td>30.1</td>\n      <td>33.7</td>\n      <td>29.3</td>\n      <td>23.4</td>\n      <td>16.2</td>\n      <td>13.2</td>\n      <td>12.2</td>\n      <td>14.5</td>\n      <td>16.7</td>\n      <td>22.2</td>\n      <td>25.5</td>\n      <td>28.2</td>\n      <td>22.1</td>\n    </tr>\n    <tr>\n      <th>12</th>\n      <td>IDCJAC0002</td>\n      <td>72160</td>\n      <td>2005</td>\n      <td>31.0</td>\n      <td>27.0</td>\n      <td>26.3</td>\n      <td>25.8</td>\n      <td>19.4</td>\n      <td>15.9</td>\n      <td>13.3</td>\n      <td>15.2</td>\n      <td>17.5</td>\n      <td>20.6</td>\n      <td>25.1</td>\n      <td>29.0</td>\n      <td>22.2</td>\n    </tr>\n    <tr>\n      <th>13</th>\n      <td>IDCJAC0002</td>\n      <td>72160</td>\n      <td>2006</td>\n      <td>35.2</td>\n      <td>32.6</td>\n      <td>30.4</td>\n      <td>19.8</td>\n      <td>16.9</td>\n      <td>14.0</td>\n      <td>13.9</td>\n      <td>16.0</td>\n      <td>20.3</td>\n      <td>25.5</td>\n      <td>28.9</td>\n      <td>30.9</td>\n      <td>23.7</td>\n    </tr>\n    <tr>\n      <th>14</th>\n      <td>IDCJAC0002</td>\n      <td>72160</td>\n      <td>2007</td>\n      <td>33.0</td>\n      <td>33.8</td>\n      <td>28.8</td>\n      <td>24.9</td>\n      <td>19.1</td>\n      <td>13.7</td>\n      <td>12.3</td>\n      <td>16.7</td>\n      <td>18.2</td>\n      <td>23.9</td>\n      <td>28.3</td>\n      <td>29.2</td>\n      <td>23.5</td>\n    </tr>\n    <tr>\n      <th>15</th>\n      <td>IDCJAC0002</td>\n      <td>72160</td>\n      <td>2008</td>\n      <td>33.2</td>\n      <td>27.3</td>\n      <td>29.2</td>\n      <td>21.7</td>\n      <td>17.5</td>\n      <td>16.1</td>\n      <td>13.1</td>\n      <td>13.9</td>\n      <td>19.3</td>\n      <td>24.5</td>\n      <td>25.5</td>\n      <td>27.3</td>\n      <td>22.4</td>\n    </tr>\n    <tr>\n      <th>16</th>\n      <td>IDCJAC0002</td>\n      <td>72160</td>\n      <td>2009</td>\n      <td>34.7</td>\n      <td>33.4</td>\n      <td>28.3</td>\n      <td>21.8</td>\n      <td>18.3</td>\n      <td>13.8</td>\n      <td>13.1</td>\n      <td>15.1</td>\n      <td>18.2</td>\n      <td>21.3</td>\n      <td>30.5</td>\n      <td>31.0</td>\n      <td>23.3</td>\n    </tr>\n    <tr>\n      <th>17</th>\n      <td>IDCJAC0002</td>\n      <td>72160</td>\n      <td>2010</td>\n      <td>34.4</td>\n      <td>31.1</td>\n      <td>27.4</td>\n      <td>22.5</td>\n      <td>18.1</td>\n      <td>13.7</td>\n      <td>13.4</td>\n      <td>13.2</td>\n      <td>16.6</td>\n      <td>20.8</td>\n      <td>24.9</td>\n      <td>27.1</td>\n      <td>21.9</td>\n    </tr>\n    <tr>\n      <th>18</th>\n      <td>IDCJAC0002</td>\n      <td>72160</td>\n      <td>2011</td>\n      <td>31.3</td>\n      <td>28.2</td>\n      <td>25.2</td>\n      <td>21.0</td>\n      <td>16.3</td>\n      <td>14.5</td>\n      <td>13.0</td>\n      <td>16.3</td>\n      <td>18.7</td>\n      <td>21.8</td>\n      <td>26.7</td>\n      <td>27.7</td>\n      <td>21.7</td>\n    </tr>\n    <tr>\n      <th>19</th>\n      <td>IDCJAC0002</td>\n      <td>72160</td>\n      <td>2012</td>\n      <td>31.6</td>\n      <td>29.2</td>\n      <td>24.7</td>\n      <td>22.4</td>\n      <td>16.4</td>\n      <td>13.8</td>\n      <td>13.7</td>\n      <td>14.3</td>\n      <td>18.3</td>\n      <td>21.5</td>\n      <td>27.3</td>\n      <td>29.8</td>\n      <td>21.9</td>\n    </tr>\n    <tr>\n      <th>20</th>\n      <td>IDCJAC0002</td>\n      <td>72160</td>\n      <td>2013</td>\n      <td>34.9</td>\n      <td>32.7</td>\n      <td>28.7</td>\n      <td>23.0</td>\n      <td>17.2</td>\n      <td>14.6</td>\n      <td>14.4</td>\n      <td>15.0</td>\n      <td>19.6</td>\n      <td>21.6</td>\n      <td>26.3</td>\n      <td>30.8</td>\n      <td>23.2</td>\n    </tr>\n    <tr>\n      <th>21</th>\n      <td>IDCJAC0002</td>\n      <td>72160</td>\n      <td>2014</td>\n      <td>34.0</td>\n      <td>33.2</td>\n      <td>28.4</td>\n      <td>22.0</td>\n      <td>17.8</td>\n      <td>14.2</td>\n      <td>13.3</td>\n      <td>15.8</td>\n      <td>19.1</td>\n      <td>24.6</td>\n      <td>28.5</td>\n      <td>30.0</td>\n      <td>23.4</td>\n    </tr>\n    <tr>\n      <th>22</th>\n      <td>IDCJAC0002</td>\n      <td>72160</td>\n      <td>2015</td>\n      <td>30.3</td>\n      <td>32.3</td>\n      <td>27.7</td>\n      <td>22.0</td>\n      <td>17.0</td>\n      <td>13.3</td>\n      <td>12.5</td>\n      <td>13.8</td>\n      <td>18.7</td>\n      <td>27.0</td>\n      <td>28.0</td>\n      <td>31.4</td>\n      <td>22.8</td>\n    </tr>\n    <tr>\n      <th>23</th>\n      <td>IDCJAC0002</td>\n      <td>72160</td>\n      <td>2016</td>\n      <td>31.5</td>\n      <td>32.4</td>\n      <td>30.8</td>\n      <td>25.8</td>\n      <td>18.1</td>\n      <td>13.4</td>\n      <td>13.3</td>\n      <td>15.2</td>\n      <td>16.8</td>\n      <td>19.7</td>\n      <td>25.6</td>\n      <td>30.5</td>\n      <td>22.8</td>\n    </tr>\n    <tr>\n      <th>24</th>\n      <td>IDCJAC0002</td>\n      <td>72160</td>\n      <td>2017</td>\n      <td>33.7</td>\n      <td>31.4</td>\n      <td>30.2</td>\n      <td>22.1</td>\n      <td>17.3</td>\n      <td>14.2</td>\n      <td>13.1</td>\n      <td>14.1</td>\n      <td>17.5</td>\n      <td>23.1</td>\n      <td>27.7</td>\n      <td>30.0</td>\n      <td>22.9</td>\n    </tr>\n    <tr>\n      <th>25</th>\n      <td>IDCJAC0002</td>\n      <td>72160</td>\n      <td>2018</td>\n      <td>34.3</td>\n      <td>32.1</td>\n      <td>29.6</td>\n      <td>26.8</td>\n      <td>18.5</td>\n      <td>14.5</td>\n      <td>13.6</td>\n      <td>14.1</td>\n      <td>18.6</td>\n      <td>24.9</td>\n      <td>26.4</td>\n      <td>32.6</td>\n      <td>23.8</td>\n    </tr>\n    <tr>\n      <th>26</th>\n      <td>IDCJAC0002</td>\n      <td>72160</td>\n      <td>2019</td>\n      <td>37.4</td>\n      <td>31.8</td>\n      <td>28.7</td>\n      <td>24.7</td>\n      <td>17.0</td>\n      <td>14.1</td>\n      <td>13.6</td>\n      <td>14.1</td>\n      <td>18.0</td>\n      <td>24.3</td>\n      <td>26.8</td>\n      <td>32.8</td>\n      <td>23.6</td>\n    </tr>\n    <tr>\n      <th>27</th>\n      <td>IDCJAC0002</td>\n      <td>72160</td>\n      <td>2020</td>\n      <td>33.1</td>\n      <td>31.0</td>\n      <td>26.2</td>\n      <td>20.3</td>\n      <td>16.3</td>\n      <td>13.6</td>\n      <td>13.9</td>\n      <td>14.4</td>\n      <td>18.9</td>\n      <td>22.5</td>\n      <td>29.2</td>\n      <td>29.0</td>\n      <td>22.4</td>\n    </tr>\n    <tr>\n      <th>28</th>\n      <td>IDCJAC0002</td>\n      <td>72160</td>\n      <td>2021</td>\n      <td>31.5</td>\n      <td>28.7</td>\n      <td>25.7</td>\n      <td>22.4</td>\n      <td>18.2</td>\n      <td>13.7</td>\n      <td>12.7</td>\n      <td>15.6</td>\n      <td>18.2</td>\n      <td>20.5</td>\n      <td>23.1</td>\n      <td>29.0</td>\n      <td>21.6</td>\n    </tr>\n    <tr>\n      <th>29</th>\n      <td>IDCJAC0002</td>\n      <td>72160</td>\n      <td>2022</td>\n      <td>30.7</td>\n      <td>29.1</td>\n      <td>27.6</td>\n      <td>22.5</td>\n      <td>17.7</td>\n      <td>13.0</td>\n      <td>13.9</td>\n      <td>15.4</td>\n      <td>17.4</td>\n      <td>20.7</td>\n      <td>22.1</td>\n      <td>27.4</td>\n      <td>21.5</td>\n    </tr>\n    <tr>\n      <th>30</th>\n      <td>IDCJAC0002</td>\n      <td>72160</td>\n      <td>2023</td>\n      <td>31.0</td>\n      <td>29.6</td>\n      <td>27.6</td>\n      <td>21.6</td>\n      <td>15.8</td>\n      <td>14.1</td>\n      <td>14.5</td>\n      <td>16.6</td>\n      <td>21.4</td>\n      <td>21.5</td>\n      <td>27.2</td>\n      <td>29.9</td>\n      <td>22.6</td>\n    </tr>\n    <tr>\n      <th>31</th>\n      <td>IDCJAC0002</td>\n      <td>72160</td>\n      <td>2024</td>\n      <td>31.5</td>\n      <td>33.4</td>\n      <td>31.2</td>\n      <td>22.8</td>\n      <td>19.9</td>\n      <td>14.8</td>\n      <td>13.7</td>\n      <td>17.1</td>\n      <td>NaN</td>\n      <td>NaN</td>\n      <td>NaN</td>\n      <td>NaN</td>\n      <td>NaN</td>\n    </tr>\n  </tbody>\n</table>\n</div>"
     },
     "execution_count": 44,
     "metadata": {},
     "output_type": "execute_result"
    }
   ],
   "source": [
    "max_temp.drop_duplicates()"
   ],
   "metadata": {
    "collapsed": false,
    "ExecuteTime": {
     "end_time": "2024-09-28T12:45:15.760767600Z",
     "start_time": "2024-09-28T12:45:15.694996800Z"
    }
   }
  },
  {
   "cell_type": "code",
   "execution_count": 45,
   "outputs": [
    {
     "data": {
      "text/plain": "   Product code  Station Number  Year   Jan   Feb   Mar   Apr  May  Jun  Jul  \\\n0    IDCJAC0004           72160  1993   NaN   NaN   NaN   NaN  4.0  3.3  3.2   \n1    IDCJAC0004           72160  1994  12.3  15.5   9.5   6.4  6.0  4.1  1.2   \n2    IDCJAC0004           72160  1995  16.7  14.8  10.5   6.3  7.5  4.1  4.3   \n3    IDCJAC0004           72160  1996  15.2  12.4  12.0   6.4  5.5  4.1  4.9   \n4    IDCJAC0004           72160  1997  15.7  18.6  11.7   6.5  6.7  2.8  0.3   \n5    IDCJAC0004           72160  1998  17.6  14.6  12.1   9.1  6.2  3.9  3.1   \n6    IDCJAC0004           72160  1999  19.3  16.0  14.0   5.7  5.6  3.6  2.9   \n7    IDCJAC0004           72160  2000  14.1  17.4  15.4   9.0  5.8  3.4  3.5   \n8    IDCJAC0004           72160  2001  18.6  17.5  12.5   7.8  4.4  4.3  3.1   \n9    IDCJAC0004           72160  2002  14.8  15.4  12.2  10.4  5.2  3.9  2.5   \n10   IDCJAC0004           72160  2003  16.5  18.0  12.3   9.9  6.3  5.7  3.5   \n11   IDCJAC0004           72160  2004  14.0  16.5  11.4   8.5  4.1  4.6  3.1   \n12   IDCJAC0004           72160  2005  15.2  13.5  11.1   9.3  4.0  4.8  4.5   \n13   IDCJAC0004           72160  2006  19.0  15.8  13.2   6.4  3.8  0.1  3.4   \n14   IDCJAC0004           72160  2007  16.8  18.7  14.6   9.3  8.7  2.9  2.3   \n15   IDCJAC0004           72160  2008  18.5  15.0  12.8   6.3  5.2  5.3  2.6   \n16   IDCJAC0004           72160  2009  16.3  17.5  12.7   9.1  5.1  4.6  3.3   \n17   IDCJAC0004           72160  2010  17.1  18.8  13.8  10.2  5.1  3.2  2.3   \n18   IDCJAC0004           72160  2011  18.0  17.0  13.5   7.8  3.9  2.8  3.1   \n19   IDCJAC0004           72160  2012  16.1  15.2  12.8   9.0  3.8  2.2  2.9   \n20   IDCJAC0004           72160  2013  16.4  17.1  13.5   8.9  4.4  3.0  5.2   \n21   IDCJAC0004           72160  2014  16.9  16.7  14.1  10.7  7.5  5.7  3.8   \n22   IDCJAC0004           72160  2015  16.6  17.7  11.9  10.0  5.8  2.4  2.8   \n23   IDCJAC0004           72160  2016  17.4  16.2  15.8   9.4  8.1  5.6  5.8   \n24   IDCJAC0004           72160  2017  16.9  15.1  15.9   9.0  5.5  1.2  2.3   \n25   IDCJAC0004           72160  2018  17.9  15.5  13.1   9.4  4.8  3.2  1.9   \n26   IDCJAC0004           72160  2019  20.7  15.5  14.3   9.5  6.2  2.1  3.9   \n27   IDCJAC0004           72160  2020  17.1  17.3  13.3   9.3  4.2  3.8  2.8   \n28   IDCJAC0004           72160  2021  16.1  15.3  12.4   7.0  5.3  4.1  4.0   \n29   IDCJAC0004           72160  2022  18.3  15.6  15.2  11.3  6.8  4.7  1.2   \n30   IDCJAC0004           72160  2023  16.6  14.8  14.0   8.7  4.8  5.2  3.9   \n31   IDCJAC0004           72160  2024  17.3  16.9  14.2   8.1  4.6  3.0  2.5   \n\n    Aug  Sep   Oct   Nov   Dec  Annual  \n0   2.9  5.2   6.3   9.4  12.4     NaN  \n1   1.1  2.9   7.0  10.8  15.1     7.7  \n2   3.5  5.3   8.5  11.4  11.4     8.7  \n3   5.5  5.5   8.2   9.5  11.8     8.4  \n4   2.5  5.9   7.1  11.4  13.9     8.6  \n5   5.3  7.2   7.7   9.8  14.0     9.2  \n6   3.5  6.9   9.9   9.2  13.2     9.1  \n7   4.2  7.4   8.5  14.5  13.6     9.7  \n8   4.0  7.3   8.0  10.1  12.0     9.1  \n9   2.2  5.8   7.4  12.3  14.9     8.9  \n10  3.9  5.0   6.6  10.6  15.3     9.5  \n11  4.4  5.9   7.6  11.1  13.5     8.7  \n12  3.7  6.2   9.2  12.6  13.1     8.9  \n13  1.8  4.6   7.0  11.6  14.1     8.4  \n14  4.4  4.5   8.4  14.3  15.7    10.1  \n15  2.7  5.0   8.1  11.9  13.5     8.9  \n16  4.8  5.6   7.9  15.1  14.3     9.7  \n17  3.4  5.5   9.2  13.6  14.5     9.7  \n18  4.0  5.0   8.6  13.5  13.9     9.3  \n19  2.8  5.0   6.5  12.2  13.9     8.5  \n20  5.7  7.6   6.9   9.9  14.7     9.4  \n21  1.9  5.3   8.6  12.2  14.8     9.8  \n22  3.6  4.7  11.0  13.2  15.6     9.6  \n23  4.0  7.6   7.6  10.8  14.9    10.3  \n24  3.0  4.9   9.1  12.8  15.4     9.3  \n25  3.0  3.9   8.4  12.0  16.7     9.2  \n26  2.2  4.5   7.7  10.5  15.4     9.4  \n27  3.7  6.5  10.4  13.3  12.9     9.6  \n28  4.1  6.0   7.9  11.8  14.0     9.0  \n29  5.7  6.7  10.4  10.7  12.8     9.9  \n30  4.2  5.5   7.4  12.8  15.9     9.5  \n31  5.4  NaN   NaN   NaN   NaN     NaN  ",
      "text/html": "<div>\n<style scoped>\n    .dataframe tbody tr th:only-of-type {\n        vertical-align: middle;\n    }\n\n    .dataframe tbody tr th {\n        vertical-align: top;\n    }\n\n    .dataframe thead th {\n        text-align: right;\n    }\n</style>\n<table border=\"1\" class=\"dataframe\">\n  <thead>\n    <tr style=\"text-align: right;\">\n      <th></th>\n      <th>Product code</th>\n      <th>Station Number</th>\n      <th>Year</th>\n      <th>Jan</th>\n      <th>Feb</th>\n      <th>Mar</th>\n      <th>Apr</th>\n      <th>May</th>\n      <th>Jun</th>\n      <th>Jul</th>\n      <th>Aug</th>\n      <th>Sep</th>\n      <th>Oct</th>\n      <th>Nov</th>\n      <th>Dec</th>\n      <th>Annual</th>\n    </tr>\n  </thead>\n  <tbody>\n    <tr>\n      <th>0</th>\n      <td>IDCJAC0004</td>\n      <td>72160</td>\n      <td>1993</td>\n      <td>NaN</td>\n      <td>NaN</td>\n      <td>NaN</td>\n      <td>NaN</td>\n      <td>4.0</td>\n      <td>3.3</td>\n      <td>3.2</td>\n      <td>2.9</td>\n      <td>5.2</td>\n      <td>6.3</td>\n      <td>9.4</td>\n      <td>12.4</td>\n      <td>NaN</td>\n    </tr>\n    <tr>\n      <th>1</th>\n      <td>IDCJAC0004</td>\n      <td>72160</td>\n      <td>1994</td>\n      <td>12.3</td>\n      <td>15.5</td>\n      <td>9.5</td>\n      <td>6.4</td>\n      <td>6.0</td>\n      <td>4.1</td>\n      <td>1.2</td>\n      <td>1.1</td>\n      <td>2.9</td>\n      <td>7.0</td>\n      <td>10.8</td>\n      <td>15.1</td>\n      <td>7.7</td>\n    </tr>\n    <tr>\n      <th>2</th>\n      <td>IDCJAC0004</td>\n      <td>72160</td>\n      <td>1995</td>\n      <td>16.7</td>\n      <td>14.8</td>\n      <td>10.5</td>\n      <td>6.3</td>\n      <td>7.5</td>\n      <td>4.1</td>\n      <td>4.3</td>\n      <td>3.5</td>\n      <td>5.3</td>\n      <td>8.5</td>\n      <td>11.4</td>\n      <td>11.4</td>\n      <td>8.7</td>\n    </tr>\n    <tr>\n      <th>3</th>\n      <td>IDCJAC0004</td>\n      <td>72160</td>\n      <td>1996</td>\n      <td>15.2</td>\n      <td>12.4</td>\n      <td>12.0</td>\n      <td>6.4</td>\n      <td>5.5</td>\n      <td>4.1</td>\n      <td>4.9</td>\n      <td>5.5</td>\n      <td>5.5</td>\n      <td>8.2</td>\n      <td>9.5</td>\n      <td>11.8</td>\n      <td>8.4</td>\n    </tr>\n    <tr>\n      <th>4</th>\n      <td>IDCJAC0004</td>\n      <td>72160</td>\n      <td>1997</td>\n      <td>15.7</td>\n      <td>18.6</td>\n      <td>11.7</td>\n      <td>6.5</td>\n      <td>6.7</td>\n      <td>2.8</td>\n      <td>0.3</td>\n      <td>2.5</td>\n      <td>5.9</td>\n      <td>7.1</td>\n      <td>11.4</td>\n      <td>13.9</td>\n      <td>8.6</td>\n    </tr>\n    <tr>\n      <th>5</th>\n      <td>IDCJAC0004</td>\n      <td>72160</td>\n      <td>1998</td>\n      <td>17.6</td>\n      <td>14.6</td>\n      <td>12.1</td>\n      <td>9.1</td>\n      <td>6.2</td>\n      <td>3.9</td>\n      <td>3.1</td>\n      <td>5.3</td>\n      <td>7.2</td>\n      <td>7.7</td>\n      <td>9.8</td>\n      <td>14.0</td>\n      <td>9.2</td>\n    </tr>\n    <tr>\n      <th>6</th>\n      <td>IDCJAC0004</td>\n      <td>72160</td>\n      <td>1999</td>\n      <td>19.3</td>\n      <td>16.0</td>\n      <td>14.0</td>\n      <td>5.7</td>\n      <td>5.6</td>\n      <td>3.6</td>\n      <td>2.9</td>\n      <td>3.5</td>\n      <td>6.9</td>\n      <td>9.9</td>\n      <td>9.2</td>\n      <td>13.2</td>\n      <td>9.1</td>\n    </tr>\n    <tr>\n      <th>7</th>\n      <td>IDCJAC0004</td>\n      <td>72160</td>\n      <td>2000</td>\n      <td>14.1</td>\n      <td>17.4</td>\n      <td>15.4</td>\n      <td>9.0</td>\n      <td>5.8</td>\n      <td>3.4</td>\n      <td>3.5</td>\n      <td>4.2</td>\n      <td>7.4</td>\n      <td>8.5</td>\n      <td>14.5</td>\n      <td>13.6</td>\n      <td>9.7</td>\n    </tr>\n    <tr>\n      <th>8</th>\n      <td>IDCJAC0004</td>\n      <td>72160</td>\n      <td>2001</td>\n      <td>18.6</td>\n      <td>17.5</td>\n      <td>12.5</td>\n      <td>7.8</td>\n      <td>4.4</td>\n      <td>4.3</td>\n      <td>3.1</td>\n      <td>4.0</td>\n      <td>7.3</td>\n      <td>8.0</td>\n      <td>10.1</td>\n      <td>12.0</td>\n      <td>9.1</td>\n    </tr>\n    <tr>\n      <th>9</th>\n      <td>IDCJAC0004</td>\n      <td>72160</td>\n      <td>2002</td>\n      <td>14.8</td>\n      <td>15.4</td>\n      <td>12.2</td>\n      <td>10.4</td>\n      <td>5.2</td>\n      <td>3.9</td>\n      <td>2.5</td>\n      <td>2.2</td>\n      <td>5.8</td>\n      <td>7.4</td>\n      <td>12.3</td>\n      <td>14.9</td>\n      <td>8.9</td>\n    </tr>\n    <tr>\n      <th>10</th>\n      <td>IDCJAC0004</td>\n      <td>72160</td>\n      <td>2003</td>\n      <td>16.5</td>\n      <td>18.0</td>\n      <td>12.3</td>\n      <td>9.9</td>\n      <td>6.3</td>\n      <td>5.7</td>\n      <td>3.5</td>\n      <td>3.9</td>\n      <td>5.0</td>\n      <td>6.6</td>\n      <td>10.6</td>\n      <td>15.3</td>\n      <td>9.5</td>\n    </tr>\n    <tr>\n      <th>11</th>\n      <td>IDCJAC0004</td>\n      <td>72160</td>\n      <td>2004</td>\n      <td>14.0</td>\n      <td>16.5</td>\n      <td>11.4</td>\n      <td>8.5</td>\n      <td>4.1</td>\n      <td>4.6</td>\n      <td>3.1</td>\n      <td>4.4</td>\n      <td>5.9</td>\n      <td>7.6</td>\n      <td>11.1</td>\n      <td>13.5</td>\n      <td>8.7</td>\n    </tr>\n    <tr>\n      <th>12</th>\n      <td>IDCJAC0004</td>\n      <td>72160</td>\n      <td>2005</td>\n      <td>15.2</td>\n      <td>13.5</td>\n      <td>11.1</td>\n      <td>9.3</td>\n      <td>4.0</td>\n      <td>4.8</td>\n      <td>4.5</td>\n      <td>3.7</td>\n      <td>6.2</td>\n      <td>9.2</td>\n      <td>12.6</td>\n      <td>13.1</td>\n      <td>8.9</td>\n    </tr>\n    <tr>\n      <th>13</th>\n      <td>IDCJAC0004</td>\n      <td>72160</td>\n      <td>2006</td>\n      <td>19.0</td>\n      <td>15.8</td>\n      <td>13.2</td>\n      <td>6.4</td>\n      <td>3.8</td>\n      <td>0.1</td>\n      <td>3.4</td>\n      <td>1.8</td>\n      <td>4.6</td>\n      <td>7.0</td>\n      <td>11.6</td>\n      <td>14.1</td>\n      <td>8.4</td>\n    </tr>\n    <tr>\n      <th>14</th>\n      <td>IDCJAC0004</td>\n      <td>72160</td>\n      <td>2007</td>\n      <td>16.8</td>\n      <td>18.7</td>\n      <td>14.6</td>\n      <td>9.3</td>\n      <td>8.7</td>\n      <td>2.9</td>\n      <td>2.3</td>\n      <td>4.4</td>\n      <td>4.5</td>\n      <td>8.4</td>\n      <td>14.3</td>\n      <td>15.7</td>\n      <td>10.1</td>\n    </tr>\n    <tr>\n      <th>15</th>\n      <td>IDCJAC0004</td>\n      <td>72160</td>\n      <td>2008</td>\n      <td>18.5</td>\n      <td>15.0</td>\n      <td>12.8</td>\n      <td>6.3</td>\n      <td>5.2</td>\n      <td>5.3</td>\n      <td>2.6</td>\n      <td>2.7</td>\n      <td>5.0</td>\n      <td>8.1</td>\n      <td>11.9</td>\n      <td>13.5</td>\n      <td>8.9</td>\n    </tr>\n    <tr>\n      <th>16</th>\n      <td>IDCJAC0004</td>\n      <td>72160</td>\n      <td>2009</td>\n      <td>16.3</td>\n      <td>17.5</td>\n      <td>12.7</td>\n      <td>9.1</td>\n      <td>5.1</td>\n      <td>4.6</td>\n      <td>3.3</td>\n      <td>4.8</td>\n      <td>5.6</td>\n      <td>7.9</td>\n      <td>15.1</td>\n      <td>14.3</td>\n      <td>9.7</td>\n    </tr>\n    <tr>\n      <th>17</th>\n      <td>IDCJAC0004</td>\n      <td>72160</td>\n      <td>2010</td>\n      <td>17.1</td>\n      <td>18.8</td>\n      <td>13.8</td>\n      <td>10.2</td>\n      <td>5.1</td>\n      <td>3.2</td>\n      <td>2.3</td>\n      <td>3.4</td>\n      <td>5.5</td>\n      <td>9.2</td>\n      <td>13.6</td>\n      <td>14.5</td>\n      <td>9.7</td>\n    </tr>\n    <tr>\n      <th>18</th>\n      <td>IDCJAC0004</td>\n      <td>72160</td>\n      <td>2011</td>\n      <td>18.0</td>\n      <td>17.0</td>\n      <td>13.5</td>\n      <td>7.8</td>\n      <td>3.9</td>\n      <td>2.8</td>\n      <td>3.1</td>\n      <td>4.0</td>\n      <td>5.0</td>\n      <td>8.6</td>\n      <td>13.5</td>\n      <td>13.9</td>\n      <td>9.3</td>\n    </tr>\n    <tr>\n      <th>19</th>\n      <td>IDCJAC0004</td>\n      <td>72160</td>\n      <td>2012</td>\n      <td>16.1</td>\n      <td>15.2</td>\n      <td>12.8</td>\n      <td>9.0</td>\n      <td>3.8</td>\n      <td>2.2</td>\n      <td>2.9</td>\n      <td>2.8</td>\n      <td>5.0</td>\n      <td>6.5</td>\n      <td>12.2</td>\n      <td>13.9</td>\n      <td>8.5</td>\n    </tr>\n    <tr>\n      <th>20</th>\n      <td>IDCJAC0004</td>\n      <td>72160</td>\n      <td>2013</td>\n      <td>16.4</td>\n      <td>17.1</td>\n      <td>13.5</td>\n      <td>8.9</td>\n      <td>4.4</td>\n      <td>3.0</td>\n      <td>5.2</td>\n      <td>5.7</td>\n      <td>7.6</td>\n      <td>6.9</td>\n      <td>9.9</td>\n      <td>14.7</td>\n      <td>9.4</td>\n    </tr>\n    <tr>\n      <th>21</th>\n      <td>IDCJAC0004</td>\n      <td>72160</td>\n      <td>2014</td>\n      <td>16.9</td>\n      <td>16.7</td>\n      <td>14.1</td>\n      <td>10.7</td>\n      <td>7.5</td>\n      <td>5.7</td>\n      <td>3.8</td>\n      <td>1.9</td>\n      <td>5.3</td>\n      <td>8.6</td>\n      <td>12.2</td>\n      <td>14.8</td>\n      <td>9.8</td>\n    </tr>\n    <tr>\n      <th>22</th>\n      <td>IDCJAC0004</td>\n      <td>72160</td>\n      <td>2015</td>\n      <td>16.6</td>\n      <td>17.7</td>\n      <td>11.9</td>\n      <td>10.0</td>\n      <td>5.8</td>\n      <td>2.4</td>\n      <td>2.8</td>\n      <td>3.6</td>\n      <td>4.7</td>\n      <td>11.0</td>\n      <td>13.2</td>\n      <td>15.6</td>\n      <td>9.6</td>\n    </tr>\n    <tr>\n      <th>23</th>\n      <td>IDCJAC0004</td>\n      <td>72160</td>\n      <td>2016</td>\n      <td>17.4</td>\n      <td>16.2</td>\n      <td>15.8</td>\n      <td>9.4</td>\n      <td>8.1</td>\n      <td>5.6</td>\n      <td>5.8</td>\n      <td>4.0</td>\n      <td>7.6</td>\n      <td>7.6</td>\n      <td>10.8</td>\n      <td>14.9</td>\n      <td>10.3</td>\n    </tr>\n    <tr>\n      <th>24</th>\n      <td>IDCJAC0004</td>\n      <td>72160</td>\n      <td>2017</td>\n      <td>16.9</td>\n      <td>15.1</td>\n      <td>15.9</td>\n      <td>9.0</td>\n      <td>5.5</td>\n      <td>1.2</td>\n      <td>2.3</td>\n      <td>3.0</td>\n      <td>4.9</td>\n      <td>9.1</td>\n      <td>12.8</td>\n      <td>15.4</td>\n      <td>9.3</td>\n    </tr>\n    <tr>\n      <th>25</th>\n      <td>IDCJAC0004</td>\n      <td>72160</td>\n      <td>2018</td>\n      <td>17.9</td>\n      <td>15.5</td>\n      <td>13.1</td>\n      <td>9.4</td>\n      <td>4.8</td>\n      <td>3.2</td>\n      <td>1.9</td>\n      <td>3.0</td>\n      <td>3.9</td>\n      <td>8.4</td>\n      <td>12.0</td>\n      <td>16.7</td>\n      <td>9.2</td>\n    </tr>\n    <tr>\n      <th>26</th>\n      <td>IDCJAC0004</td>\n      <td>72160</td>\n      <td>2019</td>\n      <td>20.7</td>\n      <td>15.5</td>\n      <td>14.3</td>\n      <td>9.5</td>\n      <td>6.2</td>\n      <td>2.1</td>\n      <td>3.9</td>\n      <td>2.2</td>\n      <td>4.5</td>\n      <td>7.7</td>\n      <td>10.5</td>\n      <td>15.4</td>\n      <td>9.4</td>\n    </tr>\n    <tr>\n      <th>27</th>\n      <td>IDCJAC0004</td>\n      <td>72160</td>\n      <td>2020</td>\n      <td>17.1</td>\n      <td>17.3</td>\n      <td>13.3</td>\n      <td>9.3</td>\n      <td>4.2</td>\n      <td>3.8</td>\n      <td>2.8</td>\n      <td>3.7</td>\n      <td>6.5</td>\n      <td>10.4</td>\n      <td>13.3</td>\n      <td>12.9</td>\n      <td>9.6</td>\n    </tr>\n    <tr>\n      <th>28</th>\n      <td>IDCJAC0004</td>\n      <td>72160</td>\n      <td>2021</td>\n      <td>16.1</td>\n      <td>15.3</td>\n      <td>12.4</td>\n      <td>7.0</td>\n      <td>5.3</td>\n      <td>4.1</td>\n      <td>4.0</td>\n      <td>4.1</td>\n      <td>6.0</td>\n      <td>7.9</td>\n      <td>11.8</td>\n      <td>14.0</td>\n      <td>9.0</td>\n    </tr>\n    <tr>\n      <th>29</th>\n      <td>IDCJAC0004</td>\n      <td>72160</td>\n      <td>2022</td>\n      <td>18.3</td>\n      <td>15.6</td>\n      <td>15.2</td>\n      <td>11.3</td>\n      <td>6.8</td>\n      <td>4.7</td>\n      <td>1.2</td>\n      <td>5.7</td>\n      <td>6.7</td>\n      <td>10.4</td>\n      <td>10.7</td>\n      <td>12.8</td>\n      <td>9.9</td>\n    </tr>\n    <tr>\n      <th>30</th>\n      <td>IDCJAC0004</td>\n      <td>72160</td>\n      <td>2023</td>\n      <td>16.6</td>\n      <td>14.8</td>\n      <td>14.0</td>\n      <td>8.7</td>\n      <td>4.8</td>\n      <td>5.2</td>\n      <td>3.9</td>\n      <td>4.2</td>\n      <td>5.5</td>\n      <td>7.4</td>\n      <td>12.8</td>\n      <td>15.9</td>\n      <td>9.5</td>\n    </tr>\n    <tr>\n      <th>31</th>\n      <td>IDCJAC0004</td>\n      <td>72160</td>\n      <td>2024</td>\n      <td>17.3</td>\n      <td>16.9</td>\n      <td>14.2</td>\n      <td>8.1</td>\n      <td>4.6</td>\n      <td>3.0</td>\n      <td>2.5</td>\n      <td>5.4</td>\n      <td>NaN</td>\n      <td>NaN</td>\n      <td>NaN</td>\n      <td>NaN</td>\n      <td>NaN</td>\n    </tr>\n  </tbody>\n</table>\n</div>"
     },
     "execution_count": 45,
     "metadata": {},
     "output_type": "execute_result"
    }
   ],
   "source": [
    "min_temp.drop_duplicates()"
   ],
   "metadata": {
    "collapsed": false,
    "ExecuteTime": {
     "end_time": "2024-09-28T12:45:20.017748800Z",
     "start_time": "2024-09-28T12:45:19.994370900Z"
    }
   }
  },
  {
   "cell_type": "code",
   "execution_count": 46,
   "outputs": [],
   "source": [
    "max_temp = max_temp.drop(columns=['Product code'])"
   ],
   "metadata": {
    "collapsed": false,
    "ExecuteTime": {
     "end_time": "2024-09-28T12:45:22.992016100Z",
     "start_time": "2024-09-28T12:45:22.971837Z"
    }
   }
  },
  {
   "cell_type": "code",
   "execution_count": 47,
   "outputs": [],
   "source": [
    "max_temp = pd.melt(max_temp, id_vars=['Station Number', 'Year'],\n",
    "                         var_name='Month', value_name='MaxTemp')"
   ],
   "metadata": {
    "collapsed": false,
    "ExecuteTime": {
     "end_time": "2024-09-28T12:45:27.274338500Z",
     "start_time": "2024-09-28T12:45:27.248891300Z"
    }
   }
  },
  {
   "cell_type": "code",
   "execution_count": 49,
   "outputs": [
    {
     "ename": "ValueError",
     "evalue": "time data '1' does not match format '%b' (match)",
     "output_type": "error",
     "traceback": [
      "\u001B[1;31m---------------------------------------------------------------------------\u001B[0m",
      "\u001B[1;31mTypeError\u001B[0m                                 Traceback (most recent call last)",
      "\u001B[1;32mC:\\ProgramData\\Anaconda3\\lib\\site-packages\\pandas\\core\\tools\\datetimes.py\u001B[0m in \u001B[0;36m_convert_listlike_datetimes\u001B[1;34m(arg, format, name, tz, unit, errors, infer_datetime_format, dayfirst, yearfirst, exact)\u001B[0m\n\u001B[0;32m    449\u001B[0m             \u001B[1;32mtry\u001B[0m\u001B[1;33m:\u001B[0m\u001B[1;33m\u001B[0m\u001B[1;33m\u001B[0m\u001B[0m\n\u001B[1;32m--> 450\u001B[1;33m                 \u001B[0mvalues\u001B[0m\u001B[1;33m,\u001B[0m \u001B[0mtz\u001B[0m \u001B[1;33m=\u001B[0m \u001B[0mconversion\u001B[0m\u001B[1;33m.\u001B[0m\u001B[0mdatetime_to_datetime64\u001B[0m\u001B[1;33m(\u001B[0m\u001B[0marg\u001B[0m\u001B[1;33m)\u001B[0m\u001B[1;33m\u001B[0m\u001B[1;33m\u001B[0m\u001B[0m\n\u001B[0m\u001B[0;32m    451\u001B[0m                 \u001B[0mdta\u001B[0m \u001B[1;33m=\u001B[0m \u001B[0mDatetimeArray\u001B[0m\u001B[1;33m(\u001B[0m\u001B[0mvalues\u001B[0m\u001B[1;33m,\u001B[0m \u001B[0mdtype\u001B[0m\u001B[1;33m=\u001B[0m\u001B[0mtz_to_dtype\u001B[0m\u001B[1;33m(\u001B[0m\u001B[0mtz\u001B[0m\u001B[1;33m)\u001B[0m\u001B[1;33m)\u001B[0m\u001B[1;33m\u001B[0m\u001B[1;33m\u001B[0m\u001B[0m\n",
      "\u001B[1;32mpandas\\_libs\\tslibs\\conversion.pyx\u001B[0m in \u001B[0;36mpandas._libs.tslibs.conversion.datetime_to_datetime64\u001B[1;34m()\u001B[0m\n",
      "\u001B[1;31mTypeError\u001B[0m: Unrecognized value type: <class 'int'>",
      "\nDuring handling of the above exception, another exception occurred:\n",
      "\u001B[1;31mValueError\u001B[0m                                Traceback (most recent call last)",
      "\u001B[1;32m<ipython-input-49-d16ef5f6e45e>\u001B[0m in \u001B[0;36m<module>\u001B[1;34m\u001B[0m\n\u001B[0;32m      1\u001B[0m \u001B[0mmax_temp\u001B[0m \u001B[1;33m=\u001B[0m \u001B[0mmax_temp\u001B[0m\u001B[1;33m[\u001B[0m\u001B[0mmax_temp\u001B[0m\u001B[1;33m[\u001B[0m\u001B[1;34m'Year'\u001B[0m\u001B[1;33m]\u001B[0m \u001B[1;33m>=\u001B[0m \u001B[1;36m2017\u001B[0m\u001B[1;33m]\u001B[0m\u001B[1;33m\u001B[0m\u001B[1;33m\u001B[0m\u001B[0m\n\u001B[0;32m      2\u001B[0m \u001B[0mmax_temp\u001B[0m \u001B[1;33m=\u001B[0m \u001B[0mmax_temp\u001B[0m\u001B[1;33m.\u001B[0m\u001B[0mdrop\u001B[0m\u001B[1;33m(\u001B[0m\u001B[0mmax_temp\u001B[0m\u001B[1;33m[\u001B[0m\u001B[0mmax_temp\u001B[0m\u001B[1;33m[\u001B[0m\u001B[1;34m'Month'\u001B[0m\u001B[1;33m]\u001B[0m \u001B[1;33m==\u001B[0m \u001B[1;34m'Annual'\u001B[0m\u001B[1;33m]\u001B[0m\u001B[1;33m.\u001B[0m\u001B[0mindex\u001B[0m\u001B[1;33m)\u001B[0m\u001B[1;33m\u001B[0m\u001B[1;33m\u001B[0m\u001B[0m\n\u001B[1;32m----> 3\u001B[1;33m \u001B[0mmax_temp\u001B[0m\u001B[1;33m[\u001B[0m\u001B[1;34m'Month'\u001B[0m\u001B[1;33m]\u001B[0m \u001B[1;33m=\u001B[0m \u001B[0mpd\u001B[0m\u001B[1;33m.\u001B[0m\u001B[0mto_datetime\u001B[0m\u001B[1;33m(\u001B[0m\u001B[0mmax_temp\u001B[0m\u001B[1;33m[\u001B[0m\u001B[1;34m'Month'\u001B[0m\u001B[1;33m]\u001B[0m\u001B[1;33m,\u001B[0m \u001B[0mformat\u001B[0m\u001B[1;33m=\u001B[0m\u001B[1;34m'%b'\u001B[0m\u001B[1;33m)\u001B[0m\u001B[1;33m.\u001B[0m\u001B[0mdt\u001B[0m\u001B[1;33m.\u001B[0m\u001B[0mmonth\u001B[0m\u001B[1;33m\u001B[0m\u001B[1;33m\u001B[0m\u001B[0m\n\u001B[0m",
      "\u001B[1;32mC:\\ProgramData\\Anaconda3\\lib\\site-packages\\pandas\\core\\tools\\datetimes.py\u001B[0m in \u001B[0;36mto_datetime\u001B[1;34m(arg, errors, dayfirst, yearfirst, utc, format, exact, unit, infer_datetime_format, origin, cache)\u001B[0m\n\u001B[0;32m    797\u001B[0m                 \u001B[0mresult\u001B[0m \u001B[1;33m=\u001B[0m \u001B[0mresult\u001B[0m\u001B[1;33m.\u001B[0m\u001B[0mtz_localize\u001B[0m\u001B[1;33m(\u001B[0m\u001B[0mtz\u001B[0m\u001B[1;33m)\u001B[0m\u001B[1;33m\u001B[0m\u001B[1;33m\u001B[0m\u001B[0m\n\u001B[0;32m    798\u001B[0m     \u001B[1;32melif\u001B[0m \u001B[0misinstance\u001B[0m\u001B[1;33m(\u001B[0m\u001B[0marg\u001B[0m\u001B[1;33m,\u001B[0m \u001B[0mABCSeries\u001B[0m\u001B[1;33m)\u001B[0m\u001B[1;33m:\u001B[0m\u001B[1;33m\u001B[0m\u001B[1;33m\u001B[0m\u001B[0m\n\u001B[1;32m--> 799\u001B[1;33m         \u001B[0mcache_array\u001B[0m \u001B[1;33m=\u001B[0m \u001B[0m_maybe_cache\u001B[0m\u001B[1;33m(\u001B[0m\u001B[0marg\u001B[0m\u001B[1;33m,\u001B[0m \u001B[0mformat\u001B[0m\u001B[1;33m,\u001B[0m \u001B[0mcache\u001B[0m\u001B[1;33m,\u001B[0m \u001B[0mconvert_listlike\u001B[0m\u001B[1;33m)\u001B[0m\u001B[1;33m\u001B[0m\u001B[1;33m\u001B[0m\u001B[0m\n\u001B[0m\u001B[0;32m    800\u001B[0m         \u001B[1;32mif\u001B[0m \u001B[1;32mnot\u001B[0m \u001B[0mcache_array\u001B[0m\u001B[1;33m.\u001B[0m\u001B[0mempty\u001B[0m\u001B[1;33m:\u001B[0m\u001B[1;33m\u001B[0m\u001B[1;33m\u001B[0m\u001B[0m\n\u001B[0;32m    801\u001B[0m             \u001B[0mresult\u001B[0m \u001B[1;33m=\u001B[0m \u001B[0marg\u001B[0m\u001B[1;33m.\u001B[0m\u001B[0mmap\u001B[0m\u001B[1;33m(\u001B[0m\u001B[0mcache_array\u001B[0m\u001B[1;33m)\u001B[0m\u001B[1;33m\u001B[0m\u001B[1;33m\u001B[0m\u001B[0m\n",
      "\u001B[1;32mC:\\ProgramData\\Anaconda3\\lib\\site-packages\\pandas\\core\\tools\\datetimes.py\u001B[0m in \u001B[0;36m_maybe_cache\u001B[1;34m(arg, format, cache, convert_listlike)\u001B[0m\n\u001B[0;32m    168\u001B[0m         \u001B[0munique_dates\u001B[0m \u001B[1;33m=\u001B[0m \u001B[0munique\u001B[0m\u001B[1;33m(\u001B[0m\u001B[0marg\u001B[0m\u001B[1;33m)\u001B[0m\u001B[1;33m\u001B[0m\u001B[1;33m\u001B[0m\u001B[0m\n\u001B[0;32m    169\u001B[0m         \u001B[1;32mif\u001B[0m \u001B[0mlen\u001B[0m\u001B[1;33m(\u001B[0m\u001B[0munique_dates\u001B[0m\u001B[1;33m)\u001B[0m \u001B[1;33m<\u001B[0m \u001B[0mlen\u001B[0m\u001B[1;33m(\u001B[0m\u001B[0marg\u001B[0m\u001B[1;33m)\u001B[0m\u001B[1;33m:\u001B[0m\u001B[1;33m\u001B[0m\u001B[1;33m\u001B[0m\u001B[0m\n\u001B[1;32m--> 170\u001B[1;33m             \u001B[0mcache_dates\u001B[0m \u001B[1;33m=\u001B[0m \u001B[0mconvert_listlike\u001B[0m\u001B[1;33m(\u001B[0m\u001B[0munique_dates\u001B[0m\u001B[1;33m,\u001B[0m \u001B[0mformat\u001B[0m\u001B[1;33m)\u001B[0m\u001B[1;33m\u001B[0m\u001B[1;33m\u001B[0m\u001B[0m\n\u001B[0m\u001B[0;32m    171\u001B[0m             \u001B[0mcache_array\u001B[0m \u001B[1;33m=\u001B[0m \u001B[0mSeries\u001B[0m\u001B[1;33m(\u001B[0m\u001B[0mcache_dates\u001B[0m\u001B[1;33m,\u001B[0m \u001B[0mindex\u001B[0m\u001B[1;33m=\u001B[0m\u001B[0munique_dates\u001B[0m\u001B[1;33m)\u001B[0m\u001B[1;33m\u001B[0m\u001B[1;33m\u001B[0m\u001B[0m\n\u001B[0;32m    172\u001B[0m     \u001B[1;32mreturn\u001B[0m \u001B[0mcache_array\u001B[0m\u001B[1;33m\u001B[0m\u001B[1;33m\u001B[0m\u001B[0m\n",
      "\u001B[1;32mC:\\ProgramData\\Anaconda3\\lib\\site-packages\\pandas\\core\\tools\\datetimes.py\u001B[0m in \u001B[0;36m_convert_listlike_datetimes\u001B[1;34m(arg, format, name, tz, unit, errors, infer_datetime_format, dayfirst, yearfirst, exact)\u001B[0m\n\u001B[0;32m    452\u001B[0m                 \u001B[1;32mreturn\u001B[0m \u001B[0mDatetimeIndex\u001B[0m\u001B[1;33m.\u001B[0m\u001B[0m_simple_new\u001B[0m\u001B[1;33m(\u001B[0m\u001B[0mdta\u001B[0m\u001B[1;33m,\u001B[0m \u001B[0mname\u001B[0m\u001B[1;33m=\u001B[0m\u001B[0mname\u001B[0m\u001B[1;33m)\u001B[0m\u001B[1;33m\u001B[0m\u001B[1;33m\u001B[0m\u001B[0m\n\u001B[0;32m    453\u001B[0m             \u001B[1;32mexcept\u001B[0m \u001B[1;33m(\u001B[0m\u001B[0mValueError\u001B[0m\u001B[1;33m,\u001B[0m \u001B[0mTypeError\u001B[0m\u001B[1;33m)\u001B[0m\u001B[1;33m:\u001B[0m\u001B[1;33m\u001B[0m\u001B[1;33m\u001B[0m\u001B[0m\n\u001B[1;32m--> 454\u001B[1;33m                 \u001B[1;32mraise\u001B[0m \u001B[0me\u001B[0m\u001B[1;33m\u001B[0m\u001B[1;33m\u001B[0m\u001B[0m\n\u001B[0m\u001B[0;32m    455\u001B[0m \u001B[1;33m\u001B[0m\u001B[0m\n\u001B[0;32m    456\u001B[0m     \u001B[1;32mif\u001B[0m \u001B[0mresult\u001B[0m \u001B[1;32mis\u001B[0m \u001B[1;32mNone\u001B[0m\u001B[1;33m:\u001B[0m\u001B[1;33m\u001B[0m\u001B[1;33m\u001B[0m\u001B[0m\n",
      "\u001B[1;32mC:\\ProgramData\\Anaconda3\\lib\\site-packages\\pandas\\core\\tools\\datetimes.py\u001B[0m in \u001B[0;36m_convert_listlike_datetimes\u001B[1;34m(arg, format, name, tz, unit, errors, infer_datetime_format, dayfirst, yearfirst, exact)\u001B[0m\n\u001B[0;32m    415\u001B[0m             \u001B[1;32mif\u001B[0m \u001B[0mresult\u001B[0m \u001B[1;32mis\u001B[0m \u001B[1;32mNone\u001B[0m\u001B[1;33m:\u001B[0m\u001B[1;33m\u001B[0m\u001B[1;33m\u001B[0m\u001B[0m\n\u001B[0;32m    416\u001B[0m                 \u001B[1;32mtry\u001B[0m\u001B[1;33m:\u001B[0m\u001B[1;33m\u001B[0m\u001B[1;33m\u001B[0m\u001B[0m\n\u001B[1;32m--> 417\u001B[1;33m                     result, timezones = array_strptime(\n\u001B[0m\u001B[0;32m    418\u001B[0m                         \u001B[0marg\u001B[0m\u001B[1;33m,\u001B[0m \u001B[0mformat\u001B[0m\u001B[1;33m,\u001B[0m \u001B[0mexact\u001B[0m\u001B[1;33m=\u001B[0m\u001B[0mexact\u001B[0m\u001B[1;33m,\u001B[0m \u001B[0merrors\u001B[0m\u001B[1;33m=\u001B[0m\u001B[0merrors\u001B[0m\u001B[1;33m\u001B[0m\u001B[1;33m\u001B[0m\u001B[0m\n\u001B[0;32m    419\u001B[0m                     )\n",
      "\u001B[1;32mpandas\\_libs\\tslibs\\strptime.pyx\u001B[0m in \u001B[0;36mpandas._libs.tslibs.strptime.array_strptime\u001B[1;34m()\u001B[0m\n",
      "\u001B[1;31mValueError\u001B[0m: time data '1' does not match format '%b' (match)"
     ]
    }
   ],
   "source": [
    "max_temp = max_temp[max_temp['Year'] >= 2017]\n",
    "max_temp = max_temp.drop(max_temp[max_temp['Month'] == 'Annual'].index)\n",
    "max_temp['Month'] = pd.to_datetime(max_temp['Month'], format='%b').dt.month"
   ],
   "metadata": {
    "collapsed": false,
    "ExecuteTime": {
     "end_time": "2024-09-28T12:46:23.348137200Z",
     "start_time": "2024-09-28T12:46:23.295208200Z"
    }
   }
  },
  {
   "cell_type": "code",
   "execution_count": 50,
   "outputs": [],
   "source": [
    "max_temp.rename(columns={'Station Number': 'Departing_Port'}, inplace=True)\n",
    "\n",
    "max_temp['Departing_Port'] = max_temp['Departing_Port'].astype(str)\n",
    "max_temp['Departing_Port'].replace('72160', 'Albury', inplace=True)"
   ],
   "metadata": {
    "collapsed": false,
    "ExecuteTime": {
     "end_time": "2024-09-28T12:46:25.830696200Z",
     "start_time": "2024-09-28T12:46:25.817679200Z"
    }
   }
  },
  {
   "cell_type": "code",
   "execution_count": 51,
   "outputs": [
    {
     "data": {
      "text/plain": "    Departing_Port  Year  Month  MaxTemp\n24          Albury  2017      1     33.7\n25          Albury  2018      1     34.3\n26          Albury  2019      1     37.4\n27          Albury  2020      1     33.1\n28          Albury  2021      1     31.5\n..             ...   ...    ...      ...\n379         Albury  2020     12     29.0\n380         Albury  2021     12     29.0\n381         Albury  2022     12     27.4\n382         Albury  2023     12     29.9\n383         Albury  2024     12      NaN\n\n[96 rows x 4 columns]",
      "text/html": "<div>\n<style scoped>\n    .dataframe tbody tr th:only-of-type {\n        vertical-align: middle;\n    }\n\n    .dataframe tbody tr th {\n        vertical-align: top;\n    }\n\n    .dataframe thead th {\n        text-align: right;\n    }\n</style>\n<table border=\"1\" class=\"dataframe\">\n  <thead>\n    <tr style=\"text-align: right;\">\n      <th></th>\n      <th>Departing_Port</th>\n      <th>Year</th>\n      <th>Month</th>\n      <th>MaxTemp</th>\n    </tr>\n  </thead>\n  <tbody>\n    <tr>\n      <th>24</th>\n      <td>Albury</td>\n      <td>2017</td>\n      <td>1</td>\n      <td>33.7</td>\n    </tr>\n    <tr>\n      <th>25</th>\n      <td>Albury</td>\n      <td>2018</td>\n      <td>1</td>\n      <td>34.3</td>\n    </tr>\n    <tr>\n      <th>26</th>\n      <td>Albury</td>\n      <td>2019</td>\n      <td>1</td>\n      <td>37.4</td>\n    </tr>\n    <tr>\n      <th>27</th>\n      <td>Albury</td>\n      <td>2020</td>\n      <td>1</td>\n      <td>33.1</td>\n    </tr>\n    <tr>\n      <th>28</th>\n      <td>Albury</td>\n      <td>2021</td>\n      <td>1</td>\n      <td>31.5</td>\n    </tr>\n    <tr>\n      <th>...</th>\n      <td>...</td>\n      <td>...</td>\n      <td>...</td>\n      <td>...</td>\n    </tr>\n    <tr>\n      <th>379</th>\n      <td>Albury</td>\n      <td>2020</td>\n      <td>12</td>\n      <td>29.0</td>\n    </tr>\n    <tr>\n      <th>380</th>\n      <td>Albury</td>\n      <td>2021</td>\n      <td>12</td>\n      <td>29.0</td>\n    </tr>\n    <tr>\n      <th>381</th>\n      <td>Albury</td>\n      <td>2022</td>\n      <td>12</td>\n      <td>27.4</td>\n    </tr>\n    <tr>\n      <th>382</th>\n      <td>Albury</td>\n      <td>2023</td>\n      <td>12</td>\n      <td>29.9</td>\n    </tr>\n    <tr>\n      <th>383</th>\n      <td>Albury</td>\n      <td>2024</td>\n      <td>12</td>\n      <td>NaN</td>\n    </tr>\n  </tbody>\n</table>\n<p>96 rows × 4 columns</p>\n</div>"
     },
     "execution_count": 51,
     "metadata": {},
     "output_type": "execute_result"
    }
   ],
   "source": [
    "max_temp"
   ],
   "metadata": {
    "collapsed": false,
    "ExecuteTime": {
     "end_time": "2024-09-28T12:46:30.430184100Z",
     "start_time": "2024-09-28T12:46:30.404084600Z"
    }
   }
  },
  {
   "cell_type": "markdown",
   "source": [
    "# Min Temp"
   ],
   "metadata": {
    "collapsed": false
   }
  },
  {
   "cell_type": "code",
   "execution_count": 52,
   "outputs": [],
   "source": [
    "min_temp = min_temp.drop(columns=['Product code'])\n",
    "min_temp = pd.melt(min_temp, id_vars=['Station Number', 'Year'],\n",
    "                         var_name='Month', value_name='MinTemp')\n"
   ],
   "metadata": {
    "collapsed": false,
    "ExecuteTime": {
     "end_time": "2024-09-28T12:46:36.178145500Z",
     "start_time": "2024-09-28T12:46:36.165179900Z"
    }
   }
  },
  {
   "cell_type": "code",
   "execution_count": 53,
   "outputs": [
    {
     "data": {
      "text/plain": "    Departing_Port  Year  Month  MinTemp\n24          Albury  2017      1     16.9\n25          Albury  2018      1     17.9\n26          Albury  2019      1     20.7\n27          Albury  2020      1     17.1\n28          Albury  2021      1     16.1\n..             ...   ...    ...      ...\n379         Albury  2020     12     12.9\n380         Albury  2021     12     14.0\n381         Albury  2022     12     12.8\n382         Albury  2023     12     15.9\n383         Albury  2024     12      NaN\n\n[96 rows x 4 columns]",
      "text/html": "<div>\n<style scoped>\n    .dataframe tbody tr th:only-of-type {\n        vertical-align: middle;\n    }\n\n    .dataframe tbody tr th {\n        vertical-align: top;\n    }\n\n    .dataframe thead th {\n        text-align: right;\n    }\n</style>\n<table border=\"1\" class=\"dataframe\">\n  <thead>\n    <tr style=\"text-align: right;\">\n      <th></th>\n      <th>Departing_Port</th>\n      <th>Year</th>\n      <th>Month</th>\n      <th>MinTemp</th>\n    </tr>\n  </thead>\n  <tbody>\n    <tr>\n      <th>24</th>\n      <td>Albury</td>\n      <td>2017</td>\n      <td>1</td>\n      <td>16.9</td>\n    </tr>\n    <tr>\n      <th>25</th>\n      <td>Albury</td>\n      <td>2018</td>\n      <td>1</td>\n      <td>17.9</td>\n    </tr>\n    <tr>\n      <th>26</th>\n      <td>Albury</td>\n      <td>2019</td>\n      <td>1</td>\n      <td>20.7</td>\n    </tr>\n    <tr>\n      <th>27</th>\n      <td>Albury</td>\n      <td>2020</td>\n      <td>1</td>\n      <td>17.1</td>\n    </tr>\n    <tr>\n      <th>28</th>\n      <td>Albury</td>\n      <td>2021</td>\n      <td>1</td>\n      <td>16.1</td>\n    </tr>\n    <tr>\n      <th>...</th>\n      <td>...</td>\n      <td>...</td>\n      <td>...</td>\n      <td>...</td>\n    </tr>\n    <tr>\n      <th>379</th>\n      <td>Albury</td>\n      <td>2020</td>\n      <td>12</td>\n      <td>12.9</td>\n    </tr>\n    <tr>\n      <th>380</th>\n      <td>Albury</td>\n      <td>2021</td>\n      <td>12</td>\n      <td>14.0</td>\n    </tr>\n    <tr>\n      <th>381</th>\n      <td>Albury</td>\n      <td>2022</td>\n      <td>12</td>\n      <td>12.8</td>\n    </tr>\n    <tr>\n      <th>382</th>\n      <td>Albury</td>\n      <td>2023</td>\n      <td>12</td>\n      <td>15.9</td>\n    </tr>\n    <tr>\n      <th>383</th>\n      <td>Albury</td>\n      <td>2024</td>\n      <td>12</td>\n      <td>NaN</td>\n    </tr>\n  </tbody>\n</table>\n<p>96 rows × 4 columns</p>\n</div>"
     },
     "execution_count": 53,
     "metadata": {},
     "output_type": "execute_result"
    }
   ],
   "source": [
    "min_temp = min_temp[min_temp['Year'] >= 2017]\n",
    "min_temp = min_temp.drop(min_temp[min_temp['Month'] == 'Annual'].index)\n",
    "min_temp['Month'] = pd.to_datetime(min_temp['Month'], format='%b').dt.month\n",
    "\n",
    "min_temp.rename(columns={'Station Number': 'Departing_Port'}, inplace=True)\n",
    "\n",
    "min_temp['Departing_Port'] = min_temp['Departing_Port'].astype(str)\n",
    "min_temp['Departing_Port'].replace('72160', 'Albury', inplace=True)\n",
    "\n",
    "min_temp"
   ],
   "metadata": {
    "collapsed": false,
    "ExecuteTime": {
     "end_time": "2024-09-28T12:46:46.622588100Z",
     "start_time": "2024-09-28T12:46:46.593109300Z"
    }
   }
  },
  {
   "cell_type": "code",
   "execution_count": 54,
   "outputs": [],
   "source": [
    "min_max_temp = pd.merge(\n",
    "    left=max_temp,\n",
    "    right=min_temp,\n",
    "    how='outer',\n",
    "    left_on=['Month', 'Year', 'Departing_Port'],\n",
    "    right_on=['Month', 'Year', 'Departing_Port'],\n",
    ")"
   ],
   "metadata": {
    "collapsed": false,
    "ExecuteTime": {
     "end_time": "2024-09-28T12:46:48.888204Z",
     "start_time": "2024-09-28T12:46:48.874100500Z"
    }
   }
  },
  {
   "cell_type": "code",
   "execution_count": 55,
   "outputs": [
    {
     "data": {
      "text/plain": "   Departing_Port  Year  Month  MaxTemp  MinTemp\n0          Albury  2017      1     33.7     16.9\n1          Albury  2018      1     34.3     17.9\n2          Albury  2019      1     37.4     20.7\n3          Albury  2020      1     33.1     17.1\n4          Albury  2021      1     31.5     16.1\n..            ...   ...    ...      ...      ...\n91         Albury  2020     12     29.0     12.9\n92         Albury  2021     12     29.0     14.0\n93         Albury  2022     12     27.4     12.8\n94         Albury  2023     12     29.9     15.9\n95         Albury  2024     12      NaN      NaN\n\n[96 rows x 5 columns]",
      "text/html": "<div>\n<style scoped>\n    .dataframe tbody tr th:only-of-type {\n        vertical-align: middle;\n    }\n\n    .dataframe tbody tr th {\n        vertical-align: top;\n    }\n\n    .dataframe thead th {\n        text-align: right;\n    }\n</style>\n<table border=\"1\" class=\"dataframe\">\n  <thead>\n    <tr style=\"text-align: right;\">\n      <th></th>\n      <th>Departing_Port</th>\n      <th>Year</th>\n      <th>Month</th>\n      <th>MaxTemp</th>\n      <th>MinTemp</th>\n    </tr>\n  </thead>\n  <tbody>\n    <tr>\n      <th>0</th>\n      <td>Albury</td>\n      <td>2017</td>\n      <td>1</td>\n      <td>33.7</td>\n      <td>16.9</td>\n    </tr>\n    <tr>\n      <th>1</th>\n      <td>Albury</td>\n      <td>2018</td>\n      <td>1</td>\n      <td>34.3</td>\n      <td>17.9</td>\n    </tr>\n    <tr>\n      <th>2</th>\n      <td>Albury</td>\n      <td>2019</td>\n      <td>1</td>\n      <td>37.4</td>\n      <td>20.7</td>\n    </tr>\n    <tr>\n      <th>3</th>\n      <td>Albury</td>\n      <td>2020</td>\n      <td>1</td>\n      <td>33.1</td>\n      <td>17.1</td>\n    </tr>\n    <tr>\n      <th>4</th>\n      <td>Albury</td>\n      <td>2021</td>\n      <td>1</td>\n      <td>31.5</td>\n      <td>16.1</td>\n    </tr>\n    <tr>\n      <th>...</th>\n      <td>...</td>\n      <td>...</td>\n      <td>...</td>\n      <td>...</td>\n      <td>...</td>\n    </tr>\n    <tr>\n      <th>91</th>\n      <td>Albury</td>\n      <td>2020</td>\n      <td>12</td>\n      <td>29.0</td>\n      <td>12.9</td>\n    </tr>\n    <tr>\n      <th>92</th>\n      <td>Albury</td>\n      <td>2021</td>\n      <td>12</td>\n      <td>29.0</td>\n      <td>14.0</td>\n    </tr>\n    <tr>\n      <th>93</th>\n      <td>Albury</td>\n      <td>2022</td>\n      <td>12</td>\n      <td>27.4</td>\n      <td>12.8</td>\n    </tr>\n    <tr>\n      <th>94</th>\n      <td>Albury</td>\n      <td>2023</td>\n      <td>12</td>\n      <td>29.9</td>\n      <td>15.9</td>\n    </tr>\n    <tr>\n      <th>95</th>\n      <td>Albury</td>\n      <td>2024</td>\n      <td>12</td>\n      <td>NaN</td>\n      <td>NaN</td>\n    </tr>\n  </tbody>\n</table>\n<p>96 rows × 5 columns</p>\n</div>"
     },
     "execution_count": 55,
     "metadata": {},
     "output_type": "execute_result"
    }
   ],
   "source": [
    "min_max_temp"
   ],
   "metadata": {
    "collapsed": false,
    "ExecuteTime": {
     "end_time": "2024-09-28T12:46:51.033937500Z",
     "start_time": "2024-09-28T12:46:51.013607Z"
    }
   }
  },
  {
   "cell_type": "code",
   "execution_count": 56,
   "outputs": [],
   "source": [
    "min_max_temp.to_csv(\"min_max_temp_adel_processed.csv\", header=True, index=False)"
   ],
   "metadata": {
    "collapsed": false,
    "ExecuteTime": {
     "end_time": "2024-09-28T12:46:53.576832500Z",
     "start_time": "2024-09-28T12:46:53.565185200Z"
    }
   }
  },
  {
   "cell_type": "code",
   "execution_count": null,
   "outputs": [],
   "source": [],
   "metadata": {
    "collapsed": false
   }
  }
 ],
 "metadata": {
  "kernelspec": {
   "display_name": "Python 3",
   "language": "python",
   "name": "python3"
  },
  "language_info": {
   "codemirror_mode": {
    "name": "ipython",
    "version": 2
   },
   "file_extension": ".py",
   "mimetype": "text/x-python",
   "name": "python",
   "nbconvert_exporter": "python",
   "pygments_lexer": "ipython2",
   "version": "2.7.6"
  }
 },
 "nbformat": 4,
 "nbformat_minor": 0
}
