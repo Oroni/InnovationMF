{
 "cells": [
  {
   "cell_type": "markdown",
   "source": [
    "# Process our data"
   ],
   "metadata": {
    "collapsed": false
   }
  },
  {
   "cell_type": "code",
   "execution_count": 282,
   "metadata": {
    "collapsed": true,
    "ExecuteTime": {
     "end_time": "2024-09-29T02:56:40.831580800Z",
     "start_time": "2024-09-29T02:56:40.349994100Z"
    }
   },
   "outputs": [],
   "source": [
    "import pandas as pd\n",
    "raw_data = pd.read_csv(\"flights_data.csv\")"
   ]
  },
  {
   "cell_type": "code",
   "execution_count": 283,
   "outputs": [
    {
     "data": {
      "text/plain": "      Departing_Port Arriving_Port  Month  Year  Average_Fare    Distance  \\\n0           Adelaide     Melbourne      1  2010         414.0  641.652927   \n1           Adelaide     Melbourne      1  2010         414.0  641.652927   \n2           Adelaide     Melbourne      1  2010         414.0  641.652927   \n3           Adelaide     Melbourne      1  2010         414.0  641.652927   \n4           Adelaide      Canberra      1  2010         414.0  970.229046   \n...              ...           ...    ...   ...           ...         ...   \n30111       Moranbah      Brisbane      6  2017        1277.0  779.683481   \n30112       Armidale        Sydney      6  2017         326.0  382.268024   \n30113       Armidale        Sydney      6  2017         326.0  382.268024   \n30114       Tamworth        Sydney      6  2017         643.0  319.769513   \n30115       Tamworth        Sydney      6  2017         643.0  319.769513   \n\n        MinTemp    MaxTemp  Rainfall  Evaporation  ...  Pressure9am  \\\n0      17.33103  29.763540  2.198292     8.894267  ...  1013.053858   \n1      17.33103  29.763540  2.198292     8.894267  ...  1013.053858   \n2      17.33103  29.763540  2.198292     8.894267  ...  1013.053858   \n3      17.33103  29.763540  2.198292     8.894267  ...  1013.053858   \n4      17.33103  29.763540  2.198292     8.894267  ...  1013.053858   \n...         ...        ...       ...          ...  ...          ...   \n30111   7.14584  18.217691  1.944638     2.741813  ...  1025.984182   \n30112   7.14584  18.217691  1.944638     2.741813  ...  1025.984182   \n30113   7.14584  18.217691  1.944638     2.741813  ...  1025.984182   \n30114   7.14584  18.217691  1.944638     2.741813  ...  1025.984182   \n30115   7.14584  18.217691  1.944638     2.741813  ...  1025.984182   \n\n       Pressure3pm  Cloud9am  Cloud3pm    Temp9am    Temp3pm  \\\n0      1010.905502  4.167756  4.016930  22.526185  27.847663   \n1      1010.905502  4.167756  4.016930  22.526185  27.847663   \n2      1010.905502  4.167756  4.016930  22.526185  27.847663   \n3      1010.905502  4.167756  4.016930  22.526185  27.847663   \n4      1010.905502  4.167756  4.016930  22.526185  27.847663   \n...            ...       ...       ...        ...        ...   \n30111  1023.486260  4.872945  5.115312  11.379967  16.965475   \n30112  1023.486260  4.872945  5.115312  11.379967  16.965475   \n30113  1023.486260  4.872945  5.115312  11.379967  16.965475   \n30114  1023.486260  4.872945  5.115312  11.379967  16.965475   \n30115  1023.486260  4.872945  5.115312  11.379967  16.965475   \n\n                  Airline  Departure_Delays_%  Arrival_Delays_%  \\\n0                 Jetstar            0.255319          0.234043   \n1                  Qantas            0.087542          0.090909   \n2      Tigerair Australia            0.083333          0.033333   \n3        Virgin Australia            0.072874          0.068826   \n4                  Qantas            0.111111          0.083333   \n...                   ...                 ...               ...   \n30111    Virgin Australia            0.078431          0.058824   \n30112          QantasLink            0.256198          0.297521   \n30113    Regional Express            0.278481          0.329114   \n30114          QantasLink            0.180645          0.174194   \n30115    Virgin Australia            0.156863          0.156863   \n\n       Cancellations_%  \n0             0.000000  \n1             0.003367  \n2             0.050000  \n3             0.012146  \n4             0.000000  \n...                ...  \n30111         0.000000  \n30112         0.115702  \n30113         0.050633  \n30114         0.051613  \n30115         0.019608  \n\n[30116 rows x 26 columns]",
      "text/html": "<div>\n<style scoped>\n    .dataframe tbody tr th:only-of-type {\n        vertical-align: middle;\n    }\n\n    .dataframe tbody tr th {\n        vertical-align: top;\n    }\n\n    .dataframe thead th {\n        text-align: right;\n    }\n</style>\n<table border=\"1\" class=\"dataframe\">\n  <thead>\n    <tr style=\"text-align: right;\">\n      <th></th>\n      <th>Departing_Port</th>\n      <th>Arriving_Port</th>\n      <th>Month</th>\n      <th>Year</th>\n      <th>Average_Fare</th>\n      <th>Distance</th>\n      <th>MinTemp</th>\n      <th>MaxTemp</th>\n      <th>Rainfall</th>\n      <th>Evaporation</th>\n      <th>...</th>\n      <th>Pressure9am</th>\n      <th>Pressure3pm</th>\n      <th>Cloud9am</th>\n      <th>Cloud3pm</th>\n      <th>Temp9am</th>\n      <th>Temp3pm</th>\n      <th>Airline</th>\n      <th>Departure_Delays_%</th>\n      <th>Arrival_Delays_%</th>\n      <th>Cancellations_%</th>\n    </tr>\n  </thead>\n  <tbody>\n    <tr>\n      <th>0</th>\n      <td>Adelaide</td>\n      <td>Melbourne</td>\n      <td>1</td>\n      <td>2010</td>\n      <td>414.0</td>\n      <td>641.652927</td>\n      <td>17.33103</td>\n      <td>29.763540</td>\n      <td>2.198292</td>\n      <td>8.894267</td>\n      <td>...</td>\n      <td>1013.053858</td>\n      <td>1010.905502</td>\n      <td>4.167756</td>\n      <td>4.016930</td>\n      <td>22.526185</td>\n      <td>27.847663</td>\n      <td>Jetstar</td>\n      <td>0.255319</td>\n      <td>0.234043</td>\n      <td>0.000000</td>\n    </tr>\n    <tr>\n      <th>1</th>\n      <td>Adelaide</td>\n      <td>Melbourne</td>\n      <td>1</td>\n      <td>2010</td>\n      <td>414.0</td>\n      <td>641.652927</td>\n      <td>17.33103</td>\n      <td>29.763540</td>\n      <td>2.198292</td>\n      <td>8.894267</td>\n      <td>...</td>\n      <td>1013.053858</td>\n      <td>1010.905502</td>\n      <td>4.167756</td>\n      <td>4.016930</td>\n      <td>22.526185</td>\n      <td>27.847663</td>\n      <td>Qantas</td>\n      <td>0.087542</td>\n      <td>0.090909</td>\n      <td>0.003367</td>\n    </tr>\n    <tr>\n      <th>2</th>\n      <td>Adelaide</td>\n      <td>Melbourne</td>\n      <td>1</td>\n      <td>2010</td>\n      <td>414.0</td>\n      <td>641.652927</td>\n      <td>17.33103</td>\n      <td>29.763540</td>\n      <td>2.198292</td>\n      <td>8.894267</td>\n      <td>...</td>\n      <td>1013.053858</td>\n      <td>1010.905502</td>\n      <td>4.167756</td>\n      <td>4.016930</td>\n      <td>22.526185</td>\n      <td>27.847663</td>\n      <td>Tigerair Australia</td>\n      <td>0.083333</td>\n      <td>0.033333</td>\n      <td>0.050000</td>\n    </tr>\n    <tr>\n      <th>3</th>\n      <td>Adelaide</td>\n      <td>Melbourne</td>\n      <td>1</td>\n      <td>2010</td>\n      <td>414.0</td>\n      <td>641.652927</td>\n      <td>17.33103</td>\n      <td>29.763540</td>\n      <td>2.198292</td>\n      <td>8.894267</td>\n      <td>...</td>\n      <td>1013.053858</td>\n      <td>1010.905502</td>\n      <td>4.167756</td>\n      <td>4.016930</td>\n      <td>22.526185</td>\n      <td>27.847663</td>\n      <td>Virgin Australia</td>\n      <td>0.072874</td>\n      <td>0.068826</td>\n      <td>0.012146</td>\n    </tr>\n    <tr>\n      <th>4</th>\n      <td>Adelaide</td>\n      <td>Canberra</td>\n      <td>1</td>\n      <td>2010</td>\n      <td>414.0</td>\n      <td>970.229046</td>\n      <td>17.33103</td>\n      <td>29.763540</td>\n      <td>2.198292</td>\n      <td>8.894267</td>\n      <td>...</td>\n      <td>1013.053858</td>\n      <td>1010.905502</td>\n      <td>4.167756</td>\n      <td>4.016930</td>\n      <td>22.526185</td>\n      <td>27.847663</td>\n      <td>Qantas</td>\n      <td>0.111111</td>\n      <td>0.083333</td>\n      <td>0.000000</td>\n    </tr>\n    <tr>\n      <th>...</th>\n      <td>...</td>\n      <td>...</td>\n      <td>...</td>\n      <td>...</td>\n      <td>...</td>\n      <td>...</td>\n      <td>...</td>\n      <td>...</td>\n      <td>...</td>\n      <td>...</td>\n      <td>...</td>\n      <td>...</td>\n      <td>...</td>\n      <td>...</td>\n      <td>...</td>\n      <td>...</td>\n      <td>...</td>\n      <td>...</td>\n      <td>...</td>\n      <td>...</td>\n      <td>...</td>\n    </tr>\n    <tr>\n      <th>30111</th>\n      <td>Moranbah</td>\n      <td>Brisbane</td>\n      <td>6</td>\n      <td>2017</td>\n      <td>1277.0</td>\n      <td>779.683481</td>\n      <td>7.14584</td>\n      <td>18.217691</td>\n      <td>1.944638</td>\n      <td>2.741813</td>\n      <td>...</td>\n      <td>1025.984182</td>\n      <td>1023.486260</td>\n      <td>4.872945</td>\n      <td>5.115312</td>\n      <td>11.379967</td>\n      <td>16.965475</td>\n      <td>Virgin Australia</td>\n      <td>0.078431</td>\n      <td>0.058824</td>\n      <td>0.000000</td>\n    </tr>\n    <tr>\n      <th>30112</th>\n      <td>Armidale</td>\n      <td>Sydney</td>\n      <td>6</td>\n      <td>2017</td>\n      <td>326.0</td>\n      <td>382.268024</td>\n      <td>7.14584</td>\n      <td>18.217691</td>\n      <td>1.944638</td>\n      <td>2.741813</td>\n      <td>...</td>\n      <td>1025.984182</td>\n      <td>1023.486260</td>\n      <td>4.872945</td>\n      <td>5.115312</td>\n      <td>11.379967</td>\n      <td>16.965475</td>\n      <td>QantasLink</td>\n      <td>0.256198</td>\n      <td>0.297521</td>\n      <td>0.115702</td>\n    </tr>\n    <tr>\n      <th>30113</th>\n      <td>Armidale</td>\n      <td>Sydney</td>\n      <td>6</td>\n      <td>2017</td>\n      <td>326.0</td>\n      <td>382.268024</td>\n      <td>7.14584</td>\n      <td>18.217691</td>\n      <td>1.944638</td>\n      <td>2.741813</td>\n      <td>...</td>\n      <td>1025.984182</td>\n      <td>1023.486260</td>\n      <td>4.872945</td>\n      <td>5.115312</td>\n      <td>11.379967</td>\n      <td>16.965475</td>\n      <td>Regional Express</td>\n      <td>0.278481</td>\n      <td>0.329114</td>\n      <td>0.050633</td>\n    </tr>\n    <tr>\n      <th>30114</th>\n      <td>Tamworth</td>\n      <td>Sydney</td>\n      <td>6</td>\n      <td>2017</td>\n      <td>643.0</td>\n      <td>319.769513</td>\n      <td>7.14584</td>\n      <td>18.217691</td>\n      <td>1.944638</td>\n      <td>2.741813</td>\n      <td>...</td>\n      <td>1025.984182</td>\n      <td>1023.486260</td>\n      <td>4.872945</td>\n      <td>5.115312</td>\n      <td>11.379967</td>\n      <td>16.965475</td>\n      <td>QantasLink</td>\n      <td>0.180645</td>\n      <td>0.174194</td>\n      <td>0.051613</td>\n    </tr>\n    <tr>\n      <th>30115</th>\n      <td>Tamworth</td>\n      <td>Sydney</td>\n      <td>6</td>\n      <td>2017</td>\n      <td>643.0</td>\n      <td>319.769513</td>\n      <td>7.14584</td>\n      <td>18.217691</td>\n      <td>1.944638</td>\n      <td>2.741813</td>\n      <td>...</td>\n      <td>1025.984182</td>\n      <td>1023.486260</td>\n      <td>4.872945</td>\n      <td>5.115312</td>\n      <td>11.379967</td>\n      <td>16.965475</td>\n      <td>Virgin Australia</td>\n      <td>0.156863</td>\n      <td>0.156863</td>\n      <td>0.019608</td>\n    </tr>\n  </tbody>\n</table>\n<p>30116 rows × 26 columns</p>\n</div>"
     },
     "execution_count": 283,
     "metadata": {},
     "output_type": "execute_result"
    }
   ],
   "source": [
    "raw_data"
   ],
   "metadata": {
    "collapsed": false,
    "ExecuteTime": {
     "end_time": "2024-09-29T02:56:40.831580800Z",
     "start_time": "2024-09-29T02:56:40.558359600Z"
    }
   }
  },
  {
   "cell_type": "markdown",
   "source": [
    "## Convert categorical variables to integer values"
   ],
   "metadata": {
    "collapsed": false
   }
  },
  {
   "cell_type": "code",
   "execution_count": 284,
   "outputs": [],
   "source": [
    "raw_data[\"Average_Delay_%\"] = (raw_data[\"Arrival_Delays_%\"] + raw_data[\"Departure_Delays_%\"]) * 0.5"
   ],
   "metadata": {
    "collapsed": false,
    "ExecuteTime": {
     "end_time": "2024-09-29T02:56:40.832576900Z",
     "start_time": "2024-09-29T02:56:40.618327400Z"
    }
   }
  },
  {
   "cell_type": "code",
   "execution_count": 285,
   "outputs": [],
   "source": [
    "categorical_variables = [\"Departing_Port\", \"Arriving_Port\", \"Airline\"]"
   ],
   "metadata": {
    "collapsed": false,
    "ExecuteTime": {
     "end_time": "2024-09-29T02:56:40.832576900Z",
     "start_time": "2024-09-29T02:56:40.631201500Z"
    }
   }
  },
  {
   "cell_type": "code",
   "execution_count": 286,
   "outputs": [],
   "source": [
    "# Convert categorical variables into integers\n",
    "processed_data = raw_data.copy()\n",
    "\n",
    "processed_data[categorical_variables] = processed_data[categorical_variables].astype('category')\n",
    "processed_data[categorical_variables] = processed_data[categorical_variables].apply(lambda x: x.cat.codes)\n",
    "\n",
    "processed_data = processed_data.sort_values([\"Year\", \"Month\", \"Departing_Port\", \"Arriving_Port\", \"Airline\"])"
   ],
   "metadata": {
    "collapsed": false,
    "ExecuteTime": {
     "end_time": "2024-09-29T02:56:40.832576900Z",
     "start_time": "2024-09-29T02:56:40.649152900Z"
    }
   }
  },
  {
   "cell_type": "code",
   "execution_count": 287,
   "outputs": [
    {
     "data": {
      "text/plain": "       Departing_Port  Arriving_Port  Month  Year  Average_Fare     Distance  \\\n11                  0              2      1  2010         414.0  1316.720677   \n12                  0              2      1  2010         414.0  1316.720677   \n16                  0              6      1  2010         414.0  1619.982414   \n17                  0              6      1  2010         414.0  1619.982414   \n18                  0              6      1  2010         414.0  1619.982414   \n...               ...            ...    ...   ...           ...          ...   \n30093              39              9      6  2017       20941.0   284.013192   \n30094              39             37      6  2017       21097.0  1691.132106   \n30095              39             37      6  2017       21097.0  1691.132106   \n30096              40             37      6  2017       26286.0   365.844014   \n30097              40             37      6  2017       26286.0   365.844014   \n\n        MinTemp    MaxTemp  Rainfall  Evaporation  ...  Pressure3pm  Cloud9am  \\\n11     17.33103  29.763540  2.198292     8.894267  ...  1010.905502  4.167756   \n12     17.33103  29.763540  2.198292     8.894267  ...  1010.905502  4.167756   \n16     17.33103  29.763540  2.198292     8.894267  ...  1010.905502  4.167756   \n17     17.33103  29.763540  2.198292     8.894267  ...  1010.905502  4.167756   \n18     17.33103  29.763540  2.198292     8.894267  ...  1010.905502  4.167756   \n...         ...        ...       ...          ...  ...          ...       ...   \n30093   7.14584  18.217691  1.944638     2.741813  ...  1023.486260  4.872945   \n30094   7.14584  18.217691  1.944638     2.741813  ...  1023.486260  4.872945   \n30095   7.14584  18.217691  1.944638     2.741813  ...  1023.486260  4.872945   \n30096   7.14584  18.217691  1.944638     2.741813  ...  1023.486260  4.872945   \n30097   7.14584  18.217691  1.944638     2.741813  ...  1023.486260  4.872945   \n\n       Cloud3pm    Temp9am    Temp3pm  Airline  Departure_Delays_%  \\\n11     4.016930  22.526185  27.847663        1            0.000000   \n12     4.016930  22.526185  27.847663        5            0.153846   \n16     4.016930  22.526185  27.847663        0            0.266667   \n17     4.016930  22.526185  27.847663        1            0.053191   \n18     4.016930  22.526185  27.847663        6            0.064516   \n...         ...        ...        ...      ...                 ...   \n30093  5.115312  11.379967  16.965475        3            0.066667   \n30094  5.115312  11.379967  16.965475        0            0.500000   \n30095  5.115312  11.379967  16.965475        6            0.263158   \n30096  5.115312  11.379967  16.965475        2            0.187500   \n30097  5.115312  11.379967  16.965475        3            0.164062   \n\n       Arrival_Delays_%  Cancellations_%  Average_Delay_%  \n11             0.000000         0.000000         0.000000  \n12             0.153846         0.000000         0.153846  \n16             0.233333         0.000000         0.250000  \n17             0.031915         0.000000         0.042553  \n18             0.064516         0.000000         0.064516  \n...                 ...              ...              ...  \n30093          0.066667         0.044444         0.066667  \n30094          0.300000         0.000000         0.400000  \n30095          0.210526         0.000000         0.236842  \n30096          0.178571         0.026786         0.183036  \n30097          0.234375         0.046875         0.199219  \n\n[30116 rows x 27 columns]",
      "text/html": "<div>\n<style scoped>\n    .dataframe tbody tr th:only-of-type {\n        vertical-align: middle;\n    }\n\n    .dataframe tbody tr th {\n        vertical-align: top;\n    }\n\n    .dataframe thead th {\n        text-align: right;\n    }\n</style>\n<table border=\"1\" class=\"dataframe\">\n  <thead>\n    <tr style=\"text-align: right;\">\n      <th></th>\n      <th>Departing_Port</th>\n      <th>Arriving_Port</th>\n      <th>Month</th>\n      <th>Year</th>\n      <th>Average_Fare</th>\n      <th>Distance</th>\n      <th>MinTemp</th>\n      <th>MaxTemp</th>\n      <th>Rainfall</th>\n      <th>Evaporation</th>\n      <th>...</th>\n      <th>Pressure3pm</th>\n      <th>Cloud9am</th>\n      <th>Cloud3pm</th>\n      <th>Temp9am</th>\n      <th>Temp3pm</th>\n      <th>Airline</th>\n      <th>Departure_Delays_%</th>\n      <th>Arrival_Delays_%</th>\n      <th>Cancellations_%</th>\n      <th>Average_Delay_%</th>\n    </tr>\n  </thead>\n  <tbody>\n    <tr>\n      <th>11</th>\n      <td>0</td>\n      <td>2</td>\n      <td>1</td>\n      <td>2010</td>\n      <td>414.0</td>\n      <td>1316.720677</td>\n      <td>17.33103</td>\n      <td>29.763540</td>\n      <td>2.198292</td>\n      <td>8.894267</td>\n      <td>...</td>\n      <td>1010.905502</td>\n      <td>4.167756</td>\n      <td>4.016930</td>\n      <td>22.526185</td>\n      <td>27.847663</td>\n      <td>1</td>\n      <td>0.000000</td>\n      <td>0.000000</td>\n      <td>0.000000</td>\n      <td>0.000000</td>\n    </tr>\n    <tr>\n      <th>12</th>\n      <td>0</td>\n      <td>2</td>\n      <td>1</td>\n      <td>2010</td>\n      <td>414.0</td>\n      <td>1316.720677</td>\n      <td>17.33103</td>\n      <td>29.763540</td>\n      <td>2.198292</td>\n      <td>8.894267</td>\n      <td>...</td>\n      <td>1010.905502</td>\n      <td>4.167756</td>\n      <td>4.016930</td>\n      <td>22.526185</td>\n      <td>27.847663</td>\n      <td>5</td>\n      <td>0.153846</td>\n      <td>0.153846</td>\n      <td>0.000000</td>\n      <td>0.153846</td>\n    </tr>\n    <tr>\n      <th>16</th>\n      <td>0</td>\n      <td>6</td>\n      <td>1</td>\n      <td>2010</td>\n      <td>414.0</td>\n      <td>1619.982414</td>\n      <td>17.33103</td>\n      <td>29.763540</td>\n      <td>2.198292</td>\n      <td>8.894267</td>\n      <td>...</td>\n      <td>1010.905502</td>\n      <td>4.167756</td>\n      <td>4.016930</td>\n      <td>22.526185</td>\n      <td>27.847663</td>\n      <td>0</td>\n      <td>0.266667</td>\n      <td>0.233333</td>\n      <td>0.000000</td>\n      <td>0.250000</td>\n    </tr>\n    <tr>\n      <th>17</th>\n      <td>0</td>\n      <td>6</td>\n      <td>1</td>\n      <td>2010</td>\n      <td>414.0</td>\n      <td>1619.982414</td>\n      <td>17.33103</td>\n      <td>29.763540</td>\n      <td>2.198292</td>\n      <td>8.894267</td>\n      <td>...</td>\n      <td>1010.905502</td>\n      <td>4.167756</td>\n      <td>4.016930</td>\n      <td>22.526185</td>\n      <td>27.847663</td>\n      <td>1</td>\n      <td>0.053191</td>\n      <td>0.031915</td>\n      <td>0.000000</td>\n      <td>0.042553</td>\n    </tr>\n    <tr>\n      <th>18</th>\n      <td>0</td>\n      <td>6</td>\n      <td>1</td>\n      <td>2010</td>\n      <td>414.0</td>\n      <td>1619.982414</td>\n      <td>17.33103</td>\n      <td>29.763540</td>\n      <td>2.198292</td>\n      <td>8.894267</td>\n      <td>...</td>\n      <td>1010.905502</td>\n      <td>4.167756</td>\n      <td>4.016930</td>\n      <td>22.526185</td>\n      <td>27.847663</td>\n      <td>6</td>\n      <td>0.064516</td>\n      <td>0.064516</td>\n      <td>0.000000</td>\n      <td>0.064516</td>\n    </tr>\n    <tr>\n      <th>...</th>\n      <td>...</td>\n      <td>...</td>\n      <td>...</td>\n      <td>...</td>\n      <td>...</td>\n      <td>...</td>\n      <td>...</td>\n      <td>...</td>\n      <td>...</td>\n      <td>...</td>\n      <td>...</td>\n      <td>...</td>\n      <td>...</td>\n      <td>...</td>\n      <td>...</td>\n      <td>...</td>\n      <td>...</td>\n      <td>...</td>\n      <td>...</td>\n      <td>...</td>\n      <td>...</td>\n    </tr>\n    <tr>\n      <th>30093</th>\n      <td>39</td>\n      <td>9</td>\n      <td>6</td>\n      <td>2017</td>\n      <td>20941.0</td>\n      <td>284.013192</td>\n      <td>7.14584</td>\n      <td>18.217691</td>\n      <td>1.944638</td>\n      <td>2.741813</td>\n      <td>...</td>\n      <td>1023.486260</td>\n      <td>4.872945</td>\n      <td>5.115312</td>\n      <td>11.379967</td>\n      <td>16.965475</td>\n      <td>3</td>\n      <td>0.066667</td>\n      <td>0.066667</td>\n      <td>0.044444</td>\n      <td>0.066667</td>\n    </tr>\n    <tr>\n      <th>30094</th>\n      <td>39</td>\n      <td>37</td>\n      <td>6</td>\n      <td>2017</td>\n      <td>21097.0</td>\n      <td>1691.132106</td>\n      <td>7.14584</td>\n      <td>18.217691</td>\n      <td>1.944638</td>\n      <td>2.741813</td>\n      <td>...</td>\n      <td>1023.486260</td>\n      <td>4.872945</td>\n      <td>5.115312</td>\n      <td>11.379967</td>\n      <td>16.965475</td>\n      <td>0</td>\n      <td>0.500000</td>\n      <td>0.300000</td>\n      <td>0.000000</td>\n      <td>0.400000</td>\n    </tr>\n    <tr>\n      <th>30095</th>\n      <td>39</td>\n      <td>37</td>\n      <td>6</td>\n      <td>2017</td>\n      <td>21097.0</td>\n      <td>1691.132106</td>\n      <td>7.14584</td>\n      <td>18.217691</td>\n      <td>1.944638</td>\n      <td>2.741813</td>\n      <td>...</td>\n      <td>1023.486260</td>\n      <td>4.872945</td>\n      <td>5.115312</td>\n      <td>11.379967</td>\n      <td>16.965475</td>\n      <td>6</td>\n      <td>0.263158</td>\n      <td>0.210526</td>\n      <td>0.000000</td>\n      <td>0.236842</td>\n    </tr>\n    <tr>\n      <th>30096</th>\n      <td>40</td>\n      <td>37</td>\n      <td>6</td>\n      <td>2017</td>\n      <td>26286.0</td>\n      <td>365.844014</td>\n      <td>7.14584</td>\n      <td>18.217691</td>\n      <td>1.944638</td>\n      <td>2.741813</td>\n      <td>...</td>\n      <td>1023.486260</td>\n      <td>4.872945</td>\n      <td>5.115312</td>\n      <td>11.379967</td>\n      <td>16.965475</td>\n      <td>2</td>\n      <td>0.187500</td>\n      <td>0.178571</td>\n      <td>0.026786</td>\n      <td>0.183036</td>\n    </tr>\n    <tr>\n      <th>30097</th>\n      <td>40</td>\n      <td>37</td>\n      <td>6</td>\n      <td>2017</td>\n      <td>26286.0</td>\n      <td>365.844014</td>\n      <td>7.14584</td>\n      <td>18.217691</td>\n      <td>1.944638</td>\n      <td>2.741813</td>\n      <td>...</td>\n      <td>1023.486260</td>\n      <td>4.872945</td>\n      <td>5.115312</td>\n      <td>11.379967</td>\n      <td>16.965475</td>\n      <td>3</td>\n      <td>0.164062</td>\n      <td>0.234375</td>\n      <td>0.046875</td>\n      <td>0.199219</td>\n    </tr>\n  </tbody>\n</table>\n<p>30116 rows × 27 columns</p>\n</div>"
     },
     "execution_count": 287,
     "metadata": {},
     "output_type": "execute_result"
    }
   ],
   "source": [
    "processed_data"
   ],
   "metadata": {
    "collapsed": false,
    "ExecuteTime": {
     "end_time": "2024-09-29T02:56:40.832576900Z",
     "start_time": "2024-09-29T02:56:40.697571300Z"
    }
   }
  },
  {
   "cell_type": "markdown",
   "source": [
    "## Create date column and make it the index.\n",
    "Also, delete \"Month\" and \"Year\" columns."
   ],
   "metadata": {
    "collapsed": false
   }
  },
  {
   "cell_type": "code",
   "execution_count": 288,
   "outputs": [],
   "source": [
    "processed_data[\"Date\"] = processed_data[\"Year\"].astype(\"str\") + \"-\" + processed_data[\"Month\"].astype(\"str\") + \"-1\"\n",
    "processed_data[\"Date\"] = pd.to_datetime(processed_data[\"Date\"])"
   ],
   "metadata": {
    "collapsed": false,
    "ExecuteTime": {
     "end_time": "2024-09-29T02:56:40.834572400Z",
     "start_time": "2024-09-29T02:56:40.816810300Z"
    }
   }
  },
  {
   "cell_type": "code",
   "execution_count": 289,
   "outputs": [],
   "source": [
    "processed_data = processed_data.set_index(processed_data[\"Date\"])"
   ],
   "metadata": {
    "collapsed": false,
    "ExecuteTime": {
     "end_time": "2024-09-29T02:56:40.861576900Z",
     "start_time": "2024-09-29T02:56:40.835571500Z"
    }
   }
  },
  {
   "cell_type": "code",
   "execution_count": 290,
   "outputs": [],
   "source": [
    "del processed_data[\"Month\"]\n",
    "del processed_data[\"Year\"]"
   ],
   "metadata": {
    "collapsed": false,
    "ExecuteTime": {
     "end_time": "2024-09-29T02:56:40.948797700Z",
     "start_time": "2024-09-29T02:56:40.853522600Z"
    }
   }
  },
  {
   "cell_type": "code",
   "execution_count": 291,
   "outputs": [
    {
     "data": {
      "text/plain": "            Departing_Port  Arriving_Port  Average_Fare     Distance  \\\nDate                                                                   \n2010-01-01               0              2         414.0  1316.720677   \n2010-01-01               0              2         414.0  1316.720677   \n2010-01-01               0              6         414.0  1619.982414   \n2010-01-01               0              6         414.0  1619.982414   \n2010-01-01               0              6         414.0  1619.982414   \n...                    ...            ...           ...          ...   \n2017-06-01              39              9       20941.0   284.013192   \n2017-06-01              39             37       21097.0  1691.132106   \n2017-06-01              39             37       21097.0  1691.132106   \n2017-06-01              40             37       26286.0   365.844014   \n2017-06-01              40             37       26286.0   365.844014   \n\n             MinTemp    MaxTemp  Rainfall  Evaporation  Sunshine  \\\nDate                                                               \n2010-01-01  17.33103  29.763540  2.198292     8.894267  9.385116   \n2010-01-01  17.33103  29.763540  2.198292     8.894267  9.385116   \n2010-01-01  17.33103  29.763540  2.198292     8.894267  9.385116   \n2010-01-01  17.33103  29.763540  2.198292     8.894267  9.385116   \n2010-01-01  17.33103  29.763540  2.198292     8.894267  9.385116   \n...              ...        ...       ...          ...       ...   \n2017-06-01   7.14584  18.217691  1.944638     2.741813  6.264984   \n2017-06-01   7.14584  18.217691  1.944638     2.741813  6.264984   \n2017-06-01   7.14584  18.217691  1.944638     2.741813  6.264984   \n2017-06-01   7.14584  18.217691  1.944638     2.741813  6.264984   \n2017-06-01   7.14584  18.217691  1.944638     2.741813  6.264984   \n\n            WindGustSpeed  ...  Cloud9am  Cloud3pm    Temp9am    Temp3pm  \\\nDate                       ...                                             \n2010-01-01      43.838095  ...  4.167756  4.016930  22.526185  27.847663   \n2010-01-01      43.838095  ...  4.167756  4.016930  22.526185  27.847663   \n2010-01-01      43.838095  ...  4.167756  4.016930  22.526185  27.847663   \n2010-01-01      43.838095  ...  4.167756  4.016930  22.526185  27.847663   \n2010-01-01      43.838095  ...  4.167756  4.016930  22.526185  27.847663   \n...                   ...  ...       ...       ...        ...        ...   \n2017-06-01      31.617153  ...  4.872945  5.115312  11.379967  16.965475   \n2017-06-01      31.617153  ...  4.872945  5.115312  11.379967  16.965475   \n2017-06-01      31.617153  ...  4.872945  5.115312  11.379967  16.965475   \n2017-06-01      31.617153  ...  4.872945  5.115312  11.379967  16.965475   \n2017-06-01      31.617153  ...  4.872945  5.115312  11.379967  16.965475   \n\n            Airline  Departure_Delays_%  Arrival_Delays_%  Cancellations_%  \\\nDate                                                                         \n2010-01-01        1            0.000000          0.000000         0.000000   \n2010-01-01        5            0.153846          0.153846         0.000000   \n2010-01-01        0            0.266667          0.233333         0.000000   \n2010-01-01        1            0.053191          0.031915         0.000000   \n2010-01-01        6            0.064516          0.064516         0.000000   \n...             ...                 ...               ...              ...   \n2017-06-01        3            0.066667          0.066667         0.044444   \n2017-06-01        0            0.500000          0.300000         0.000000   \n2017-06-01        6            0.263158          0.210526         0.000000   \n2017-06-01        2            0.187500          0.178571         0.026786   \n2017-06-01        3            0.164062          0.234375         0.046875   \n\n            Average_Delay_%       Date  \nDate                                    \n2010-01-01         0.000000 2010-01-01  \n2010-01-01         0.153846 2010-01-01  \n2010-01-01         0.250000 2010-01-01  \n2010-01-01         0.042553 2010-01-01  \n2010-01-01         0.064516 2010-01-01  \n...                     ...        ...  \n2017-06-01         0.066667 2017-06-01  \n2017-06-01         0.400000 2017-06-01  \n2017-06-01         0.236842 2017-06-01  \n2017-06-01         0.183036 2017-06-01  \n2017-06-01         0.199219 2017-06-01  \n\n[30116 rows x 26 columns]",
      "text/html": "<div>\n<style scoped>\n    .dataframe tbody tr th:only-of-type {\n        vertical-align: middle;\n    }\n\n    .dataframe tbody tr th {\n        vertical-align: top;\n    }\n\n    .dataframe thead th {\n        text-align: right;\n    }\n</style>\n<table border=\"1\" class=\"dataframe\">\n  <thead>\n    <tr style=\"text-align: right;\">\n      <th></th>\n      <th>Departing_Port</th>\n      <th>Arriving_Port</th>\n      <th>Average_Fare</th>\n      <th>Distance</th>\n      <th>MinTemp</th>\n      <th>MaxTemp</th>\n      <th>Rainfall</th>\n      <th>Evaporation</th>\n      <th>Sunshine</th>\n      <th>WindGustSpeed</th>\n      <th>...</th>\n      <th>Cloud9am</th>\n      <th>Cloud3pm</th>\n      <th>Temp9am</th>\n      <th>Temp3pm</th>\n      <th>Airline</th>\n      <th>Departure_Delays_%</th>\n      <th>Arrival_Delays_%</th>\n      <th>Cancellations_%</th>\n      <th>Average_Delay_%</th>\n      <th>Date</th>\n    </tr>\n    <tr>\n      <th>Date</th>\n      <th></th>\n      <th></th>\n      <th></th>\n      <th></th>\n      <th></th>\n      <th></th>\n      <th></th>\n      <th></th>\n      <th></th>\n      <th></th>\n      <th></th>\n      <th></th>\n      <th></th>\n      <th></th>\n      <th></th>\n      <th></th>\n      <th></th>\n      <th></th>\n      <th></th>\n      <th></th>\n      <th></th>\n    </tr>\n  </thead>\n  <tbody>\n    <tr>\n      <th>2010-01-01</th>\n      <td>0</td>\n      <td>2</td>\n      <td>414.0</td>\n      <td>1316.720677</td>\n      <td>17.33103</td>\n      <td>29.763540</td>\n      <td>2.198292</td>\n      <td>8.894267</td>\n      <td>9.385116</td>\n      <td>43.838095</td>\n      <td>...</td>\n      <td>4.167756</td>\n      <td>4.016930</td>\n      <td>22.526185</td>\n      <td>27.847663</td>\n      <td>1</td>\n      <td>0.000000</td>\n      <td>0.000000</td>\n      <td>0.000000</td>\n      <td>0.000000</td>\n      <td>2010-01-01</td>\n    </tr>\n    <tr>\n      <th>2010-01-01</th>\n      <td>0</td>\n      <td>2</td>\n      <td>414.0</td>\n      <td>1316.720677</td>\n      <td>17.33103</td>\n      <td>29.763540</td>\n      <td>2.198292</td>\n      <td>8.894267</td>\n      <td>9.385116</td>\n      <td>43.838095</td>\n      <td>...</td>\n      <td>4.167756</td>\n      <td>4.016930</td>\n      <td>22.526185</td>\n      <td>27.847663</td>\n      <td>5</td>\n      <td>0.153846</td>\n      <td>0.153846</td>\n      <td>0.000000</td>\n      <td>0.153846</td>\n      <td>2010-01-01</td>\n    </tr>\n    <tr>\n      <th>2010-01-01</th>\n      <td>0</td>\n      <td>6</td>\n      <td>414.0</td>\n      <td>1619.982414</td>\n      <td>17.33103</td>\n      <td>29.763540</td>\n      <td>2.198292</td>\n      <td>8.894267</td>\n      <td>9.385116</td>\n      <td>43.838095</td>\n      <td>...</td>\n      <td>4.167756</td>\n      <td>4.016930</td>\n      <td>22.526185</td>\n      <td>27.847663</td>\n      <td>0</td>\n      <td>0.266667</td>\n      <td>0.233333</td>\n      <td>0.000000</td>\n      <td>0.250000</td>\n      <td>2010-01-01</td>\n    </tr>\n    <tr>\n      <th>2010-01-01</th>\n      <td>0</td>\n      <td>6</td>\n      <td>414.0</td>\n      <td>1619.982414</td>\n      <td>17.33103</td>\n      <td>29.763540</td>\n      <td>2.198292</td>\n      <td>8.894267</td>\n      <td>9.385116</td>\n      <td>43.838095</td>\n      <td>...</td>\n      <td>4.167756</td>\n      <td>4.016930</td>\n      <td>22.526185</td>\n      <td>27.847663</td>\n      <td>1</td>\n      <td>0.053191</td>\n      <td>0.031915</td>\n      <td>0.000000</td>\n      <td>0.042553</td>\n      <td>2010-01-01</td>\n    </tr>\n    <tr>\n      <th>2010-01-01</th>\n      <td>0</td>\n      <td>6</td>\n      <td>414.0</td>\n      <td>1619.982414</td>\n      <td>17.33103</td>\n      <td>29.763540</td>\n      <td>2.198292</td>\n      <td>8.894267</td>\n      <td>9.385116</td>\n      <td>43.838095</td>\n      <td>...</td>\n      <td>4.167756</td>\n      <td>4.016930</td>\n      <td>22.526185</td>\n      <td>27.847663</td>\n      <td>6</td>\n      <td>0.064516</td>\n      <td>0.064516</td>\n      <td>0.000000</td>\n      <td>0.064516</td>\n      <td>2010-01-01</td>\n    </tr>\n    <tr>\n      <th>...</th>\n      <td>...</td>\n      <td>...</td>\n      <td>...</td>\n      <td>...</td>\n      <td>...</td>\n      <td>...</td>\n      <td>...</td>\n      <td>...</td>\n      <td>...</td>\n      <td>...</td>\n      <td>...</td>\n      <td>...</td>\n      <td>...</td>\n      <td>...</td>\n      <td>...</td>\n      <td>...</td>\n      <td>...</td>\n      <td>...</td>\n      <td>...</td>\n      <td>...</td>\n      <td>...</td>\n    </tr>\n    <tr>\n      <th>2017-06-01</th>\n      <td>39</td>\n      <td>9</td>\n      <td>20941.0</td>\n      <td>284.013192</td>\n      <td>7.14584</td>\n      <td>18.217691</td>\n      <td>1.944638</td>\n      <td>2.741813</td>\n      <td>6.264984</td>\n      <td>31.617153</td>\n      <td>...</td>\n      <td>4.872945</td>\n      <td>5.115312</td>\n      <td>11.379967</td>\n      <td>16.965475</td>\n      <td>3</td>\n      <td>0.066667</td>\n      <td>0.066667</td>\n      <td>0.044444</td>\n      <td>0.066667</td>\n      <td>2017-06-01</td>\n    </tr>\n    <tr>\n      <th>2017-06-01</th>\n      <td>39</td>\n      <td>37</td>\n      <td>21097.0</td>\n      <td>1691.132106</td>\n      <td>7.14584</td>\n      <td>18.217691</td>\n      <td>1.944638</td>\n      <td>2.741813</td>\n      <td>6.264984</td>\n      <td>31.617153</td>\n      <td>...</td>\n      <td>4.872945</td>\n      <td>5.115312</td>\n      <td>11.379967</td>\n      <td>16.965475</td>\n      <td>0</td>\n      <td>0.500000</td>\n      <td>0.300000</td>\n      <td>0.000000</td>\n      <td>0.400000</td>\n      <td>2017-06-01</td>\n    </tr>\n    <tr>\n      <th>2017-06-01</th>\n      <td>39</td>\n      <td>37</td>\n      <td>21097.0</td>\n      <td>1691.132106</td>\n      <td>7.14584</td>\n      <td>18.217691</td>\n      <td>1.944638</td>\n      <td>2.741813</td>\n      <td>6.264984</td>\n      <td>31.617153</td>\n      <td>...</td>\n      <td>4.872945</td>\n      <td>5.115312</td>\n      <td>11.379967</td>\n      <td>16.965475</td>\n      <td>6</td>\n      <td>0.263158</td>\n      <td>0.210526</td>\n      <td>0.000000</td>\n      <td>0.236842</td>\n      <td>2017-06-01</td>\n    </tr>\n    <tr>\n      <th>2017-06-01</th>\n      <td>40</td>\n      <td>37</td>\n      <td>26286.0</td>\n      <td>365.844014</td>\n      <td>7.14584</td>\n      <td>18.217691</td>\n      <td>1.944638</td>\n      <td>2.741813</td>\n      <td>6.264984</td>\n      <td>31.617153</td>\n      <td>...</td>\n      <td>4.872945</td>\n      <td>5.115312</td>\n      <td>11.379967</td>\n      <td>16.965475</td>\n      <td>2</td>\n      <td>0.187500</td>\n      <td>0.178571</td>\n      <td>0.026786</td>\n      <td>0.183036</td>\n      <td>2017-06-01</td>\n    </tr>\n    <tr>\n      <th>2017-06-01</th>\n      <td>40</td>\n      <td>37</td>\n      <td>26286.0</td>\n      <td>365.844014</td>\n      <td>7.14584</td>\n      <td>18.217691</td>\n      <td>1.944638</td>\n      <td>2.741813</td>\n      <td>6.264984</td>\n      <td>31.617153</td>\n      <td>...</td>\n      <td>4.872945</td>\n      <td>5.115312</td>\n      <td>11.379967</td>\n      <td>16.965475</td>\n      <td>3</td>\n      <td>0.164062</td>\n      <td>0.234375</td>\n      <td>0.046875</td>\n      <td>0.199219</td>\n      <td>2017-06-01</td>\n    </tr>\n  </tbody>\n</table>\n<p>30116 rows × 26 columns</p>\n</div>"
     },
     "execution_count": 291,
     "metadata": {},
     "output_type": "execute_result"
    }
   ],
   "source": [
    "processed_data"
   ],
   "metadata": {
    "collapsed": false,
    "ExecuteTime": {
     "end_time": "2024-09-29T02:56:41.112549600Z",
     "start_time": "2024-09-29T02:56:40.873474300Z"
    }
   }
  },
  {
   "cell_type": "markdown",
   "source": [
    "## Normalise the data to a value range of 0-1 (for continuous variables)"
   ],
   "metadata": {
    "collapsed": false
   }
  },
  {
   "cell_type": "code",
   "execution_count": 292,
   "outputs": [
    {
     "data": {
      "text/plain": "            Departing_Port  Arriving_Port  Average_Fare  Distance   MinTemp  \\\nDate                                                                          \n2010-01-01               0              2     -0.978964 -0.359004  0.856267   \n2010-01-01               0              2     -0.978964 -0.359004  0.856267   \n2010-01-01               0              6     -0.978964 -0.179102  0.856267   \n2010-01-01               0              6     -0.978964 -0.179102  0.856267   \n2010-01-01               0              6     -0.978964 -0.179102  0.856267   \n...                    ...            ...           ...       ...       ...   \n2017-06-01              39              9      0.064021 -0.971632 -0.866654   \n2017-06-01              39             37      0.071948 -0.136894 -0.866654   \n2017-06-01              39             37      0.071948 -0.136894 -0.866654   \n2017-06-01              40             37      0.335603 -0.923088 -0.866654   \n2017-06-01              40             37      0.335603 -0.923088 -0.866654   \n\n             MaxTemp  Rainfall  Evaporation  Sunshine  WindGustSpeed  ...  \\\nDate                                                                  ...   \n2010-01-01  0.933268 -0.270139     0.796919  0.863890       0.647422  ...   \n2010-01-01  0.933268 -0.270139     0.796919  0.863890       0.647422  ...   \n2010-01-01  0.933268 -0.270139     0.796919  0.863890       0.647422  ...   \n2010-01-01  0.933268 -0.270139     0.796919  0.863890       0.647422  ...   \n2010-01-01  0.933268 -0.270139     0.796919  0.863890       0.647422  ...   \n...              ...       ...          ...       ...            ...  ...   \n2017-06-01 -0.722034 -0.402846    -0.859416 -0.561166      -1.000000  ...   \n2017-06-01 -0.722034 -0.402846    -0.859416 -0.561166      -1.000000  ...   \n2017-06-01 -0.722034 -0.402846    -0.859416 -0.561166      -1.000000  ...   \n2017-06-01 -0.722034 -0.402846    -0.859416 -0.561166      -1.000000  ...   \n2017-06-01 -0.722034 -0.402846    -0.859416 -0.561166      -1.000000  ...   \n\n            Cloud9am  Cloud3pm  Temp9am   Temp3pm  Airline  \\\nDate                                                         \n2010-01-01 -0.492710 -0.672732  0.92875  0.924884        1   \n2010-01-01 -0.492710 -0.672732  0.92875  0.924884        5   \n2010-01-01 -0.492710 -0.672732  0.92875  0.924884        0   \n2010-01-01 -0.492710 -0.672732  0.92875  0.924884        1   \n2010-01-01 -0.492710 -0.672732  0.92875  0.924884        6   \n...              ...       ...      ...       ...      ...   \n2017-06-01  0.281368  0.353538 -0.81970 -0.730708        3   \n2017-06-01  0.281368  0.353538 -0.81970 -0.730708        0   \n2017-06-01  0.281368  0.353538 -0.81970 -0.730708        6   \n2017-06-01  0.281368  0.353538 -0.81970 -0.730708        2   \n2017-06-01  0.281368  0.353538 -0.81970 -0.730708        3   \n\n            Departure_Delays_%  Arrival_Delays_%  Cancellations_%  \\\nDate                                                                \n2010-01-01           -1.000000         -1.000000        -1.000000   \n2010-01-01           -0.692308         -0.692308        -1.000000   \n2010-01-01           -0.466667         -0.533333        -1.000000   \n2010-01-01           -0.893617         -0.936170        -1.000000   \n2010-01-01           -0.870968         -0.870968        -1.000000   \n...                        ...               ...              ...   \n2017-06-01           -0.866667         -0.866667        -0.878014   \n2017-06-01            0.000000         -0.400000        -1.000000   \n2017-06-01           -0.473684         -0.578947        -1.000000   \n2017-06-01           -0.625000         -0.642857        -0.926482   \n2017-06-01           -0.671875         -0.531250        -0.871343   \n\n            Average_Delay_%       Date  \nDate                                    \n2010-01-01        -1.000000 2010-01-01  \n2010-01-01        -0.692308 2010-01-01  \n2010-01-01        -0.500000 2010-01-01  \n2010-01-01        -0.914894 2010-01-01  \n2010-01-01        -0.870968 2010-01-01  \n...                     ...        ...  \n2017-06-01        -0.866667 2017-06-01  \n2017-06-01        -0.200000 2017-06-01  \n2017-06-01        -0.526316 2017-06-01  \n2017-06-01        -0.633929 2017-06-01  \n2017-06-01        -0.601562 2017-06-01  \n\n[30116 rows x 26 columns]",
      "text/html": "<div>\n<style scoped>\n    .dataframe tbody tr th:only-of-type {\n        vertical-align: middle;\n    }\n\n    .dataframe tbody tr th {\n        vertical-align: top;\n    }\n\n    .dataframe thead th {\n        text-align: right;\n    }\n</style>\n<table border=\"1\" class=\"dataframe\">\n  <thead>\n    <tr style=\"text-align: right;\">\n      <th></th>\n      <th>Departing_Port</th>\n      <th>Arriving_Port</th>\n      <th>Average_Fare</th>\n      <th>Distance</th>\n      <th>MinTemp</th>\n      <th>MaxTemp</th>\n      <th>Rainfall</th>\n      <th>Evaporation</th>\n      <th>Sunshine</th>\n      <th>WindGustSpeed</th>\n      <th>...</th>\n      <th>Cloud9am</th>\n      <th>Cloud3pm</th>\n      <th>Temp9am</th>\n      <th>Temp3pm</th>\n      <th>Airline</th>\n      <th>Departure_Delays_%</th>\n      <th>Arrival_Delays_%</th>\n      <th>Cancellations_%</th>\n      <th>Average_Delay_%</th>\n      <th>Date</th>\n    </tr>\n    <tr>\n      <th>Date</th>\n      <th></th>\n      <th></th>\n      <th></th>\n      <th></th>\n      <th></th>\n      <th></th>\n      <th></th>\n      <th></th>\n      <th></th>\n      <th></th>\n      <th></th>\n      <th></th>\n      <th></th>\n      <th></th>\n      <th></th>\n      <th></th>\n      <th></th>\n      <th></th>\n      <th></th>\n      <th></th>\n      <th></th>\n    </tr>\n  </thead>\n  <tbody>\n    <tr>\n      <th>2010-01-01</th>\n      <td>0</td>\n      <td>2</td>\n      <td>-0.978964</td>\n      <td>-0.359004</td>\n      <td>0.856267</td>\n      <td>0.933268</td>\n      <td>-0.270139</td>\n      <td>0.796919</td>\n      <td>0.863890</td>\n      <td>0.647422</td>\n      <td>...</td>\n      <td>-0.492710</td>\n      <td>-0.672732</td>\n      <td>0.92875</td>\n      <td>0.924884</td>\n      <td>1</td>\n      <td>-1.000000</td>\n      <td>-1.000000</td>\n      <td>-1.000000</td>\n      <td>-1.000000</td>\n      <td>2010-01-01</td>\n    </tr>\n    <tr>\n      <th>2010-01-01</th>\n      <td>0</td>\n      <td>2</td>\n      <td>-0.978964</td>\n      <td>-0.359004</td>\n      <td>0.856267</td>\n      <td>0.933268</td>\n      <td>-0.270139</td>\n      <td>0.796919</td>\n      <td>0.863890</td>\n      <td>0.647422</td>\n      <td>...</td>\n      <td>-0.492710</td>\n      <td>-0.672732</td>\n      <td>0.92875</td>\n      <td>0.924884</td>\n      <td>5</td>\n      <td>-0.692308</td>\n      <td>-0.692308</td>\n      <td>-1.000000</td>\n      <td>-0.692308</td>\n      <td>2010-01-01</td>\n    </tr>\n    <tr>\n      <th>2010-01-01</th>\n      <td>0</td>\n      <td>6</td>\n      <td>-0.978964</td>\n      <td>-0.179102</td>\n      <td>0.856267</td>\n      <td>0.933268</td>\n      <td>-0.270139</td>\n      <td>0.796919</td>\n      <td>0.863890</td>\n      <td>0.647422</td>\n      <td>...</td>\n      <td>-0.492710</td>\n      <td>-0.672732</td>\n      <td>0.92875</td>\n      <td>0.924884</td>\n      <td>0</td>\n      <td>-0.466667</td>\n      <td>-0.533333</td>\n      <td>-1.000000</td>\n      <td>-0.500000</td>\n      <td>2010-01-01</td>\n    </tr>\n    <tr>\n      <th>2010-01-01</th>\n      <td>0</td>\n      <td>6</td>\n      <td>-0.978964</td>\n      <td>-0.179102</td>\n      <td>0.856267</td>\n      <td>0.933268</td>\n      <td>-0.270139</td>\n      <td>0.796919</td>\n      <td>0.863890</td>\n      <td>0.647422</td>\n      <td>...</td>\n      <td>-0.492710</td>\n      <td>-0.672732</td>\n      <td>0.92875</td>\n      <td>0.924884</td>\n      <td>1</td>\n      <td>-0.893617</td>\n      <td>-0.936170</td>\n      <td>-1.000000</td>\n      <td>-0.914894</td>\n      <td>2010-01-01</td>\n    </tr>\n    <tr>\n      <th>2010-01-01</th>\n      <td>0</td>\n      <td>6</td>\n      <td>-0.978964</td>\n      <td>-0.179102</td>\n      <td>0.856267</td>\n      <td>0.933268</td>\n      <td>-0.270139</td>\n      <td>0.796919</td>\n      <td>0.863890</td>\n      <td>0.647422</td>\n      <td>...</td>\n      <td>-0.492710</td>\n      <td>-0.672732</td>\n      <td>0.92875</td>\n      <td>0.924884</td>\n      <td>6</td>\n      <td>-0.870968</td>\n      <td>-0.870968</td>\n      <td>-1.000000</td>\n      <td>-0.870968</td>\n      <td>2010-01-01</td>\n    </tr>\n    <tr>\n      <th>...</th>\n      <td>...</td>\n      <td>...</td>\n      <td>...</td>\n      <td>...</td>\n      <td>...</td>\n      <td>...</td>\n      <td>...</td>\n      <td>...</td>\n      <td>...</td>\n      <td>...</td>\n      <td>...</td>\n      <td>...</td>\n      <td>...</td>\n      <td>...</td>\n      <td>...</td>\n      <td>...</td>\n      <td>...</td>\n      <td>...</td>\n      <td>...</td>\n      <td>...</td>\n      <td>...</td>\n    </tr>\n    <tr>\n      <th>2017-06-01</th>\n      <td>39</td>\n      <td>9</td>\n      <td>0.064021</td>\n      <td>-0.971632</td>\n      <td>-0.866654</td>\n      <td>-0.722034</td>\n      <td>-0.402846</td>\n      <td>-0.859416</td>\n      <td>-0.561166</td>\n      <td>-1.000000</td>\n      <td>...</td>\n      <td>0.281368</td>\n      <td>0.353538</td>\n      <td>-0.81970</td>\n      <td>-0.730708</td>\n      <td>3</td>\n      <td>-0.866667</td>\n      <td>-0.866667</td>\n      <td>-0.878014</td>\n      <td>-0.866667</td>\n      <td>2017-06-01</td>\n    </tr>\n    <tr>\n      <th>2017-06-01</th>\n      <td>39</td>\n      <td>37</td>\n      <td>0.071948</td>\n      <td>-0.136894</td>\n      <td>-0.866654</td>\n      <td>-0.722034</td>\n      <td>-0.402846</td>\n      <td>-0.859416</td>\n      <td>-0.561166</td>\n      <td>-1.000000</td>\n      <td>...</td>\n      <td>0.281368</td>\n      <td>0.353538</td>\n      <td>-0.81970</td>\n      <td>-0.730708</td>\n      <td>0</td>\n      <td>0.000000</td>\n      <td>-0.400000</td>\n      <td>-1.000000</td>\n      <td>-0.200000</td>\n      <td>2017-06-01</td>\n    </tr>\n    <tr>\n      <th>2017-06-01</th>\n      <td>39</td>\n      <td>37</td>\n      <td>0.071948</td>\n      <td>-0.136894</td>\n      <td>-0.866654</td>\n      <td>-0.722034</td>\n      <td>-0.402846</td>\n      <td>-0.859416</td>\n      <td>-0.561166</td>\n      <td>-1.000000</td>\n      <td>...</td>\n      <td>0.281368</td>\n      <td>0.353538</td>\n      <td>-0.81970</td>\n      <td>-0.730708</td>\n      <td>6</td>\n      <td>-0.473684</td>\n      <td>-0.578947</td>\n      <td>-1.000000</td>\n      <td>-0.526316</td>\n      <td>2017-06-01</td>\n    </tr>\n    <tr>\n      <th>2017-06-01</th>\n      <td>40</td>\n      <td>37</td>\n      <td>0.335603</td>\n      <td>-0.923088</td>\n      <td>-0.866654</td>\n      <td>-0.722034</td>\n      <td>-0.402846</td>\n      <td>-0.859416</td>\n      <td>-0.561166</td>\n      <td>-1.000000</td>\n      <td>...</td>\n      <td>0.281368</td>\n      <td>0.353538</td>\n      <td>-0.81970</td>\n      <td>-0.730708</td>\n      <td>2</td>\n      <td>-0.625000</td>\n      <td>-0.642857</td>\n      <td>-0.926482</td>\n      <td>-0.633929</td>\n      <td>2017-06-01</td>\n    </tr>\n    <tr>\n      <th>2017-06-01</th>\n      <td>40</td>\n      <td>37</td>\n      <td>0.335603</td>\n      <td>-0.923088</td>\n      <td>-0.866654</td>\n      <td>-0.722034</td>\n      <td>-0.402846</td>\n      <td>-0.859416</td>\n      <td>-0.561166</td>\n      <td>-1.000000</td>\n      <td>...</td>\n      <td>0.281368</td>\n      <td>0.353538</td>\n      <td>-0.81970</td>\n      <td>-0.730708</td>\n      <td>3</td>\n      <td>-0.671875</td>\n      <td>-0.531250</td>\n      <td>-0.871343</td>\n      <td>-0.601562</td>\n      <td>2017-06-01</td>\n    </tr>\n  </tbody>\n</table>\n<p>30116 rows × 26 columns</p>\n</div>"
     },
     "execution_count": 292,
     "metadata": {},
     "output_type": "execute_result"
    }
   ],
   "source": [
    "from sklearn.preprocessing import MinMaxScaler\n",
    "scaler = MinMaxScaler(feature_range=(-1, 1))\n",
    "\n",
    "continuous_features = processed_data.select_dtypes(\"float\").columns.values\n",
    "\n",
    "processed_data[continuous_features] = scaler.fit_transform(processed_data[continuous_features])\n",
    "processed_data"
   ],
   "metadata": {
    "collapsed": false,
    "ExecuteTime": {
     "end_time": "2024-09-29T02:56:41.256730600Z",
     "start_time": "2024-09-29T02:56:40.945803300Z"
    }
   }
  },
  {
   "cell_type": "code",
   "execution_count": 293,
   "outputs": [],
   "source": [
    "import torch\n",
    "from torch.utils.data import Dataset, DataLoader"
   ],
   "metadata": {
    "collapsed": false,
    "ExecuteTime": {
     "end_time": "2024-09-29T02:56:41.258728100Z",
     "start_time": "2024-09-29T02:56:41.151408400Z"
    }
   }
  },
  {
   "cell_type": "markdown",
   "source": [
    "# Remove Input Features which add dimensionality"
   ],
   "metadata": {
    "collapsed": false
   }
  },
  {
   "cell_type": "code",
   "execution_count": 294,
   "outputs": [],
   "source": [
    "processed_data_stripped = processed_data.copy()"
   ],
   "metadata": {
    "collapsed": false,
    "ExecuteTime": {
     "end_time": "2024-09-29T02:56:41.302772600Z",
     "start_time": "2024-09-29T02:56:41.167371100Z"
    }
   }
  },
  {
   "cell_type": "code",
   "execution_count": 295,
   "outputs": [],
   "source": [
    "del processed_data_stripped[\"Departing_Port\"]\n",
    "del processed_data_stripped[\"Arriving_Port\"]\n",
    "del processed_data_stripped[\"Airline\"]\n",
    "del processed_data_stripped[\"Distance\"]"
   ],
   "metadata": {
    "collapsed": false,
    "ExecuteTime": {
     "end_time": "2024-09-29T02:56:41.330696200Z",
     "start_time": "2024-09-29T02:56:41.184923900Z"
    }
   }
  },
  {
   "cell_type": "code",
   "execution_count": 296,
   "outputs": [
    {
     "data": {
      "text/plain": "            Average_Fare   MinTemp   MaxTemp  Rainfall  Evaporation  Sunshine  \\\nDate                                                                            \n2010-01-01     -0.978964  0.856267  0.933268 -0.270139     0.796919  0.863890   \n2010-01-01     -0.978964  0.856267  0.933268 -0.270139     0.796919  0.863890   \n2010-01-01     -0.978964  0.856267  0.933268 -0.270139     0.796919  0.863890   \n2010-01-01     -0.978964  0.856267  0.933268 -0.270139     0.796919  0.863890   \n2010-01-01     -0.978964  0.856267  0.933268 -0.270139     0.796919  0.863890   \n...                  ...       ...       ...       ...          ...       ...   \n2017-06-01      0.064021 -0.866654 -0.722034 -0.402846    -0.859416 -0.561166   \n2017-06-01      0.071948 -0.866654 -0.722034 -0.402846    -0.859416 -0.561166   \n2017-06-01      0.071948 -0.866654 -0.722034 -0.402846    -0.859416 -0.561166   \n2017-06-01      0.335603 -0.866654 -0.722034 -0.402846    -0.859416 -0.561166   \n2017-06-01      0.335603 -0.866654 -0.722034 -0.402846    -0.859416 -0.561166   \n\n            WindGustSpeed  WindSpeed9am  WindSpeed3pm  Humidity9am  ...  \\\nDate                                                                ...   \n2010-01-01       0.647422      0.372448      0.572945    -0.743469  ...   \n2010-01-01       0.647422      0.372448      0.572945    -0.743469  ...   \n2010-01-01       0.647422      0.372448      0.572945    -0.743469  ...   \n2010-01-01       0.647422      0.372448      0.572945    -0.743469  ...   \n2010-01-01       0.647422      0.372448      0.572945    -0.743469  ...   \n...                   ...           ...           ...          ...  ...   \n2017-06-01      -1.000000     -1.000000     -1.000000     0.830941  ...   \n2017-06-01      -1.000000     -1.000000     -1.000000     0.830941  ...   \n2017-06-01      -1.000000     -1.000000     -1.000000     0.830941  ...   \n2017-06-01      -1.000000     -1.000000     -1.000000     0.830941  ...   \n2017-06-01      -1.000000     -1.000000     -1.000000     0.830941  ...   \n\n            Pressure3pm  Cloud9am  Cloud3pm  Temp9am   Temp3pm  \\\nDate                                                             \n2010-01-01     -0.75723 -0.492710 -0.672732  0.92875  0.924884   \n2010-01-01     -0.75723 -0.492710 -0.672732  0.92875  0.924884   \n2010-01-01     -0.75723 -0.492710 -0.672732  0.92875  0.924884   \n2010-01-01     -0.75723 -0.492710 -0.672732  0.92875  0.924884   \n2010-01-01     -0.75723 -0.492710 -0.672732  0.92875  0.924884   \n...                 ...       ...       ...      ...       ...   \n2017-06-01      1.00000  0.281368  0.353538 -0.81970 -0.730708   \n2017-06-01      1.00000  0.281368  0.353538 -0.81970 -0.730708   \n2017-06-01      1.00000  0.281368  0.353538 -0.81970 -0.730708   \n2017-06-01      1.00000  0.281368  0.353538 -0.81970 -0.730708   \n2017-06-01      1.00000  0.281368  0.353538 -0.81970 -0.730708   \n\n            Departure_Delays_%  Arrival_Delays_%  Cancellations_%  \\\nDate                                                                \n2010-01-01           -1.000000         -1.000000        -1.000000   \n2010-01-01           -0.692308         -0.692308        -1.000000   \n2010-01-01           -0.466667         -0.533333        -1.000000   \n2010-01-01           -0.893617         -0.936170        -1.000000   \n2010-01-01           -0.870968         -0.870968        -1.000000   \n...                        ...               ...              ...   \n2017-06-01           -0.866667         -0.866667        -0.878014   \n2017-06-01            0.000000         -0.400000        -1.000000   \n2017-06-01           -0.473684         -0.578947        -1.000000   \n2017-06-01           -0.625000         -0.642857        -0.926482   \n2017-06-01           -0.671875         -0.531250        -0.871343   \n\n            Average_Delay_%       Date  \nDate                                    \n2010-01-01        -1.000000 2010-01-01  \n2010-01-01        -0.692308 2010-01-01  \n2010-01-01        -0.500000 2010-01-01  \n2010-01-01        -0.914894 2010-01-01  \n2010-01-01        -0.870968 2010-01-01  \n...                     ...        ...  \n2017-06-01        -0.866667 2017-06-01  \n2017-06-01        -0.200000 2017-06-01  \n2017-06-01        -0.526316 2017-06-01  \n2017-06-01        -0.633929 2017-06-01  \n2017-06-01        -0.601562 2017-06-01  \n\n[30116 rows x 22 columns]",
      "text/html": "<div>\n<style scoped>\n    .dataframe tbody tr th:only-of-type {\n        vertical-align: middle;\n    }\n\n    .dataframe tbody tr th {\n        vertical-align: top;\n    }\n\n    .dataframe thead th {\n        text-align: right;\n    }\n</style>\n<table border=\"1\" class=\"dataframe\">\n  <thead>\n    <tr style=\"text-align: right;\">\n      <th></th>\n      <th>Average_Fare</th>\n      <th>MinTemp</th>\n      <th>MaxTemp</th>\n      <th>Rainfall</th>\n      <th>Evaporation</th>\n      <th>Sunshine</th>\n      <th>WindGustSpeed</th>\n      <th>WindSpeed9am</th>\n      <th>WindSpeed3pm</th>\n      <th>Humidity9am</th>\n      <th>...</th>\n      <th>Pressure3pm</th>\n      <th>Cloud9am</th>\n      <th>Cloud3pm</th>\n      <th>Temp9am</th>\n      <th>Temp3pm</th>\n      <th>Departure_Delays_%</th>\n      <th>Arrival_Delays_%</th>\n      <th>Cancellations_%</th>\n      <th>Average_Delay_%</th>\n      <th>Date</th>\n    </tr>\n    <tr>\n      <th>Date</th>\n      <th></th>\n      <th></th>\n      <th></th>\n      <th></th>\n      <th></th>\n      <th></th>\n      <th></th>\n      <th></th>\n      <th></th>\n      <th></th>\n      <th></th>\n      <th></th>\n      <th></th>\n      <th></th>\n      <th></th>\n      <th></th>\n      <th></th>\n      <th></th>\n      <th></th>\n      <th></th>\n      <th></th>\n    </tr>\n  </thead>\n  <tbody>\n    <tr>\n      <th>2010-01-01</th>\n      <td>-0.978964</td>\n      <td>0.856267</td>\n      <td>0.933268</td>\n      <td>-0.270139</td>\n      <td>0.796919</td>\n      <td>0.863890</td>\n      <td>0.647422</td>\n      <td>0.372448</td>\n      <td>0.572945</td>\n      <td>-0.743469</td>\n      <td>...</td>\n      <td>-0.75723</td>\n      <td>-0.492710</td>\n      <td>-0.672732</td>\n      <td>0.92875</td>\n      <td>0.924884</td>\n      <td>-1.000000</td>\n      <td>-1.000000</td>\n      <td>-1.000000</td>\n      <td>-1.000000</td>\n      <td>2010-01-01</td>\n    </tr>\n    <tr>\n      <th>2010-01-01</th>\n      <td>-0.978964</td>\n      <td>0.856267</td>\n      <td>0.933268</td>\n      <td>-0.270139</td>\n      <td>0.796919</td>\n      <td>0.863890</td>\n      <td>0.647422</td>\n      <td>0.372448</td>\n      <td>0.572945</td>\n      <td>-0.743469</td>\n      <td>...</td>\n      <td>-0.75723</td>\n      <td>-0.492710</td>\n      <td>-0.672732</td>\n      <td>0.92875</td>\n      <td>0.924884</td>\n      <td>-0.692308</td>\n      <td>-0.692308</td>\n      <td>-1.000000</td>\n      <td>-0.692308</td>\n      <td>2010-01-01</td>\n    </tr>\n    <tr>\n      <th>2010-01-01</th>\n      <td>-0.978964</td>\n      <td>0.856267</td>\n      <td>0.933268</td>\n      <td>-0.270139</td>\n      <td>0.796919</td>\n      <td>0.863890</td>\n      <td>0.647422</td>\n      <td>0.372448</td>\n      <td>0.572945</td>\n      <td>-0.743469</td>\n      <td>...</td>\n      <td>-0.75723</td>\n      <td>-0.492710</td>\n      <td>-0.672732</td>\n      <td>0.92875</td>\n      <td>0.924884</td>\n      <td>-0.466667</td>\n      <td>-0.533333</td>\n      <td>-1.000000</td>\n      <td>-0.500000</td>\n      <td>2010-01-01</td>\n    </tr>\n    <tr>\n      <th>2010-01-01</th>\n      <td>-0.978964</td>\n      <td>0.856267</td>\n      <td>0.933268</td>\n      <td>-0.270139</td>\n      <td>0.796919</td>\n      <td>0.863890</td>\n      <td>0.647422</td>\n      <td>0.372448</td>\n      <td>0.572945</td>\n      <td>-0.743469</td>\n      <td>...</td>\n      <td>-0.75723</td>\n      <td>-0.492710</td>\n      <td>-0.672732</td>\n      <td>0.92875</td>\n      <td>0.924884</td>\n      <td>-0.893617</td>\n      <td>-0.936170</td>\n      <td>-1.000000</td>\n      <td>-0.914894</td>\n      <td>2010-01-01</td>\n    </tr>\n    <tr>\n      <th>2010-01-01</th>\n      <td>-0.978964</td>\n      <td>0.856267</td>\n      <td>0.933268</td>\n      <td>-0.270139</td>\n      <td>0.796919</td>\n      <td>0.863890</td>\n      <td>0.647422</td>\n      <td>0.372448</td>\n      <td>0.572945</td>\n      <td>-0.743469</td>\n      <td>...</td>\n      <td>-0.75723</td>\n      <td>-0.492710</td>\n      <td>-0.672732</td>\n      <td>0.92875</td>\n      <td>0.924884</td>\n      <td>-0.870968</td>\n      <td>-0.870968</td>\n      <td>-1.000000</td>\n      <td>-0.870968</td>\n      <td>2010-01-01</td>\n    </tr>\n    <tr>\n      <th>...</th>\n      <td>...</td>\n      <td>...</td>\n      <td>...</td>\n      <td>...</td>\n      <td>...</td>\n      <td>...</td>\n      <td>...</td>\n      <td>...</td>\n      <td>...</td>\n      <td>...</td>\n      <td>...</td>\n      <td>...</td>\n      <td>...</td>\n      <td>...</td>\n      <td>...</td>\n      <td>...</td>\n      <td>...</td>\n      <td>...</td>\n      <td>...</td>\n      <td>...</td>\n      <td>...</td>\n    </tr>\n    <tr>\n      <th>2017-06-01</th>\n      <td>0.064021</td>\n      <td>-0.866654</td>\n      <td>-0.722034</td>\n      <td>-0.402846</td>\n      <td>-0.859416</td>\n      <td>-0.561166</td>\n      <td>-1.000000</td>\n      <td>-1.000000</td>\n      <td>-1.000000</td>\n      <td>0.830941</td>\n      <td>...</td>\n      <td>1.00000</td>\n      <td>0.281368</td>\n      <td>0.353538</td>\n      <td>-0.81970</td>\n      <td>-0.730708</td>\n      <td>-0.866667</td>\n      <td>-0.866667</td>\n      <td>-0.878014</td>\n      <td>-0.866667</td>\n      <td>2017-06-01</td>\n    </tr>\n    <tr>\n      <th>2017-06-01</th>\n      <td>0.071948</td>\n      <td>-0.866654</td>\n      <td>-0.722034</td>\n      <td>-0.402846</td>\n      <td>-0.859416</td>\n      <td>-0.561166</td>\n      <td>-1.000000</td>\n      <td>-1.000000</td>\n      <td>-1.000000</td>\n      <td>0.830941</td>\n      <td>...</td>\n      <td>1.00000</td>\n      <td>0.281368</td>\n      <td>0.353538</td>\n      <td>-0.81970</td>\n      <td>-0.730708</td>\n      <td>0.000000</td>\n      <td>-0.400000</td>\n      <td>-1.000000</td>\n      <td>-0.200000</td>\n      <td>2017-06-01</td>\n    </tr>\n    <tr>\n      <th>2017-06-01</th>\n      <td>0.071948</td>\n      <td>-0.866654</td>\n      <td>-0.722034</td>\n      <td>-0.402846</td>\n      <td>-0.859416</td>\n      <td>-0.561166</td>\n      <td>-1.000000</td>\n      <td>-1.000000</td>\n      <td>-1.000000</td>\n      <td>0.830941</td>\n      <td>...</td>\n      <td>1.00000</td>\n      <td>0.281368</td>\n      <td>0.353538</td>\n      <td>-0.81970</td>\n      <td>-0.730708</td>\n      <td>-0.473684</td>\n      <td>-0.578947</td>\n      <td>-1.000000</td>\n      <td>-0.526316</td>\n      <td>2017-06-01</td>\n    </tr>\n    <tr>\n      <th>2017-06-01</th>\n      <td>0.335603</td>\n      <td>-0.866654</td>\n      <td>-0.722034</td>\n      <td>-0.402846</td>\n      <td>-0.859416</td>\n      <td>-0.561166</td>\n      <td>-1.000000</td>\n      <td>-1.000000</td>\n      <td>-1.000000</td>\n      <td>0.830941</td>\n      <td>...</td>\n      <td>1.00000</td>\n      <td>0.281368</td>\n      <td>0.353538</td>\n      <td>-0.81970</td>\n      <td>-0.730708</td>\n      <td>-0.625000</td>\n      <td>-0.642857</td>\n      <td>-0.926482</td>\n      <td>-0.633929</td>\n      <td>2017-06-01</td>\n    </tr>\n    <tr>\n      <th>2017-06-01</th>\n      <td>0.335603</td>\n      <td>-0.866654</td>\n      <td>-0.722034</td>\n      <td>-0.402846</td>\n      <td>-0.859416</td>\n      <td>-0.561166</td>\n      <td>-1.000000</td>\n      <td>-1.000000</td>\n      <td>-1.000000</td>\n      <td>0.830941</td>\n      <td>...</td>\n      <td>1.00000</td>\n      <td>0.281368</td>\n      <td>0.353538</td>\n      <td>-0.81970</td>\n      <td>-0.730708</td>\n      <td>-0.671875</td>\n      <td>-0.531250</td>\n      <td>-0.871343</td>\n      <td>-0.601562</td>\n      <td>2017-06-01</td>\n    </tr>\n  </tbody>\n</table>\n<p>30116 rows × 22 columns</p>\n</div>"
     },
     "execution_count": 296,
     "metadata": {},
     "output_type": "execute_result"
    }
   ],
   "source": [
    "processed_data_stripped"
   ],
   "metadata": {
    "collapsed": false,
    "ExecuteTime": {
     "end_time": "2024-09-29T02:56:41.335686500Z",
     "start_time": "2024-09-29T02:56:41.200880200Z"
    }
   }
  },
  {
   "cell_type": "markdown",
   "source": [
    "## Resample all data so each date only appears once"
   ],
   "metadata": {
    "collapsed": false
   }
  },
  {
   "cell_type": "code",
   "execution_count": 297,
   "outputs": [],
   "source": [
    "from datetime import datetime\n",
    "\n",
    "processed_data_stripped = processed_data_stripped.resample(\"1M\").mean().sort_values([\"Date\"])\n",
    "processed_data_stripped.index = [datetime(x.year, x.month, 1) for x in processed_data_stripped.index]"
   ],
   "metadata": {
    "collapsed": false,
    "ExecuteTime": {
     "end_time": "2024-09-29T02:56:41.726830600Z",
     "start_time": "2024-09-29T02:56:41.269710600Z"
    }
   }
  },
  {
   "cell_type": "code",
   "execution_count": 298,
   "outputs": [
    {
     "data": {
      "text/plain": "            Average_Fare   MinTemp   MaxTemp  Rainfall  Evaporation  Sunshine  \\\n2010-01-01     -0.978964  0.856267  0.933268 -0.270139     0.796919  0.863890   \n2010-02-01     -0.978964  1.000000  0.825312  0.571983     0.401802  0.525122   \n2010-03-01     -0.978964  0.648732  0.513030  0.030027    -0.009011  0.085560   \n2010-04-01     -0.978964  0.188854  0.067264 -0.590729    -0.540250 -0.281178   \n2010-05-01     -0.978964 -0.491670 -0.490015 -0.167351    -0.835741 -0.548955   \n...                  ...       ...       ...       ...          ...       ...   \n2017-02-01     -0.944469  0.826521  0.845527  0.107492     0.682252  0.621470   \n2017-03-01     -0.942045  0.802754  0.660969  0.741110     0.364914  0.036203   \n2017-04-01     -0.945396  0.018170  0.025362 -0.403561    -0.216227 -0.031805   \n2017-05-01     -0.944012 -0.464726 -0.428400 -0.636796    -0.696793 -0.450549   \n2017-06-01     -0.942038 -0.866654 -0.722034 -0.402846    -0.859416 -0.561166   \n\n            WindGustSpeed  WindSpeed9am  WindSpeed3pm  Humidity9am  ...  \\\n2010-01-01       0.647422      0.372448      0.572945    -0.743469  ...   \n2010-02-01       0.465555      0.329709      0.339851    -0.105786  ...   \n2010-03-01       0.023968     -0.068296     -0.026963     0.069055  ...   \n2010-04-01      -0.505082     -0.295232     -0.406949     0.247822  ...   \n2010-05-01      -0.597361     -0.590519     -0.705676     0.542571  ...   \n...                   ...           ...           ...          ...  ...   \n2017-02-01       0.408494      0.184715      0.207762    -0.254663  ...   \n2017-03-01       0.158345     -0.047858     -0.063320     0.244136  ...   \n2017-04-01      -0.477357     -0.363960     -0.516853     0.109546  ...   \n2017-05-01      -0.769925     -0.762823     -0.804369     0.608254  ...   \n2017-06-01      -1.000000     -1.000000     -1.000000     0.830941  ...   \n\n            Pressure9am  Pressure3pm  Cloud9am  Cloud3pm   Temp9am   Temp3pm  \\\n2010-01-01    -0.733436    -0.757230 -0.492710 -0.672732  0.928750  0.924884   \n2010-02-01    -0.346896    -0.335479 -0.230797 -0.098319  0.897853  0.834774   \n2010-03-01     0.115387     0.124632 -0.169272 -0.222354  0.522941  0.562586   \n2010-04-01     0.048014     0.003168 -0.199903  0.111603  0.231739  0.111223   \n2010-05-01    -0.008863    -0.058170 -0.293966 -0.054459 -0.425792 -0.469119   \n...                 ...          ...       ...       ...       ...       ...   \n2017-02-01    -0.573658    -0.605251  0.320343 -0.219793  0.796073  0.844493   \n2017-03-01    -0.450618    -0.468582  0.576297  0.154510  0.657775  0.672524   \n2017-04-01     0.378250     0.322268  0.337699  0.162064  0.121529  0.023327   \n2017-05-01     0.429512     0.410767  0.279823  0.143180 -0.391406 -0.448821   \n2017-06-01     1.000000     1.000000  0.281368  0.353538 -0.819700 -0.730708   \n\n            Departure_Delays_%  Arrival_Delays_%  Cancellations_%  \\\n2010-01-01           -0.753857         -0.753079        -0.982163   \n2010-02-01           -0.708054         -0.684311        -0.977535   \n2010-03-01           -0.683586         -0.679725        -0.959996   \n2010-04-01           -0.720898         -0.721203        -0.980574   \n2010-05-01           -0.750993         -0.712938        -0.986387   \n...                        ...               ...              ...   \n2017-02-01           -0.671731         -0.670782        -0.963113   \n2017-03-01           -0.594999         -0.581883        -0.900795   \n2017-04-01           -0.728102         -0.750571        -0.938085   \n2017-05-01           -0.734975         -0.748771        -0.976520   \n2017-06-01           -0.697645         -0.697767        -0.966172   \n\n            Average_Delay_%  \n2010-01-01        -0.753468  \n2010-02-01        -0.696182  \n2010-03-01        -0.681655  \n2010-04-01        -0.721050  \n2010-05-01        -0.731966  \n...                     ...  \n2017-02-01        -0.671257  \n2017-03-01        -0.588441  \n2017-04-01        -0.739337  \n2017-05-01        -0.741873  \n2017-06-01        -0.697706  \n\n[90 rows x 21 columns]",
      "text/html": "<div>\n<style scoped>\n    .dataframe tbody tr th:only-of-type {\n        vertical-align: middle;\n    }\n\n    .dataframe tbody tr th {\n        vertical-align: top;\n    }\n\n    .dataframe thead th {\n        text-align: right;\n    }\n</style>\n<table border=\"1\" class=\"dataframe\">\n  <thead>\n    <tr style=\"text-align: right;\">\n      <th></th>\n      <th>Average_Fare</th>\n      <th>MinTemp</th>\n      <th>MaxTemp</th>\n      <th>Rainfall</th>\n      <th>Evaporation</th>\n      <th>Sunshine</th>\n      <th>WindGustSpeed</th>\n      <th>WindSpeed9am</th>\n      <th>WindSpeed3pm</th>\n      <th>Humidity9am</th>\n      <th>...</th>\n      <th>Pressure9am</th>\n      <th>Pressure3pm</th>\n      <th>Cloud9am</th>\n      <th>Cloud3pm</th>\n      <th>Temp9am</th>\n      <th>Temp3pm</th>\n      <th>Departure_Delays_%</th>\n      <th>Arrival_Delays_%</th>\n      <th>Cancellations_%</th>\n      <th>Average_Delay_%</th>\n    </tr>\n  </thead>\n  <tbody>\n    <tr>\n      <th>2010-01-01</th>\n      <td>-0.978964</td>\n      <td>0.856267</td>\n      <td>0.933268</td>\n      <td>-0.270139</td>\n      <td>0.796919</td>\n      <td>0.863890</td>\n      <td>0.647422</td>\n      <td>0.372448</td>\n      <td>0.572945</td>\n      <td>-0.743469</td>\n      <td>...</td>\n      <td>-0.733436</td>\n      <td>-0.757230</td>\n      <td>-0.492710</td>\n      <td>-0.672732</td>\n      <td>0.928750</td>\n      <td>0.924884</td>\n      <td>-0.753857</td>\n      <td>-0.753079</td>\n      <td>-0.982163</td>\n      <td>-0.753468</td>\n    </tr>\n    <tr>\n      <th>2010-02-01</th>\n      <td>-0.978964</td>\n      <td>1.000000</td>\n      <td>0.825312</td>\n      <td>0.571983</td>\n      <td>0.401802</td>\n      <td>0.525122</td>\n      <td>0.465555</td>\n      <td>0.329709</td>\n      <td>0.339851</td>\n      <td>-0.105786</td>\n      <td>...</td>\n      <td>-0.346896</td>\n      <td>-0.335479</td>\n      <td>-0.230797</td>\n      <td>-0.098319</td>\n      <td>0.897853</td>\n      <td>0.834774</td>\n      <td>-0.708054</td>\n      <td>-0.684311</td>\n      <td>-0.977535</td>\n      <td>-0.696182</td>\n    </tr>\n    <tr>\n      <th>2010-03-01</th>\n      <td>-0.978964</td>\n      <td>0.648732</td>\n      <td>0.513030</td>\n      <td>0.030027</td>\n      <td>-0.009011</td>\n      <td>0.085560</td>\n      <td>0.023968</td>\n      <td>-0.068296</td>\n      <td>-0.026963</td>\n      <td>0.069055</td>\n      <td>...</td>\n      <td>0.115387</td>\n      <td>0.124632</td>\n      <td>-0.169272</td>\n      <td>-0.222354</td>\n      <td>0.522941</td>\n      <td>0.562586</td>\n      <td>-0.683586</td>\n      <td>-0.679725</td>\n      <td>-0.959996</td>\n      <td>-0.681655</td>\n    </tr>\n    <tr>\n      <th>2010-04-01</th>\n      <td>-0.978964</td>\n      <td>0.188854</td>\n      <td>0.067264</td>\n      <td>-0.590729</td>\n      <td>-0.540250</td>\n      <td>-0.281178</td>\n      <td>-0.505082</td>\n      <td>-0.295232</td>\n      <td>-0.406949</td>\n      <td>0.247822</td>\n      <td>...</td>\n      <td>0.048014</td>\n      <td>0.003168</td>\n      <td>-0.199903</td>\n      <td>0.111603</td>\n      <td>0.231739</td>\n      <td>0.111223</td>\n      <td>-0.720898</td>\n      <td>-0.721203</td>\n      <td>-0.980574</td>\n      <td>-0.721050</td>\n    </tr>\n    <tr>\n      <th>2010-05-01</th>\n      <td>-0.978964</td>\n      <td>-0.491670</td>\n      <td>-0.490015</td>\n      <td>-0.167351</td>\n      <td>-0.835741</td>\n      <td>-0.548955</td>\n      <td>-0.597361</td>\n      <td>-0.590519</td>\n      <td>-0.705676</td>\n      <td>0.542571</td>\n      <td>...</td>\n      <td>-0.008863</td>\n      <td>-0.058170</td>\n      <td>-0.293966</td>\n      <td>-0.054459</td>\n      <td>-0.425792</td>\n      <td>-0.469119</td>\n      <td>-0.750993</td>\n      <td>-0.712938</td>\n      <td>-0.986387</td>\n      <td>-0.731966</td>\n    </tr>\n    <tr>\n      <th>...</th>\n      <td>...</td>\n      <td>...</td>\n      <td>...</td>\n      <td>...</td>\n      <td>...</td>\n      <td>...</td>\n      <td>...</td>\n      <td>...</td>\n      <td>...</td>\n      <td>...</td>\n      <td>...</td>\n      <td>...</td>\n      <td>...</td>\n      <td>...</td>\n      <td>...</td>\n      <td>...</td>\n      <td>...</td>\n      <td>...</td>\n      <td>...</td>\n      <td>...</td>\n      <td>...</td>\n    </tr>\n    <tr>\n      <th>2017-02-01</th>\n      <td>-0.944469</td>\n      <td>0.826521</td>\n      <td>0.845527</td>\n      <td>0.107492</td>\n      <td>0.682252</td>\n      <td>0.621470</td>\n      <td>0.408494</td>\n      <td>0.184715</td>\n      <td>0.207762</td>\n      <td>-0.254663</td>\n      <td>...</td>\n      <td>-0.573658</td>\n      <td>-0.605251</td>\n      <td>0.320343</td>\n      <td>-0.219793</td>\n      <td>0.796073</td>\n      <td>0.844493</td>\n      <td>-0.671731</td>\n      <td>-0.670782</td>\n      <td>-0.963113</td>\n      <td>-0.671257</td>\n    </tr>\n    <tr>\n      <th>2017-03-01</th>\n      <td>-0.942045</td>\n      <td>0.802754</td>\n      <td>0.660969</td>\n      <td>0.741110</td>\n      <td>0.364914</td>\n      <td>0.036203</td>\n      <td>0.158345</td>\n      <td>-0.047858</td>\n      <td>-0.063320</td>\n      <td>0.244136</td>\n      <td>...</td>\n      <td>-0.450618</td>\n      <td>-0.468582</td>\n      <td>0.576297</td>\n      <td>0.154510</td>\n      <td>0.657775</td>\n      <td>0.672524</td>\n      <td>-0.594999</td>\n      <td>-0.581883</td>\n      <td>-0.900795</td>\n      <td>-0.588441</td>\n    </tr>\n    <tr>\n      <th>2017-04-01</th>\n      <td>-0.945396</td>\n      <td>0.018170</td>\n      <td>0.025362</td>\n      <td>-0.403561</td>\n      <td>-0.216227</td>\n      <td>-0.031805</td>\n      <td>-0.477357</td>\n      <td>-0.363960</td>\n      <td>-0.516853</td>\n      <td>0.109546</td>\n      <td>...</td>\n      <td>0.378250</td>\n      <td>0.322268</td>\n      <td>0.337699</td>\n      <td>0.162064</td>\n      <td>0.121529</td>\n      <td>0.023327</td>\n      <td>-0.728102</td>\n      <td>-0.750571</td>\n      <td>-0.938085</td>\n      <td>-0.739337</td>\n    </tr>\n    <tr>\n      <th>2017-05-01</th>\n      <td>-0.944012</td>\n      <td>-0.464726</td>\n      <td>-0.428400</td>\n      <td>-0.636796</td>\n      <td>-0.696793</td>\n      <td>-0.450549</td>\n      <td>-0.769925</td>\n      <td>-0.762823</td>\n      <td>-0.804369</td>\n      <td>0.608254</td>\n      <td>...</td>\n      <td>0.429512</td>\n      <td>0.410767</td>\n      <td>0.279823</td>\n      <td>0.143180</td>\n      <td>-0.391406</td>\n      <td>-0.448821</td>\n      <td>-0.734975</td>\n      <td>-0.748771</td>\n      <td>-0.976520</td>\n      <td>-0.741873</td>\n    </tr>\n    <tr>\n      <th>2017-06-01</th>\n      <td>-0.942038</td>\n      <td>-0.866654</td>\n      <td>-0.722034</td>\n      <td>-0.402846</td>\n      <td>-0.859416</td>\n      <td>-0.561166</td>\n      <td>-1.000000</td>\n      <td>-1.000000</td>\n      <td>-1.000000</td>\n      <td>0.830941</td>\n      <td>...</td>\n      <td>1.000000</td>\n      <td>1.000000</td>\n      <td>0.281368</td>\n      <td>0.353538</td>\n      <td>-0.819700</td>\n      <td>-0.730708</td>\n      <td>-0.697645</td>\n      <td>-0.697767</td>\n      <td>-0.966172</td>\n      <td>-0.697706</td>\n    </tr>\n  </tbody>\n</table>\n<p>90 rows × 21 columns</p>\n</div>"
     },
     "execution_count": 298,
     "metadata": {},
     "output_type": "execute_result"
    }
   ],
   "source": [
    "processed_data_stripped"
   ],
   "metadata": {
    "collapsed": false,
    "ExecuteTime": {
     "end_time": "2024-09-29T02:56:41.742790400Z",
     "start_time": "2024-09-29T02:56:41.328702100Z"
    }
   }
  },
  {
   "cell_type": "code",
   "execution_count": 299,
   "outputs": [],
   "source": [
    "processed_data = processed_data_stripped"
   ],
   "metadata": {
    "collapsed": false,
    "ExecuteTime": {
     "end_time": "2024-09-29T02:56:41.742790400Z",
     "start_time": "2024-09-29T02:56:41.371591Z"
    }
   }
  },
  {
   "cell_type": "markdown",
   "source": [
    "## Decide on input and output features"
   ],
   "metadata": {
    "collapsed": false
   }
  },
  {
   "cell_type": "code",
   "execution_count": 300,
   "outputs": [
    {
     "data": {
      "text/plain": "            Average_Fare   MinTemp   MaxTemp  Rainfall  Evaporation  Sunshine  \\\n2010-01-01     -0.978964  0.856267  0.933268 -0.270139     0.796919  0.863890   \n2010-02-01     -0.978964  1.000000  0.825312  0.571983     0.401802  0.525122   \n2010-03-01     -0.978964  0.648732  0.513030  0.030027    -0.009011  0.085560   \n2010-04-01     -0.978964  0.188854  0.067264 -0.590729    -0.540250 -0.281178   \n2010-05-01     -0.978964 -0.491670 -0.490015 -0.167351    -0.835741 -0.548955   \n\n            WindGustSpeed  WindSpeed9am  WindSpeed3pm  Humidity9am  ...  \\\n2010-01-01       0.647422      0.372448      0.572945    -0.743469  ...   \n2010-02-01       0.465555      0.329709      0.339851    -0.105786  ...   \n2010-03-01       0.023968     -0.068296     -0.026963     0.069055  ...   \n2010-04-01      -0.505082     -0.295232     -0.406949     0.247822  ...   \n2010-05-01      -0.597361     -0.590519     -0.705676     0.542571  ...   \n\n            Pressure9am  Pressure3pm  Cloud9am  Cloud3pm   Temp9am   Temp3pm  \\\n2010-01-01    -0.733436    -0.757230 -0.492710 -0.672732  0.928750  0.924884   \n2010-02-01    -0.346896    -0.335479 -0.230797 -0.098319  0.897853  0.834774   \n2010-03-01     0.115387     0.124632 -0.169272 -0.222354  0.522941  0.562586   \n2010-04-01     0.048014     0.003168 -0.199903  0.111603  0.231739  0.111223   \n2010-05-01    -0.008863    -0.058170 -0.293966 -0.054459 -0.425792 -0.469119   \n\n            Departure_Delays_%  Arrival_Delays_%  Cancellations_%  \\\n2010-01-01           -0.753857         -0.753079        -0.982163   \n2010-02-01           -0.708054         -0.684311        -0.977535   \n2010-03-01           -0.683586         -0.679725        -0.959996   \n2010-04-01           -0.720898         -0.721203        -0.980574   \n2010-05-01           -0.750993         -0.712938        -0.986387   \n\n            Average_Delay_%  \n2010-01-01        -0.753468  \n2010-02-01        -0.696182  \n2010-03-01        -0.681655  \n2010-04-01        -0.721050  \n2010-05-01        -0.731966  \n\n[5 rows x 21 columns]",
      "text/html": "<div>\n<style scoped>\n    .dataframe tbody tr th:only-of-type {\n        vertical-align: middle;\n    }\n\n    .dataframe tbody tr th {\n        vertical-align: top;\n    }\n\n    .dataframe thead th {\n        text-align: right;\n    }\n</style>\n<table border=\"1\" class=\"dataframe\">\n  <thead>\n    <tr style=\"text-align: right;\">\n      <th></th>\n      <th>Average_Fare</th>\n      <th>MinTemp</th>\n      <th>MaxTemp</th>\n      <th>Rainfall</th>\n      <th>Evaporation</th>\n      <th>Sunshine</th>\n      <th>WindGustSpeed</th>\n      <th>WindSpeed9am</th>\n      <th>WindSpeed3pm</th>\n      <th>Humidity9am</th>\n      <th>...</th>\n      <th>Pressure9am</th>\n      <th>Pressure3pm</th>\n      <th>Cloud9am</th>\n      <th>Cloud3pm</th>\n      <th>Temp9am</th>\n      <th>Temp3pm</th>\n      <th>Departure_Delays_%</th>\n      <th>Arrival_Delays_%</th>\n      <th>Cancellations_%</th>\n      <th>Average_Delay_%</th>\n    </tr>\n  </thead>\n  <tbody>\n    <tr>\n      <th>2010-01-01</th>\n      <td>-0.978964</td>\n      <td>0.856267</td>\n      <td>0.933268</td>\n      <td>-0.270139</td>\n      <td>0.796919</td>\n      <td>0.863890</td>\n      <td>0.647422</td>\n      <td>0.372448</td>\n      <td>0.572945</td>\n      <td>-0.743469</td>\n      <td>...</td>\n      <td>-0.733436</td>\n      <td>-0.757230</td>\n      <td>-0.492710</td>\n      <td>-0.672732</td>\n      <td>0.928750</td>\n      <td>0.924884</td>\n      <td>-0.753857</td>\n      <td>-0.753079</td>\n      <td>-0.982163</td>\n      <td>-0.753468</td>\n    </tr>\n    <tr>\n      <th>2010-02-01</th>\n      <td>-0.978964</td>\n      <td>1.000000</td>\n      <td>0.825312</td>\n      <td>0.571983</td>\n      <td>0.401802</td>\n      <td>0.525122</td>\n      <td>0.465555</td>\n      <td>0.329709</td>\n      <td>0.339851</td>\n      <td>-0.105786</td>\n      <td>...</td>\n      <td>-0.346896</td>\n      <td>-0.335479</td>\n      <td>-0.230797</td>\n      <td>-0.098319</td>\n      <td>0.897853</td>\n      <td>0.834774</td>\n      <td>-0.708054</td>\n      <td>-0.684311</td>\n      <td>-0.977535</td>\n      <td>-0.696182</td>\n    </tr>\n    <tr>\n      <th>2010-03-01</th>\n      <td>-0.978964</td>\n      <td>0.648732</td>\n      <td>0.513030</td>\n      <td>0.030027</td>\n      <td>-0.009011</td>\n      <td>0.085560</td>\n      <td>0.023968</td>\n      <td>-0.068296</td>\n      <td>-0.026963</td>\n      <td>0.069055</td>\n      <td>...</td>\n      <td>0.115387</td>\n      <td>0.124632</td>\n      <td>-0.169272</td>\n      <td>-0.222354</td>\n      <td>0.522941</td>\n      <td>0.562586</td>\n      <td>-0.683586</td>\n      <td>-0.679725</td>\n      <td>-0.959996</td>\n      <td>-0.681655</td>\n    </tr>\n    <tr>\n      <th>2010-04-01</th>\n      <td>-0.978964</td>\n      <td>0.188854</td>\n      <td>0.067264</td>\n      <td>-0.590729</td>\n      <td>-0.540250</td>\n      <td>-0.281178</td>\n      <td>-0.505082</td>\n      <td>-0.295232</td>\n      <td>-0.406949</td>\n      <td>0.247822</td>\n      <td>...</td>\n      <td>0.048014</td>\n      <td>0.003168</td>\n      <td>-0.199903</td>\n      <td>0.111603</td>\n      <td>0.231739</td>\n      <td>0.111223</td>\n      <td>-0.720898</td>\n      <td>-0.721203</td>\n      <td>-0.980574</td>\n      <td>-0.721050</td>\n    </tr>\n    <tr>\n      <th>2010-05-01</th>\n      <td>-0.978964</td>\n      <td>-0.491670</td>\n      <td>-0.490015</td>\n      <td>-0.167351</td>\n      <td>-0.835741</td>\n      <td>-0.548955</td>\n      <td>-0.597361</td>\n      <td>-0.590519</td>\n      <td>-0.705676</td>\n      <td>0.542571</td>\n      <td>...</td>\n      <td>-0.008863</td>\n      <td>-0.058170</td>\n      <td>-0.293966</td>\n      <td>-0.054459</td>\n      <td>-0.425792</td>\n      <td>-0.469119</td>\n      <td>-0.750993</td>\n      <td>-0.712938</td>\n      <td>-0.986387</td>\n      <td>-0.731966</td>\n    </tr>\n  </tbody>\n</table>\n<p>5 rows × 21 columns</p>\n</div>"
     },
     "execution_count": 300,
     "metadata": {},
     "output_type": "execute_result"
    }
   ],
   "source": [
    "processed_data.head()"
   ],
   "metadata": {
    "collapsed": false,
    "ExecuteTime": {
     "end_time": "2024-09-29T02:56:41.742790400Z",
     "start_time": "2024-09-29T02:56:41.376088500Z"
    }
   }
  },
  {
   "cell_type": "code",
   "execution_count": 301,
   "outputs": [],
   "source": [
    "output_features = [\"Average_Fare\", \"Average_Delay_%\", 'Cancellations_%']"
   ],
   "metadata": {
    "collapsed": false,
    "ExecuteTime": {
     "end_time": "2024-09-29T02:56:41.743786200Z",
     "start_time": "2024-09-29T02:56:41.404126400Z"
    }
   }
  },
  {
   "cell_type": "code",
   "execution_count": 302,
   "outputs": [],
   "source": [
    "input_features = [#'Departing_Port', 'Arriving_Port', 'Airline', 'Distance'\n",
    "       'MinTemp', 'MaxTemp', 'Rainfall', 'Evaporation', 'Sunshine',\n",
    "       'WindGustSpeed', 'WindSpeed9am', 'WindSpeed3pm', 'Humidity9am',\n",
    "       'Humidity3pm', 'Pressure9am', 'Pressure3pm', 'Cloud9am', 'Cloud3pm',\n",
    "       'Temp9am', 'Temp3pm']"
   ],
   "metadata": {
    "collapsed": false,
    "ExecuteTime": {
     "end_time": "2024-09-29T02:56:41.743786200Z",
     "start_time": "2024-09-29T02:56:41.420084500Z"
    }
   }
  },
  {
   "cell_type": "markdown",
   "source": [
    "# Train Model\n",
    "Source: https://github.com/pmnyc/my_tools/blob/master/Multivariate%20Time%20Series%20Forecasting%20with%20LSTMs%20in%20PyTorch.ipynb"
   ],
   "metadata": {
    "collapsed": false
   }
  },
  {
   "cell_type": "code",
   "execution_count": 306,
   "outputs": [],
   "source": [
    "import pandas as pd\n",
    "import numpy as np\n",
    "from datetime import datetime\n",
    "\n",
    "import matplotlib\n",
    "matplotlib.use('Agg')\n",
    "%matplotlib inline\n",
    "\n",
    "import matplotlib.pyplot as plt\n",
    "\n",
    "import torch\n",
    "import torch.nn as nn\n",
    "from torch.autograd import Variable\n",
    "import torch.optim as optim\n",
    "\n",
    "from sklearn.preprocessing import MinMaxScaler\n",
    "from sklearn.preprocessing import LabelEncoder\n",
    "from sklearn.metrics import mean_squared_error"
   ],
   "metadata": {
    "collapsed": false,
    "ExecuteTime": {
     "end_time": "2024-09-29T03:06:23.794296Z",
     "start_time": "2024-09-29T03:06:23.772565400Z"
    }
   }
  },
  {
   "cell_type": "code",
   "execution_count": 320,
   "outputs": [],
   "source": [
    "# convert series to supervised learning\n",
    "def series_to_supervised(data, n_in=1, n_out=1, dropnan=True):\n",
    "    n_vars = 1 if type(data) is list else data.shape[1]\n",
    "    df = pd.DataFrame(data)\n",
    "    cols, names = list(), list()\n",
    "\n",
    "    # input sequence (t-n, ... t-1)\n",
    "    for i in range(n_in, 0, -1):\n",
    "        cols.append(df.shift(i))\n",
    "        names += [('var%d(t-%d)' % (j+1, i)) for j in range(n_vars)]\n",
    "\n",
    "    # forecast sequence (t, t+1, ... t+n)\n",
    "    for i in range(0, n_out):\n",
    "        cols.append(df.shift(-i))\n",
    "        if i == 0:\n",
    "            names += [('var%d(t)' % (j+1)) for j in range(n_vars)]\n",
    "        else:\n",
    "            names += [('var%d(t+%d)' % (j+1, i)) for j in range(n_vars)]\n",
    "\n",
    "    # put it all together\n",
    "    agg = pd.concat(cols, axis=1)\n",
    "    agg.columns = names\n",
    "\n",
    "    # drop rows with NaN values\n",
    "    if dropnan:\n",
    "        agg.dropna(inplace=True)\n",
    "    return agg"
   ],
   "metadata": {
    "collapsed": false,
    "ExecuteTime": {
     "end_time": "2024-09-29T03:08:31.639402700Z",
     "start_time": "2024-09-29T03:08:31.624128Z"
    }
   }
  },
  {
   "cell_type": "code",
   "execution_count": 328,
   "outputs": [
    {
     "data": {
      "text/plain": "    var1(t-24)  var2(t-24)  var3(t-24)  var4(t-24)  var5(t-24)  var6(t-24)  \\\n24         0.0    0.928133    0.966634    0.364930    0.898459    0.931945   \n25         0.0    1.000000    0.912656    0.785991    0.700901    0.762561   \n26         0.0    0.824366    0.756515    0.515013    0.495495    0.542780   \n27         0.0    0.594427    0.533632    0.204636    0.229875    0.359411   \n28         0.0    0.254165    0.254993    0.416325    0.082130    0.225523   \n\n    var7(t-24)  var8(t-24)  var9(t-24)  var10(t-24)  ...  var12(t+11)  \\\n24    0.823711    0.686224    0.786472     0.128266  ...     0.108744   \n25    0.732777    0.664855    0.669925     0.447107  ...     0.073865   \n26    0.511984    0.465852    0.486519     0.534527  ...     0.175745   \n27    0.247459    0.352384    0.296526     0.623911  ...     0.351602   \n28    0.201320    0.204741    0.147162     0.771286  ...     0.541630   \n\n    var13(t+11)  var14(t+11)  var15(t+11)  var16(t+11)  var17(t+11)  \\\n24     0.097890     0.589999     0.250897     0.943241     0.865705   \n25     0.062429     0.196452     0.016977     0.981669     0.975268   \n26     0.165700     0.173162     0.164264     0.923560     0.952451   \n27     0.337543     0.279450     0.387430     0.792336     0.803929   \n28     0.514563     0.234836     0.395178     0.590691     0.583005   \n\n    var18(t+11)  var19(t+11)  var20(t+11)  var21(t+11)  \n24     0.704776     0.764919     0.059940     0.737190  \n25     0.774006     0.693091     0.253694     0.730397  \n26     0.847801     0.874470     0.290341     0.862174  \n27     0.714949     0.693504     0.095083     0.703391  \n28     0.576311     0.550247     0.122981     0.562264  \n\n[5 rows x 756 columns]",
      "text/html": "<div>\n<style scoped>\n    .dataframe tbody tr th:only-of-type {\n        vertical-align: middle;\n    }\n\n    .dataframe tbody tr th {\n        vertical-align: top;\n    }\n\n    .dataframe thead th {\n        text-align: right;\n    }\n</style>\n<table border=\"1\" class=\"dataframe\">\n  <thead>\n    <tr style=\"text-align: right;\">\n      <th></th>\n      <th>var1(t-24)</th>\n      <th>var2(t-24)</th>\n      <th>var3(t-24)</th>\n      <th>var4(t-24)</th>\n      <th>var5(t-24)</th>\n      <th>var6(t-24)</th>\n      <th>var7(t-24)</th>\n      <th>var8(t-24)</th>\n      <th>var9(t-24)</th>\n      <th>var10(t-24)</th>\n      <th>...</th>\n      <th>var12(t+11)</th>\n      <th>var13(t+11)</th>\n      <th>var14(t+11)</th>\n      <th>var15(t+11)</th>\n      <th>var16(t+11)</th>\n      <th>var17(t+11)</th>\n      <th>var18(t+11)</th>\n      <th>var19(t+11)</th>\n      <th>var20(t+11)</th>\n      <th>var21(t+11)</th>\n    </tr>\n  </thead>\n  <tbody>\n    <tr>\n      <th>24</th>\n      <td>0.0</td>\n      <td>0.928133</td>\n      <td>0.966634</td>\n      <td>0.364930</td>\n      <td>0.898459</td>\n      <td>0.931945</td>\n      <td>0.823711</td>\n      <td>0.686224</td>\n      <td>0.786472</td>\n      <td>0.128266</td>\n      <td>...</td>\n      <td>0.108744</td>\n      <td>0.097890</td>\n      <td>0.589999</td>\n      <td>0.250897</td>\n      <td>0.943241</td>\n      <td>0.865705</td>\n      <td>0.704776</td>\n      <td>0.764919</td>\n      <td>0.059940</td>\n      <td>0.737190</td>\n    </tr>\n    <tr>\n      <th>25</th>\n      <td>0.0</td>\n      <td>1.000000</td>\n      <td>0.912656</td>\n      <td>0.785991</td>\n      <td>0.700901</td>\n      <td>0.762561</td>\n      <td>0.732777</td>\n      <td>0.664855</td>\n      <td>0.669925</td>\n      <td>0.447107</td>\n      <td>...</td>\n      <td>0.073865</td>\n      <td>0.062429</td>\n      <td>0.196452</td>\n      <td>0.016977</td>\n      <td>0.981669</td>\n      <td>0.975268</td>\n      <td>0.774006</td>\n      <td>0.693091</td>\n      <td>0.253694</td>\n      <td>0.730397</td>\n    </tr>\n    <tr>\n      <th>26</th>\n      <td>0.0</td>\n      <td>0.824366</td>\n      <td>0.756515</td>\n      <td>0.515013</td>\n      <td>0.495495</td>\n      <td>0.542780</td>\n      <td>0.511984</td>\n      <td>0.465852</td>\n      <td>0.486519</td>\n      <td>0.534527</td>\n      <td>...</td>\n      <td>0.175745</td>\n      <td>0.165700</td>\n      <td>0.173162</td>\n      <td>0.164264</td>\n      <td>0.923560</td>\n      <td>0.952451</td>\n      <td>0.847801</td>\n      <td>0.874470</td>\n      <td>0.290341</td>\n      <td>0.862174</td>\n    </tr>\n    <tr>\n      <th>27</th>\n      <td>0.0</td>\n      <td>0.594427</td>\n      <td>0.533632</td>\n      <td>0.204636</td>\n      <td>0.229875</td>\n      <td>0.359411</td>\n      <td>0.247459</td>\n      <td>0.352384</td>\n      <td>0.296526</td>\n      <td>0.623911</td>\n      <td>...</td>\n      <td>0.351602</td>\n      <td>0.337543</td>\n      <td>0.279450</td>\n      <td>0.387430</td>\n      <td>0.792336</td>\n      <td>0.803929</td>\n      <td>0.714949</td>\n      <td>0.693504</td>\n      <td>0.095083</td>\n      <td>0.703391</td>\n    </tr>\n    <tr>\n      <th>28</th>\n      <td>0.0</td>\n      <td>0.254165</td>\n      <td>0.254993</td>\n      <td>0.416325</td>\n      <td>0.082130</td>\n      <td>0.225523</td>\n      <td>0.201320</td>\n      <td>0.204741</td>\n      <td>0.147162</td>\n      <td>0.771286</td>\n      <td>...</td>\n      <td>0.541630</td>\n      <td>0.514563</td>\n      <td>0.234836</td>\n      <td>0.395178</td>\n      <td>0.590691</td>\n      <td>0.583005</td>\n      <td>0.576311</td>\n      <td>0.550247</td>\n      <td>0.122981</td>\n      <td>0.562264</td>\n    </tr>\n  </tbody>\n</table>\n<p>5 rows × 756 columns</p>\n</div>"
     },
     "execution_count": 328,
     "metadata": {},
     "output_type": "execute_result"
    }
   ],
   "source": [
    "values = processed_data.values\n",
    "\n",
    "# integer encode direction\n",
    "#encoder = LabelEncoder()\n",
    "#values[:,4] = encoder.fit_transform(values[:,4])\n",
    "\n",
    "# ensure all data is float\n",
    "values = values.astype('float32')\n",
    "# normalize features\n",
    "scaler = MinMaxScaler(feature_range=(0, 1))\n",
    "scaled = scaler.fit_transform(values)\n",
    "\n",
    "# frame as supervised learning\n",
    "reframed = series_to_supervised(scaled, 24, 12)\n",
    "# drop columns we don't want to predict\n",
    "#reframed.drop(reframed.columns[[9,10,11,12,13,14,15]], axis=1, inplace=True)\n",
    "\n",
    "reframed.head()"
   ],
   "metadata": {
    "collapsed": false,
    "ExecuteTime": {
     "end_time": "2024-09-29T03:10:49.309458900Z",
     "start_time": "2024-09-29T03:10:49.272438Z"
    }
   }
  },
  {
   "cell_type": "code",
   "execution_count": 329,
   "outputs": [
    {
     "name": "stdout",
     "output_type": "stream",
     "text": [
      "36\n",
      "torch.Size([19, 755]) torch.Size([19, 755]) torch.Size([36, 755]) torch.Size([36, 755])\n"
     ]
    }
   ],
   "source": [
    "data = reframed.values\n",
    "\n",
    "n_split = 3 * 12\n",
    "# n_split = int(0.3 * len(data))\n",
    "print(n_split)\n",
    "\n",
    "train_X = Variable(torch.from_numpy(data[n_split:, :-1]), requires_grad=False)\n",
    "train_y = Variable(torch.from_numpy(data[n_split:, 1:]), requires_grad=False)\n",
    "test_X = Variable(torch.from_numpy(data[:n_split, :-1]), requires_grad=False)\n",
    "test_y = Variable(torch.from_numpy(data[:n_split, 1:]), requires_grad=False)\n",
    "\n",
    "print(train_X.size(), train_y.size(), test_X.size(), test_y.size())"
   ],
   "metadata": {
    "collapsed": false,
    "ExecuteTime": {
     "end_time": "2024-09-29T03:10:55.585059300Z",
     "start_time": "2024-09-29T03:10:55.573053900Z"
    }
   }
  },
  {
   "cell_type": "code",
   "execution_count": 330,
   "outputs": [],
   "source": [
    "class Sequence(nn.Module):\n",
    "    def __init__(self):\n",
    "        super(Sequence, self).__init__()\n",
    "        self.lstm1 = nn.LSTMCell(1, 51)\n",
    "        self.lstm2 = nn.LSTMCell(51, 1)\n",
    "\n",
    "    def forward(self, input, future=0):\n",
    "        outputs = []\n",
    "        h_t = Variable(\n",
    "            torch.zeros(input.size(0), 51), requires_grad=False)\n",
    "        c_t = Variable(\n",
    "            torch.zeros(input.size(0), 51), requires_grad=False)\n",
    "        h_t2 = Variable(\n",
    "            torch.zeros(input.size(0), 1), requires_grad=False)\n",
    "        c_t2 = Variable(\n",
    "            torch.zeros(input.size(0), 1), requires_grad=False)\n",
    "\n",
    "        for i, input_t in enumerate(input.chunk(input.size(1), dim=1)):\n",
    "            h_t, c_t = self.lstm1(input_t, (h_t, c_t))\n",
    "            h_t2, c_t2 = self.lstm2(c_t, (h_t2, c_t2))\n",
    "            outputs += [c_t2]\n",
    "\n",
    "        for i in range(future):  # if we should predict the future\n",
    "            h_t, c_t = self.lstm1(c_t2, (h_t, c_t))\n",
    "            h_t2, c_t2 = self.lstm2(c_t, (h_t2, c_t2))\n",
    "            outputs += [c_t2]\n",
    "\n",
    "        outputs = torch.stack(outputs, 1).squeeze(2)\n",
    "        return outputs"
   ],
   "metadata": {
    "collapsed": false,
    "ExecuteTime": {
     "end_time": "2024-09-29T03:10:56.748475900Z",
     "start_time": "2024-09-29T03:10:56.704293700Z"
    }
   }
  },
  {
   "cell_type": "code",
   "execution_count": 342,
   "outputs": [
    {
     "name": "stdout",
     "output_type": "stream",
     "text": [
      "epoch :  0\n",
      "epoch :  1\n",
      "epoch :  2\n",
      "epoch :  3\n",
      "epoch :  4\n",
      "epoch :  5\n",
      "epoch :  6\n",
      "epoch :  7\n",
      "epoch :  8\n",
      "epoch :  9\n",
      "epoch :  10\n",
      "epoch :  11\n",
      "epoch :  12\n",
      "epoch :  13\n",
      "epoch :  14\n",
      "epoch :  15\n",
      "epoch :  16\n",
      "epoch :  17\n",
      "epoch :  18\n",
      "epoch :  19\n",
      "epoch :  20\n",
      "epoch :  21\n",
      "epoch :  22\n",
      "epoch :  23\n",
      "epoch :  24\n",
      "epoch :  25\n",
      "epoch :  26\n",
      "epoch :  27\n",
      "epoch :  28\n",
      "epoch :  29\n",
      "epoch :  30\n",
      "epoch :  31\n",
      "epoch :  32\n",
      "epoch :  33\n",
      "epoch :  34\n",
      "epoch :  35\n",
      "epoch :  36\n",
      "epoch :  37\n",
      "epoch :  38\n",
      "epoch :  39\n",
      "epoch :  40\n",
      "epoch :  41\n",
      "epoch :  42\n",
      "epoch :  43\n",
      "epoch :  44\n",
      "epoch :  45\n",
      "epoch :  46\n",
      "epoch :  47\n",
      "epoch :  48\n",
      "epoch :  49\n"
     ]
    }
   ],
   "source": [
    "# build the model\n",
    "seq = Sequence()\n",
    "# seq.double()\n",
    "criterion = nn.MSELoss()\n",
    "\n",
    "# use LBFGS as optimizer since we can load the whole data to train\n",
    "optimizer = optim.Adam(seq.parameters())\n",
    "\n",
    "loss_list = []\n",
    "test_loss_list = []\n",
    "\n",
    "epoch_num = 50\n",
    "\n",
    "# begin to train\n",
    "for epoch in range(epoch_num):\n",
    "    print('epoch : ', epoch)\n",
    "\n",
    "    def closure():\n",
    "        optimizer.zero_grad()\n",
    "        out = seq(train_X)\n",
    "        loss = criterion(out, train_y)\n",
    "        # print('loss:', loss.data.numpy())\n",
    "        loss_list.append(loss.data.numpy())\n",
    "        loss.backward()\n",
    "        return loss\n",
    "\n",
    "    optimizer.step(closure)\n",
    "\n",
    "    pred = seq(test_X)\n",
    "    loss = criterion(pred, test_y)\n",
    "#     print('test loss:', loss.data.numpy())\n",
    "    test_loss_list.append(loss.data.numpy())\n",
    "\n",
    "    y = pred.data.numpy()"
   ],
   "metadata": {
    "collapsed": false,
    "ExecuteTime": {
     "end_time": "2024-09-29T03:14:47.495710Z",
     "start_time": "2024-09-29T03:13:13.819570Z"
    }
   }
  },
  {
   "cell_type": "code",
   "execution_count": 343,
   "outputs": [
    {
     "data": {
      "text/plain": "<matplotlib.legend.Legend at 0x25474816dc0>"
     },
     "execution_count": 343,
     "metadata": {},
     "output_type": "execute_result"
    },
    {
     "data": {
      "text/plain": "<Figure size 720x432 with 1 Axes>",
      "image/png": "[encoded data removed]"
     },
     "metadata": {
      "needs_background": "light"
     },
     "output_type": "display_data"
    }
   ],
   "source": [
    "plt.figure(figsize=(10,6))\n",
    "plt.plot(range(epoch_num), loss_list, label='train loss')\n",
    "plt.plot(range(epoch_num), test_loss_list, label='test loss')\n",
    "plt.legend()"
   ],
   "metadata": {
    "collapsed": false,
    "ExecuteTime": {
     "end_time": "2024-09-29T03:14:47.870828900Z",
     "start_time": "2024-09-29T03:14:47.498701500Z"
    }
   }
  },
  {
   "cell_type": "code",
   "execution_count": null,
   "outputs": [],
   "source": [],
   "metadata": {
    "collapsed": false
   }
  }
 ],
 "metadata": {
  "kernelspec": {
   "display_name": "Python 3",
   "language": "python",
   "name": "python3"
  },
  "language_info": {
   "codemirror_mode": {
    "name": "ipython",
    "version": 2
   },
   "file_extension": ".py",
   "mimetype": "text/x-python",
   "name": "python",
   "nbconvert_exporter": "python",
   "pygments_lexer": "ipython2",
   "version": "2.7.6"
  }
 },
 "nbformat": 4,
 "nbformat_minor": 0
}
