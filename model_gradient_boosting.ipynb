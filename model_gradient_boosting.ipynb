{
 "cells": [
  {
   "cell_type": "code",
   "execution_count": 38,
   "metadata": {
    "collapsed": true,
    "ExecuteTime": {
     "end_time": "2024-09-30T14:03:50.993183600Z",
     "start_time": "2024-09-30T14:03:50.804609900Z"
    }
   },
   "outputs": [],
   "source": [
    "import pandas as pd\n",
    "import numpy as np"
   ]
  },
  {
   "cell_type": "code",
   "execution_count": 39,
   "outputs": [],
   "source": [
    "RAW_DATA = r\"C:\\Users\\ASUS\\OneDrive\\Semester 3\\Innovation Project\\Assign_02\\flights_data.csv\""
   ],
   "metadata": {
    "collapsed": false,
    "ExecuteTime": {
     "end_time": "2024-09-30T14:03:50.996174800Z",
     "start_time": "2024-09-30T14:03:50.823597200Z"
    }
   }
  },
  {
   "cell_type": "code",
   "execution_count": 40,
   "outputs": [],
   "source": [
    "raw_data = pd.read_csv(RAW_DATA)"
   ],
   "metadata": {
    "collapsed": false,
    "ExecuteTime": {
     "end_time": "2024-09-30T14:03:51.074022Z",
     "start_time": "2024-09-30T14:03:50.840069400Z"
    }
   }
  },
  {
   "cell_type": "code",
   "execution_count": 41,
   "outputs": [
    {
     "data": {
      "text/plain": "  Departing_Port Arriving_Port  Month  Year  Average_Fare    Distance  \\\n0       Adelaide     Melbourne      1  2010         414.0  641.652927   \n1       Adelaide     Melbourne      1  2010         414.0  641.652927   \n2       Adelaide     Melbourne      1  2010         414.0  641.652927   \n3       Adelaide     Melbourne      1  2010         414.0  641.652927   \n4       Adelaide      Canberra      1  2010         414.0  970.229046   \n\n    MinTemp   MaxTemp  Rainfall  Evaporation  ...  Pressure9am  Pressure3pm  \\\n0  17.33103  29.76354  2.198292     8.894267  ...  1013.053858  1010.905502   \n1  17.33103  29.76354  2.198292     8.894267  ...  1013.053858  1010.905502   \n2  17.33103  29.76354  2.198292     8.894267  ...  1013.053858  1010.905502   \n3  17.33103  29.76354  2.198292     8.894267  ...  1013.053858  1010.905502   \n4  17.33103  29.76354  2.198292     8.894267  ...  1013.053858  1010.905502   \n\n   Cloud9am  Cloud3pm    Temp9am    Temp3pm             Airline  \\\n0  4.167756   4.01693  22.526185  27.847663             Jetstar   \n1  4.167756   4.01693  22.526185  27.847663              Qantas   \n2  4.167756   4.01693  22.526185  27.847663  Tigerair Australia   \n3  4.167756   4.01693  22.526185  27.847663    Virgin Australia   \n4  4.167756   4.01693  22.526185  27.847663              Qantas   \n\n   Departure_Delays_%  Arrival_Delays_%  Cancellations_%  \n0            0.255319          0.234043         0.000000  \n1            0.087542          0.090909         0.003367  \n2            0.083333          0.033333         0.050000  \n3            0.072874          0.068826         0.012146  \n4            0.111111          0.083333         0.000000  \n\n[5 rows x 26 columns]",
      "text/html": "<div>\n<style scoped>\n    .dataframe tbody tr th:only-of-type {\n        vertical-align: middle;\n    }\n\n    .dataframe tbody tr th {\n        vertical-align: top;\n    }\n\n    .dataframe thead th {\n        text-align: right;\n    }\n</style>\n<table border=\"1\" class=\"dataframe\">\n  <thead>\n    <tr style=\"text-align: right;\">\n      <th></th>\n      <th>Departing_Port</th>\n      <th>Arriving_Port</th>\n      <th>Month</th>\n      <th>Year</th>\n      <th>Average_Fare</th>\n      <th>Distance</th>\n      <th>MinTemp</th>\n      <th>MaxTemp</th>\n      <th>Rainfall</th>\n      <th>Evaporation</th>\n      <th>...</th>\n      <th>Pressure9am</th>\n      <th>Pressure3pm</th>\n      <th>Cloud9am</th>\n      <th>Cloud3pm</th>\n      <th>Temp9am</th>\n      <th>Temp3pm</th>\n      <th>Airline</th>\n      <th>Departure_Delays_%</th>\n      <th>Arrival_Delays_%</th>\n      <th>Cancellations_%</th>\n    </tr>\n  </thead>\n  <tbody>\n    <tr>\n      <th>0</th>\n      <td>Adelaide</td>\n      <td>Melbourne</td>\n      <td>1</td>\n      <td>2010</td>\n      <td>414.0</td>\n      <td>641.652927</td>\n      <td>17.33103</td>\n      <td>29.76354</td>\n      <td>2.198292</td>\n      <td>8.894267</td>\n      <td>...</td>\n      <td>1013.053858</td>\n      <td>1010.905502</td>\n      <td>4.167756</td>\n      <td>4.01693</td>\n      <td>22.526185</td>\n      <td>27.847663</td>\n      <td>Jetstar</td>\n      <td>0.255319</td>\n      <td>0.234043</td>\n      <td>0.000000</td>\n    </tr>\n    <tr>\n      <th>1</th>\n      <td>Adelaide</td>\n      <td>Melbourne</td>\n      <td>1</td>\n      <td>2010</td>\n      <td>414.0</td>\n      <td>641.652927</td>\n      <td>17.33103</td>\n      <td>29.76354</td>\n      <td>2.198292</td>\n      <td>8.894267</td>\n      <td>...</td>\n      <td>1013.053858</td>\n      <td>1010.905502</td>\n      <td>4.167756</td>\n      <td>4.01693</td>\n      <td>22.526185</td>\n      <td>27.847663</td>\n      <td>Qantas</td>\n      <td>0.087542</td>\n      <td>0.090909</td>\n      <td>0.003367</td>\n    </tr>\n    <tr>\n      <th>2</th>\n      <td>Adelaide</td>\n      <td>Melbourne</td>\n      <td>1</td>\n      <td>2010</td>\n      <td>414.0</td>\n      <td>641.652927</td>\n      <td>17.33103</td>\n      <td>29.76354</td>\n      <td>2.198292</td>\n      <td>8.894267</td>\n      <td>...</td>\n      <td>1013.053858</td>\n      <td>1010.905502</td>\n      <td>4.167756</td>\n      <td>4.01693</td>\n      <td>22.526185</td>\n      <td>27.847663</td>\n      <td>Tigerair Australia</td>\n      <td>0.083333</td>\n      <td>0.033333</td>\n      <td>0.050000</td>\n    </tr>\n    <tr>\n      <th>3</th>\n      <td>Adelaide</td>\n      <td>Melbourne</td>\n      <td>1</td>\n      <td>2010</td>\n      <td>414.0</td>\n      <td>641.652927</td>\n      <td>17.33103</td>\n      <td>29.76354</td>\n      <td>2.198292</td>\n      <td>8.894267</td>\n      <td>...</td>\n      <td>1013.053858</td>\n      <td>1010.905502</td>\n      <td>4.167756</td>\n      <td>4.01693</td>\n      <td>22.526185</td>\n      <td>27.847663</td>\n      <td>Virgin Australia</td>\n      <td>0.072874</td>\n      <td>0.068826</td>\n      <td>0.012146</td>\n    </tr>\n    <tr>\n      <th>4</th>\n      <td>Adelaide</td>\n      <td>Canberra</td>\n      <td>1</td>\n      <td>2010</td>\n      <td>414.0</td>\n      <td>970.229046</td>\n      <td>17.33103</td>\n      <td>29.76354</td>\n      <td>2.198292</td>\n      <td>8.894267</td>\n      <td>...</td>\n      <td>1013.053858</td>\n      <td>1010.905502</td>\n      <td>4.167756</td>\n      <td>4.01693</td>\n      <td>22.526185</td>\n      <td>27.847663</td>\n      <td>Qantas</td>\n      <td>0.111111</td>\n      <td>0.083333</td>\n      <td>0.000000</td>\n    </tr>\n  </tbody>\n</table>\n<p>5 rows × 26 columns</p>\n</div>"
     },
     "execution_count": 41,
     "metadata": {},
     "output_type": "execute_result"
    }
   ],
   "source": [
    "raw_data.head()"
   ],
   "metadata": {
    "collapsed": false,
    "ExecuteTime": {
     "end_time": "2024-09-30T14:03:51.120998Z",
     "start_time": "2024-09-30T14:03:51.079005800Z"
    }
   }
  },
  {
   "cell_type": "code",
   "execution_count": 42,
   "outputs": [],
   "source": [
    "raw_data[\"Average_Delay_%\"] = (raw_data[\"Arrival_Delays_%\"] + raw_data[\"Departure_Delays_%\"]) * 0.5"
   ],
   "metadata": {
    "collapsed": false,
    "ExecuteTime": {
     "end_time": "2024-09-30T14:03:51.121998400Z",
     "start_time": "2024-09-30T14:03:51.106931100Z"
    }
   }
  },
  {
   "cell_type": "code",
   "execution_count": 43,
   "outputs": [],
   "source": [
    "processed_data = raw_data.copy()\n",
    "\n",
    "processed_data = processed_data.sort_values([\"Year\", \"Month\", \"Departing_Port\", \"Arriving_Port\", \"Airline\"])"
   ],
   "metadata": {
    "collapsed": false,
    "ExecuteTime": {
     "end_time": "2024-09-30T14:03:51.196351100Z",
     "start_time": "2024-09-30T14:03:51.123991700Z"
    }
   }
  },
  {
   "cell_type": "code",
   "execution_count": 44,
   "outputs": [
    {
     "name": "stdout",
     "output_type": "stream",
     "text": [
      "    Month  Year  Average_Fare     Distance   MinTemp   MaxTemp  Rainfall  \\\n",
      "11      1  2010         414.0  1316.720677  17.33103  29.76354  2.198292   \n",
      "12      1  2010         414.0  1316.720677  17.33103  29.76354  2.198292   \n",
      "16      1  2010         414.0  1619.982414  17.33103  29.76354  2.198292   \n",
      "17      1  2010         414.0  1619.982414  17.33103  29.76354  2.198292   \n",
      "18      1  2010         414.0  1619.982414  17.33103  29.76354  2.198292   \n",
      "\n",
      "    Evaporation  Sunshine  WindGustSpeed  ...  Wagga Wagga  Jetstar  Qantas  \\\n",
      "11     8.894267  9.385116      43.838095  ...            0        0       1   \n",
      "12     8.894267  9.385116      43.838095  ...            0        0       0   \n",
      "16     8.894267  9.385116      43.838095  ...            0        1       0   \n",
      "17     8.894267  9.385116      43.838095  ...            0        0       1   \n",
      "18     8.894267  9.385116      43.838095  ...            0        0       0   \n",
      "\n",
      "    QantasLink  Regional Express  Skywest  Tigerair Australia  \\\n",
      "11           0                 0        0                   0   \n",
      "12           0                 0        0                   1   \n",
      "16           0                 0        0                   0   \n",
      "17           0                 0        0                   0   \n",
      "18           0                 0        0                   0   \n",
      "\n",
      "    Virgin Australia  Virgin Australia - ATR/F100 Operations  \\\n",
      "11                 0                                       0   \n",
      "12                 0                                       0   \n",
      "16                 0                                       0   \n",
      "17                 0                                       0   \n",
      "18                 1                                       0   \n",
      "\n",
      "    Virgin Australia Regional Airlines  \n",
      "11                                   0  \n",
      "12                                   0  \n",
      "16                                   0  \n",
      "17                                   0  \n",
      "18                                   0  \n",
      "\n",
      "[5 rows x 115 columns]\n"
     ]
    }
   ],
   "source": [
    "categorical_variables = [\"Departing_Port\", \"Arriving_Port\", \"Airline\"]\n",
    "\n",
    "for variable in categorical_variables:\n",
    "    one_hot_airline_categories = pd.get_dummies(processed_data[variable])\n",
    "\n",
    "    del processed_data[variable]\n",
    "\n",
    "    processed_data = pd.concat([processed_data, one_hot_airline_categories], axis=1)\n",
    "\n",
    "print(processed_data.head())"
   ],
   "metadata": {
    "collapsed": false,
    "ExecuteTime": {
     "end_time": "2024-09-30T14:03:51.280763300Z",
     "start_time": "2024-09-30T14:03:51.173378Z"
    }
   }
  },
  {
   "cell_type": "markdown",
   "source": [
    "# Normalizingm"
   ],
   "metadata": {
    "collapsed": false
   }
  },
  {
   "cell_type": "code",
   "execution_count": 45,
   "outputs": [
    {
     "data": {
      "text/plain": "       Month  Year  Average_Fare  Distance   MinTemp   MaxTemp  Rainfall  \\\n11         1  2010      0.010518  0.320498  0.928133  0.966634  0.364930   \n12         1  2010      0.010518  0.320498  0.928133  0.966634  0.364930   \n16         1  2010      0.010518  0.410449  0.928133  0.966634  0.364930   \n17         1  2010      0.010518  0.410449  0.928133  0.966634  0.364930   \n18         1  2010      0.010518  0.410449  0.928133  0.966634  0.364930   \n...      ...   ...           ...       ...       ...       ...       ...   \n30093      6  2017      0.532011  0.014184  0.066673  0.138983  0.298577   \n30094      6  2017      0.535974  0.431553  0.066673  0.138983  0.298577   \n30095      6  2017      0.535974  0.431553  0.066673  0.138983  0.298577   \n30096      6  2017      0.667801  0.038456  0.066673  0.138983  0.298577   \n30097      6  2017      0.667801  0.038456  0.066673  0.138983  0.298577   \n\n       Evaporation  Sunshine  WindGustSpeed  ...  Wagga Wagga  Jetstar  \\\n11        0.898459  0.931945       0.823711  ...            0        0   \n12        0.898459  0.931945       0.823711  ...            0        0   \n16        0.898459  0.931945       0.823711  ...            0        1   \n17        0.898459  0.931945       0.823711  ...            0        0   \n18        0.898459  0.931945       0.823711  ...            0        0   \n...            ...       ...            ...  ...          ...      ...   \n30093     0.070292  0.219417       0.000000  ...            0        0   \n30094     0.070292  0.219417       0.000000  ...            0        1   \n30095     0.070292  0.219417       0.000000  ...            0        0   \n30096     0.070292  0.219417       0.000000  ...            0        0   \n30097     0.070292  0.219417       0.000000  ...            0        0   \n\n       Qantas  QantasLink  Regional Express  Skywest  Tigerair Australia  \\\n11          1           0                 0        0                   0   \n12          0           0                 0        0                   1   \n16          0           0                 0        0                   0   \n17          1           0                 0        0                   0   \n18          0           0                 0        0                   0   \n...       ...         ...               ...      ...                 ...   \n30093       0           0                 1        0                   0   \n30094       0           0                 0        0                   0   \n30095       0           0                 0        0                   0   \n30096       0           1                 0        0                   0   \n30097       0           0                 1        0                   0   \n\n       Virgin Australia  Virgin Australia - ATR/F100 Operations  \\\n11                    0                                       0   \n12                    0                                       0   \n16                    0                                       0   \n17                    0                                       0   \n18                    1                                       0   \n...                 ...                                     ...   \n30093                 0                                       0   \n30094                 0                                       0   \n30095                 1                                       0   \n30096                 0                                       0   \n30097                 0                                       0   \n\n       Virgin Australia Regional Airlines  \n11                                      0  \n12                                      0  \n16                                      0  \n17                                      0  \n18                                      0  \n...                                   ...  \n30093                                   0  \n30094                                   0  \n30095                                   0  \n30096                                   0  \n30097                                   0  \n\n[30116 rows x 115 columns]",
      "text/html": "<div>\n<style scoped>\n    .dataframe tbody tr th:only-of-type {\n        vertical-align: middle;\n    }\n\n    .dataframe tbody tr th {\n        vertical-align: top;\n    }\n\n    .dataframe thead th {\n        text-align: right;\n    }\n</style>\n<table border=\"1\" class=\"dataframe\">\n  <thead>\n    <tr style=\"text-align: right;\">\n      <th></th>\n      <th>Month</th>\n      <th>Year</th>\n      <th>Average_Fare</th>\n      <th>Distance</th>\n      <th>MinTemp</th>\n      <th>MaxTemp</th>\n      <th>Rainfall</th>\n      <th>Evaporation</th>\n      <th>Sunshine</th>\n      <th>WindGustSpeed</th>\n      <th>...</th>\n      <th>Wagga Wagga</th>\n      <th>Jetstar</th>\n      <th>Qantas</th>\n      <th>QantasLink</th>\n      <th>Regional Express</th>\n      <th>Skywest</th>\n      <th>Tigerair Australia</th>\n      <th>Virgin Australia</th>\n      <th>Virgin Australia - ATR/F100 Operations</th>\n      <th>Virgin Australia Regional Airlines</th>\n    </tr>\n  </thead>\n  <tbody>\n    <tr>\n      <th>11</th>\n      <td>1</td>\n      <td>2010</td>\n      <td>0.010518</td>\n      <td>0.320498</td>\n      <td>0.928133</td>\n      <td>0.966634</td>\n      <td>0.364930</td>\n      <td>0.898459</td>\n      <td>0.931945</td>\n      <td>0.823711</td>\n      <td>...</td>\n      <td>0</td>\n      <td>0</td>\n      <td>1</td>\n      <td>0</td>\n      <td>0</td>\n      <td>0</td>\n      <td>0</td>\n      <td>0</td>\n      <td>0</td>\n      <td>0</td>\n    </tr>\n    <tr>\n      <th>12</th>\n      <td>1</td>\n      <td>2010</td>\n      <td>0.010518</td>\n      <td>0.320498</td>\n      <td>0.928133</td>\n      <td>0.966634</td>\n      <td>0.364930</td>\n      <td>0.898459</td>\n      <td>0.931945</td>\n      <td>0.823711</td>\n      <td>...</td>\n      <td>0</td>\n      <td>0</td>\n      <td>0</td>\n      <td>0</td>\n      <td>0</td>\n      <td>0</td>\n      <td>1</td>\n      <td>0</td>\n      <td>0</td>\n      <td>0</td>\n    </tr>\n    <tr>\n      <th>16</th>\n      <td>1</td>\n      <td>2010</td>\n      <td>0.010518</td>\n      <td>0.410449</td>\n      <td>0.928133</td>\n      <td>0.966634</td>\n      <td>0.364930</td>\n      <td>0.898459</td>\n      <td>0.931945</td>\n      <td>0.823711</td>\n      <td>...</td>\n      <td>0</td>\n      <td>1</td>\n      <td>0</td>\n      <td>0</td>\n      <td>0</td>\n      <td>0</td>\n      <td>0</td>\n      <td>0</td>\n      <td>0</td>\n      <td>0</td>\n    </tr>\n    <tr>\n      <th>17</th>\n      <td>1</td>\n      <td>2010</td>\n      <td>0.010518</td>\n      <td>0.410449</td>\n      <td>0.928133</td>\n      <td>0.966634</td>\n      <td>0.364930</td>\n      <td>0.898459</td>\n      <td>0.931945</td>\n      <td>0.823711</td>\n      <td>...</td>\n      <td>0</td>\n      <td>0</td>\n      <td>1</td>\n      <td>0</td>\n      <td>0</td>\n      <td>0</td>\n      <td>0</td>\n      <td>0</td>\n      <td>0</td>\n      <td>0</td>\n    </tr>\n    <tr>\n      <th>18</th>\n      <td>1</td>\n      <td>2010</td>\n      <td>0.010518</td>\n      <td>0.410449</td>\n      <td>0.928133</td>\n      <td>0.966634</td>\n      <td>0.364930</td>\n      <td>0.898459</td>\n      <td>0.931945</td>\n      <td>0.823711</td>\n      <td>...</td>\n      <td>0</td>\n      <td>0</td>\n      <td>0</td>\n      <td>0</td>\n      <td>0</td>\n      <td>0</td>\n      <td>0</td>\n      <td>1</td>\n      <td>0</td>\n      <td>0</td>\n    </tr>\n    <tr>\n      <th>...</th>\n      <td>...</td>\n      <td>...</td>\n      <td>...</td>\n      <td>...</td>\n      <td>...</td>\n      <td>...</td>\n      <td>...</td>\n      <td>...</td>\n      <td>...</td>\n      <td>...</td>\n      <td>...</td>\n      <td>...</td>\n      <td>...</td>\n      <td>...</td>\n      <td>...</td>\n      <td>...</td>\n      <td>...</td>\n      <td>...</td>\n      <td>...</td>\n      <td>...</td>\n      <td>...</td>\n    </tr>\n    <tr>\n      <th>30093</th>\n      <td>6</td>\n      <td>2017</td>\n      <td>0.532011</td>\n      <td>0.014184</td>\n      <td>0.066673</td>\n      <td>0.138983</td>\n      <td>0.298577</td>\n      <td>0.070292</td>\n      <td>0.219417</td>\n      <td>0.000000</td>\n      <td>...</td>\n      <td>0</td>\n      <td>0</td>\n      <td>0</td>\n      <td>0</td>\n      <td>1</td>\n      <td>0</td>\n      <td>0</td>\n      <td>0</td>\n      <td>0</td>\n      <td>0</td>\n    </tr>\n    <tr>\n      <th>30094</th>\n      <td>6</td>\n      <td>2017</td>\n      <td>0.535974</td>\n      <td>0.431553</td>\n      <td>0.066673</td>\n      <td>0.138983</td>\n      <td>0.298577</td>\n      <td>0.070292</td>\n      <td>0.219417</td>\n      <td>0.000000</td>\n      <td>...</td>\n      <td>0</td>\n      <td>1</td>\n      <td>0</td>\n      <td>0</td>\n      <td>0</td>\n      <td>0</td>\n      <td>0</td>\n      <td>0</td>\n      <td>0</td>\n      <td>0</td>\n    </tr>\n    <tr>\n      <th>30095</th>\n      <td>6</td>\n      <td>2017</td>\n      <td>0.535974</td>\n      <td>0.431553</td>\n      <td>0.066673</td>\n      <td>0.138983</td>\n      <td>0.298577</td>\n      <td>0.070292</td>\n      <td>0.219417</td>\n      <td>0.000000</td>\n      <td>...</td>\n      <td>0</td>\n      <td>0</td>\n      <td>0</td>\n      <td>0</td>\n      <td>0</td>\n      <td>0</td>\n      <td>0</td>\n      <td>1</td>\n      <td>0</td>\n      <td>0</td>\n    </tr>\n    <tr>\n      <th>30096</th>\n      <td>6</td>\n      <td>2017</td>\n      <td>0.667801</td>\n      <td>0.038456</td>\n      <td>0.066673</td>\n      <td>0.138983</td>\n      <td>0.298577</td>\n      <td>0.070292</td>\n      <td>0.219417</td>\n      <td>0.000000</td>\n      <td>...</td>\n      <td>0</td>\n      <td>0</td>\n      <td>0</td>\n      <td>1</td>\n      <td>0</td>\n      <td>0</td>\n      <td>0</td>\n      <td>0</td>\n      <td>0</td>\n      <td>0</td>\n    </tr>\n    <tr>\n      <th>30097</th>\n      <td>6</td>\n      <td>2017</td>\n      <td>0.667801</td>\n      <td>0.038456</td>\n      <td>0.066673</td>\n      <td>0.138983</td>\n      <td>0.298577</td>\n      <td>0.070292</td>\n      <td>0.219417</td>\n      <td>0.000000</td>\n      <td>...</td>\n      <td>0</td>\n      <td>0</td>\n      <td>0</td>\n      <td>0</td>\n      <td>1</td>\n      <td>0</td>\n      <td>0</td>\n      <td>0</td>\n      <td>0</td>\n      <td>0</td>\n    </tr>\n  </tbody>\n</table>\n<p>30116 rows × 115 columns</p>\n</div>"
     },
     "execution_count": 45,
     "metadata": {},
     "output_type": "execute_result"
    }
   ],
   "source": [
    "from sklearn.preprocessing import MinMaxScaler\n",
    "scaler = MinMaxScaler(feature_range=(0, 1))\n",
    "\n",
    "continuous_features = processed_data.select_dtypes(\"float\").columns.values\n",
    "\n",
    "processed_data[continuous_features] = scaler.fit_transform(processed_data[continuous_features])\n",
    "processed_data"
   ],
   "metadata": {
    "collapsed": false,
    "ExecuteTime": {
     "end_time": "2024-09-30T14:03:51.435165700Z",
     "start_time": "2024-09-30T14:03:51.250812100Z"
    }
   }
  },
  {
   "cell_type": "code",
   "execution_count": 46,
   "outputs": [],
   "source": [
    "from sklearn.model_selection import train_test_split\n",
    "\n",
    "X_columns = \\\n",
    "    ['Distance',\n",
    "     'MinTemp',\n",
    "     'MaxTemp',\n",
    "     'Rainfall',\n",
    "     'Evaporation',\n",
    "     'Sunshine',\n",
    "     'WindGustSpeed',\n",
    "     'WindSpeed9am',\n",
    "     'WindSpeed3pm',\n",
    "     'Humidity9am',\n",
    "     'Humidity3pm',\n",
    "     'Pressure9am',\n",
    "     'Pressure3pm',\n",
    "     'Cloud9am',\n",
    "     'Cloud3pm',\n",
    "     'Temp9am',\n",
    "     'Temp3pm',\n",
    "     'Cancellations_%',\n",
    "     'Adelaide',\n",
    "     'Albury',\n",
    "     'Alice Springs',\n",
    "     'Armidale',\n",
    "     'Ayers Rock',\n",
    "     'Ballina',\n",
    "     'Brisbane',\n",
    "     'Broome',\n",
    "     'Bundaberg',\n",
    "     'Cairns',\n",
    "     'Canberra',\n",
    "     'Coffs Harbour',\n",
    "     'Darwin',\n",
    "     'Dubbo',\n",
    "     'Emerald',\n",
    "     'Geraldton',\n",
    "     'Gladstone',\n",
    "     'Gold Coast',\n",
    "     'Hamilton Island',\n",
    "     'Hobart',\n",
    "     'Kalgoorlie',\n",
    "     'Karratha',\n",
    "     'Launceston',\n",
    "     'Mackay',\n",
    "     'Melbourne',\n",
    "     'Mildura',\n",
    "     'Moranbah',\n",
    "     'Mount Isa',\n",
    "     'Newcastle',\n",
    "     'Newman',\n",
    "     'Perth',\n",
    "     'Port Hedland',\n",
    "     'Port Lincoln',\n",
    "     'Port Macquarie',\n",
    "     'Proserpine',\n",
    "     'Rockhampton',\n",
    "     'Sunshine Coast',\n",
    "     'Sydney',\n",
    "     'Tamworth',\n",
    "     'Townsville',\n",
    "     'Wagga Wagga',\n",
    "     'Adelaide',\n",
    "     'Albury',\n",
    "     'Alice Springs',\n",
    "     'Armidale',\n",
    "     'Ayers Rock',\n",
    "     'Ballina',\n",
    "     'Brisbane',\n",
    "     'Broome',\n",
    "     'Bundaberg',\n",
    "     'Cairns',\n",
    "     'Canberra',\n",
    "     'Coffs Harbour',\n",
    "     'Darwin',\n",
    "     'Dubbo',\n",
    "     'Emerald',\n",
    "     'Geraldton',\n",
    "     'Gladstone',\n",
    "     'Gold Coast',\n",
    "     'Hamilton Island',\n",
    "     'Hobart',\n",
    "     'Kalgoorlie',\n",
    "     'Karratha',\n",
    "     'Launceston',\n",
    "     'Mackay',\n",
    "     'Melbourne',\n",
    "     'Mildura',\n",
    "     'Moranbah',\n",
    "     'Mount Isa',\n",
    "     'Newcastle',\n",
    "     'Newman',\n",
    "     'Perth',\n",
    "     'Port Hedland',\n",
    "     'Port Lincoln',\n",
    "     'Port Macquarie',\n",
    "     'Proserpine',\n",
    "     'Rockhampton',\n",
    "     'Sunshine Coast',\n",
    "     'Sydney',\n",
    "     'Tamworth',\n",
    "     'Townsville',\n",
    "     'Wagga Wagga',\n",
    "     'Jetstar',\n",
    "     'Qantas',\n",
    "     'QantasLink',\n",
    "     'Regional Express',\n",
    "     'Skywest',\n",
    "     'Tigerair Australia',\n",
    "     'Virgin Australia',\n",
    "     'Virgin Australia - ATR/F100 Operations',\n",
    "     'Virgin Australia Regional Airlines']\n",
    "\n",
    "Y_columns = [\"Average_Delay_%\"]"
   ],
   "metadata": {
    "collapsed": false,
    "ExecuteTime": {
     "end_time": "2024-09-30T14:03:51.481168800Z",
     "start_time": "2024-09-30T14:03:51.438154700Z"
    }
   }
  },
  {
   "cell_type": "code",
   "execution_count": 47,
   "outputs": [],
   "source": [
    "X = processed_data[X_columns]\n",
    "y = processed_data[Y_columns].to_numpy().flatten()\n",
    "\n",
    "x_train, x_test, y_train, y_test = train_test_split(X, y, test_size=0.3, random_state=1)"
   ],
   "metadata": {
    "collapsed": false,
    "ExecuteTime": {
     "end_time": "2024-09-30T14:03:51.623089100Z",
     "start_time": "2024-09-30T14:03:51.456202Z"
    }
   }
  },
  {
   "cell_type": "code",
   "execution_count": 48,
   "outputs": [],
   "source": [
    "from sklearn.ensemble import GradientBoostingRegressor\n",
    "\n",
    "# Initialize the GradientBoostingRegressor\n",
    "regressor = GradientBoostingRegressor(random_state=1)\n",
    "\n",
    "regressor.fit(x_train, y_train)\n",
    "\n",
    "y_pred = regressor.predict(x_test)"
   ],
   "metadata": {
    "collapsed": false,
    "ExecuteTime": {
     "end_time": "2024-09-30T14:04:02.826960800Z",
     "start_time": "2024-09-30T14:03:51.543301Z"
    }
   }
  },
  {
   "cell_type": "code",
   "execution_count": 49,
   "outputs": [
    {
     "data": {
      "text/plain": "array([0.24281424, 0.16033654, 0.14336268, ..., 0.24219261, 0.32548878,\n       0.2259508 ])"
     },
     "execution_count": 49,
     "metadata": {},
     "output_type": "execute_result"
    }
   ],
   "source": [
    "y_pred"
   ],
   "metadata": {
    "collapsed": false,
    "ExecuteTime": {
     "end_time": "2024-09-30T14:04:02.843156800Z",
     "start_time": "2024-09-30T14:04:02.830949300Z"
    }
   }
  },
  {
   "cell_type": "code",
   "execution_count": 50,
   "outputs": [
    {
     "name": "stdout",
     "output_type": "stream",
     "text": [
      "Mean Squared Error: 0.008144595663752523\n",
      "R-squared: 0.3179152318980559\n"
     ]
    }
   ],
   "source": [
    "from sklearn.metrics import mean_squared_error, r2_score\n",
    "\n",
    "mse = mean_squared_error(y_test, y_pred)\n",
    "r2 = r2_score(y_test, y_pred)\n",
    "\n",
    "print(\"Mean Squared Error:\", mse)\n",
    "print(\"R-squared:\", r2)"
   ],
   "metadata": {
    "collapsed": false,
    "ExecuteTime": {
     "end_time": "2024-09-30T14:04:02.899667700Z",
     "start_time": "2024-09-30T14:04:02.845153800Z"
    }
   }
  },
  {
   "cell_type": "code",
   "execution_count": 51,
   "outputs": [
    {
     "name": "stdout",
     "output_type": "stream",
     "text": [
      "Starting cross-validation...\n",
      "Cross-validation complete.\n",
      "Cross-validated R² scores: [ 0.03546606 -0.02022517  0.17278327  0.06145115  0.2266452 ]\n",
      "Mean R²: 0.09522410241735821\n",
      "Mean squared error: 0.01\n",
      "Mean absolute error: 0.07\n"
     ]
    }
   ],
   "source": [
    "from sklearn.model_selection import cross_val_score\n",
    "from sklearn.metrics import accuracy_score\n",
    "from sklearn.metrics import mean_squared_error, mean_absolute_error, r2_score\n",
    "\n",
    "print(\"Starting cross-validation...\")\n",
    "\n",
    "r2_scores = cross_val_score(regressor, X, y, cv=5, scoring='r2')\n",
    "\n",
    "mse = mean_squared_error(y_test, y_pred)\n",
    "mae = mean_absolute_error(y_test, y_pred)\n",
    "\n",
    "print(\"Cross-validation complete.\")\n",
    "print(\"Cross-validated R² scores:\", r2_scores)\n",
    "print(\"Mean R²:\", r2_scores.mean())\n",
    "print(f\"Mean squared error: {mse:.2f}\")\n",
    "print(f\"Mean absolute error: {mae:.2f}\")"
   ],
   "metadata": {
    "collapsed": false,
    "ExecuteTime": {
     "end_time": "2024-09-30T14:04:59.927214700Z",
     "start_time": "2024-09-30T14:04:02.893717Z"
    }
   }
  },
  {
   "cell_type": "code",
   "execution_count": 52,
   "outputs": [],
   "source": [
    "import pickle\n",
    "\n",
    "model_save_path = \"../trained_models/gradient_boosting_delays.pkl\"\n",
    "\n",
    "\n",
    "pickle.dump(regressor, open(model_save_path, 'wb'))"
   ],
   "metadata": {
    "collapsed": false,
    "ExecuteTime": {
     "end_time": "2024-09-30T14:04:59.944687900Z",
     "start_time": "2024-09-30T14:04:59.929210100Z"
    }
   }
  },
  {
   "cell_type": "code",
   "execution_count": 53,
   "outputs": [
    {
     "data": {
      "text/plain": "'C:\\\\Users\\\\ASUS\\\\OneDrive\\\\Semester 3\\\\Innovation Project\\\\Assign_02\\\\working_files'"
     },
     "execution_count": 53,
     "metadata": {},
     "output_type": "execute_result"
    }
   ],
   "source": [
    "import os\n",
    "\n",
    "os.getcwd()"
   ],
   "metadata": {
    "collapsed": false,
    "ExecuteTime": {
     "end_time": "2024-09-30T14:05:00.017813800Z",
     "start_time": "2024-09-30T14:04:59.946682700Z"
    }
   }
  },
  {
   "cell_type": "code",
   "execution_count": 54,
   "outputs": [],
   "source": [
    "regressor = pickle.load(open(model_save_path, 'rb'))"
   ],
   "metadata": {
    "collapsed": false,
    "ExecuteTime": {
     "end_time": "2024-09-30T14:05:00.035299100Z",
     "start_time": "2024-09-30T14:04:59.960908800Z"
    }
   }
  },
  {
   "cell_type": "code",
   "execution_count": 54,
   "outputs": [],
   "source": [],
   "metadata": {
    "collapsed": false,
    "ExecuteTime": {
     "end_time": "2024-09-30T14:05:00.035299100Z",
     "start_time": "2024-09-30T14:04:59.992872200Z"
    }
   }
  }
 ],
 "metadata": {
  "kernelspec": {
   "display_name": "Python 3",
   "language": "python",
   "name": "python3"
  },
  "language_info": {
   "codemirror_mode": {
    "name": "ipython",
    "version": 2
   },
   "file_extension": ".py",
   "mimetype": "text/x-python",
   "name": "python",
   "nbconvert_exporter": "python",
   "pygments_lexer": "ipython2",
   "version": "2.7.6"
  }
 },
 "nbformat": 4,
 "nbformat_minor": 0
}
