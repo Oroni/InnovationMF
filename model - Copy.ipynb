{
 "cells": [
  {
   "cell_type": "markdown",
   "source": [
    "# Process our data"
   ],
   "metadata": {
    "collapsed": false
   }
  },
  {
   "cell_type": "code",
   "execution_count": 239,
   "metadata": {
    "collapsed": true,
    "ExecuteTime": {
     "end_time": "2024-09-29T02:52:50.171320500Z",
     "start_time": "2024-09-29T02:52:49.358935800Z"
    }
   },
   "outputs": [],
   "source": [
    "import pandas as pd\n",
    "raw_data = pd.read_csv(\"flights_data.csv\")"
   ]
  },
  {
   "cell_type": "code",
   "execution_count": 240,
   "outputs": [
    {
     "data": {
      "text/plain": "      Departing_Port Arriving_Port  Month  Year  Average_Fare    Distance  \\\n0           Adelaide     Melbourne      1  2010         414.0  641.652927   \n1           Adelaide     Melbourne      1  2010         414.0  641.652927   \n2           Adelaide     Melbourne      1  2010         414.0  641.652927   \n3           Adelaide     Melbourne      1  2010         414.0  641.652927   \n4           Adelaide      Canberra      1  2010         414.0  970.229046   \n...              ...           ...    ...   ...           ...         ...   \n30111       Moranbah      Brisbane      6  2017        1277.0  779.683481   \n30112       Armidale        Sydney      6  2017         326.0  382.268024   \n30113       Armidale        Sydney      6  2017         326.0  382.268024   \n30114       Tamworth        Sydney      6  2017         643.0  319.769513   \n30115       Tamworth        Sydney      6  2017         643.0  319.769513   \n\n        MinTemp    MaxTemp  Rainfall  Evaporation  ...  Pressure9am  \\\n0      17.33103  29.763540  2.198292     8.894267  ...  1013.053858   \n1      17.33103  29.763540  2.198292     8.894267  ...  1013.053858   \n2      17.33103  29.763540  2.198292     8.894267  ...  1013.053858   \n3      17.33103  29.763540  2.198292     8.894267  ...  1013.053858   \n4      17.33103  29.763540  2.198292     8.894267  ...  1013.053858   \n...         ...        ...       ...          ...  ...          ...   \n30111   7.14584  18.217691  1.944638     2.741813  ...  1025.984182   \n30112   7.14584  18.217691  1.944638     2.741813  ...  1025.984182   \n30113   7.14584  18.217691  1.944638     2.741813  ...  1025.984182   \n30114   7.14584  18.217691  1.944638     2.741813  ...  1025.984182   \n30115   7.14584  18.217691  1.944638     2.741813  ...  1025.984182   \n\n       Pressure3pm  Cloud9am  Cloud3pm    Temp9am    Temp3pm  \\\n0      1010.905502  4.167756  4.016930  22.526185  27.847663   \n1      1010.905502  4.167756  4.016930  22.526185  27.847663   \n2      1010.905502  4.167756  4.016930  22.526185  27.847663   \n3      1010.905502  4.167756  4.016930  22.526185  27.847663   \n4      1010.905502  4.167756  4.016930  22.526185  27.847663   \n...            ...       ...       ...        ...        ...   \n30111  1023.486260  4.872945  5.115312  11.379967  16.965475   \n30112  1023.486260  4.872945  5.115312  11.379967  16.965475   \n30113  1023.486260  4.872945  5.115312  11.379967  16.965475   \n30114  1023.486260  4.872945  5.115312  11.379967  16.965475   \n30115  1023.486260  4.872945  5.115312  11.379967  16.965475   \n\n                  Airline  Departure_Delays_%  Arrival_Delays_%  \\\n0                 Jetstar            0.255319          0.234043   \n1                  Qantas            0.087542          0.090909   \n2      Tigerair Australia            0.083333          0.033333   \n3        Virgin Australia            0.072874          0.068826   \n4                  Qantas            0.111111          0.083333   \n...                   ...                 ...               ...   \n30111    Virgin Australia            0.078431          0.058824   \n30112          QantasLink            0.256198          0.297521   \n30113    Regional Express            0.278481          0.329114   \n30114          QantasLink            0.180645          0.174194   \n30115    Virgin Australia            0.156863          0.156863   \n\n       Cancellations_%  \n0             0.000000  \n1             0.003367  \n2             0.050000  \n3             0.012146  \n4             0.000000  \n...                ...  \n30111         0.000000  \n30112         0.115702  \n30113         0.050633  \n30114         0.051613  \n30115         0.019608  \n\n[30116 rows x 26 columns]",
      "text/html": "<div>\n<style scoped>\n    .dataframe tbody tr th:only-of-type {\n        vertical-align: middle;\n    }\n\n    .dataframe tbody tr th {\n        vertical-align: top;\n    }\n\n    .dataframe thead th {\n        text-align: right;\n    }\n</style>\n<table border=\"1\" class=\"dataframe\">\n  <thead>\n    <tr style=\"text-align: right;\">\n      <th></th>\n      <th>Departing_Port</th>\n      <th>Arriving_Port</th>\n      <th>Month</th>\n      <th>Year</th>\n      <th>Average_Fare</th>\n      <th>Distance</th>\n      <th>MinTemp</th>\n      <th>MaxTemp</th>\n      <th>Rainfall</th>\n      <th>Evaporation</th>\n      <th>...</th>\n      <th>Pressure9am</th>\n      <th>Pressure3pm</th>\n      <th>Cloud9am</th>\n      <th>Cloud3pm</th>\n      <th>Temp9am</th>\n      <th>Temp3pm</th>\n      <th>Airline</th>\n      <th>Departure_Delays_%</th>\n      <th>Arrival_Delays_%</th>\n      <th>Cancellations_%</th>\n    </tr>\n  </thead>\n  <tbody>\n    <tr>\n      <th>0</th>\n      <td>Adelaide</td>\n      <td>Melbourne</td>\n      <td>1</td>\n      <td>2010</td>\n      <td>414.0</td>\n      <td>641.652927</td>\n      <td>17.33103</td>\n      <td>29.763540</td>\n      <td>2.198292</td>\n      <td>8.894267</td>\n      <td>...</td>\n      <td>1013.053858</td>\n      <td>1010.905502</td>\n      <td>4.167756</td>\n      <td>4.016930</td>\n      <td>22.526185</td>\n      <td>27.847663</td>\n      <td>Jetstar</td>\n      <td>0.255319</td>\n      <td>0.234043</td>\n      <td>0.000000</td>\n    </tr>\n    <tr>\n      <th>1</th>\n      <td>Adelaide</td>\n      <td>Melbourne</td>\n      <td>1</td>\n      <td>2010</td>\n      <td>414.0</td>\n      <td>641.652927</td>\n      <td>17.33103</td>\n      <td>29.763540</td>\n      <td>2.198292</td>\n      <td>8.894267</td>\n      <td>...</td>\n      <td>1013.053858</td>\n      <td>1010.905502</td>\n      <td>4.167756</td>\n      <td>4.016930</td>\n      <td>22.526185</td>\n      <td>27.847663</td>\n      <td>Qantas</td>\n      <td>0.087542</td>\n      <td>0.090909</td>\n      <td>0.003367</td>\n    </tr>\n    <tr>\n      <th>2</th>\n      <td>Adelaide</td>\n      <td>Melbourne</td>\n      <td>1</td>\n      <td>2010</td>\n      <td>414.0</td>\n      <td>641.652927</td>\n      <td>17.33103</td>\n      <td>29.763540</td>\n      <td>2.198292</td>\n      <td>8.894267</td>\n      <td>...</td>\n      <td>1013.053858</td>\n      <td>1010.905502</td>\n      <td>4.167756</td>\n      <td>4.016930</td>\n      <td>22.526185</td>\n      <td>27.847663</td>\n      <td>Tigerair Australia</td>\n      <td>0.083333</td>\n      <td>0.033333</td>\n      <td>0.050000</td>\n    </tr>\n    <tr>\n      <th>3</th>\n      <td>Adelaide</td>\n      <td>Melbourne</td>\n      <td>1</td>\n      <td>2010</td>\n      <td>414.0</td>\n      <td>641.652927</td>\n      <td>17.33103</td>\n      <td>29.763540</td>\n      <td>2.198292</td>\n      <td>8.894267</td>\n      <td>...</td>\n      <td>1013.053858</td>\n      <td>1010.905502</td>\n      <td>4.167756</td>\n      <td>4.016930</td>\n      <td>22.526185</td>\n      <td>27.847663</td>\n      <td>Virgin Australia</td>\n      <td>0.072874</td>\n      <td>0.068826</td>\n      <td>0.012146</td>\n    </tr>\n    <tr>\n      <th>4</th>\n      <td>Adelaide</td>\n      <td>Canberra</td>\n      <td>1</td>\n      <td>2010</td>\n      <td>414.0</td>\n      <td>970.229046</td>\n      <td>17.33103</td>\n      <td>29.763540</td>\n      <td>2.198292</td>\n      <td>8.894267</td>\n      <td>...</td>\n      <td>1013.053858</td>\n      <td>1010.905502</td>\n      <td>4.167756</td>\n      <td>4.016930</td>\n      <td>22.526185</td>\n      <td>27.847663</td>\n      <td>Qantas</td>\n      <td>0.111111</td>\n      <td>0.083333</td>\n      <td>0.000000</td>\n    </tr>\n    <tr>\n      <th>...</th>\n      <td>...</td>\n      <td>...</td>\n      <td>...</td>\n      <td>...</td>\n      <td>...</td>\n      <td>...</td>\n      <td>...</td>\n      <td>...</td>\n      <td>...</td>\n      <td>...</td>\n      <td>...</td>\n      <td>...</td>\n      <td>...</td>\n      <td>...</td>\n      <td>...</td>\n      <td>...</td>\n      <td>...</td>\n      <td>...</td>\n      <td>...</td>\n      <td>...</td>\n      <td>...</td>\n    </tr>\n    <tr>\n      <th>30111</th>\n      <td>Moranbah</td>\n      <td>Brisbane</td>\n      <td>6</td>\n      <td>2017</td>\n      <td>1277.0</td>\n      <td>779.683481</td>\n      <td>7.14584</td>\n      <td>18.217691</td>\n      <td>1.944638</td>\n      <td>2.741813</td>\n      <td>...</td>\n      <td>1025.984182</td>\n      <td>1023.486260</td>\n      <td>4.872945</td>\n      <td>5.115312</td>\n      <td>11.379967</td>\n      <td>16.965475</td>\n      <td>Virgin Australia</td>\n      <td>0.078431</td>\n      <td>0.058824</td>\n      <td>0.000000</td>\n    </tr>\n    <tr>\n      <th>30112</th>\n      <td>Armidale</td>\n      <td>Sydney</td>\n      <td>6</td>\n      <td>2017</td>\n      <td>326.0</td>\n      <td>382.268024</td>\n      <td>7.14584</td>\n      <td>18.217691</td>\n      <td>1.944638</td>\n      <td>2.741813</td>\n      <td>...</td>\n      <td>1025.984182</td>\n      <td>1023.486260</td>\n      <td>4.872945</td>\n      <td>5.115312</td>\n      <td>11.379967</td>\n      <td>16.965475</td>\n      <td>QantasLink</td>\n      <td>0.256198</td>\n      <td>0.297521</td>\n      <td>0.115702</td>\n    </tr>\n    <tr>\n      <th>30113</th>\n      <td>Armidale</td>\n      <td>Sydney</td>\n      <td>6</td>\n      <td>2017</td>\n      <td>326.0</td>\n      <td>382.268024</td>\n      <td>7.14584</td>\n      <td>18.217691</td>\n      <td>1.944638</td>\n      <td>2.741813</td>\n      <td>...</td>\n      <td>1025.984182</td>\n      <td>1023.486260</td>\n      <td>4.872945</td>\n      <td>5.115312</td>\n      <td>11.379967</td>\n      <td>16.965475</td>\n      <td>Regional Express</td>\n      <td>0.278481</td>\n      <td>0.329114</td>\n      <td>0.050633</td>\n    </tr>\n    <tr>\n      <th>30114</th>\n      <td>Tamworth</td>\n      <td>Sydney</td>\n      <td>6</td>\n      <td>2017</td>\n      <td>643.0</td>\n      <td>319.769513</td>\n      <td>7.14584</td>\n      <td>18.217691</td>\n      <td>1.944638</td>\n      <td>2.741813</td>\n      <td>...</td>\n      <td>1025.984182</td>\n      <td>1023.486260</td>\n      <td>4.872945</td>\n      <td>5.115312</td>\n      <td>11.379967</td>\n      <td>16.965475</td>\n      <td>QantasLink</td>\n      <td>0.180645</td>\n      <td>0.174194</td>\n      <td>0.051613</td>\n    </tr>\n    <tr>\n      <th>30115</th>\n      <td>Tamworth</td>\n      <td>Sydney</td>\n      <td>6</td>\n      <td>2017</td>\n      <td>643.0</td>\n      <td>319.769513</td>\n      <td>7.14584</td>\n      <td>18.217691</td>\n      <td>1.944638</td>\n      <td>2.741813</td>\n      <td>...</td>\n      <td>1025.984182</td>\n      <td>1023.486260</td>\n      <td>4.872945</td>\n      <td>5.115312</td>\n      <td>11.379967</td>\n      <td>16.965475</td>\n      <td>Virgin Australia</td>\n      <td>0.156863</td>\n      <td>0.156863</td>\n      <td>0.019608</td>\n    </tr>\n  </tbody>\n</table>\n<p>30116 rows × 26 columns</p>\n</div>"
     },
     "execution_count": 240,
     "metadata": {},
     "output_type": "execute_result"
    }
   ],
   "source": [
    "raw_data"
   ],
   "metadata": {
    "collapsed": false,
    "ExecuteTime": {
     "end_time": "2024-09-29T02:52:50.223227300Z",
     "start_time": "2024-09-29T02:52:49.560503400Z"
    }
   }
  },
  {
   "cell_type": "markdown",
   "source": [
    "## Convert categorical variables to integer values"
   ],
   "metadata": {
    "collapsed": false
   }
  },
  {
   "cell_type": "code",
   "execution_count": 241,
   "outputs": [],
   "source": [
    "raw_data[\"Average_Delay_%\"] = (raw_data[\"Arrival_Delays_%\"] + raw_data[\"Departure_Delays_%\"]) * 0.5"
   ],
   "metadata": {
    "collapsed": false,
    "ExecuteTime": {
     "end_time": "2024-09-29T02:52:50.240734300Z",
     "start_time": "2024-09-29T02:52:49.623370800Z"
    }
   }
  },
  {
   "cell_type": "code",
   "execution_count": 242,
   "outputs": [],
   "source": [
    "categorical_variables = [\"Departing_Port\", \"Arriving_Port\", \"Airline\"]"
   ],
   "metadata": {
    "collapsed": false,
    "ExecuteTime": {
     "end_time": "2024-09-29T02:52:50.240734300Z",
     "start_time": "2024-09-29T02:52:49.658792Z"
    }
   }
  },
  {
   "cell_type": "code",
   "execution_count": 243,
   "outputs": [],
   "source": [
    "# Convert categorical variables into integers\n",
    "processed_data = raw_data.copy()\n",
    "\n",
    "processed_data[categorical_variables] = processed_data[categorical_variables].astype('category')\n",
    "processed_data[categorical_variables] = processed_data[categorical_variables].apply(lambda x: x.cat.codes)\n",
    "\n",
    "processed_data = processed_data.sort_values([\"Year\", \"Month\", \"Departing_Port\", \"Arriving_Port\", \"Airline\"])"
   ],
   "metadata": {
    "collapsed": false,
    "ExecuteTime": {
     "end_time": "2024-09-29T02:52:50.240734300Z",
     "start_time": "2024-09-29T02:52:49.675746500Z"
    }
   }
  },
  {
   "cell_type": "code",
   "execution_count": 244,
   "outputs": [
    {
     "data": {
      "text/plain": "       Departing_Port  Arriving_Port  Month  Year  Average_Fare     Distance  \\\n11                  0              2      1  2010         414.0  1316.720677   \n12                  0              2      1  2010         414.0  1316.720677   \n16                  0              6      1  2010         414.0  1619.982414   \n17                  0              6      1  2010         414.0  1619.982414   \n18                  0              6      1  2010         414.0  1619.982414   \n...               ...            ...    ...   ...           ...          ...   \n30093              39              9      6  2017       20941.0   284.013192   \n30094              39             37      6  2017       21097.0  1691.132106   \n30095              39             37      6  2017       21097.0  1691.132106   \n30096              40             37      6  2017       26286.0   365.844014   \n30097              40             37      6  2017       26286.0   365.844014   \n\n        MinTemp    MaxTemp  Rainfall  Evaporation  ...  Pressure3pm  Cloud9am  \\\n11     17.33103  29.763540  2.198292     8.894267  ...  1010.905502  4.167756   \n12     17.33103  29.763540  2.198292     8.894267  ...  1010.905502  4.167756   \n16     17.33103  29.763540  2.198292     8.894267  ...  1010.905502  4.167756   \n17     17.33103  29.763540  2.198292     8.894267  ...  1010.905502  4.167756   \n18     17.33103  29.763540  2.198292     8.894267  ...  1010.905502  4.167756   \n...         ...        ...       ...          ...  ...          ...       ...   \n30093   7.14584  18.217691  1.944638     2.741813  ...  1023.486260  4.872945   \n30094   7.14584  18.217691  1.944638     2.741813  ...  1023.486260  4.872945   \n30095   7.14584  18.217691  1.944638     2.741813  ...  1023.486260  4.872945   \n30096   7.14584  18.217691  1.944638     2.741813  ...  1023.486260  4.872945   \n30097   7.14584  18.217691  1.944638     2.741813  ...  1023.486260  4.872945   \n\n       Cloud3pm    Temp9am    Temp3pm  Airline  Departure_Delays_%  \\\n11     4.016930  22.526185  27.847663        1            0.000000   \n12     4.016930  22.526185  27.847663        5            0.153846   \n16     4.016930  22.526185  27.847663        0            0.266667   \n17     4.016930  22.526185  27.847663        1            0.053191   \n18     4.016930  22.526185  27.847663        6            0.064516   \n...         ...        ...        ...      ...                 ...   \n30093  5.115312  11.379967  16.965475        3            0.066667   \n30094  5.115312  11.379967  16.965475        0            0.500000   \n30095  5.115312  11.379967  16.965475        6            0.263158   \n30096  5.115312  11.379967  16.965475        2            0.187500   \n30097  5.115312  11.379967  16.965475        3            0.164062   \n\n       Arrival_Delays_%  Cancellations_%  Average_Delay_%  \n11             0.000000         0.000000         0.000000  \n12             0.153846         0.000000         0.153846  \n16             0.233333         0.000000         0.250000  \n17             0.031915         0.000000         0.042553  \n18             0.064516         0.000000         0.064516  \n...                 ...              ...              ...  \n30093          0.066667         0.044444         0.066667  \n30094          0.300000         0.000000         0.400000  \n30095          0.210526         0.000000         0.236842  \n30096          0.178571         0.026786         0.183036  \n30097          0.234375         0.046875         0.199219  \n\n[30116 rows x 27 columns]",
      "text/html": "<div>\n<style scoped>\n    .dataframe tbody tr th:only-of-type {\n        vertical-align: middle;\n    }\n\n    .dataframe tbody tr th {\n        vertical-align: top;\n    }\n\n    .dataframe thead th {\n        text-align: right;\n    }\n</style>\n<table border=\"1\" class=\"dataframe\">\n  <thead>\n    <tr style=\"text-align: right;\">\n      <th></th>\n      <th>Departing_Port</th>\n      <th>Arriving_Port</th>\n      <th>Month</th>\n      <th>Year</th>\n      <th>Average_Fare</th>\n      <th>Distance</th>\n      <th>MinTemp</th>\n      <th>MaxTemp</th>\n      <th>Rainfall</th>\n      <th>Evaporation</th>\n      <th>...</th>\n      <th>Pressure3pm</th>\n      <th>Cloud9am</th>\n      <th>Cloud3pm</th>\n      <th>Temp9am</th>\n      <th>Temp3pm</th>\n      <th>Airline</th>\n      <th>Departure_Delays_%</th>\n      <th>Arrival_Delays_%</th>\n      <th>Cancellations_%</th>\n      <th>Average_Delay_%</th>\n    </tr>\n  </thead>\n  <tbody>\n    <tr>\n      <th>11</th>\n      <td>0</td>\n      <td>2</td>\n      <td>1</td>\n      <td>2010</td>\n      <td>414.0</td>\n      <td>1316.720677</td>\n      <td>17.33103</td>\n      <td>29.763540</td>\n      <td>2.198292</td>\n      <td>8.894267</td>\n      <td>...</td>\n      <td>1010.905502</td>\n      <td>4.167756</td>\n      <td>4.016930</td>\n      <td>22.526185</td>\n      <td>27.847663</td>\n      <td>1</td>\n      <td>0.000000</td>\n      <td>0.000000</td>\n      <td>0.000000</td>\n      <td>0.000000</td>\n    </tr>\n    <tr>\n      <th>12</th>\n      <td>0</td>\n      <td>2</td>\n      <td>1</td>\n      <td>2010</td>\n      <td>414.0</td>\n      <td>1316.720677</td>\n      <td>17.33103</td>\n      <td>29.763540</td>\n      <td>2.198292</td>\n      <td>8.894267</td>\n      <td>...</td>\n      <td>1010.905502</td>\n      <td>4.167756</td>\n      <td>4.016930</td>\n      <td>22.526185</td>\n      <td>27.847663</td>\n      <td>5</td>\n      <td>0.153846</td>\n      <td>0.153846</td>\n      <td>0.000000</td>\n      <td>0.153846</td>\n    </tr>\n    <tr>\n      <th>16</th>\n      <td>0</td>\n      <td>6</td>\n      <td>1</td>\n      <td>2010</td>\n      <td>414.0</td>\n      <td>1619.982414</td>\n      <td>17.33103</td>\n      <td>29.763540</td>\n      <td>2.198292</td>\n      <td>8.894267</td>\n      <td>...</td>\n      <td>1010.905502</td>\n      <td>4.167756</td>\n      <td>4.016930</td>\n      <td>22.526185</td>\n      <td>27.847663</td>\n      <td>0</td>\n      <td>0.266667</td>\n      <td>0.233333</td>\n      <td>0.000000</td>\n      <td>0.250000</td>\n    </tr>\n    <tr>\n      <th>17</th>\n      <td>0</td>\n      <td>6</td>\n      <td>1</td>\n      <td>2010</td>\n      <td>414.0</td>\n      <td>1619.982414</td>\n      <td>17.33103</td>\n      <td>29.763540</td>\n      <td>2.198292</td>\n      <td>8.894267</td>\n      <td>...</td>\n      <td>1010.905502</td>\n      <td>4.167756</td>\n      <td>4.016930</td>\n      <td>22.526185</td>\n      <td>27.847663</td>\n      <td>1</td>\n      <td>0.053191</td>\n      <td>0.031915</td>\n      <td>0.000000</td>\n      <td>0.042553</td>\n    </tr>\n    <tr>\n      <th>18</th>\n      <td>0</td>\n      <td>6</td>\n      <td>1</td>\n      <td>2010</td>\n      <td>414.0</td>\n      <td>1619.982414</td>\n      <td>17.33103</td>\n      <td>29.763540</td>\n      <td>2.198292</td>\n      <td>8.894267</td>\n      <td>...</td>\n      <td>1010.905502</td>\n      <td>4.167756</td>\n      <td>4.016930</td>\n      <td>22.526185</td>\n      <td>27.847663</td>\n      <td>6</td>\n      <td>0.064516</td>\n      <td>0.064516</td>\n      <td>0.000000</td>\n      <td>0.064516</td>\n    </tr>\n    <tr>\n      <th>...</th>\n      <td>...</td>\n      <td>...</td>\n      <td>...</td>\n      <td>...</td>\n      <td>...</td>\n      <td>...</td>\n      <td>...</td>\n      <td>...</td>\n      <td>...</td>\n      <td>...</td>\n      <td>...</td>\n      <td>...</td>\n      <td>...</td>\n      <td>...</td>\n      <td>...</td>\n      <td>...</td>\n      <td>...</td>\n      <td>...</td>\n      <td>...</td>\n      <td>...</td>\n      <td>...</td>\n    </tr>\n    <tr>\n      <th>30093</th>\n      <td>39</td>\n      <td>9</td>\n      <td>6</td>\n      <td>2017</td>\n      <td>20941.0</td>\n      <td>284.013192</td>\n      <td>7.14584</td>\n      <td>18.217691</td>\n      <td>1.944638</td>\n      <td>2.741813</td>\n      <td>...</td>\n      <td>1023.486260</td>\n      <td>4.872945</td>\n      <td>5.115312</td>\n      <td>11.379967</td>\n      <td>16.965475</td>\n      <td>3</td>\n      <td>0.066667</td>\n      <td>0.066667</td>\n      <td>0.044444</td>\n      <td>0.066667</td>\n    </tr>\n    <tr>\n      <th>30094</th>\n      <td>39</td>\n      <td>37</td>\n      <td>6</td>\n      <td>2017</td>\n      <td>21097.0</td>\n      <td>1691.132106</td>\n      <td>7.14584</td>\n      <td>18.217691</td>\n      <td>1.944638</td>\n      <td>2.741813</td>\n      <td>...</td>\n      <td>1023.486260</td>\n      <td>4.872945</td>\n      <td>5.115312</td>\n      <td>11.379967</td>\n      <td>16.965475</td>\n      <td>0</td>\n      <td>0.500000</td>\n      <td>0.300000</td>\n      <td>0.000000</td>\n      <td>0.400000</td>\n    </tr>\n    <tr>\n      <th>30095</th>\n      <td>39</td>\n      <td>37</td>\n      <td>6</td>\n      <td>2017</td>\n      <td>21097.0</td>\n      <td>1691.132106</td>\n      <td>7.14584</td>\n      <td>18.217691</td>\n      <td>1.944638</td>\n      <td>2.741813</td>\n      <td>...</td>\n      <td>1023.486260</td>\n      <td>4.872945</td>\n      <td>5.115312</td>\n      <td>11.379967</td>\n      <td>16.965475</td>\n      <td>6</td>\n      <td>0.263158</td>\n      <td>0.210526</td>\n      <td>0.000000</td>\n      <td>0.236842</td>\n    </tr>\n    <tr>\n      <th>30096</th>\n      <td>40</td>\n      <td>37</td>\n      <td>6</td>\n      <td>2017</td>\n      <td>26286.0</td>\n      <td>365.844014</td>\n      <td>7.14584</td>\n      <td>18.217691</td>\n      <td>1.944638</td>\n      <td>2.741813</td>\n      <td>...</td>\n      <td>1023.486260</td>\n      <td>4.872945</td>\n      <td>5.115312</td>\n      <td>11.379967</td>\n      <td>16.965475</td>\n      <td>2</td>\n      <td>0.187500</td>\n      <td>0.178571</td>\n      <td>0.026786</td>\n      <td>0.183036</td>\n    </tr>\n    <tr>\n      <th>30097</th>\n      <td>40</td>\n      <td>37</td>\n      <td>6</td>\n      <td>2017</td>\n      <td>26286.0</td>\n      <td>365.844014</td>\n      <td>7.14584</td>\n      <td>18.217691</td>\n      <td>1.944638</td>\n      <td>2.741813</td>\n      <td>...</td>\n      <td>1023.486260</td>\n      <td>4.872945</td>\n      <td>5.115312</td>\n      <td>11.379967</td>\n      <td>16.965475</td>\n      <td>3</td>\n      <td>0.164062</td>\n      <td>0.234375</td>\n      <td>0.046875</td>\n      <td>0.199219</td>\n    </tr>\n  </tbody>\n</table>\n<p>30116 rows × 27 columns</p>\n</div>"
     },
     "execution_count": 244,
     "metadata": {},
     "output_type": "execute_result"
    }
   ],
   "source": [
    "processed_data"
   ],
   "metadata": {
    "collapsed": false,
    "ExecuteTime": {
     "end_time": "2024-09-29T02:52:50.241769600Z",
     "start_time": "2024-09-29T02:52:49.752164300Z"
    }
   }
  },
  {
   "cell_type": "markdown",
   "source": [
    "## Create date column and make it the index.\n",
    "Also, delete \"Month\" and \"Year\" columns."
   ],
   "metadata": {
    "collapsed": false
   }
  },
  {
   "cell_type": "code",
   "execution_count": 245,
   "outputs": [],
   "source": [
    "processed_data[\"Date\"] = processed_data[\"Year\"].astype(\"str\") + \"-\" + processed_data[\"Month\"].astype(\"str\") + \"-1\"\n",
    "processed_data[\"Date\"] = pd.to_datetime(processed_data[\"Date\"])"
   ],
   "metadata": {
    "collapsed": false,
    "ExecuteTime": {
     "end_time": "2024-09-29T02:52:50.241769600Z",
     "start_time": "2024-09-29T02:52:49.837566900Z"
    }
   }
  },
  {
   "cell_type": "code",
   "execution_count": 246,
   "outputs": [],
   "source": [
    "processed_data = processed_data.set_index(processed_data[\"Date\"])"
   ],
   "metadata": {
    "collapsed": false,
    "ExecuteTime": {
     "end_time": "2024-09-29T02:52:50.241769600Z",
     "start_time": "2024-09-29T02:52:49.909374Z"
    }
   }
  },
  {
   "cell_type": "code",
   "execution_count": 247,
   "outputs": [],
   "source": [
    "del processed_data[\"Month\"]\n",
    "del processed_data[\"Year\"]"
   ],
   "metadata": {
    "collapsed": false,
    "ExecuteTime": {
     "end_time": "2024-09-29T02:52:50.241769600Z",
     "start_time": "2024-09-29T02:52:49.935824900Z"
    }
   }
  },
  {
   "cell_type": "code",
   "execution_count": 248,
   "outputs": [
    {
     "data": {
      "text/plain": "            Departing_Port  Arriving_Port  Average_Fare     Distance  \\\nDate                                                                   \n2010-01-01               0              2         414.0  1316.720677   \n2010-01-01               0              2         414.0  1316.720677   \n2010-01-01               0              6         414.0  1619.982414   \n2010-01-01               0              6         414.0  1619.982414   \n2010-01-01               0              6         414.0  1619.982414   \n...                    ...            ...           ...          ...   \n2017-06-01              39              9       20941.0   284.013192   \n2017-06-01              39             37       21097.0  1691.132106   \n2017-06-01              39             37       21097.0  1691.132106   \n2017-06-01              40             37       26286.0   365.844014   \n2017-06-01              40             37       26286.0   365.844014   \n\n             MinTemp    MaxTemp  Rainfall  Evaporation  Sunshine  \\\nDate                                                               \n2010-01-01  17.33103  29.763540  2.198292     8.894267  9.385116   \n2010-01-01  17.33103  29.763540  2.198292     8.894267  9.385116   \n2010-01-01  17.33103  29.763540  2.198292     8.894267  9.385116   \n2010-01-01  17.33103  29.763540  2.198292     8.894267  9.385116   \n2010-01-01  17.33103  29.763540  2.198292     8.894267  9.385116   \n...              ...        ...       ...          ...       ...   \n2017-06-01   7.14584  18.217691  1.944638     2.741813  6.264984   \n2017-06-01   7.14584  18.217691  1.944638     2.741813  6.264984   \n2017-06-01   7.14584  18.217691  1.944638     2.741813  6.264984   \n2017-06-01   7.14584  18.217691  1.944638     2.741813  6.264984   \n2017-06-01   7.14584  18.217691  1.944638     2.741813  6.264984   \n\n            WindGustSpeed  ...  Cloud9am  Cloud3pm    Temp9am    Temp3pm  \\\nDate                       ...                                             \n2010-01-01      43.838095  ...  4.167756  4.016930  22.526185  27.847663   \n2010-01-01      43.838095  ...  4.167756  4.016930  22.526185  27.847663   \n2010-01-01      43.838095  ...  4.167756  4.016930  22.526185  27.847663   \n2010-01-01      43.838095  ...  4.167756  4.016930  22.526185  27.847663   \n2010-01-01      43.838095  ...  4.167756  4.016930  22.526185  27.847663   \n...                   ...  ...       ...       ...        ...        ...   \n2017-06-01      31.617153  ...  4.872945  5.115312  11.379967  16.965475   \n2017-06-01      31.617153  ...  4.872945  5.115312  11.379967  16.965475   \n2017-06-01      31.617153  ...  4.872945  5.115312  11.379967  16.965475   \n2017-06-01      31.617153  ...  4.872945  5.115312  11.379967  16.965475   \n2017-06-01      31.617153  ...  4.872945  5.115312  11.379967  16.965475   \n\n            Airline  Departure_Delays_%  Arrival_Delays_%  Cancellations_%  \\\nDate                                                                         \n2010-01-01        1            0.000000          0.000000         0.000000   \n2010-01-01        5            0.153846          0.153846         0.000000   \n2010-01-01        0            0.266667          0.233333         0.000000   \n2010-01-01        1            0.053191          0.031915         0.000000   \n2010-01-01        6            0.064516          0.064516         0.000000   \n...             ...                 ...               ...              ...   \n2017-06-01        3            0.066667          0.066667         0.044444   \n2017-06-01        0            0.500000          0.300000         0.000000   \n2017-06-01        6            0.263158          0.210526         0.000000   \n2017-06-01        2            0.187500          0.178571         0.026786   \n2017-06-01        3            0.164062          0.234375         0.046875   \n\n            Average_Delay_%       Date  \nDate                                    \n2010-01-01         0.000000 2010-01-01  \n2010-01-01         0.153846 2010-01-01  \n2010-01-01         0.250000 2010-01-01  \n2010-01-01         0.042553 2010-01-01  \n2010-01-01         0.064516 2010-01-01  \n...                     ...        ...  \n2017-06-01         0.066667 2017-06-01  \n2017-06-01         0.400000 2017-06-01  \n2017-06-01         0.236842 2017-06-01  \n2017-06-01         0.183036 2017-06-01  \n2017-06-01         0.199219 2017-06-01  \n\n[30116 rows x 26 columns]",
      "text/html": "<div>\n<style scoped>\n    .dataframe tbody tr th:only-of-type {\n        vertical-align: middle;\n    }\n\n    .dataframe tbody tr th {\n        vertical-align: top;\n    }\n\n    .dataframe thead th {\n        text-align: right;\n    }\n</style>\n<table border=\"1\" class=\"dataframe\">\n  <thead>\n    <tr style=\"text-align: right;\">\n      <th></th>\n      <th>Departing_Port</th>\n      <th>Arriving_Port</th>\n      <th>Average_Fare</th>\n      <th>Distance</th>\n      <th>MinTemp</th>\n      <th>MaxTemp</th>\n      <th>Rainfall</th>\n      <th>Evaporation</th>\n      <th>Sunshine</th>\n      <th>WindGustSpeed</th>\n      <th>...</th>\n      <th>Cloud9am</th>\n      <th>Cloud3pm</th>\n      <th>Temp9am</th>\n      <th>Temp3pm</th>\n      <th>Airline</th>\n      <th>Departure_Delays_%</th>\n      <th>Arrival_Delays_%</th>\n      <th>Cancellations_%</th>\n      <th>Average_Delay_%</th>\n      <th>Date</th>\n    </tr>\n    <tr>\n      <th>Date</th>\n      <th></th>\n      <th></th>\n      <th></th>\n      <th></th>\n      <th></th>\n      <th></th>\n      <th></th>\n      <th></th>\n      <th></th>\n      <th></th>\n      <th></th>\n      <th></th>\n      <th></th>\n      <th></th>\n      <th></th>\n      <th></th>\n      <th></th>\n      <th></th>\n      <th></th>\n      <th></th>\n      <th></th>\n    </tr>\n  </thead>\n  <tbody>\n    <tr>\n      <th>2010-01-01</th>\n      <td>0</td>\n      <td>2</td>\n      <td>414.0</td>\n      <td>1316.720677</td>\n      <td>17.33103</td>\n      <td>29.763540</td>\n      <td>2.198292</td>\n      <td>8.894267</td>\n      <td>9.385116</td>\n      <td>43.838095</td>\n      <td>...</td>\n      <td>4.167756</td>\n      <td>4.016930</td>\n      <td>22.526185</td>\n      <td>27.847663</td>\n      <td>1</td>\n      <td>0.000000</td>\n      <td>0.000000</td>\n      <td>0.000000</td>\n      <td>0.000000</td>\n      <td>2010-01-01</td>\n    </tr>\n    <tr>\n      <th>2010-01-01</th>\n      <td>0</td>\n      <td>2</td>\n      <td>414.0</td>\n      <td>1316.720677</td>\n      <td>17.33103</td>\n      <td>29.763540</td>\n      <td>2.198292</td>\n      <td>8.894267</td>\n      <td>9.385116</td>\n      <td>43.838095</td>\n      <td>...</td>\n      <td>4.167756</td>\n      <td>4.016930</td>\n      <td>22.526185</td>\n      <td>27.847663</td>\n      <td>5</td>\n      <td>0.153846</td>\n      <td>0.153846</td>\n      <td>0.000000</td>\n      <td>0.153846</td>\n      <td>2010-01-01</td>\n    </tr>\n    <tr>\n      <th>2010-01-01</th>\n      <td>0</td>\n      <td>6</td>\n      <td>414.0</td>\n      <td>1619.982414</td>\n      <td>17.33103</td>\n      <td>29.763540</td>\n      <td>2.198292</td>\n      <td>8.894267</td>\n      <td>9.385116</td>\n      <td>43.838095</td>\n      <td>...</td>\n      <td>4.167756</td>\n      <td>4.016930</td>\n      <td>22.526185</td>\n      <td>27.847663</td>\n      <td>0</td>\n      <td>0.266667</td>\n      <td>0.233333</td>\n      <td>0.000000</td>\n      <td>0.250000</td>\n      <td>2010-01-01</td>\n    </tr>\n    <tr>\n      <th>2010-01-01</th>\n      <td>0</td>\n      <td>6</td>\n      <td>414.0</td>\n      <td>1619.982414</td>\n      <td>17.33103</td>\n      <td>29.763540</td>\n      <td>2.198292</td>\n      <td>8.894267</td>\n      <td>9.385116</td>\n      <td>43.838095</td>\n      <td>...</td>\n      <td>4.167756</td>\n      <td>4.016930</td>\n      <td>22.526185</td>\n      <td>27.847663</td>\n      <td>1</td>\n      <td>0.053191</td>\n      <td>0.031915</td>\n      <td>0.000000</td>\n      <td>0.042553</td>\n      <td>2010-01-01</td>\n    </tr>\n    <tr>\n      <th>2010-01-01</th>\n      <td>0</td>\n      <td>6</td>\n      <td>414.0</td>\n      <td>1619.982414</td>\n      <td>17.33103</td>\n      <td>29.763540</td>\n      <td>2.198292</td>\n      <td>8.894267</td>\n      <td>9.385116</td>\n      <td>43.838095</td>\n      <td>...</td>\n      <td>4.167756</td>\n      <td>4.016930</td>\n      <td>22.526185</td>\n      <td>27.847663</td>\n      <td>6</td>\n      <td>0.064516</td>\n      <td>0.064516</td>\n      <td>0.000000</td>\n      <td>0.064516</td>\n      <td>2010-01-01</td>\n    </tr>\n    <tr>\n      <th>...</th>\n      <td>...</td>\n      <td>...</td>\n      <td>...</td>\n      <td>...</td>\n      <td>...</td>\n      <td>...</td>\n      <td>...</td>\n      <td>...</td>\n      <td>...</td>\n      <td>...</td>\n      <td>...</td>\n      <td>...</td>\n      <td>...</td>\n      <td>...</td>\n      <td>...</td>\n      <td>...</td>\n      <td>...</td>\n      <td>...</td>\n      <td>...</td>\n      <td>...</td>\n      <td>...</td>\n    </tr>\n    <tr>\n      <th>2017-06-01</th>\n      <td>39</td>\n      <td>9</td>\n      <td>20941.0</td>\n      <td>284.013192</td>\n      <td>7.14584</td>\n      <td>18.217691</td>\n      <td>1.944638</td>\n      <td>2.741813</td>\n      <td>6.264984</td>\n      <td>31.617153</td>\n      <td>...</td>\n      <td>4.872945</td>\n      <td>5.115312</td>\n      <td>11.379967</td>\n      <td>16.965475</td>\n      <td>3</td>\n      <td>0.066667</td>\n      <td>0.066667</td>\n      <td>0.044444</td>\n      <td>0.066667</td>\n      <td>2017-06-01</td>\n    </tr>\n    <tr>\n      <th>2017-06-01</th>\n      <td>39</td>\n      <td>37</td>\n      <td>21097.0</td>\n      <td>1691.132106</td>\n      <td>7.14584</td>\n      <td>18.217691</td>\n      <td>1.944638</td>\n      <td>2.741813</td>\n      <td>6.264984</td>\n      <td>31.617153</td>\n      <td>...</td>\n      <td>4.872945</td>\n      <td>5.115312</td>\n      <td>11.379967</td>\n      <td>16.965475</td>\n      <td>0</td>\n      <td>0.500000</td>\n      <td>0.300000</td>\n      <td>0.000000</td>\n      <td>0.400000</td>\n      <td>2017-06-01</td>\n    </tr>\n    <tr>\n      <th>2017-06-01</th>\n      <td>39</td>\n      <td>37</td>\n      <td>21097.0</td>\n      <td>1691.132106</td>\n      <td>7.14584</td>\n      <td>18.217691</td>\n      <td>1.944638</td>\n      <td>2.741813</td>\n      <td>6.264984</td>\n      <td>31.617153</td>\n      <td>...</td>\n      <td>4.872945</td>\n      <td>5.115312</td>\n      <td>11.379967</td>\n      <td>16.965475</td>\n      <td>6</td>\n      <td>0.263158</td>\n      <td>0.210526</td>\n      <td>0.000000</td>\n      <td>0.236842</td>\n      <td>2017-06-01</td>\n    </tr>\n    <tr>\n      <th>2017-06-01</th>\n      <td>40</td>\n      <td>37</td>\n      <td>26286.0</td>\n      <td>365.844014</td>\n      <td>7.14584</td>\n      <td>18.217691</td>\n      <td>1.944638</td>\n      <td>2.741813</td>\n      <td>6.264984</td>\n      <td>31.617153</td>\n      <td>...</td>\n      <td>4.872945</td>\n      <td>5.115312</td>\n      <td>11.379967</td>\n      <td>16.965475</td>\n      <td>2</td>\n      <td>0.187500</td>\n      <td>0.178571</td>\n      <td>0.026786</td>\n      <td>0.183036</td>\n      <td>2017-06-01</td>\n    </tr>\n    <tr>\n      <th>2017-06-01</th>\n      <td>40</td>\n      <td>37</td>\n      <td>26286.0</td>\n      <td>365.844014</td>\n      <td>7.14584</td>\n      <td>18.217691</td>\n      <td>1.944638</td>\n      <td>2.741813</td>\n      <td>6.264984</td>\n      <td>31.617153</td>\n      <td>...</td>\n      <td>4.872945</td>\n      <td>5.115312</td>\n      <td>11.379967</td>\n      <td>16.965475</td>\n      <td>3</td>\n      <td>0.164062</td>\n      <td>0.234375</td>\n      <td>0.046875</td>\n      <td>0.199219</td>\n      <td>2017-06-01</td>\n    </tr>\n  </tbody>\n</table>\n<p>30116 rows × 26 columns</p>\n</div>"
     },
     "execution_count": 248,
     "metadata": {},
     "output_type": "execute_result"
    }
   ],
   "source": [
    "processed_data"
   ],
   "metadata": {
    "collapsed": false,
    "ExecuteTime": {
     "end_time": "2024-09-29T02:52:50.242765800Z",
     "start_time": "2024-09-29T02:52:49.961755Z"
    }
   }
  },
  {
   "cell_type": "markdown",
   "source": [
    "## Normalise the data to a value range of 0-1 (for continuous variables)"
   ],
   "metadata": {
    "collapsed": false
   }
  },
  {
   "cell_type": "code",
   "execution_count": 249,
   "outputs": [
    {
     "data": {
      "text/plain": "            Departing_Port  Arriving_Port  Average_Fare  Distance   MinTemp  \\\nDate                                                                          \n2010-01-01               0              2     -0.978964 -0.359004  0.856267   \n2010-01-01               0              2     -0.978964 -0.359004  0.856267   \n2010-01-01               0              6     -0.978964 -0.179102  0.856267   \n2010-01-01               0              6     -0.978964 -0.179102  0.856267   \n2010-01-01               0              6     -0.978964 -0.179102  0.856267   \n...                    ...            ...           ...       ...       ...   \n2017-06-01              39              9      0.064021 -0.971632 -0.866654   \n2017-06-01              39             37      0.071948 -0.136894 -0.866654   \n2017-06-01              39             37      0.071948 -0.136894 -0.866654   \n2017-06-01              40             37      0.335603 -0.923088 -0.866654   \n2017-06-01              40             37      0.335603 -0.923088 -0.866654   \n\n             MaxTemp  Rainfall  Evaporation  Sunshine  WindGustSpeed  ...  \\\nDate                                                                  ...   \n2010-01-01  0.933268 -0.270139     0.796919  0.863890       0.647422  ...   \n2010-01-01  0.933268 -0.270139     0.796919  0.863890       0.647422  ...   \n2010-01-01  0.933268 -0.270139     0.796919  0.863890       0.647422  ...   \n2010-01-01  0.933268 -0.270139     0.796919  0.863890       0.647422  ...   \n2010-01-01  0.933268 -0.270139     0.796919  0.863890       0.647422  ...   \n...              ...       ...          ...       ...            ...  ...   \n2017-06-01 -0.722034 -0.402846    -0.859416 -0.561166      -1.000000  ...   \n2017-06-01 -0.722034 -0.402846    -0.859416 -0.561166      -1.000000  ...   \n2017-06-01 -0.722034 -0.402846    -0.859416 -0.561166      -1.000000  ...   \n2017-06-01 -0.722034 -0.402846    -0.859416 -0.561166      -1.000000  ...   \n2017-06-01 -0.722034 -0.402846    -0.859416 -0.561166      -1.000000  ...   \n\n            Cloud9am  Cloud3pm  Temp9am   Temp3pm  Airline  \\\nDate                                                         \n2010-01-01 -0.492710 -0.672732  0.92875  0.924884        1   \n2010-01-01 -0.492710 -0.672732  0.92875  0.924884        5   \n2010-01-01 -0.492710 -0.672732  0.92875  0.924884        0   \n2010-01-01 -0.492710 -0.672732  0.92875  0.924884        1   \n2010-01-01 -0.492710 -0.672732  0.92875  0.924884        6   \n...              ...       ...      ...       ...      ...   \n2017-06-01  0.281368  0.353538 -0.81970 -0.730708        3   \n2017-06-01  0.281368  0.353538 -0.81970 -0.730708        0   \n2017-06-01  0.281368  0.353538 -0.81970 -0.730708        6   \n2017-06-01  0.281368  0.353538 -0.81970 -0.730708        2   \n2017-06-01  0.281368  0.353538 -0.81970 -0.730708        3   \n\n            Departure_Delays_%  Arrival_Delays_%  Cancellations_%  \\\nDate                                                                \n2010-01-01           -1.000000         -1.000000        -1.000000   \n2010-01-01           -0.692308         -0.692308        -1.000000   \n2010-01-01           -0.466667         -0.533333        -1.000000   \n2010-01-01           -0.893617         -0.936170        -1.000000   \n2010-01-01           -0.870968         -0.870968        -1.000000   \n...                        ...               ...              ...   \n2017-06-01           -0.866667         -0.866667        -0.878014   \n2017-06-01            0.000000         -0.400000        -1.000000   \n2017-06-01           -0.473684         -0.578947        -1.000000   \n2017-06-01           -0.625000         -0.642857        -0.926482   \n2017-06-01           -0.671875         -0.531250        -0.871343   \n\n            Average_Delay_%       Date  \nDate                                    \n2010-01-01        -1.000000 2010-01-01  \n2010-01-01        -0.692308 2010-01-01  \n2010-01-01        -0.500000 2010-01-01  \n2010-01-01        -0.914894 2010-01-01  \n2010-01-01        -0.870968 2010-01-01  \n...                     ...        ...  \n2017-06-01        -0.866667 2017-06-01  \n2017-06-01        -0.200000 2017-06-01  \n2017-06-01        -0.526316 2017-06-01  \n2017-06-01        -0.633929 2017-06-01  \n2017-06-01        -0.601562 2017-06-01  \n\n[30116 rows x 26 columns]",
      "text/html": "<div>\n<style scoped>\n    .dataframe tbody tr th:only-of-type {\n        vertical-align: middle;\n    }\n\n    .dataframe tbody tr th {\n        vertical-align: top;\n    }\n\n    .dataframe thead th {\n        text-align: right;\n    }\n</style>\n<table border=\"1\" class=\"dataframe\">\n  <thead>\n    <tr style=\"text-align: right;\">\n      <th></th>\n      <th>Departing_Port</th>\n      <th>Arriving_Port</th>\n      <th>Average_Fare</th>\n      <th>Distance</th>\n      <th>MinTemp</th>\n      <th>MaxTemp</th>\n      <th>Rainfall</th>\n      <th>Evaporation</th>\n      <th>Sunshine</th>\n      <th>WindGustSpeed</th>\n      <th>...</th>\n      <th>Cloud9am</th>\n      <th>Cloud3pm</th>\n      <th>Temp9am</th>\n      <th>Temp3pm</th>\n      <th>Airline</th>\n      <th>Departure_Delays_%</th>\n      <th>Arrival_Delays_%</th>\n      <th>Cancellations_%</th>\n      <th>Average_Delay_%</th>\n      <th>Date</th>\n    </tr>\n    <tr>\n      <th>Date</th>\n      <th></th>\n      <th></th>\n      <th></th>\n      <th></th>\n      <th></th>\n      <th></th>\n      <th></th>\n      <th></th>\n      <th></th>\n      <th></th>\n      <th></th>\n      <th></th>\n      <th></th>\n      <th></th>\n      <th></th>\n      <th></th>\n      <th></th>\n      <th></th>\n      <th></th>\n      <th></th>\n      <th></th>\n    </tr>\n  </thead>\n  <tbody>\n    <tr>\n      <th>2010-01-01</th>\n      <td>0</td>\n      <td>2</td>\n      <td>-0.978964</td>\n      <td>-0.359004</td>\n      <td>0.856267</td>\n      <td>0.933268</td>\n      <td>-0.270139</td>\n      <td>0.796919</td>\n      <td>0.863890</td>\n      <td>0.647422</td>\n      <td>...</td>\n      <td>-0.492710</td>\n      <td>-0.672732</td>\n      <td>0.92875</td>\n      <td>0.924884</td>\n      <td>1</td>\n      <td>-1.000000</td>\n      <td>-1.000000</td>\n      <td>-1.000000</td>\n      <td>-1.000000</td>\n      <td>2010-01-01</td>\n    </tr>\n    <tr>\n      <th>2010-01-01</th>\n      <td>0</td>\n      <td>2</td>\n      <td>-0.978964</td>\n      <td>-0.359004</td>\n      <td>0.856267</td>\n      <td>0.933268</td>\n      <td>-0.270139</td>\n      <td>0.796919</td>\n      <td>0.863890</td>\n      <td>0.647422</td>\n      <td>...</td>\n      <td>-0.492710</td>\n      <td>-0.672732</td>\n      <td>0.92875</td>\n      <td>0.924884</td>\n      <td>5</td>\n      <td>-0.692308</td>\n      <td>-0.692308</td>\n      <td>-1.000000</td>\n      <td>-0.692308</td>\n      <td>2010-01-01</td>\n    </tr>\n    <tr>\n      <th>2010-01-01</th>\n      <td>0</td>\n      <td>6</td>\n      <td>-0.978964</td>\n      <td>-0.179102</td>\n      <td>0.856267</td>\n      <td>0.933268</td>\n      <td>-0.270139</td>\n      <td>0.796919</td>\n      <td>0.863890</td>\n      <td>0.647422</td>\n      <td>...</td>\n      <td>-0.492710</td>\n      <td>-0.672732</td>\n      <td>0.92875</td>\n      <td>0.924884</td>\n      <td>0</td>\n      <td>-0.466667</td>\n      <td>-0.533333</td>\n      <td>-1.000000</td>\n      <td>-0.500000</td>\n      <td>2010-01-01</td>\n    </tr>\n    <tr>\n      <th>2010-01-01</th>\n      <td>0</td>\n      <td>6</td>\n      <td>-0.978964</td>\n      <td>-0.179102</td>\n      <td>0.856267</td>\n      <td>0.933268</td>\n      <td>-0.270139</td>\n      <td>0.796919</td>\n      <td>0.863890</td>\n      <td>0.647422</td>\n      <td>...</td>\n      <td>-0.492710</td>\n      <td>-0.672732</td>\n      <td>0.92875</td>\n      <td>0.924884</td>\n      <td>1</td>\n      <td>-0.893617</td>\n      <td>-0.936170</td>\n      <td>-1.000000</td>\n      <td>-0.914894</td>\n      <td>2010-01-01</td>\n    </tr>\n    <tr>\n      <th>2010-01-01</th>\n      <td>0</td>\n      <td>6</td>\n      <td>-0.978964</td>\n      <td>-0.179102</td>\n      <td>0.856267</td>\n      <td>0.933268</td>\n      <td>-0.270139</td>\n      <td>0.796919</td>\n      <td>0.863890</td>\n      <td>0.647422</td>\n      <td>...</td>\n      <td>-0.492710</td>\n      <td>-0.672732</td>\n      <td>0.92875</td>\n      <td>0.924884</td>\n      <td>6</td>\n      <td>-0.870968</td>\n      <td>-0.870968</td>\n      <td>-1.000000</td>\n      <td>-0.870968</td>\n      <td>2010-01-01</td>\n    </tr>\n    <tr>\n      <th>...</th>\n      <td>...</td>\n      <td>...</td>\n      <td>...</td>\n      <td>...</td>\n      <td>...</td>\n      <td>...</td>\n      <td>...</td>\n      <td>...</td>\n      <td>...</td>\n      <td>...</td>\n      <td>...</td>\n      <td>...</td>\n      <td>...</td>\n      <td>...</td>\n      <td>...</td>\n      <td>...</td>\n      <td>...</td>\n      <td>...</td>\n      <td>...</td>\n      <td>...</td>\n      <td>...</td>\n    </tr>\n    <tr>\n      <th>2017-06-01</th>\n      <td>39</td>\n      <td>9</td>\n      <td>0.064021</td>\n      <td>-0.971632</td>\n      <td>-0.866654</td>\n      <td>-0.722034</td>\n      <td>-0.402846</td>\n      <td>-0.859416</td>\n      <td>-0.561166</td>\n      <td>-1.000000</td>\n      <td>...</td>\n      <td>0.281368</td>\n      <td>0.353538</td>\n      <td>-0.81970</td>\n      <td>-0.730708</td>\n      <td>3</td>\n      <td>-0.866667</td>\n      <td>-0.866667</td>\n      <td>-0.878014</td>\n      <td>-0.866667</td>\n      <td>2017-06-01</td>\n    </tr>\n    <tr>\n      <th>2017-06-01</th>\n      <td>39</td>\n      <td>37</td>\n      <td>0.071948</td>\n      <td>-0.136894</td>\n      <td>-0.866654</td>\n      <td>-0.722034</td>\n      <td>-0.402846</td>\n      <td>-0.859416</td>\n      <td>-0.561166</td>\n      <td>-1.000000</td>\n      <td>...</td>\n      <td>0.281368</td>\n      <td>0.353538</td>\n      <td>-0.81970</td>\n      <td>-0.730708</td>\n      <td>0</td>\n      <td>0.000000</td>\n      <td>-0.400000</td>\n      <td>-1.000000</td>\n      <td>-0.200000</td>\n      <td>2017-06-01</td>\n    </tr>\n    <tr>\n      <th>2017-06-01</th>\n      <td>39</td>\n      <td>37</td>\n      <td>0.071948</td>\n      <td>-0.136894</td>\n      <td>-0.866654</td>\n      <td>-0.722034</td>\n      <td>-0.402846</td>\n      <td>-0.859416</td>\n      <td>-0.561166</td>\n      <td>-1.000000</td>\n      <td>...</td>\n      <td>0.281368</td>\n      <td>0.353538</td>\n      <td>-0.81970</td>\n      <td>-0.730708</td>\n      <td>6</td>\n      <td>-0.473684</td>\n      <td>-0.578947</td>\n      <td>-1.000000</td>\n      <td>-0.526316</td>\n      <td>2017-06-01</td>\n    </tr>\n    <tr>\n      <th>2017-06-01</th>\n      <td>40</td>\n      <td>37</td>\n      <td>0.335603</td>\n      <td>-0.923088</td>\n      <td>-0.866654</td>\n      <td>-0.722034</td>\n      <td>-0.402846</td>\n      <td>-0.859416</td>\n      <td>-0.561166</td>\n      <td>-1.000000</td>\n      <td>...</td>\n      <td>0.281368</td>\n      <td>0.353538</td>\n      <td>-0.81970</td>\n      <td>-0.730708</td>\n      <td>2</td>\n      <td>-0.625000</td>\n      <td>-0.642857</td>\n      <td>-0.926482</td>\n      <td>-0.633929</td>\n      <td>2017-06-01</td>\n    </tr>\n    <tr>\n      <th>2017-06-01</th>\n      <td>40</td>\n      <td>37</td>\n      <td>0.335603</td>\n      <td>-0.923088</td>\n      <td>-0.866654</td>\n      <td>-0.722034</td>\n      <td>-0.402846</td>\n      <td>-0.859416</td>\n      <td>-0.561166</td>\n      <td>-1.000000</td>\n      <td>...</td>\n      <td>0.281368</td>\n      <td>0.353538</td>\n      <td>-0.81970</td>\n      <td>-0.730708</td>\n      <td>3</td>\n      <td>-0.671875</td>\n      <td>-0.531250</td>\n      <td>-0.871343</td>\n      <td>-0.601562</td>\n      <td>2017-06-01</td>\n    </tr>\n  </tbody>\n</table>\n<p>30116 rows × 26 columns</p>\n</div>"
     },
     "execution_count": 249,
     "metadata": {},
     "output_type": "execute_result"
    }
   ],
   "source": [
    "from sklearn.preprocessing import MinMaxScaler\n",
    "scaler = MinMaxScaler(feature_range=(-1, 1))\n",
    "\n",
    "continuous_features = processed_data.select_dtypes(\"float\").columns.values\n",
    "\n",
    "processed_data[continuous_features] = scaler.fit_transform(processed_data[continuous_features])\n",
    "processed_data"
   ],
   "metadata": {
    "collapsed": false,
    "ExecuteTime": {
     "end_time": "2024-09-29T02:52:50.400787900Z",
     "start_time": "2024-09-29T02:52:50.038073Z"
    }
   }
  },
  {
   "cell_type": "code",
   "execution_count": 250,
   "outputs": [],
   "source": [
    "import torch\n",
    "from torch.utils.data import Dataset, DataLoader"
   ],
   "metadata": {
    "collapsed": false,
    "ExecuteTime": {
     "end_time": "2024-09-29T02:52:50.442935100Z",
     "start_time": "2024-09-29T02:52:50.290513500Z"
    }
   }
  },
  {
   "cell_type": "markdown",
   "source": [
    "# Remove Input Features which add dimensionality"
   ],
   "metadata": {
    "collapsed": false
   }
  },
  {
   "cell_type": "code",
   "execution_count": 251,
   "outputs": [],
   "source": [
    "processed_data_stripped = processed_data.copy()"
   ],
   "metadata": {
    "collapsed": false,
    "ExecuteTime": {
     "end_time": "2024-09-29T02:52:50.442935100Z",
     "start_time": "2024-09-29T02:52:50.306475600Z"
    }
   }
  },
  {
   "cell_type": "code",
   "execution_count": 252,
   "outputs": [],
   "source": [
    "del processed_data_stripped[\"Departing_Port\"]\n",
    "del processed_data_stripped[\"Arriving_Port\"]\n",
    "del processed_data_stripped[\"Airline\"]\n",
    "del processed_data_stripped[\"Distance\"]"
   ],
   "metadata": {
    "collapsed": false,
    "ExecuteTime": {
     "end_time": "2024-09-29T02:52:50.525538200Z",
     "start_time": "2024-09-29T02:52:50.320440300Z"
    }
   }
  },
  {
   "cell_type": "code",
   "execution_count": 253,
   "outputs": [
    {
     "data": {
      "text/plain": "            Average_Fare   MinTemp   MaxTemp  Rainfall  Evaporation  Sunshine  \\\nDate                                                                            \n2010-01-01     -0.978964  0.856267  0.933268 -0.270139     0.796919  0.863890   \n2010-01-01     -0.978964  0.856267  0.933268 -0.270139     0.796919  0.863890   \n2010-01-01     -0.978964  0.856267  0.933268 -0.270139     0.796919  0.863890   \n2010-01-01     -0.978964  0.856267  0.933268 -0.270139     0.796919  0.863890   \n2010-01-01     -0.978964  0.856267  0.933268 -0.270139     0.796919  0.863890   \n...                  ...       ...       ...       ...          ...       ...   \n2017-06-01      0.064021 -0.866654 -0.722034 -0.402846    -0.859416 -0.561166   \n2017-06-01      0.071948 -0.866654 -0.722034 -0.402846    -0.859416 -0.561166   \n2017-06-01      0.071948 -0.866654 -0.722034 -0.402846    -0.859416 -0.561166   \n2017-06-01      0.335603 -0.866654 -0.722034 -0.402846    -0.859416 -0.561166   \n2017-06-01      0.335603 -0.866654 -0.722034 -0.402846    -0.859416 -0.561166   \n\n            WindGustSpeed  WindSpeed9am  WindSpeed3pm  Humidity9am  ...  \\\nDate                                                                ...   \n2010-01-01       0.647422      0.372448      0.572945    -0.743469  ...   \n2010-01-01       0.647422      0.372448      0.572945    -0.743469  ...   \n2010-01-01       0.647422      0.372448      0.572945    -0.743469  ...   \n2010-01-01       0.647422      0.372448      0.572945    -0.743469  ...   \n2010-01-01       0.647422      0.372448      0.572945    -0.743469  ...   \n...                   ...           ...           ...          ...  ...   \n2017-06-01      -1.000000     -1.000000     -1.000000     0.830941  ...   \n2017-06-01      -1.000000     -1.000000     -1.000000     0.830941  ...   \n2017-06-01      -1.000000     -1.000000     -1.000000     0.830941  ...   \n2017-06-01      -1.000000     -1.000000     -1.000000     0.830941  ...   \n2017-06-01      -1.000000     -1.000000     -1.000000     0.830941  ...   \n\n            Pressure3pm  Cloud9am  Cloud3pm  Temp9am   Temp3pm  \\\nDate                                                             \n2010-01-01     -0.75723 -0.492710 -0.672732  0.92875  0.924884   \n2010-01-01     -0.75723 -0.492710 -0.672732  0.92875  0.924884   \n2010-01-01     -0.75723 -0.492710 -0.672732  0.92875  0.924884   \n2010-01-01     -0.75723 -0.492710 -0.672732  0.92875  0.924884   \n2010-01-01     -0.75723 -0.492710 -0.672732  0.92875  0.924884   \n...                 ...       ...       ...      ...       ...   \n2017-06-01      1.00000  0.281368  0.353538 -0.81970 -0.730708   \n2017-06-01      1.00000  0.281368  0.353538 -0.81970 -0.730708   \n2017-06-01      1.00000  0.281368  0.353538 -0.81970 -0.730708   \n2017-06-01      1.00000  0.281368  0.353538 -0.81970 -0.730708   \n2017-06-01      1.00000  0.281368  0.353538 -0.81970 -0.730708   \n\n            Departure_Delays_%  Arrival_Delays_%  Cancellations_%  \\\nDate                                                                \n2010-01-01           -1.000000         -1.000000        -1.000000   \n2010-01-01           -0.692308         -0.692308        -1.000000   \n2010-01-01           -0.466667         -0.533333        -1.000000   \n2010-01-01           -0.893617         -0.936170        -1.000000   \n2010-01-01           -0.870968         -0.870968        -1.000000   \n...                        ...               ...              ...   \n2017-06-01           -0.866667         -0.866667        -0.878014   \n2017-06-01            0.000000         -0.400000        -1.000000   \n2017-06-01           -0.473684         -0.578947        -1.000000   \n2017-06-01           -0.625000         -0.642857        -0.926482   \n2017-06-01           -0.671875         -0.531250        -0.871343   \n\n            Average_Delay_%       Date  \nDate                                    \n2010-01-01        -1.000000 2010-01-01  \n2010-01-01        -0.692308 2010-01-01  \n2010-01-01        -0.500000 2010-01-01  \n2010-01-01        -0.914894 2010-01-01  \n2010-01-01        -0.870968 2010-01-01  \n...                     ...        ...  \n2017-06-01        -0.866667 2017-06-01  \n2017-06-01        -0.200000 2017-06-01  \n2017-06-01        -0.526316 2017-06-01  \n2017-06-01        -0.633929 2017-06-01  \n2017-06-01        -0.601562 2017-06-01  \n\n[30116 rows x 22 columns]",
      "text/html": "<div>\n<style scoped>\n    .dataframe tbody tr th:only-of-type {\n        vertical-align: middle;\n    }\n\n    .dataframe tbody tr th {\n        vertical-align: top;\n    }\n\n    .dataframe thead th {\n        text-align: right;\n    }\n</style>\n<table border=\"1\" class=\"dataframe\">\n  <thead>\n    <tr style=\"text-align: right;\">\n      <th></th>\n      <th>Average_Fare</th>\n      <th>MinTemp</th>\n      <th>MaxTemp</th>\n      <th>Rainfall</th>\n      <th>Evaporation</th>\n      <th>Sunshine</th>\n      <th>WindGustSpeed</th>\n      <th>WindSpeed9am</th>\n      <th>WindSpeed3pm</th>\n      <th>Humidity9am</th>\n      <th>...</th>\n      <th>Pressure3pm</th>\n      <th>Cloud9am</th>\n      <th>Cloud3pm</th>\n      <th>Temp9am</th>\n      <th>Temp3pm</th>\n      <th>Departure_Delays_%</th>\n      <th>Arrival_Delays_%</th>\n      <th>Cancellations_%</th>\n      <th>Average_Delay_%</th>\n      <th>Date</th>\n    </tr>\n    <tr>\n      <th>Date</th>\n      <th></th>\n      <th></th>\n      <th></th>\n      <th></th>\n      <th></th>\n      <th></th>\n      <th></th>\n      <th></th>\n      <th></th>\n      <th></th>\n      <th></th>\n      <th></th>\n      <th></th>\n      <th></th>\n      <th></th>\n      <th></th>\n      <th></th>\n      <th></th>\n      <th></th>\n      <th></th>\n      <th></th>\n    </tr>\n  </thead>\n  <tbody>\n    <tr>\n      <th>2010-01-01</th>\n      <td>-0.978964</td>\n      <td>0.856267</td>\n      <td>0.933268</td>\n      <td>-0.270139</td>\n      <td>0.796919</td>\n      <td>0.863890</td>\n      <td>0.647422</td>\n      <td>0.372448</td>\n      <td>0.572945</td>\n      <td>-0.743469</td>\n      <td>...</td>\n      <td>-0.75723</td>\n      <td>-0.492710</td>\n      <td>-0.672732</td>\n      <td>0.92875</td>\n      <td>0.924884</td>\n      <td>-1.000000</td>\n      <td>-1.000000</td>\n      <td>-1.000000</td>\n      <td>-1.000000</td>\n      <td>2010-01-01</td>\n    </tr>\n    <tr>\n      <th>2010-01-01</th>\n      <td>-0.978964</td>\n      <td>0.856267</td>\n      <td>0.933268</td>\n      <td>-0.270139</td>\n      <td>0.796919</td>\n      <td>0.863890</td>\n      <td>0.647422</td>\n      <td>0.372448</td>\n      <td>0.572945</td>\n      <td>-0.743469</td>\n      <td>...</td>\n      <td>-0.75723</td>\n      <td>-0.492710</td>\n      <td>-0.672732</td>\n      <td>0.92875</td>\n      <td>0.924884</td>\n      <td>-0.692308</td>\n      <td>-0.692308</td>\n      <td>-1.000000</td>\n      <td>-0.692308</td>\n      <td>2010-01-01</td>\n    </tr>\n    <tr>\n      <th>2010-01-01</th>\n      <td>-0.978964</td>\n      <td>0.856267</td>\n      <td>0.933268</td>\n      <td>-0.270139</td>\n      <td>0.796919</td>\n      <td>0.863890</td>\n      <td>0.647422</td>\n      <td>0.372448</td>\n      <td>0.572945</td>\n      <td>-0.743469</td>\n      <td>...</td>\n      <td>-0.75723</td>\n      <td>-0.492710</td>\n      <td>-0.672732</td>\n      <td>0.92875</td>\n      <td>0.924884</td>\n      <td>-0.466667</td>\n      <td>-0.533333</td>\n      <td>-1.000000</td>\n      <td>-0.500000</td>\n      <td>2010-01-01</td>\n    </tr>\n    <tr>\n      <th>2010-01-01</th>\n      <td>-0.978964</td>\n      <td>0.856267</td>\n      <td>0.933268</td>\n      <td>-0.270139</td>\n      <td>0.796919</td>\n      <td>0.863890</td>\n      <td>0.647422</td>\n      <td>0.372448</td>\n      <td>0.572945</td>\n      <td>-0.743469</td>\n      <td>...</td>\n      <td>-0.75723</td>\n      <td>-0.492710</td>\n      <td>-0.672732</td>\n      <td>0.92875</td>\n      <td>0.924884</td>\n      <td>-0.893617</td>\n      <td>-0.936170</td>\n      <td>-1.000000</td>\n      <td>-0.914894</td>\n      <td>2010-01-01</td>\n    </tr>\n    <tr>\n      <th>2010-01-01</th>\n      <td>-0.978964</td>\n      <td>0.856267</td>\n      <td>0.933268</td>\n      <td>-0.270139</td>\n      <td>0.796919</td>\n      <td>0.863890</td>\n      <td>0.647422</td>\n      <td>0.372448</td>\n      <td>0.572945</td>\n      <td>-0.743469</td>\n      <td>...</td>\n      <td>-0.75723</td>\n      <td>-0.492710</td>\n      <td>-0.672732</td>\n      <td>0.92875</td>\n      <td>0.924884</td>\n      <td>-0.870968</td>\n      <td>-0.870968</td>\n      <td>-1.000000</td>\n      <td>-0.870968</td>\n      <td>2010-01-01</td>\n    </tr>\n    <tr>\n      <th>...</th>\n      <td>...</td>\n      <td>...</td>\n      <td>...</td>\n      <td>...</td>\n      <td>...</td>\n      <td>...</td>\n      <td>...</td>\n      <td>...</td>\n      <td>...</td>\n      <td>...</td>\n      <td>...</td>\n      <td>...</td>\n      <td>...</td>\n      <td>...</td>\n      <td>...</td>\n      <td>...</td>\n      <td>...</td>\n      <td>...</td>\n      <td>...</td>\n      <td>...</td>\n      <td>...</td>\n    </tr>\n    <tr>\n      <th>2017-06-01</th>\n      <td>0.064021</td>\n      <td>-0.866654</td>\n      <td>-0.722034</td>\n      <td>-0.402846</td>\n      <td>-0.859416</td>\n      <td>-0.561166</td>\n      <td>-1.000000</td>\n      <td>-1.000000</td>\n      <td>-1.000000</td>\n      <td>0.830941</td>\n      <td>...</td>\n      <td>1.00000</td>\n      <td>0.281368</td>\n      <td>0.353538</td>\n      <td>-0.81970</td>\n      <td>-0.730708</td>\n      <td>-0.866667</td>\n      <td>-0.866667</td>\n      <td>-0.878014</td>\n      <td>-0.866667</td>\n      <td>2017-06-01</td>\n    </tr>\n    <tr>\n      <th>2017-06-01</th>\n      <td>0.071948</td>\n      <td>-0.866654</td>\n      <td>-0.722034</td>\n      <td>-0.402846</td>\n      <td>-0.859416</td>\n      <td>-0.561166</td>\n      <td>-1.000000</td>\n      <td>-1.000000</td>\n      <td>-1.000000</td>\n      <td>0.830941</td>\n      <td>...</td>\n      <td>1.00000</td>\n      <td>0.281368</td>\n      <td>0.353538</td>\n      <td>-0.81970</td>\n      <td>-0.730708</td>\n      <td>0.000000</td>\n      <td>-0.400000</td>\n      <td>-1.000000</td>\n      <td>-0.200000</td>\n      <td>2017-06-01</td>\n    </tr>\n    <tr>\n      <th>2017-06-01</th>\n      <td>0.071948</td>\n      <td>-0.866654</td>\n      <td>-0.722034</td>\n      <td>-0.402846</td>\n      <td>-0.859416</td>\n      <td>-0.561166</td>\n      <td>-1.000000</td>\n      <td>-1.000000</td>\n      <td>-1.000000</td>\n      <td>0.830941</td>\n      <td>...</td>\n      <td>1.00000</td>\n      <td>0.281368</td>\n      <td>0.353538</td>\n      <td>-0.81970</td>\n      <td>-0.730708</td>\n      <td>-0.473684</td>\n      <td>-0.578947</td>\n      <td>-1.000000</td>\n      <td>-0.526316</td>\n      <td>2017-06-01</td>\n    </tr>\n    <tr>\n      <th>2017-06-01</th>\n      <td>0.335603</td>\n      <td>-0.866654</td>\n      <td>-0.722034</td>\n      <td>-0.402846</td>\n      <td>-0.859416</td>\n      <td>-0.561166</td>\n      <td>-1.000000</td>\n      <td>-1.000000</td>\n      <td>-1.000000</td>\n      <td>0.830941</td>\n      <td>...</td>\n      <td>1.00000</td>\n      <td>0.281368</td>\n      <td>0.353538</td>\n      <td>-0.81970</td>\n      <td>-0.730708</td>\n      <td>-0.625000</td>\n      <td>-0.642857</td>\n      <td>-0.926482</td>\n      <td>-0.633929</td>\n      <td>2017-06-01</td>\n    </tr>\n    <tr>\n      <th>2017-06-01</th>\n      <td>0.335603</td>\n      <td>-0.866654</td>\n      <td>-0.722034</td>\n      <td>-0.402846</td>\n      <td>-0.859416</td>\n      <td>-0.561166</td>\n      <td>-1.000000</td>\n      <td>-1.000000</td>\n      <td>-1.000000</td>\n      <td>0.830941</td>\n      <td>...</td>\n      <td>1.00000</td>\n      <td>0.281368</td>\n      <td>0.353538</td>\n      <td>-0.81970</td>\n      <td>-0.730708</td>\n      <td>-0.671875</td>\n      <td>-0.531250</td>\n      <td>-0.871343</td>\n      <td>-0.601562</td>\n      <td>2017-06-01</td>\n    </tr>\n  </tbody>\n</table>\n<p>30116 rows × 22 columns</p>\n</div>"
     },
     "execution_count": 253,
     "metadata": {},
     "output_type": "execute_result"
    }
   ],
   "source": [
    "processed_data_stripped"
   ],
   "metadata": {
    "collapsed": false,
    "ExecuteTime": {
     "end_time": "2024-09-29T02:52:50.627333300Z",
     "start_time": "2024-09-29T02:52:50.341941900Z"
    }
   }
  },
  {
   "cell_type": "markdown",
   "source": [
    "## Resample all data so each date only appears once"
   ],
   "metadata": {
    "collapsed": false
   }
  },
  {
   "cell_type": "code",
   "execution_count": 254,
   "outputs": [],
   "source": [
    "from datetime import datetime\n",
    "\n",
    "processed_data_stripped = processed_data_stripped.resample(\"1M\").mean().sort_values([\"Date\"])\n",
    "processed_data_stripped.index = [datetime(x.year, x.month, 1) for x in processed_data_stripped.index]"
   ],
   "metadata": {
    "collapsed": false,
    "ExecuteTime": {
     "end_time": "2024-09-29T02:52:50.785030400Z",
     "start_time": "2024-09-29T02:52:50.398793Z"
    }
   }
  },
  {
   "cell_type": "code",
   "execution_count": 255,
   "outputs": [
    {
     "data": {
      "text/plain": "            Average_Fare   MinTemp   MaxTemp  Rainfall  Evaporation  Sunshine  \\\n2010-01-01     -0.978964  0.856267  0.933268 -0.270139     0.796919  0.863890   \n2010-02-01     -0.978964  1.000000  0.825312  0.571983     0.401802  0.525122   \n2010-03-01     -0.978964  0.648732  0.513030  0.030027    -0.009011  0.085560   \n2010-04-01     -0.978964  0.188854  0.067264 -0.590729    -0.540250 -0.281178   \n2010-05-01     -0.978964 -0.491670 -0.490015 -0.167351    -0.835741 -0.548955   \n...                  ...       ...       ...       ...          ...       ...   \n2017-02-01     -0.944469  0.826521  0.845527  0.107492     0.682252  0.621470   \n2017-03-01     -0.942045  0.802754  0.660969  0.741110     0.364914  0.036203   \n2017-04-01     -0.945396  0.018170  0.025362 -0.403561    -0.216227 -0.031805   \n2017-05-01     -0.944012 -0.464726 -0.428400 -0.636796    -0.696793 -0.450549   \n2017-06-01     -0.942038 -0.866654 -0.722034 -0.402846    -0.859416 -0.561166   \n\n            WindGustSpeed  WindSpeed9am  WindSpeed3pm  Humidity9am  ...  \\\n2010-01-01       0.647422      0.372448      0.572945    -0.743469  ...   \n2010-02-01       0.465555      0.329709      0.339851    -0.105786  ...   \n2010-03-01       0.023968     -0.068296     -0.026963     0.069055  ...   \n2010-04-01      -0.505082     -0.295232     -0.406949     0.247822  ...   \n2010-05-01      -0.597361     -0.590519     -0.705676     0.542571  ...   \n...                   ...           ...           ...          ...  ...   \n2017-02-01       0.408494      0.184715      0.207762    -0.254663  ...   \n2017-03-01       0.158345     -0.047858     -0.063320     0.244136  ...   \n2017-04-01      -0.477357     -0.363960     -0.516853     0.109546  ...   \n2017-05-01      -0.769925     -0.762823     -0.804369     0.608254  ...   \n2017-06-01      -1.000000     -1.000000     -1.000000     0.830941  ...   \n\n            Pressure9am  Pressure3pm  Cloud9am  Cloud3pm   Temp9am   Temp3pm  \\\n2010-01-01    -0.733436    -0.757230 -0.492710 -0.672732  0.928750  0.924884   \n2010-02-01    -0.346896    -0.335479 -0.230797 -0.098319  0.897853  0.834774   \n2010-03-01     0.115387     0.124632 -0.169272 -0.222354  0.522941  0.562586   \n2010-04-01     0.048014     0.003168 -0.199903  0.111603  0.231739  0.111223   \n2010-05-01    -0.008863    -0.058170 -0.293966 -0.054459 -0.425792 -0.469119   \n...                 ...          ...       ...       ...       ...       ...   \n2017-02-01    -0.573658    -0.605251  0.320343 -0.219793  0.796073  0.844493   \n2017-03-01    -0.450618    -0.468582  0.576297  0.154510  0.657775  0.672524   \n2017-04-01     0.378250     0.322268  0.337699  0.162064  0.121529  0.023327   \n2017-05-01     0.429512     0.410767  0.279823  0.143180 -0.391406 -0.448821   \n2017-06-01     1.000000     1.000000  0.281368  0.353538 -0.819700 -0.730708   \n\n            Departure_Delays_%  Arrival_Delays_%  Cancellations_%  \\\n2010-01-01           -0.753857         -0.753079        -0.982163   \n2010-02-01           -0.708054         -0.684311        -0.977535   \n2010-03-01           -0.683586         -0.679725        -0.959996   \n2010-04-01           -0.720898         -0.721203        -0.980574   \n2010-05-01           -0.750993         -0.712938        -0.986387   \n...                        ...               ...              ...   \n2017-02-01           -0.671731         -0.670782        -0.963113   \n2017-03-01           -0.594999         -0.581883        -0.900795   \n2017-04-01           -0.728102         -0.750571        -0.938085   \n2017-05-01           -0.734975         -0.748771        -0.976520   \n2017-06-01           -0.697645         -0.697767        -0.966172   \n\n            Average_Delay_%  \n2010-01-01        -0.753468  \n2010-02-01        -0.696182  \n2010-03-01        -0.681655  \n2010-04-01        -0.721050  \n2010-05-01        -0.731966  \n...                     ...  \n2017-02-01        -0.671257  \n2017-03-01        -0.588441  \n2017-04-01        -0.739337  \n2017-05-01        -0.741873  \n2017-06-01        -0.697706  \n\n[90 rows x 21 columns]",
      "text/html": "<div>\n<style scoped>\n    .dataframe tbody tr th:only-of-type {\n        vertical-align: middle;\n    }\n\n    .dataframe tbody tr th {\n        vertical-align: top;\n    }\n\n    .dataframe thead th {\n        text-align: right;\n    }\n</style>\n<table border=\"1\" class=\"dataframe\">\n  <thead>\n    <tr style=\"text-align: right;\">\n      <th></th>\n      <th>Average_Fare</th>\n      <th>MinTemp</th>\n      <th>MaxTemp</th>\n      <th>Rainfall</th>\n      <th>Evaporation</th>\n      <th>Sunshine</th>\n      <th>WindGustSpeed</th>\n      <th>WindSpeed9am</th>\n      <th>WindSpeed3pm</th>\n      <th>Humidity9am</th>\n      <th>...</th>\n      <th>Pressure9am</th>\n      <th>Pressure3pm</th>\n      <th>Cloud9am</th>\n      <th>Cloud3pm</th>\n      <th>Temp9am</th>\n      <th>Temp3pm</th>\n      <th>Departure_Delays_%</th>\n      <th>Arrival_Delays_%</th>\n      <th>Cancellations_%</th>\n      <th>Average_Delay_%</th>\n    </tr>\n  </thead>\n  <tbody>\n    <tr>\n      <th>2010-01-01</th>\n      <td>-0.978964</td>\n      <td>0.856267</td>\n      <td>0.933268</td>\n      <td>-0.270139</td>\n      <td>0.796919</td>\n      <td>0.863890</td>\n      <td>0.647422</td>\n      <td>0.372448</td>\n      <td>0.572945</td>\n      <td>-0.743469</td>\n      <td>...</td>\n      <td>-0.733436</td>\n      <td>-0.757230</td>\n      <td>-0.492710</td>\n      <td>-0.672732</td>\n      <td>0.928750</td>\n      <td>0.924884</td>\n      <td>-0.753857</td>\n      <td>-0.753079</td>\n      <td>-0.982163</td>\n      <td>-0.753468</td>\n    </tr>\n    <tr>\n      <th>2010-02-01</th>\n      <td>-0.978964</td>\n      <td>1.000000</td>\n      <td>0.825312</td>\n      <td>0.571983</td>\n      <td>0.401802</td>\n      <td>0.525122</td>\n      <td>0.465555</td>\n      <td>0.329709</td>\n      <td>0.339851</td>\n      <td>-0.105786</td>\n      <td>...</td>\n      <td>-0.346896</td>\n      <td>-0.335479</td>\n      <td>-0.230797</td>\n      <td>-0.098319</td>\n      <td>0.897853</td>\n      <td>0.834774</td>\n      <td>-0.708054</td>\n      <td>-0.684311</td>\n      <td>-0.977535</td>\n      <td>-0.696182</td>\n    </tr>\n    <tr>\n      <th>2010-03-01</th>\n      <td>-0.978964</td>\n      <td>0.648732</td>\n      <td>0.513030</td>\n      <td>0.030027</td>\n      <td>-0.009011</td>\n      <td>0.085560</td>\n      <td>0.023968</td>\n      <td>-0.068296</td>\n      <td>-0.026963</td>\n      <td>0.069055</td>\n      <td>...</td>\n      <td>0.115387</td>\n      <td>0.124632</td>\n      <td>-0.169272</td>\n      <td>-0.222354</td>\n      <td>0.522941</td>\n      <td>0.562586</td>\n      <td>-0.683586</td>\n      <td>-0.679725</td>\n      <td>-0.959996</td>\n      <td>-0.681655</td>\n    </tr>\n    <tr>\n      <th>2010-04-01</th>\n      <td>-0.978964</td>\n      <td>0.188854</td>\n      <td>0.067264</td>\n      <td>-0.590729</td>\n      <td>-0.540250</td>\n      <td>-0.281178</td>\n      <td>-0.505082</td>\n      <td>-0.295232</td>\n      <td>-0.406949</td>\n      <td>0.247822</td>\n      <td>...</td>\n      <td>0.048014</td>\n      <td>0.003168</td>\n      <td>-0.199903</td>\n      <td>0.111603</td>\n      <td>0.231739</td>\n      <td>0.111223</td>\n      <td>-0.720898</td>\n      <td>-0.721203</td>\n      <td>-0.980574</td>\n      <td>-0.721050</td>\n    </tr>\n    <tr>\n      <th>2010-05-01</th>\n      <td>-0.978964</td>\n      <td>-0.491670</td>\n      <td>-0.490015</td>\n      <td>-0.167351</td>\n      <td>-0.835741</td>\n      <td>-0.548955</td>\n      <td>-0.597361</td>\n      <td>-0.590519</td>\n      <td>-0.705676</td>\n      <td>0.542571</td>\n      <td>...</td>\n      <td>-0.008863</td>\n      <td>-0.058170</td>\n      <td>-0.293966</td>\n      <td>-0.054459</td>\n      <td>-0.425792</td>\n      <td>-0.469119</td>\n      <td>-0.750993</td>\n      <td>-0.712938</td>\n      <td>-0.986387</td>\n      <td>-0.731966</td>\n    </tr>\n    <tr>\n      <th>...</th>\n      <td>...</td>\n      <td>...</td>\n      <td>...</td>\n      <td>...</td>\n      <td>...</td>\n      <td>...</td>\n      <td>...</td>\n      <td>...</td>\n      <td>...</td>\n      <td>...</td>\n      <td>...</td>\n      <td>...</td>\n      <td>...</td>\n      <td>...</td>\n      <td>...</td>\n      <td>...</td>\n      <td>...</td>\n      <td>...</td>\n      <td>...</td>\n      <td>...</td>\n      <td>...</td>\n    </tr>\n    <tr>\n      <th>2017-02-01</th>\n      <td>-0.944469</td>\n      <td>0.826521</td>\n      <td>0.845527</td>\n      <td>0.107492</td>\n      <td>0.682252</td>\n      <td>0.621470</td>\n      <td>0.408494</td>\n      <td>0.184715</td>\n      <td>0.207762</td>\n      <td>-0.254663</td>\n      <td>...</td>\n      <td>-0.573658</td>\n      <td>-0.605251</td>\n      <td>0.320343</td>\n      <td>-0.219793</td>\n      <td>0.796073</td>\n      <td>0.844493</td>\n      <td>-0.671731</td>\n      <td>-0.670782</td>\n      <td>-0.963113</td>\n      <td>-0.671257</td>\n    </tr>\n    <tr>\n      <th>2017-03-01</th>\n      <td>-0.942045</td>\n      <td>0.802754</td>\n      <td>0.660969</td>\n      <td>0.741110</td>\n      <td>0.364914</td>\n      <td>0.036203</td>\n      <td>0.158345</td>\n      <td>-0.047858</td>\n      <td>-0.063320</td>\n      <td>0.244136</td>\n      <td>...</td>\n      <td>-0.450618</td>\n      <td>-0.468582</td>\n      <td>0.576297</td>\n      <td>0.154510</td>\n      <td>0.657775</td>\n      <td>0.672524</td>\n      <td>-0.594999</td>\n      <td>-0.581883</td>\n      <td>-0.900795</td>\n      <td>-0.588441</td>\n    </tr>\n    <tr>\n      <th>2017-04-01</th>\n      <td>-0.945396</td>\n      <td>0.018170</td>\n      <td>0.025362</td>\n      <td>-0.403561</td>\n      <td>-0.216227</td>\n      <td>-0.031805</td>\n      <td>-0.477357</td>\n      <td>-0.363960</td>\n      <td>-0.516853</td>\n      <td>0.109546</td>\n      <td>...</td>\n      <td>0.378250</td>\n      <td>0.322268</td>\n      <td>0.337699</td>\n      <td>0.162064</td>\n      <td>0.121529</td>\n      <td>0.023327</td>\n      <td>-0.728102</td>\n      <td>-0.750571</td>\n      <td>-0.938085</td>\n      <td>-0.739337</td>\n    </tr>\n    <tr>\n      <th>2017-05-01</th>\n      <td>-0.944012</td>\n      <td>-0.464726</td>\n      <td>-0.428400</td>\n      <td>-0.636796</td>\n      <td>-0.696793</td>\n      <td>-0.450549</td>\n      <td>-0.769925</td>\n      <td>-0.762823</td>\n      <td>-0.804369</td>\n      <td>0.608254</td>\n      <td>...</td>\n      <td>0.429512</td>\n      <td>0.410767</td>\n      <td>0.279823</td>\n      <td>0.143180</td>\n      <td>-0.391406</td>\n      <td>-0.448821</td>\n      <td>-0.734975</td>\n      <td>-0.748771</td>\n      <td>-0.976520</td>\n      <td>-0.741873</td>\n    </tr>\n    <tr>\n      <th>2017-06-01</th>\n      <td>-0.942038</td>\n      <td>-0.866654</td>\n      <td>-0.722034</td>\n      <td>-0.402846</td>\n      <td>-0.859416</td>\n      <td>-0.561166</td>\n      <td>-1.000000</td>\n      <td>-1.000000</td>\n      <td>-1.000000</td>\n      <td>0.830941</td>\n      <td>...</td>\n      <td>1.000000</td>\n      <td>1.000000</td>\n      <td>0.281368</td>\n      <td>0.353538</td>\n      <td>-0.819700</td>\n      <td>-0.730708</td>\n      <td>-0.697645</td>\n      <td>-0.697767</td>\n      <td>-0.966172</td>\n      <td>-0.697706</td>\n    </tr>\n  </tbody>\n</table>\n<p>90 rows × 21 columns</p>\n</div>"
     },
     "execution_count": 255,
     "metadata": {},
     "output_type": "execute_result"
    }
   ],
   "source": [
    "processed_data_stripped"
   ],
   "metadata": {
    "collapsed": false,
    "ExecuteTime": {
     "end_time": "2024-09-29T02:52:50.880304Z",
     "start_time": "2024-09-29T02:52:50.439950800Z"
    }
   }
  },
  {
   "cell_type": "code",
   "execution_count": 256,
   "outputs": [],
   "source": [
    "processed_data = processed_data_stripped"
   ],
   "metadata": {
    "collapsed": false,
    "ExecuteTime": {
     "end_time": "2024-09-29T02:52:50.881303600Z",
     "start_time": "2024-09-29T02:52:50.475921500Z"
    }
   }
  },
  {
   "cell_type": "markdown",
   "source": [
    "## Decide on input and output features"
   ],
   "metadata": {
    "collapsed": false
   }
  },
  {
   "cell_type": "code",
   "execution_count": 257,
   "outputs": [
    {
     "data": {
      "text/plain": "            Average_Fare   MinTemp   MaxTemp  Rainfall  Evaporation  Sunshine  \\\n2010-01-01     -0.978964  0.856267  0.933268 -0.270139     0.796919  0.863890   \n2010-02-01     -0.978964  1.000000  0.825312  0.571983     0.401802  0.525122   \n2010-03-01     -0.978964  0.648732  0.513030  0.030027    -0.009011  0.085560   \n2010-04-01     -0.978964  0.188854  0.067264 -0.590729    -0.540250 -0.281178   \n2010-05-01     -0.978964 -0.491670 -0.490015 -0.167351    -0.835741 -0.548955   \n\n            WindGustSpeed  WindSpeed9am  WindSpeed3pm  Humidity9am  ...  \\\n2010-01-01       0.647422      0.372448      0.572945    -0.743469  ...   \n2010-02-01       0.465555      0.329709      0.339851    -0.105786  ...   \n2010-03-01       0.023968     -0.068296     -0.026963     0.069055  ...   \n2010-04-01      -0.505082     -0.295232     -0.406949     0.247822  ...   \n2010-05-01      -0.597361     -0.590519     -0.705676     0.542571  ...   \n\n            Pressure9am  Pressure3pm  Cloud9am  Cloud3pm   Temp9am   Temp3pm  \\\n2010-01-01    -0.733436    -0.757230 -0.492710 -0.672732  0.928750  0.924884   \n2010-02-01    -0.346896    -0.335479 -0.230797 -0.098319  0.897853  0.834774   \n2010-03-01     0.115387     0.124632 -0.169272 -0.222354  0.522941  0.562586   \n2010-04-01     0.048014     0.003168 -0.199903  0.111603  0.231739  0.111223   \n2010-05-01    -0.008863    -0.058170 -0.293966 -0.054459 -0.425792 -0.469119   \n\n            Departure_Delays_%  Arrival_Delays_%  Cancellations_%  \\\n2010-01-01           -0.753857         -0.753079        -0.982163   \n2010-02-01           -0.708054         -0.684311        -0.977535   \n2010-03-01           -0.683586         -0.679725        -0.959996   \n2010-04-01           -0.720898         -0.721203        -0.980574   \n2010-05-01           -0.750993         -0.712938        -0.986387   \n\n            Average_Delay_%  \n2010-01-01        -0.753468  \n2010-02-01        -0.696182  \n2010-03-01        -0.681655  \n2010-04-01        -0.721050  \n2010-05-01        -0.731966  \n\n[5 rows x 21 columns]",
      "text/html": "<div>\n<style scoped>\n    .dataframe tbody tr th:only-of-type {\n        vertical-align: middle;\n    }\n\n    .dataframe tbody tr th {\n        vertical-align: top;\n    }\n\n    .dataframe thead th {\n        text-align: right;\n    }\n</style>\n<table border=\"1\" class=\"dataframe\">\n  <thead>\n    <tr style=\"text-align: right;\">\n      <th></th>\n      <th>Average_Fare</th>\n      <th>MinTemp</th>\n      <th>MaxTemp</th>\n      <th>Rainfall</th>\n      <th>Evaporation</th>\n      <th>Sunshine</th>\n      <th>WindGustSpeed</th>\n      <th>WindSpeed9am</th>\n      <th>WindSpeed3pm</th>\n      <th>Humidity9am</th>\n      <th>...</th>\n      <th>Pressure9am</th>\n      <th>Pressure3pm</th>\n      <th>Cloud9am</th>\n      <th>Cloud3pm</th>\n      <th>Temp9am</th>\n      <th>Temp3pm</th>\n      <th>Departure_Delays_%</th>\n      <th>Arrival_Delays_%</th>\n      <th>Cancellations_%</th>\n      <th>Average_Delay_%</th>\n    </tr>\n  </thead>\n  <tbody>\n    <tr>\n      <th>2010-01-01</th>\n      <td>-0.978964</td>\n      <td>0.856267</td>\n      <td>0.933268</td>\n      <td>-0.270139</td>\n      <td>0.796919</td>\n      <td>0.863890</td>\n      <td>0.647422</td>\n      <td>0.372448</td>\n      <td>0.572945</td>\n      <td>-0.743469</td>\n      <td>...</td>\n      <td>-0.733436</td>\n      <td>-0.757230</td>\n      <td>-0.492710</td>\n      <td>-0.672732</td>\n      <td>0.928750</td>\n      <td>0.924884</td>\n      <td>-0.753857</td>\n      <td>-0.753079</td>\n      <td>-0.982163</td>\n      <td>-0.753468</td>\n    </tr>\n    <tr>\n      <th>2010-02-01</th>\n      <td>-0.978964</td>\n      <td>1.000000</td>\n      <td>0.825312</td>\n      <td>0.571983</td>\n      <td>0.401802</td>\n      <td>0.525122</td>\n      <td>0.465555</td>\n      <td>0.329709</td>\n      <td>0.339851</td>\n      <td>-0.105786</td>\n      <td>...</td>\n      <td>-0.346896</td>\n      <td>-0.335479</td>\n      <td>-0.230797</td>\n      <td>-0.098319</td>\n      <td>0.897853</td>\n      <td>0.834774</td>\n      <td>-0.708054</td>\n      <td>-0.684311</td>\n      <td>-0.977535</td>\n      <td>-0.696182</td>\n    </tr>\n    <tr>\n      <th>2010-03-01</th>\n      <td>-0.978964</td>\n      <td>0.648732</td>\n      <td>0.513030</td>\n      <td>0.030027</td>\n      <td>-0.009011</td>\n      <td>0.085560</td>\n      <td>0.023968</td>\n      <td>-0.068296</td>\n      <td>-0.026963</td>\n      <td>0.069055</td>\n      <td>...</td>\n      <td>0.115387</td>\n      <td>0.124632</td>\n      <td>-0.169272</td>\n      <td>-0.222354</td>\n      <td>0.522941</td>\n      <td>0.562586</td>\n      <td>-0.683586</td>\n      <td>-0.679725</td>\n      <td>-0.959996</td>\n      <td>-0.681655</td>\n    </tr>\n    <tr>\n      <th>2010-04-01</th>\n      <td>-0.978964</td>\n      <td>0.188854</td>\n      <td>0.067264</td>\n      <td>-0.590729</td>\n      <td>-0.540250</td>\n      <td>-0.281178</td>\n      <td>-0.505082</td>\n      <td>-0.295232</td>\n      <td>-0.406949</td>\n      <td>0.247822</td>\n      <td>...</td>\n      <td>0.048014</td>\n      <td>0.003168</td>\n      <td>-0.199903</td>\n      <td>0.111603</td>\n      <td>0.231739</td>\n      <td>0.111223</td>\n      <td>-0.720898</td>\n      <td>-0.721203</td>\n      <td>-0.980574</td>\n      <td>-0.721050</td>\n    </tr>\n    <tr>\n      <th>2010-05-01</th>\n      <td>-0.978964</td>\n      <td>-0.491670</td>\n      <td>-0.490015</td>\n      <td>-0.167351</td>\n      <td>-0.835741</td>\n      <td>-0.548955</td>\n      <td>-0.597361</td>\n      <td>-0.590519</td>\n      <td>-0.705676</td>\n      <td>0.542571</td>\n      <td>...</td>\n      <td>-0.008863</td>\n      <td>-0.058170</td>\n      <td>-0.293966</td>\n      <td>-0.054459</td>\n      <td>-0.425792</td>\n      <td>-0.469119</td>\n      <td>-0.750993</td>\n      <td>-0.712938</td>\n      <td>-0.986387</td>\n      <td>-0.731966</td>\n    </tr>\n  </tbody>\n</table>\n<p>5 rows × 21 columns</p>\n</div>"
     },
     "execution_count": 257,
     "metadata": {},
     "output_type": "execute_result"
    }
   ],
   "source": [
    "processed_data.head()"
   ],
   "metadata": {
    "collapsed": false,
    "ExecuteTime": {
     "end_time": "2024-09-29T02:52:50.881303600Z",
     "start_time": "2024-09-29T02:52:50.517552300Z"
    }
   }
  },
  {
   "cell_type": "code",
   "execution_count": 258,
   "outputs": [],
   "source": [
    "output_features = [\"Average_Fare\", \"Average_Delay_%\", 'Cancellations_%']"
   ],
   "metadata": {
    "collapsed": false,
    "ExecuteTime": {
     "end_time": "2024-09-29T02:52:50.905199900Z",
     "start_time": "2024-09-29T02:52:50.525538200Z"
    }
   }
  },
  {
   "cell_type": "code",
   "execution_count": 259,
   "outputs": [],
   "source": [
    "input_features = [#'Departing_Port', 'Arriving_Port', 'Airline', 'Distance'\n",
    "       'MinTemp', 'MaxTemp', 'Rainfall', 'Evaporation', 'Sunshine',\n",
    "       'WindGustSpeed', 'WindSpeed9am', 'WindSpeed3pm', 'Humidity9am',\n",
    "       'Humidity3pm', 'Pressure9am', 'Pressure3pm', 'Cloud9am', 'Cloud3pm',\n",
    "       'Temp9am', 'Temp3pm']"
   ],
   "metadata": {
    "collapsed": false,
    "ExecuteTime": {
     "end_time": "2024-09-29T02:52:50.905199900Z",
     "start_time": "2024-09-29T02:52:50.543050300Z"
    }
   }
  },
  {
   "cell_type": "markdown",
   "source": [
    "## Graph the data"
   ],
   "metadata": {
    "collapsed": false
   }
  },
  {
   "cell_type": "code",
   "execution_count": 260,
   "outputs": [
    {
     "data": {
      "text/plain": "Text(0, 0.5, 'Average_Fare')"
     },
     "execution_count": 260,
     "metadata": {},
     "output_type": "execute_result"
    },
    {
     "data": {
      "text/plain": "<Figure size 432x288 with 1 Axes>",
      "image/png": "[encoded data removed]"
     },
     "metadata": {},
     "output_type": "display_data"
    }
   ],
   "source": [
    "from matplotlib import pyplot as plt\n",
    "feature = output_features[0]\n",
    "plt.plot(processed_data[feature])\n",
    "plt.ylabel(feature)"
   ],
   "metadata": {
    "collapsed": false,
    "ExecuteTime": {
     "end_time": "2024-09-29T02:52:51.505879500Z",
     "start_time": "2024-09-29T02:52:50.557480900Z"
    }
   }
  },
  {
   "cell_type": "markdown",
   "source": [
    "## Split data into a series of \"windows\"\n",
    "(AKA \"Sliding Window\" processing)"
   ],
   "metadata": {
    "collapsed": false
   }
  },
  {
   "cell_type": "code",
   "execution_count": 261,
   "outputs": [],
   "source": [
    "# Source: https://www.kaggle.com/code/iamleonie/time-series-forecasting-building-intuition?scriptVersionId=90151694&cellId=6\n",
    "\n",
    "import numpy as np\n",
    "\n",
    "def split_sequences(features, targets, n_steps_in, n_steps_out, n_sliding_steps, window_type):\n",
    "    \"\"\"\n",
    "    Edited from\n",
    "    https://machinelearningmastery.com/how-to-develop-lstm-models-for-time-series-forecasting/\n",
    "\n",
    "    Args:\n",
    "    * features: univariate or multivariate input sequences\n",
    "    * targets: univariate or multivariate output sequences\n",
    "    * n_steps_in: length of input sequence for sliding window.\n",
    "    * n_steps_out: length of output sequence\n",
    "    * n_sliding_steps: window step size\n",
    "    * window_type: 'sliding' or 'expanding'\n",
    "    \"\"\"\n",
    "    X, y = list(), list()\n",
    "    for i in range(0, len(features), n_sliding_steps):\n",
    "\n",
    "        # find the end of this pattern\n",
    "        end_ix = i + n_steps_in\n",
    "        out_end_ix = end_ix + n_steps_out\n",
    "        # check if we are beyond the sequences\n",
    "        if out_end_ix > len(features):\n",
    "            break\n",
    "\n",
    "        # gather input and output parts of the pattern\n",
    "        if window_type == 'sliding': # Sliding window\n",
    "            seq_x, seq_y = features[i:end_ix, :], targets[end_ix:out_end_ix, :]\n",
    "        else: # expanding window\n",
    "            seq_x, seq_y = features[0:end_ix, :], targets[end_ix:out_end_ix, :]\n",
    "        X.append(seq_x)\n",
    "        y.append(seq_y)\n",
    "    return np.array(X), np.array(y)"
   ],
   "metadata": {
    "collapsed": false,
    "ExecuteTime": {
     "end_time": "2024-09-29T02:52:51.508907200Z",
     "start_time": "2024-09-29T02:52:50.984507100Z"
    }
   }
  },
  {
   "cell_type": "code",
   "execution_count": 262,
   "outputs": [],
   "source": [
    "import seaborn as sns\n",
    "from datetime import date\n",
    "\n",
    "### Plotting functions ###\n",
    "def plot_time_series_problem(X, y, data, feature : str):\n",
    "    x_shape = X.shape[0]#min(X.shape[0], 50)\n",
    "    fig, ax = plt.subplots(nrows=x_shape, ncols=1, figsize=(15, 2.5*x_shape))\n",
    "    for i in range(x_shape):\n",
    "        sns.lineplot(x=data.index.values, y=data[feature].values, ax=ax[i], color='lightgrey', marker='o')\n",
    "\n",
    "        if i < x_shape-1:\n",
    "            sns.lineplot(x=X[i][ :, 0], y=X[i][ :, 1].astype(float), ax=ax[i], color='cornflowerblue', label='train', marker='o')\n",
    "            sns.lineplot(x=y[i][ :, 0], y=y[i][ :, 1].astype(float), ax=ax[i], color='orange', label='val', marker='o')\n",
    "            ax[i].set_title(f\"Training Sample {i}\")\n",
    "        else:\n",
    "            sns.lineplot(x=X[i][ :, 0], y=X[i][ :, 1].astype(float), ax=ax[i], color='mediumseagreen', label='in', marker='o')\n",
    "            sns.lineplot(x=y[i][ :, 0], y=y[i][ :, 1].astype(float), ax=ax[i], color='coral', label='pred', marker='o')\n",
    "            ax[i].set_title(f\"Testing\")\n",
    "        ax[i].set_xlim([date(2010, 1, 1), date(2017, 12, 1)])\n",
    "\n",
    "    plt.tight_layout()\n",
    "    plt.show()\n",
    "\n",
    "def plot_history(history):\n",
    "    loss_list = [s for s in history.history.keys() if 'loss' in s and 'val' not in s]\n",
    "    val_loss_list = [s for s in history.history.keys() if 'loss' in s and 'val' in s]\n",
    "\n",
    "    ## As loss always exists\n",
    "    epochs = range(1,len(history.history[loss_list[0]]) + 1)\n",
    "\n",
    "    ## Loss\n",
    "    plt.figure(1)\n",
    "    for l in loss_list:\n",
    "        plt.plot(epochs, history.history[l], 'cornflowerblue', label='Training loss')\n",
    "    for l in val_loss_list:\n",
    "        plt.plot(epochs, history.history[l], 'orange', label='Validation loss')\n",
    "\n",
    "    plt.title('Loss')\n",
    "    plt.xlabel('Epochs')\n",
    "    plt.ylabel('Loss')\n",
    "    #plt.ylim([-0.1, 20])\n",
    "    plt.legend()\n",
    "\n",
    "    plt.show()"
   ],
   "metadata": {
    "collapsed": false,
    "ExecuteTime": {
     "end_time": "2024-09-29T02:52:51.508907200Z",
     "start_time": "2024-09-29T02:52:51.008444Z"
    }
   }
  },
  {
   "cell_type": "code",
   "execution_count": 263,
   "outputs": [],
   "source": [
    "# plot_time_series_problem(X, y, processed_data, \"Rainfall\")"
   ],
   "metadata": {
    "collapsed": false,
    "ExecuteTime": {
     "end_time": "2024-09-29T02:52:51.508907200Z",
     "start_time": "2024-09-29T02:52:51.026436400Z"
    }
   }
  },
  {
   "cell_type": "markdown",
   "source": [
    "# Model Creation and Training"
   ],
   "metadata": {
    "collapsed": false
   }
  },
  {
   "cell_type": "code",
   "execution_count": 264,
   "outputs": [],
   "source": [
    "import tensorflow as tf"
   ],
   "metadata": {
    "collapsed": false,
    "ExecuteTime": {
     "end_time": "2024-09-29T02:52:51.508907200Z",
     "start_time": "2024-09-29T02:52:51.041948500Z"
    }
   }
  },
  {
   "cell_type": "code",
   "execution_count": 265,
   "outputs": [],
   "source": [
    "from keras.models import Sequential\n",
    "from keras.layers import LSTM\n",
    "from keras.layers import Dense\n",
    "from keras.utils.vis_utils import plot_model"
   ],
   "metadata": {
    "collapsed": false,
    "ExecuteTime": {
     "end_time": "2024-09-29T02:52:51.509910800Z",
     "start_time": "2024-09-29T02:52:51.062890Z"
    }
   }
  },
  {
   "cell_type": "code",
   "execution_count": 266,
   "outputs": [
    {
     "name": "stdout",
     "output_type": "stream",
     "text": [
      "WARNING:tensorflow:Layer lstm_11 will not use cuDNN kernels since it doesn't meet the criteria. It will use a generic GPU kernel as fallback when running on GPU.\n",
      "Model: \"sequential_11\"\n",
      "_________________________________________________________________\n",
      " Layer (type)                Output Shape              Param #   \n",
      "=================================================================\n",
      " lstm_11 (LSTM)              (None, 100)               41600     \n",
      "                                                                 \n",
      " dense_11 (Dense)            (None, 12)                1212      \n",
      "                                                                 \n",
      "=================================================================\n",
      "Total params: 42,812\n",
      "Trainable params: 42,812\n",
      "Non-trainable params: 0\n",
      "_________________________________________________________________\n"
     ]
    }
   ],
   "source": [
    "n_features = len(output_features)\n",
    "input_seq_length = 12\n",
    "output_seq_length = 12\n",
    "\n",
    "# Define model\n",
    "model = Sequential()\n",
    "model.add(LSTM(100,\n",
    "               activation='relu',\n",
    "               input_shape=(input_seq_length, n_features)))\n",
    "model.add(Dense(output_seq_length))\n",
    "model.compile(optimizer='adam', loss='mse')\n",
    "\n",
    "model.summary()"
   ],
   "metadata": {
    "collapsed": false,
    "ExecuteTime": {
     "end_time": "2024-09-29T02:52:51.799798200Z",
     "start_time": "2024-09-29T02:52:51.078852600Z"
    }
   }
  },
  {
   "cell_type": "code",
   "execution_count": 267,
   "outputs": [],
   "source": [
    "from sklearn.model_selection import train_test_split"
   ],
   "metadata": {
    "collapsed": false,
    "ExecuteTime": {
     "end_time": "2024-09-29T02:52:51.800832500Z",
     "start_time": "2024-09-29T02:52:51.260876400Z"
    }
   }
  },
  {
   "cell_type": "code",
   "execution_count": 268,
   "outputs": [],
   "source": [
    "N_EPOCHS = 10"
   ],
   "metadata": {
    "collapsed": false,
    "ExecuteTime": {
     "end_time": "2024-09-29T02:52:51.800832500Z",
     "start_time": "2024-09-29T02:52:51.276833300Z"
    }
   }
  },
  {
   "cell_type": "code",
   "execution_count": 281,
   "outputs": [
    {
     "name": "stdout",
     "output_type": "stream",
     "text": [
      "WARNING:tensorflow:Layer lstm_19 will not use cuDNN kernels since it doesn't meet the criteria. It will use a generic GPU kernel as fallback when running on GPU.\n"
     ]
    },
    {
     "ename": "ValueError",
     "evalue": "in user code:\n\n    File \"C:\\Users\\ASUS\\AppData\\Roaming\\Python\\Python38\\site-packages\\keras\\engine\\training.py\", line 1160, in train_function  *\n        return step_function(self, iterator)\n    File \"C:\\Users\\ASUS\\AppData\\Roaming\\Python\\Python38\\site-packages\\keras\\engine\\training.py\", line 1146, in step_function  **\n        outputs = model.distribute_strategy.run(run_step, args=(data,))\n    File \"C:\\Users\\ASUS\\AppData\\Roaming\\Python\\Python38\\site-packages\\keras\\engine\\training.py\", line 1135, in run_step  **\n        outputs = model.train_step(data)\n    File \"C:\\Users\\ASUS\\AppData\\Roaming\\Python\\Python38\\site-packages\\keras\\engine\\training.py\", line 994, in train_step\n        loss = self.compute_loss(x, y, y_pred, sample_weight)\n    File \"C:\\Users\\ASUS\\AppData\\Roaming\\Python\\Python38\\site-packages\\keras\\engine\\training.py\", line 1052, in compute_loss\n        return self.compiled_loss(\n    File \"C:\\Users\\ASUS\\AppData\\Roaming\\Python\\Python38\\site-packages\\keras\\engine\\compile_utils.py\", line 265, in __call__\n        loss_value = loss_obj(y_t, y_p, sample_weight=sw)\n    File \"C:\\Users\\ASUS\\AppData\\Roaming\\Python\\Python38\\site-packages\\keras\\losses.py\", line 152, in __call__\n        losses = call_fn(y_true, y_pred)\n    File \"C:\\Users\\ASUS\\AppData\\Roaming\\Python\\Python38\\site-packages\\keras\\losses.py\", line 272, in call  **\n        return ag_fn(y_true, y_pred, **self._fn_kwargs)\n    File \"C:\\Users\\ASUS\\AppData\\Roaming\\Python\\Python38\\site-packages\\keras\\losses.py\", line 1486, in mean_squared_error\n        return backend.mean(tf.math.squared_difference(y_pred, y_true), axis=-1)\n\n    ValueError: Dimensions must be equal, but are 12 and 2 for '{{node mean_squared_error/SquaredDifference}} = SquaredDifference[T=DT_FLOAT](sequential_19/dense_19/BiasAdd, IteratorGetNext:1)' with input shapes: [?,12,12], [?,12,2].\n",
     "output_type": "error",
     "traceback": [
      "\u001B[1;31m---------------------------------------------------------------------------\u001B[0m",
      "\u001B[1;31mValueError\u001B[0m                                Traceback (most recent call last)",
      "\u001B[1;32m<ipython-input-281-9699cbfd8a48>\u001B[0m in \u001B[0;36m<module>\u001B[1;34m\u001B[0m\n\u001B[0;32m     49\u001B[0m \u001B[1;33m\u001B[0m\u001B[0m\n\u001B[0;32m     50\u001B[0m \u001B[1;31m# Fit model\u001B[0m\u001B[1;33m\u001B[0m\u001B[1;33m\u001B[0m\u001B[1;33m\u001B[0m\u001B[0m\n\u001B[1;32m---> 51\u001B[1;33m history = model.fit(X_train, y_train, # Training data\n\u001B[0m\u001B[0;32m     52\u001B[0m                     \u001B[0mvalidation_data\u001B[0m\u001B[1;33m=\u001B[0m\u001B[1;33m(\u001B[0m\u001B[0mX_val\u001B[0m\u001B[1;33m,\u001B[0m \u001B[0my_val\u001B[0m\u001B[1;33m)\u001B[0m\u001B[1;33m,\u001B[0m \u001B[1;31m# Validation data\u001B[0m\u001B[1;33m\u001B[0m\u001B[1;33m\u001B[0m\u001B[0m\n\u001B[0;32m     53\u001B[0m                     \u001B[0mepochs\u001B[0m \u001B[1;33m=\u001B[0m \u001B[0mN_EPOCHS\u001B[0m\u001B[1;33m,\u001B[0m \u001B[1;31m# Number of epochs\u001B[0m\u001B[1;33m\u001B[0m\u001B[1;33m\u001B[0m\u001B[0m\n",
      "\u001B[1;32m~\\AppData\\Roaming\\Python\\Python38\\site-packages\\keras\\utils\\traceback_utils.py\u001B[0m in \u001B[0;36merror_handler\u001B[1;34m(*args, **kwargs)\u001B[0m\n\u001B[0;32m     68\u001B[0m             \u001B[1;31m# To get the full stack trace, call:\u001B[0m\u001B[1;33m\u001B[0m\u001B[1;33m\u001B[0m\u001B[1;33m\u001B[0m\u001B[0m\n\u001B[0;32m     69\u001B[0m             \u001B[1;31m# `tf.debugging.disable_traceback_filtering()`\u001B[0m\u001B[1;33m\u001B[0m\u001B[1;33m\u001B[0m\u001B[1;33m\u001B[0m\u001B[0m\n\u001B[1;32m---> 70\u001B[1;33m             \u001B[1;32mraise\u001B[0m \u001B[0me\u001B[0m\u001B[1;33m.\u001B[0m\u001B[0mwith_traceback\u001B[0m\u001B[1;33m(\u001B[0m\u001B[0mfiltered_tb\u001B[0m\u001B[1;33m)\u001B[0m \u001B[1;32mfrom\u001B[0m \u001B[1;32mNone\u001B[0m\u001B[1;33m\u001B[0m\u001B[1;33m\u001B[0m\u001B[0m\n\u001B[0m\u001B[0;32m     71\u001B[0m         \u001B[1;32mfinally\u001B[0m\u001B[1;33m:\u001B[0m\u001B[1;33m\u001B[0m\u001B[1;33m\u001B[0m\u001B[0m\n\u001B[0;32m     72\u001B[0m             \u001B[1;32mdel\u001B[0m \u001B[0mfiltered_tb\u001B[0m\u001B[1;33m\u001B[0m\u001B[1;33m\u001B[0m\u001B[0m\n",
      "\u001B[1;32m~\\AppData\\Roaming\\Python\\Python38\\site-packages\\keras\\engine\\training.py\u001B[0m in \u001B[0;36mtf__train_function\u001B[1;34m(iterator)\u001B[0m\n\u001B[0;32m     13\u001B[0m                 \u001B[1;32mtry\u001B[0m\u001B[1;33m:\u001B[0m\u001B[1;33m\u001B[0m\u001B[1;33m\u001B[0m\u001B[0m\n\u001B[0;32m     14\u001B[0m                     \u001B[0mdo_return\u001B[0m \u001B[1;33m=\u001B[0m \u001B[1;32mTrue\u001B[0m\u001B[1;33m\u001B[0m\u001B[1;33m\u001B[0m\u001B[0m\n\u001B[1;32m---> 15\u001B[1;33m                     \u001B[0mretval_\u001B[0m \u001B[1;33m=\u001B[0m \u001B[0mag__\u001B[0m\u001B[1;33m.\u001B[0m\u001B[0mconverted_call\u001B[0m\u001B[1;33m(\u001B[0m\u001B[0mag__\u001B[0m\u001B[1;33m.\u001B[0m\u001B[0mld\u001B[0m\u001B[1;33m(\u001B[0m\u001B[0mstep_function\u001B[0m\u001B[1;33m)\u001B[0m\u001B[1;33m,\u001B[0m \u001B[1;33m(\u001B[0m\u001B[0mag__\u001B[0m\u001B[1;33m.\u001B[0m\u001B[0mld\u001B[0m\u001B[1;33m(\u001B[0m\u001B[0mself\u001B[0m\u001B[1;33m)\u001B[0m\u001B[1;33m,\u001B[0m \u001B[0mag__\u001B[0m\u001B[1;33m.\u001B[0m\u001B[0mld\u001B[0m\u001B[1;33m(\u001B[0m\u001B[0miterator\u001B[0m\u001B[1;33m)\u001B[0m\u001B[1;33m)\u001B[0m\u001B[1;33m,\u001B[0m \u001B[1;32mNone\u001B[0m\u001B[1;33m,\u001B[0m \u001B[0mfscope\u001B[0m\u001B[1;33m)\u001B[0m\u001B[1;33m\u001B[0m\u001B[1;33m\u001B[0m\u001B[0m\n\u001B[0m\u001B[0;32m     16\u001B[0m                 \u001B[1;32mexcept\u001B[0m\u001B[1;33m:\u001B[0m\u001B[1;33m\u001B[0m\u001B[1;33m\u001B[0m\u001B[0m\n\u001B[0;32m     17\u001B[0m                     \u001B[0mdo_return\u001B[0m \u001B[1;33m=\u001B[0m \u001B[1;32mFalse\u001B[0m\u001B[1;33m\u001B[0m\u001B[1;33m\u001B[0m\u001B[0m\n",
      "\u001B[1;31mValueError\u001B[0m: in user code:\n\n    File \"C:\\Users\\ASUS\\AppData\\Roaming\\Python\\Python38\\site-packages\\keras\\engine\\training.py\", line 1160, in train_function  *\n        return step_function(self, iterator)\n    File \"C:\\Users\\ASUS\\AppData\\Roaming\\Python\\Python38\\site-packages\\keras\\engine\\training.py\", line 1146, in step_function  **\n        outputs = model.distribute_strategy.run(run_step, args=(data,))\n    File \"C:\\Users\\ASUS\\AppData\\Roaming\\Python\\Python38\\site-packages\\keras\\engine\\training.py\", line 1135, in run_step  **\n        outputs = model.train_step(data)\n    File \"C:\\Users\\ASUS\\AppData\\Roaming\\Python\\Python38\\site-packages\\keras\\engine\\training.py\", line 994, in train_step\n        loss = self.compute_loss(x, y, y_pred, sample_weight)\n    File \"C:\\Users\\ASUS\\AppData\\Roaming\\Python\\Python38\\site-packages\\keras\\engine\\training.py\", line 1052, in compute_loss\n        return self.compiled_loss(\n    File \"C:\\Users\\ASUS\\AppData\\Roaming\\Python\\Python38\\site-packages\\keras\\engine\\compile_utils.py\", line 265, in __call__\n        loss_value = loss_obj(y_t, y_p, sample_weight=sw)\n    File \"C:\\Users\\ASUS\\AppData\\Roaming\\Python\\Python38\\site-packages\\keras\\losses.py\", line 152, in __call__\n        losses = call_fn(y_true, y_pred)\n    File \"C:\\Users\\ASUS\\AppData\\Roaming\\Python\\Python38\\site-packages\\keras\\losses.py\", line 272, in call  **\n        return ag_fn(y_true, y_pred, **self._fn_kwargs)\n    File \"C:\\Users\\ASUS\\AppData\\Roaming\\Python\\Python38\\site-packages\\keras\\losses.py\", line 1486, in mean_squared_error\n        return backend.mean(tf.math.squared_difference(y_pred, y_true), axis=-1)\n\n    ValueError: Dimensions must be equal, but are 12 and 2 for '{{node mean_squared_error/SquaredDifference}} = SquaredDifference[T=DT_FLOAT](sequential_19/dense_19/BiasAdd, IteratorGetNext:1)' with input shapes: [?,12,12], [?,12,2].\n"
     ]
    }
   ],
   "source": [
    "X_all, y_all =split_sequences(processed_data[input_features].values,\n",
    "                       processed_data[output_features].values,\n",
    "                       n_steps_in = input_seq_length,\n",
    "                       n_steps_out = output_seq_length,\n",
    "                       n_sliding_steps = 1,\n",
    "                       window_type='sliding')\n",
    "\n",
    "n_samples = X_all.shape[0]\n",
    "#print(f\"Total of {n_samples} samples created.\")\n",
    "\n",
    "#plot_time_series_problem(X_all, y_all)\n",
    "\n",
    "# Data for training/validation\n",
    "X = X_all[:(n_samples - output_seq_length)]\n",
    "y = y_all[:(n_samples - output_seq_length)]\n",
    "\n",
    "# Data for testing\n",
    "X_test = X_all[(n_samples - 1):]\n",
    "y_test = y_all[(n_samples - 1):]\n",
    "\n",
    "#n_features = X_all.shape[2] - 1 # column timestep is not a feature\n",
    "\n",
    "# Define model\n",
    "model = Sequential()\n",
    "model.add(LSTM(100, activation='relu', input_shape=(input_seq_length, n_features), return_sequences=True, ))\n",
    "#model.add(LSTM(100, activation='relu'))\n",
    "model.add(Dense(output_seq_length))\n",
    "model.compile(optimizer='adam', loss='mse')\n",
    "\n",
    "# Split training and validation data\n",
    "X_train, X_val, y_train, y_val = train_test_split(X, y, test_size=0.2, shuffle=False)\n",
    "\n",
    "# Covert to float and reshape\n",
    "index_X_train = X_train[:, :, 0]\n",
    "index_y_train = y_train[:, :, 0]\n",
    "index_X_val = X_val[:, :, 0]\n",
    "index_y_val = y_val[:, :, 0]\n",
    "index_X_test = X_test[:, :, 0]\n",
    "index_y_test = y_test[:, :, 0]\n",
    "\n",
    "X_train = X_train[:, :, 1:].astype(float).reshape((X_train.shape[0], input_seq_length, n_features))\n",
    "y_train = y_train[:, :, 1:].astype(float)\n",
    "\n",
    "X_val = X_val[:, :, 1:].astype(float).reshape((X_val.shape[0], input_seq_length, n_features))\n",
    "y_val = y_val[:, :, 1:].astype(float)\n",
    "\n",
    "X_test = X_test[:, :, 1:].astype(float).reshape((X_test.shape[0], input_seq_length, n_features))\n",
    "y_test = y_test[:, :, 1:].astype(float)\n",
    "\n",
    "# Fit model\n",
    "history = model.fit(X_train, y_train, # Training data\n",
    "                    validation_data=(X_val, y_val), # Validation data\n",
    "                    epochs = N_EPOCHS, # Number of epochs\n",
    "                    verbose = 0, # Don't show output. Set to 1 to see output\n",
    "                    shuffle=False\n",
    "                    )\n",
    "\n",
    "# Visalize loss over epochs\n",
    "#plot_history(history)\n",
    "\n",
    "# Predict\n",
    "y_pred = model.predict(X_test, verbose=0)"
   ],
   "metadata": {
    "collapsed": false,
    "ExecuteTime": {
     "end_time": "2024-09-29T02:54:56.578369100Z",
     "start_time": "2024-09-29T02:54:56.079111400Z"
    }
   }
  },
  {
   "cell_type": "code",
   "execution_count": null,
   "outputs": [],
   "source": [],
   "metadata": {
    "collapsed": false
   }
  }
 ],
 "metadata": {
  "kernelspec": {
   "display_name": "Python 3",
   "language": "python",
   "name": "python3"
  },
  "language_info": {
   "codemirror_mode": {
    "name": "ipython",
    "version": 2
   },
   "file_extension": ".py",
   "mimetype": "text/x-python",
   "name": "python",
   "nbconvert_exporter": "python",
   "pygments_lexer": "ipython2",
   "version": "2.7.6"
  }
 },
 "nbformat": 4,
 "nbformat_minor": 0
}
