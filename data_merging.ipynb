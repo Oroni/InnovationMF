{
 "cells": [
  {
   "cell_type": "code",
   "execution_count": 4,
   "metadata": {
    "collapsed": true,
    "ExecuteTime": {
     "end_time": "2024-09-28T13:13:02.661387Z",
     "start_time": "2024-09-28T13:13:02.419986900Z"
    }
   },
   "outputs": [],
   "source": [
    "import pandas as pd\n",
    "\n",
    "flight_delays = pd.read_csv(\"delays.csv\")\n",
    "flight_fares_with_weather = pd.read_csv(\"fares_distances_weather.csv\")"
   ]
  },
  {
   "cell_type": "code",
   "execution_count": 5,
   "outputs": [
    {
     "data": {
      "text/plain": "  Departing_Port Arriving_Port  Airline        Date  Departure_Delays_%  \\\n0       Adelaide      Brisbane  Jetstar  2010-01-01            0.266667   \n1       Adelaide    Gold Coast  Jetstar  2010-01-01            0.166667   \n2       Adelaide     Melbourne  Jetstar  2010-01-01            0.255319   \n3       Adelaide         Perth  Jetstar  2010-01-01            0.137931   \n4       Adelaide        Sydney  Jetstar  2010-01-01            0.118644   \n\n   Arrival_Delays_%  Cancellations_%  \n0          0.233333              0.0  \n1          0.166667              0.0  \n2          0.234043              0.0  \n3          0.103448              0.0  \n4          0.322034              0.0  ",
      "text/html": "<div>\n<style scoped>\n    .dataframe tbody tr th:only-of-type {\n        vertical-align: middle;\n    }\n\n    .dataframe tbody tr th {\n        vertical-align: top;\n    }\n\n    .dataframe thead th {\n        text-align: right;\n    }\n</style>\n<table border=\"1\" class=\"dataframe\">\n  <thead>\n    <tr style=\"text-align: right;\">\n      <th></th>\n      <th>Departing_Port</th>\n      <th>Arriving_Port</th>\n      <th>Airline</th>\n      <th>Date</th>\n      <th>Departure_Delays_%</th>\n      <th>Arrival_Delays_%</th>\n      <th>Cancellations_%</th>\n    </tr>\n  </thead>\n  <tbody>\n    <tr>\n      <th>0</th>\n      <td>Adelaide</td>\n      <td>Brisbane</td>\n      <td>Jetstar</td>\n      <td>2010-01-01</td>\n      <td>0.266667</td>\n      <td>0.233333</td>\n      <td>0.0</td>\n    </tr>\n    <tr>\n      <th>1</th>\n      <td>Adelaide</td>\n      <td>Gold Coast</td>\n      <td>Jetstar</td>\n      <td>2010-01-01</td>\n      <td>0.166667</td>\n      <td>0.166667</td>\n      <td>0.0</td>\n    </tr>\n    <tr>\n      <th>2</th>\n      <td>Adelaide</td>\n      <td>Melbourne</td>\n      <td>Jetstar</td>\n      <td>2010-01-01</td>\n      <td>0.255319</td>\n      <td>0.234043</td>\n      <td>0.0</td>\n    </tr>\n    <tr>\n      <th>3</th>\n      <td>Adelaide</td>\n      <td>Perth</td>\n      <td>Jetstar</td>\n      <td>2010-01-01</td>\n      <td>0.137931</td>\n      <td>0.103448</td>\n      <td>0.0</td>\n    </tr>\n    <tr>\n      <th>4</th>\n      <td>Adelaide</td>\n      <td>Sydney</td>\n      <td>Jetstar</td>\n      <td>2010-01-01</td>\n      <td>0.118644</td>\n      <td>0.322034</td>\n      <td>0.0</td>\n    </tr>\n  </tbody>\n</table>\n</div>"
     },
     "execution_count": 5,
     "metadata": {},
     "output_type": "execute_result"
    }
   ],
   "source": [
    "flight_delays.head()"
   ],
   "metadata": {
    "collapsed": false,
    "ExecuteTime": {
     "end_time": "2024-09-28T13:13:02.703792400Z",
     "start_time": "2024-09-28T13:13:02.664377900Z"
    }
   }
  },
  {
   "cell_type": "code",
   "execution_count": 6,
   "outputs": [
    {
     "data": {
      "text/plain": "  Departing_Port Arriving_Port  Month  Year  Average_Fare     Distance  \\\n0       Adelaide      Brisbane      8  2010         157.0  1619.982414   \n1       Adelaide      Canberra      8  2010         350.0   970.229046   \n2       Adelaide    Gold Coast      8  2010         232.0  1604.162840   \n3       Adelaide     Melbourne      8  2010          87.0   641.652927   \n4       Adelaide         Perth      8  2010         406.0  2115.440208   \n\n    MinTemp    MaxTemp  Rainfall  Evaporation  ...  WindSpeed3pm  Humidity9am  \\\n0  7.039858  16.730247  2.423597     3.102688  ...     19.611588     72.25107   \n1  7.039858  16.730247  2.423597     3.102688  ...     19.611588     72.25107   \n2  7.039858  16.730247  2.423597     3.102688  ...     19.611588     72.25107   \n3  7.039858  16.730247  2.423597     3.102688  ...     19.611588     72.25107   \n4  7.039858  16.730247  2.423597     3.102688  ...     19.611588     72.25107   \n\n   Humidity3pm  Pressure9am  Pressure3pm  Cloud9am  Cloud3pm    Temp9am  \\\n0    54.674699  1017.589078  1014.939908  4.275437  4.529652  11.515598   \n1    54.674699  1017.589078  1014.939908  4.275437  4.529652  11.515598   \n2    54.674699  1017.589078  1014.939908  4.275437  4.529652  11.515598   \n3    54.674699  1017.589078  1014.939908  4.275437  4.529652  11.515598   \n4    54.674699  1017.589078  1014.939908  4.275437  4.529652  11.515598   \n\n     Temp3pm   Day  \n0  15.568909  16.0  \n1  15.568909  16.0  \n2  15.568909  16.0  \n3  15.568909  16.0  \n4  15.568909  16.0  \n\n[5 rows x 23 columns]",
      "text/html": "<div>\n<style scoped>\n    .dataframe tbody tr th:only-of-type {\n        vertical-align: middle;\n    }\n\n    .dataframe tbody tr th {\n        vertical-align: top;\n    }\n\n    .dataframe thead th {\n        text-align: right;\n    }\n</style>\n<table border=\"1\" class=\"dataframe\">\n  <thead>\n    <tr style=\"text-align: right;\">\n      <th></th>\n      <th>Departing_Port</th>\n      <th>Arriving_Port</th>\n      <th>Month</th>\n      <th>Year</th>\n      <th>Average_Fare</th>\n      <th>Distance</th>\n      <th>MinTemp</th>\n      <th>MaxTemp</th>\n      <th>Rainfall</th>\n      <th>Evaporation</th>\n      <th>...</th>\n      <th>WindSpeed3pm</th>\n      <th>Humidity9am</th>\n      <th>Humidity3pm</th>\n      <th>Pressure9am</th>\n      <th>Pressure3pm</th>\n      <th>Cloud9am</th>\n      <th>Cloud3pm</th>\n      <th>Temp9am</th>\n      <th>Temp3pm</th>\n      <th>Day</th>\n    </tr>\n  </thead>\n  <tbody>\n    <tr>\n      <th>0</th>\n      <td>Adelaide</td>\n      <td>Brisbane</td>\n      <td>8</td>\n      <td>2010</td>\n      <td>157.0</td>\n      <td>1619.982414</td>\n      <td>7.039858</td>\n      <td>16.730247</td>\n      <td>2.423597</td>\n      <td>3.102688</td>\n      <td>...</td>\n      <td>19.611588</td>\n      <td>72.25107</td>\n      <td>54.674699</td>\n      <td>1017.589078</td>\n      <td>1014.939908</td>\n      <td>4.275437</td>\n      <td>4.529652</td>\n      <td>11.515598</td>\n      <td>15.568909</td>\n      <td>16.0</td>\n    </tr>\n    <tr>\n      <th>1</th>\n      <td>Adelaide</td>\n      <td>Canberra</td>\n      <td>8</td>\n      <td>2010</td>\n      <td>350.0</td>\n      <td>970.229046</td>\n      <td>7.039858</td>\n      <td>16.730247</td>\n      <td>2.423597</td>\n      <td>3.102688</td>\n      <td>...</td>\n      <td>19.611588</td>\n      <td>72.25107</td>\n      <td>54.674699</td>\n      <td>1017.589078</td>\n      <td>1014.939908</td>\n      <td>4.275437</td>\n      <td>4.529652</td>\n      <td>11.515598</td>\n      <td>15.568909</td>\n      <td>16.0</td>\n    </tr>\n    <tr>\n      <th>2</th>\n      <td>Adelaide</td>\n      <td>Gold Coast</td>\n      <td>8</td>\n      <td>2010</td>\n      <td>232.0</td>\n      <td>1604.162840</td>\n      <td>7.039858</td>\n      <td>16.730247</td>\n      <td>2.423597</td>\n      <td>3.102688</td>\n      <td>...</td>\n      <td>19.611588</td>\n      <td>72.25107</td>\n      <td>54.674699</td>\n      <td>1017.589078</td>\n      <td>1014.939908</td>\n      <td>4.275437</td>\n      <td>4.529652</td>\n      <td>11.515598</td>\n      <td>15.568909</td>\n      <td>16.0</td>\n    </tr>\n    <tr>\n      <th>3</th>\n      <td>Adelaide</td>\n      <td>Melbourne</td>\n      <td>8</td>\n      <td>2010</td>\n      <td>87.0</td>\n      <td>641.652927</td>\n      <td>7.039858</td>\n      <td>16.730247</td>\n      <td>2.423597</td>\n      <td>3.102688</td>\n      <td>...</td>\n      <td>19.611588</td>\n      <td>72.25107</td>\n      <td>54.674699</td>\n      <td>1017.589078</td>\n      <td>1014.939908</td>\n      <td>4.275437</td>\n      <td>4.529652</td>\n      <td>11.515598</td>\n      <td>15.568909</td>\n      <td>16.0</td>\n    </tr>\n    <tr>\n      <th>4</th>\n      <td>Adelaide</td>\n      <td>Perth</td>\n      <td>8</td>\n      <td>2010</td>\n      <td>406.0</td>\n      <td>2115.440208</td>\n      <td>7.039858</td>\n      <td>16.730247</td>\n      <td>2.423597</td>\n      <td>3.102688</td>\n      <td>...</td>\n      <td>19.611588</td>\n      <td>72.25107</td>\n      <td>54.674699</td>\n      <td>1017.589078</td>\n      <td>1014.939908</td>\n      <td>4.275437</td>\n      <td>4.529652</td>\n      <td>11.515598</td>\n      <td>15.568909</td>\n      <td>16.0</td>\n    </tr>\n  </tbody>\n</table>\n<p>5 rows × 23 columns</p>\n</div>"
     },
     "execution_count": 6,
     "metadata": {},
     "output_type": "execute_result"
    }
   ],
   "source": [
    "flight_fares_with_weather.head()"
   ],
   "metadata": {
    "collapsed": false,
    "ExecuteTime": {
     "end_time": "2024-09-28T13:13:02.897802300Z",
     "start_time": "2024-09-28T13:13:02.817014400Z"
    }
   }
  },
  {
   "cell_type": "code",
   "execution_count": 8,
   "outputs": [],
   "source": [
    "flight_delays[\"Date\"] = pd.to_datetime(flight_delays[\"Date\"])"
   ],
   "metadata": {
    "collapsed": false,
    "ExecuteTime": {
     "end_time": "2024-09-28T13:13:26.284813700Z",
     "start_time": "2024-09-28T13:13:26.255656700Z"
    }
   }
  },
  {
   "cell_type": "code",
   "execution_count": 10,
   "outputs": [],
   "source": [
    "flight_delays[\"Month\"] = flight_delays[\"Date\"].apply(lambda x: x.month)\n",
    "flight_delays[\"Year\"] = flight_delays[\"Date\"].apply(lambda x: x.year)"
   ],
   "metadata": {
    "collapsed": false,
    "ExecuteTime": {
     "end_time": "2024-09-28T13:14:13.014661Z",
     "start_time": "2024-09-28T13:14:12.479032200Z"
    }
   }
  },
  {
   "cell_type": "code",
   "execution_count": 11,
   "outputs": [
    {
     "data": {
      "text/plain": "      Departing_Port Arriving_Port                             Airline  \\\n0           Adelaide      Brisbane                             Jetstar   \n1           Adelaide    Gold Coast                             Jetstar   \n2           Adelaide     Melbourne                             Jetstar   \n3           Adelaide         Perth                             Jetstar   \n4           Adelaide        Sydney                             Jetstar   \n...              ...           ...                                 ...   \n59377          Perth    Kalgoorlie  Virgin Australia Regional Airlines   \n59378          Perth      Karratha  Virgin Australia Regional Airlines   \n59379          Perth        Newman  Virgin Australia Regional Airlines   \n59380          Perth  Port Hedland  Virgin Australia Regional Airlines   \n59381   Port Hedland         Perth  Virgin Australia Regional Airlines   \n\n            Date  Departure_Delays_%  Arrival_Delays_%  Cancellations_%  \\\n0     2010-01-01            0.266667          0.233333         0.000000   \n1     2010-01-01            0.166667          0.166667         0.000000   \n2     2010-01-01            0.255319          0.234043         0.000000   \n3     2010-01-01            0.137931          0.103448         0.000000   \n4     2010-01-01            0.118644          0.322034         0.000000   \n...          ...                 ...               ...              ...   \n59377 2024-02-01            0.157895          0.210526         0.052632   \n59378 2024-02-01            0.142857          0.071429         0.000000   \n59379 2024-02-01            0.076923          0.153846         0.000000   \n59380 2024-02-01            0.166667          0.166667         0.083333   \n59381 2024-02-01            0.538462          0.461538         0.153846   \n\n       Month  Year  \n0          1  2010  \n1          1  2010  \n2          1  2010  \n3          1  2010  \n4          1  2010  \n...      ...   ...  \n59377      2  2024  \n59378      2  2024  \n59379      2  2024  \n59380      2  2024  \n59381      2  2024  \n\n[59382 rows x 9 columns]",
      "text/html": "<div>\n<style scoped>\n    .dataframe tbody tr th:only-of-type {\n        vertical-align: middle;\n    }\n\n    .dataframe tbody tr th {\n        vertical-align: top;\n    }\n\n    .dataframe thead th {\n        text-align: right;\n    }\n</style>\n<table border=\"1\" class=\"dataframe\">\n  <thead>\n    <tr style=\"text-align: right;\">\n      <th></th>\n      <th>Departing_Port</th>\n      <th>Arriving_Port</th>\n      <th>Airline</th>\n      <th>Date</th>\n      <th>Departure_Delays_%</th>\n      <th>Arrival_Delays_%</th>\n      <th>Cancellations_%</th>\n      <th>Month</th>\n      <th>Year</th>\n    </tr>\n  </thead>\n  <tbody>\n    <tr>\n      <th>0</th>\n      <td>Adelaide</td>\n      <td>Brisbane</td>\n      <td>Jetstar</td>\n      <td>2010-01-01</td>\n      <td>0.266667</td>\n      <td>0.233333</td>\n      <td>0.000000</td>\n      <td>1</td>\n      <td>2010</td>\n    </tr>\n    <tr>\n      <th>1</th>\n      <td>Adelaide</td>\n      <td>Gold Coast</td>\n      <td>Jetstar</td>\n      <td>2010-01-01</td>\n      <td>0.166667</td>\n      <td>0.166667</td>\n      <td>0.000000</td>\n      <td>1</td>\n      <td>2010</td>\n    </tr>\n    <tr>\n      <th>2</th>\n      <td>Adelaide</td>\n      <td>Melbourne</td>\n      <td>Jetstar</td>\n      <td>2010-01-01</td>\n      <td>0.255319</td>\n      <td>0.234043</td>\n      <td>0.000000</td>\n      <td>1</td>\n      <td>2010</td>\n    </tr>\n    <tr>\n      <th>3</th>\n      <td>Adelaide</td>\n      <td>Perth</td>\n      <td>Jetstar</td>\n      <td>2010-01-01</td>\n      <td>0.137931</td>\n      <td>0.103448</td>\n      <td>0.000000</td>\n      <td>1</td>\n      <td>2010</td>\n    </tr>\n    <tr>\n      <th>4</th>\n      <td>Adelaide</td>\n      <td>Sydney</td>\n      <td>Jetstar</td>\n      <td>2010-01-01</td>\n      <td>0.118644</td>\n      <td>0.322034</td>\n      <td>0.000000</td>\n      <td>1</td>\n      <td>2010</td>\n    </tr>\n    <tr>\n      <th>...</th>\n      <td>...</td>\n      <td>...</td>\n      <td>...</td>\n      <td>...</td>\n      <td>...</td>\n      <td>...</td>\n      <td>...</td>\n      <td>...</td>\n      <td>...</td>\n    </tr>\n    <tr>\n      <th>59377</th>\n      <td>Perth</td>\n      <td>Kalgoorlie</td>\n      <td>Virgin Australia Regional Airlines</td>\n      <td>2024-02-01</td>\n      <td>0.157895</td>\n      <td>0.210526</td>\n      <td>0.052632</td>\n      <td>2</td>\n      <td>2024</td>\n    </tr>\n    <tr>\n      <th>59378</th>\n      <td>Perth</td>\n      <td>Karratha</td>\n      <td>Virgin Australia Regional Airlines</td>\n      <td>2024-02-01</td>\n      <td>0.142857</td>\n      <td>0.071429</td>\n      <td>0.000000</td>\n      <td>2</td>\n      <td>2024</td>\n    </tr>\n    <tr>\n      <th>59379</th>\n      <td>Perth</td>\n      <td>Newman</td>\n      <td>Virgin Australia Regional Airlines</td>\n      <td>2024-02-01</td>\n      <td>0.076923</td>\n      <td>0.153846</td>\n      <td>0.000000</td>\n      <td>2</td>\n      <td>2024</td>\n    </tr>\n    <tr>\n      <th>59380</th>\n      <td>Perth</td>\n      <td>Port Hedland</td>\n      <td>Virgin Australia Regional Airlines</td>\n      <td>2024-02-01</td>\n      <td>0.166667</td>\n      <td>0.166667</td>\n      <td>0.083333</td>\n      <td>2</td>\n      <td>2024</td>\n    </tr>\n    <tr>\n      <th>59381</th>\n      <td>Port Hedland</td>\n      <td>Perth</td>\n      <td>Virgin Australia Regional Airlines</td>\n      <td>2024-02-01</td>\n      <td>0.538462</td>\n      <td>0.461538</td>\n      <td>0.153846</td>\n      <td>2</td>\n      <td>2024</td>\n    </tr>\n  </tbody>\n</table>\n<p>59382 rows × 9 columns</p>\n</div>"
     },
     "execution_count": 11,
     "metadata": {},
     "output_type": "execute_result"
    }
   ],
   "source": [
    "flight_delays"
   ],
   "metadata": {
    "collapsed": false,
    "ExecuteTime": {
     "end_time": "2024-09-28T13:14:14.855234100Z",
     "start_time": "2024-09-28T13:14:14.823696800Z"
    }
   }
  },
  {
   "cell_type": "code",
   "execution_count": 14,
   "outputs": [
    {
     "data": {
      "text/plain": "array([2010, 2011, 2012, 2013, 2014, 2015, 2016, 2017, 2018, 2019, 2020,\n       2021, 2022, 2023, 2024], dtype=int64)"
     },
     "execution_count": 14,
     "metadata": {},
     "output_type": "execute_result"
    }
   ],
   "source": [
    "import numpy as np\n",
    "np.unique(flight_delays.Year)"
   ],
   "metadata": {
    "collapsed": false,
    "ExecuteTime": {
     "end_time": "2024-09-28T13:14:43.711257300Z",
     "start_time": "2024-09-28T13:14:43.685277500Z"
    }
   }
  },
  {
   "cell_type": "code",
   "execution_count": 18,
   "outputs": [
    {
     "name": "stdout",
     "output_type": "stream",
     "text": [
      "2010\n",
      "[ 1  2  3  4  5  6  7  8  9 10 11 12]\n",
      "2011\n",
      "[ 1  2  3  4  5  6  7  8  9 10 11 12]\n",
      "2012\n",
      "[ 1  2  3  4  5  6  7  8  9 10 11 12]\n",
      "2013\n",
      "[ 1  2  3  4  5  6  7  8  9 10 11 12]\n",
      "2014\n",
      "[ 1  2  3  4  5  6  7  8  9 10 11 12]\n",
      "2015\n",
      "[ 1  2  3  4  5  6  7  8  9 10 11 12]\n",
      "2016\n",
      "[ 1  2  3  4  5  6  7  8  9 10 11 12]\n",
      "2017\n",
      "[ 1  2  3  4  5  6  7  8  9 10 11 12]\n",
      "2018\n",
      "[ 1  2  3  4  5  6  7  8  9 10 11 12]\n",
      "2019\n",
      "[ 1  2  3  4  5  6  7  8  9 10 11 12]\n",
      "2020\n",
      "[ 1  2  3  4  5  6  7  8  9 10 11 12]\n",
      "2021\n",
      "[ 1  2  3  4  5  6  7  8  9 10 11 12]\n",
      "2022\n",
      "[ 1  2  3  4  5  6  7  8  9 10 11 12]\n",
      "2023\n",
      "[ 1  2  3  4  5  6  7  8  9 10 11 12]\n",
      "2024\n",
      "[1 2]\n"
     ]
    }
   ],
   "source": [
    "import numpy as np\n",
    "for year in list(np.unique(flight_delays.Year)):\n",
    "\n",
    "    data = flight_delays.loc[flight_delays[\"Year\"] == year]\n",
    "\n",
    "    months = data[\"Month\"]\n",
    "\n",
    "    print(year)\n",
    "    print(np.unique(months))"
   ],
   "metadata": {
    "collapsed": false,
    "ExecuteTime": {
     "end_time": "2024-09-28T13:16:21.646592600Z",
     "start_time": "2024-09-28T13:16:21.610676200Z"
    }
   }
  },
  {
   "cell_type": "code",
   "execution_count": null,
   "outputs": [],
   "source": [],
   "metadata": {
    "collapsed": false
   }
  },
  {
   "cell_type": "code",
   "execution_count": 22,
   "outputs": [],
   "source": [
    "combined_data = pd.merge(\n",
    "    left=flight_fares_with_weather,\n",
    "    right=flight_delays,\n",
    "    how='outer',\n",
    "    left_on=['Month', 'Year', 'Departing_Port', 'Arriving_Port'],\n",
    "    right_on=['Month', 'Year', 'Departing_Port', 'Arriving_Port'],\n",
    ")"
   ],
   "metadata": {
    "collapsed": false,
    "ExecuteTime": {
     "end_time": "2024-09-28T13:19:07.655216300Z",
     "start_time": "2024-09-28T13:19:06.232202100Z"
    }
   }
  },
  {
   "cell_type": "code",
   "execution_count": 26,
   "outputs": [],
   "source": [
    "combined_data = combined_data.dropna()"
   ],
   "metadata": {
    "collapsed": false,
    "ExecuteTime": {
     "end_time": "2024-09-28T13:19:50.916630800Z",
     "start_time": "2024-09-28T13:19:50.866426900Z"
    }
   }
  },
  {
   "cell_type": "code",
   "execution_count": 27,
   "outputs": [
    {
     "name": "stderr",
     "output_type": "stream",
     "text": [
      "ERROR:root:Internal Python error in the inspect module.\n",
      "Below is the traceback from this internal error.\n",
      "\n"
     ]
    },
    {
     "name": "stdout",
     "output_type": "stream",
     "text": [
      "Traceback (most recent call last):\n",
      "  File \"C:\\ProgramData\\Anaconda3\\lib\\site-packages\\pandas\\core\\indexes\\base.py\", line 2895, in get_loc\n",
      "    return self._engine.get_loc(casted_key)\n",
      "  File \"pandas\\_libs\\index.pyx\", line 70, in pandas._libs.index.IndexEngine.get_loc\n",
      "  File \"pandas\\_libs\\index.pyx\", line 101, in pandas._libs.index.IndexEngine.get_loc\n",
      "  File \"pandas\\_libs\\hashtable_class_helper.pxi\", line 1675, in pandas._libs.hashtable.PyObjectHashTable.get_item\n",
      "  File \"pandas\\_libs\\hashtable_class_helper.pxi\", line 1683, in pandas._libs.hashtable.PyObjectHashTable.get_item\n",
      "KeyError: 'Day'\n",
      "\n",
      "The above exception was the direct cause of the following exception:\n",
      "\n",
      "Traceback (most recent call last):\n",
      "  File \"C:\\ProgramData\\Anaconda3\\lib\\site-packages\\IPython\\core\\interactiveshell.py\", line 3418, in run_code\n",
      "    exec(code_obj, self.user_global_ns, self.user_ns)\n",
      "  File \"<ipython-input-27-62f96e7098bf>\", line 1, in <module>\n",
      "    del combined_data[\"Day\"]\n",
      "  File \"C:\\ProgramData\\Anaconda3\\lib\\site-packages\\pandas\\core\\generic.py\", line 3711, in __delitem__\n",
      "    loc = self.axes[-1].get_loc(key)\n",
      "  File \"C:\\ProgramData\\Anaconda3\\lib\\site-packages\\pandas\\core\\indexes\\base.py\", line 2897, in get_loc\n",
      "    raise KeyError(key) from err\n",
      "KeyError: 'Day'\n",
      "\n",
      "During handling of the above exception, another exception occurred:\n",
      "\n",
      "Traceback (most recent call last):\n",
      "  File \"C:\\ProgramData\\Anaconda3\\lib\\site-packages\\IPython\\core\\interactiveshell.py\", line 2045, in showtraceback\n",
      "    stb = value._render_traceback_()\n",
      "AttributeError: 'KeyError' object has no attribute '_render_traceback_'\n",
      "\n",
      "During handling of the above exception, another exception occurred:\n",
      "\n",
      "Traceback (most recent call last):\n",
      "  File \"C:\\ProgramData\\Anaconda3\\lib\\site-packages\\IPython\\core\\ultratb.py\", line 1170, in get_records\n",
      "    return _fixed_getinnerframes(etb, number_of_lines_of_context, tb_offset)\n",
      "  File \"C:\\ProgramData\\Anaconda3\\lib\\site-packages\\IPython\\core\\ultratb.py\", line 316, in wrapped\n",
      "    return f(*args, **kwargs)\n",
      "  File \"C:\\ProgramData\\Anaconda3\\lib\\site-packages\\IPython\\core\\ultratb.py\", line 350, in _fixed_getinnerframes\n",
      "    records = fix_frame_records_filenames(inspect.getinnerframes(etb, context))\n",
      "  File \"C:\\ProgramData\\Anaconda3\\lib\\inspect.py\", line 1503, in getinnerframes\n",
      "    frameinfo = (tb.tb_frame,) + getframeinfo(tb, context)\n",
      "  File \"C:\\ProgramData\\Anaconda3\\lib\\inspect.py\", line 1461, in getframeinfo\n",
      "    filename = getsourcefile(frame) or getfile(frame)\n",
      "  File \"C:\\ProgramData\\Anaconda3\\lib\\inspect.py\", line 708, in getsourcefile\n",
      "    if getattr(getmodule(object, filename), '__loader__', None) is not None:\n",
      "  File \"C:\\ProgramData\\Anaconda3\\lib\\inspect.py\", line 746, in getmodule\n",
      "    f = module.__file__\n",
      "KeyboardInterrupt\n"
     ]
    },
    {
     "ename": "TypeError",
     "evalue": "object of type 'NoneType' has no len()",
     "output_type": "error",
     "traceback": [
      "\u001B[1;31m---------------------------------------------------------------------------\u001B[0m",
      "\u001B[1;31mKeyError\u001B[0m                                  Traceback (most recent call last)",
      "\u001B[1;32mC:\\ProgramData\\Anaconda3\\lib\\site-packages\\pandas\\core\\indexes\\base.py\u001B[0m in \u001B[0;36mget_loc\u001B[1;34m(self, key, method, tolerance)\u001B[0m\n\u001B[0;32m   2894\u001B[0m             \u001B[1;32mtry\u001B[0m\u001B[1;33m:\u001B[0m\u001B[1;33m\u001B[0m\u001B[1;33m\u001B[0m\u001B[0m\n\u001B[1;32m-> 2895\u001B[1;33m                 \u001B[1;32mreturn\u001B[0m \u001B[0mself\u001B[0m\u001B[1;33m.\u001B[0m\u001B[0m_engine\u001B[0m\u001B[1;33m.\u001B[0m\u001B[0mget_loc\u001B[0m\u001B[1;33m(\u001B[0m\u001B[0mcasted_key\u001B[0m\u001B[1;33m)\u001B[0m\u001B[1;33m\u001B[0m\u001B[1;33m\u001B[0m\u001B[0m\n\u001B[0m\u001B[0;32m   2896\u001B[0m             \u001B[1;32mexcept\u001B[0m \u001B[0mKeyError\u001B[0m \u001B[1;32mas\u001B[0m \u001B[0merr\u001B[0m\u001B[1;33m:\u001B[0m\u001B[1;33m\u001B[0m\u001B[1;33m\u001B[0m\u001B[0m\n",
      "\u001B[1;32mpandas\\_libs\\index.pyx\u001B[0m in \u001B[0;36mpandas._libs.index.IndexEngine.get_loc\u001B[1;34m()\u001B[0m\n",
      "\u001B[1;32mpandas\\_libs\\index.pyx\u001B[0m in \u001B[0;36mpandas._libs.index.IndexEngine.get_loc\u001B[1;34m()\u001B[0m\n",
      "\u001B[1;32mpandas\\_libs\\hashtable_class_helper.pxi\u001B[0m in \u001B[0;36mpandas._libs.hashtable.PyObjectHashTable.get_item\u001B[1;34m()\u001B[0m\n",
      "\u001B[1;32mpandas\\_libs\\hashtable_class_helper.pxi\u001B[0m in \u001B[0;36mpandas._libs.hashtable.PyObjectHashTable.get_item\u001B[1;34m()\u001B[0m\n",
      "\u001B[1;31mKeyError\u001B[0m: 'Day'",
      "\nThe above exception was the direct cause of the following exception:\n",
      "\u001B[1;31mKeyError\u001B[0m                                  Traceback (most recent call last)",
      "    \u001B[1;31m[... skipping hidden 1 frame]\u001B[0m\n",
      "\u001B[1;32m<ipython-input-27-62f96e7098bf>\u001B[0m in \u001B[0;36m<module>\u001B[1;34m\u001B[0m\n\u001B[1;32m----> 1\u001B[1;33m \u001B[1;32mdel\u001B[0m \u001B[0mcombined_data\u001B[0m\u001B[1;33m[\u001B[0m\u001B[1;34m\"Day\"\u001B[0m\u001B[1;33m]\u001B[0m\u001B[1;33m\u001B[0m\u001B[1;33m\u001B[0m\u001B[0m\n\u001B[0m\u001B[0;32m      2\u001B[0m \u001B[1;32mdel\u001B[0m \u001B[0mcombined_data\u001B[0m\u001B[1;33m[\u001B[0m\u001B[1;34m\"Date\"\u001B[0m\u001B[1;33m]\u001B[0m\u001B[1;33m\u001B[0m\u001B[1;33m\u001B[0m\u001B[0m\n",
      "\u001B[1;32mC:\\ProgramData\\Anaconda3\\lib\\site-packages\\pandas\\core\\generic.py\u001B[0m in \u001B[0;36m__delitem__\u001B[1;34m(self, key)\u001B[0m\n\u001B[0;32m   3710\u001B[0m             \u001B[1;31m# exception:\u001B[0m\u001B[1;33m\u001B[0m\u001B[1;33m\u001B[0m\u001B[1;33m\u001B[0m\u001B[0m\n\u001B[1;32m-> 3711\u001B[1;33m             \u001B[0mloc\u001B[0m \u001B[1;33m=\u001B[0m \u001B[0mself\u001B[0m\u001B[1;33m.\u001B[0m\u001B[0maxes\u001B[0m\u001B[1;33m[\u001B[0m\u001B[1;33m-\u001B[0m\u001B[1;36m1\u001B[0m\u001B[1;33m]\u001B[0m\u001B[1;33m.\u001B[0m\u001B[0mget_loc\u001B[0m\u001B[1;33m(\u001B[0m\u001B[0mkey\u001B[0m\u001B[1;33m)\u001B[0m\u001B[1;33m\u001B[0m\u001B[1;33m\u001B[0m\u001B[0m\n\u001B[0m\u001B[0;32m   3712\u001B[0m             \u001B[0mself\u001B[0m\u001B[1;33m.\u001B[0m\u001B[0m_mgr\u001B[0m\u001B[1;33m.\u001B[0m\u001B[0midelete\u001B[0m\u001B[1;33m(\u001B[0m\u001B[0mloc\u001B[0m\u001B[1;33m)\u001B[0m\u001B[1;33m\u001B[0m\u001B[1;33m\u001B[0m\u001B[0m\n",
      "\u001B[1;32mC:\\ProgramData\\Anaconda3\\lib\\site-packages\\pandas\\core\\indexes\\base.py\u001B[0m in \u001B[0;36mget_loc\u001B[1;34m(self, key, method, tolerance)\u001B[0m\n\u001B[0;32m   2896\u001B[0m             \u001B[1;32mexcept\u001B[0m \u001B[0mKeyError\u001B[0m \u001B[1;32mas\u001B[0m \u001B[0merr\u001B[0m\u001B[1;33m:\u001B[0m\u001B[1;33m\u001B[0m\u001B[1;33m\u001B[0m\u001B[0m\n\u001B[1;32m-> 2897\u001B[1;33m                 \u001B[1;32mraise\u001B[0m \u001B[0mKeyError\u001B[0m\u001B[1;33m(\u001B[0m\u001B[0mkey\u001B[0m\u001B[1;33m)\u001B[0m \u001B[1;32mfrom\u001B[0m \u001B[0merr\u001B[0m\u001B[1;33m\u001B[0m\u001B[1;33m\u001B[0m\u001B[0m\n\u001B[0m\u001B[0;32m   2898\u001B[0m \u001B[1;33m\u001B[0m\u001B[0m\n",
      "\u001B[1;31mKeyError\u001B[0m: 'Day'",
      "\nDuring handling of the above exception, another exception occurred:\n",
      "\u001B[1;31mAttributeError\u001B[0m                            Traceback (most recent call last)",
      "\u001B[1;32mC:\\ProgramData\\Anaconda3\\lib\\site-packages\\IPython\\core\\interactiveshell.py\u001B[0m in \u001B[0;36mshowtraceback\u001B[1;34m(self, exc_tuple, filename, tb_offset, exception_only, running_compiled_code)\u001B[0m\n\u001B[0;32m   2044\u001B[0m                         \u001B[1;31m# in the engines. This should return a list of strings.\u001B[0m\u001B[1;33m\u001B[0m\u001B[1;33m\u001B[0m\u001B[1;33m\u001B[0m\u001B[0m\n\u001B[1;32m-> 2045\u001B[1;33m                         \u001B[0mstb\u001B[0m \u001B[1;33m=\u001B[0m \u001B[0mvalue\u001B[0m\u001B[1;33m.\u001B[0m\u001B[0m_render_traceback_\u001B[0m\u001B[1;33m(\u001B[0m\u001B[1;33m)\u001B[0m\u001B[1;33m\u001B[0m\u001B[1;33m\u001B[0m\u001B[0m\n\u001B[0m\u001B[0;32m   2046\u001B[0m                     \u001B[1;32mexcept\u001B[0m \u001B[0mException\u001B[0m\u001B[1;33m:\u001B[0m\u001B[1;33m\u001B[0m\u001B[1;33m\u001B[0m\u001B[0m\n",
      "\u001B[1;31mAttributeError\u001B[0m: 'KeyError' object has no attribute '_render_traceback_'",
      "\nDuring handling of the above exception, another exception occurred:\n",
      "\u001B[1;31mTypeError\u001B[0m                                 Traceback (most recent call last)",
      "    \u001B[1;31m[... skipping hidden 1 frame]\u001B[0m\n",
      "\u001B[1;32mC:\\ProgramData\\Anaconda3\\lib\\site-packages\\IPython\\core\\interactiveshell.py\u001B[0m in \u001B[0;36mshowtraceback\u001B[1;34m(self, exc_tuple, filename, tb_offset, exception_only, running_compiled_code)\u001B[0m\n\u001B[0;32m   2045\u001B[0m                         \u001B[0mstb\u001B[0m \u001B[1;33m=\u001B[0m \u001B[0mvalue\u001B[0m\u001B[1;33m.\u001B[0m\u001B[0m_render_traceback_\u001B[0m\u001B[1;33m(\u001B[0m\u001B[1;33m)\u001B[0m\u001B[1;33m\u001B[0m\u001B[1;33m\u001B[0m\u001B[0m\n\u001B[0;32m   2046\u001B[0m                     \u001B[1;32mexcept\u001B[0m \u001B[0mException\u001B[0m\u001B[1;33m:\u001B[0m\u001B[1;33m\u001B[0m\u001B[1;33m\u001B[0m\u001B[0m\n\u001B[1;32m-> 2047\u001B[1;33m                         stb = self.InteractiveTB.structured_traceback(etype,\n\u001B[0m\u001B[0;32m   2048\u001B[0m                                             value, tb, tb_offset=tb_offset)\n\u001B[0;32m   2049\u001B[0m \u001B[1;33m\u001B[0m\u001B[0m\n",
      "\u001B[1;32mC:\\ProgramData\\Anaconda3\\lib\\site-packages\\IPython\\core\\ultratb.py\u001B[0m in \u001B[0;36mstructured_traceback\u001B[1;34m(self, etype, value, tb, tb_offset, number_of_lines_of_context)\u001B[0m\n\u001B[0;32m   1434\u001B[0m         \u001B[1;32melse\u001B[0m\u001B[1;33m:\u001B[0m\u001B[1;33m\u001B[0m\u001B[1;33m\u001B[0m\u001B[0m\n\u001B[0;32m   1435\u001B[0m             \u001B[0mself\u001B[0m\u001B[1;33m.\u001B[0m\u001B[0mtb\u001B[0m \u001B[1;33m=\u001B[0m \u001B[0mtb\u001B[0m\u001B[1;33m\u001B[0m\u001B[1;33m\u001B[0m\u001B[0m\n\u001B[1;32m-> 1436\u001B[1;33m         return FormattedTB.structured_traceback(\n\u001B[0m\u001B[0;32m   1437\u001B[0m             self, etype, value, tb, tb_offset, number_of_lines_of_context)\n\u001B[0;32m   1438\u001B[0m \u001B[1;33m\u001B[0m\u001B[0m\n",
      "\u001B[1;32mC:\\ProgramData\\Anaconda3\\lib\\site-packages\\IPython\\core\\ultratb.py\u001B[0m in \u001B[0;36mstructured_traceback\u001B[1;34m(self, etype, value, tb, tb_offset, number_of_lines_of_context)\u001B[0m\n\u001B[0;32m   1334\u001B[0m         \u001B[1;32mif\u001B[0m \u001B[0mmode\u001B[0m \u001B[1;32min\u001B[0m \u001B[0mself\u001B[0m\u001B[1;33m.\u001B[0m\u001B[0mverbose_modes\u001B[0m\u001B[1;33m:\u001B[0m\u001B[1;33m\u001B[0m\u001B[1;33m\u001B[0m\u001B[0m\n\u001B[0;32m   1335\u001B[0m             \u001B[1;31m# Verbose modes need a full traceback\u001B[0m\u001B[1;33m\u001B[0m\u001B[1;33m\u001B[0m\u001B[1;33m\u001B[0m\u001B[0m\n\u001B[1;32m-> 1336\u001B[1;33m             return VerboseTB.structured_traceback(\n\u001B[0m\u001B[0;32m   1337\u001B[0m                 \u001B[0mself\u001B[0m\u001B[1;33m,\u001B[0m \u001B[0metype\u001B[0m\u001B[1;33m,\u001B[0m \u001B[0mvalue\u001B[0m\u001B[1;33m,\u001B[0m \u001B[0mtb\u001B[0m\u001B[1;33m,\u001B[0m \u001B[0mtb_offset\u001B[0m\u001B[1;33m,\u001B[0m \u001B[0mnumber_of_lines_of_context\u001B[0m\u001B[1;33m\u001B[0m\u001B[1;33m\u001B[0m\u001B[0m\n\u001B[0;32m   1338\u001B[0m             )\n",
      "\u001B[1;32mC:\\ProgramData\\Anaconda3\\lib\\site-packages\\IPython\\core\\ultratb.py\u001B[0m in \u001B[0;36mstructured_traceback\u001B[1;34m(self, etype, evalue, etb, tb_offset, number_of_lines_of_context)\u001B[0m\n\u001B[0;32m   1191\u001B[0m         \u001B[1;34m\"\"\"Return a nice text document describing the traceback.\"\"\"\u001B[0m\u001B[1;33m\u001B[0m\u001B[1;33m\u001B[0m\u001B[0m\n\u001B[0;32m   1192\u001B[0m \u001B[1;33m\u001B[0m\u001B[0m\n\u001B[1;32m-> 1193\u001B[1;33m         formatted_exception = self.format_exception_as_a_whole(etype, evalue, etb, number_of_lines_of_context,\n\u001B[0m\u001B[0;32m   1194\u001B[0m                                                                tb_offset)\n\u001B[0;32m   1195\u001B[0m \u001B[1;33m\u001B[0m\u001B[0m\n",
      "\u001B[1;32mC:\\ProgramData\\Anaconda3\\lib\\site-packages\\IPython\\core\\ultratb.py\u001B[0m in \u001B[0;36mformat_exception_as_a_whole\u001B[1;34m(self, etype, evalue, etb, number_of_lines_of_context, tb_offset)\u001B[0m\n\u001B[0;32m   1149\u001B[0m \u001B[1;33m\u001B[0m\u001B[0m\n\u001B[0;32m   1150\u001B[0m \u001B[1;33m\u001B[0m\u001B[0m\n\u001B[1;32m-> 1151\u001B[1;33m         \u001B[0mlast_unique\u001B[0m\u001B[1;33m,\u001B[0m \u001B[0mrecursion_repeat\u001B[0m \u001B[1;33m=\u001B[0m \u001B[0mfind_recursion\u001B[0m\u001B[1;33m(\u001B[0m\u001B[0morig_etype\u001B[0m\u001B[1;33m,\u001B[0m \u001B[0mevalue\u001B[0m\u001B[1;33m,\u001B[0m \u001B[0mrecords\u001B[0m\u001B[1;33m)\u001B[0m\u001B[1;33m\u001B[0m\u001B[1;33m\u001B[0m\u001B[0m\n\u001B[0m\u001B[0;32m   1152\u001B[0m \u001B[1;33m\u001B[0m\u001B[0m\n\u001B[0;32m   1153\u001B[0m         \u001B[0mframes\u001B[0m \u001B[1;33m=\u001B[0m \u001B[0mself\u001B[0m\u001B[1;33m.\u001B[0m\u001B[0mformat_records\u001B[0m\u001B[1;33m(\u001B[0m\u001B[0mrecords\u001B[0m\u001B[1;33m,\u001B[0m \u001B[0mlast_unique\u001B[0m\u001B[1;33m,\u001B[0m \u001B[0mrecursion_repeat\u001B[0m\u001B[1;33m)\u001B[0m\u001B[1;33m\u001B[0m\u001B[1;33m\u001B[0m\u001B[0m\n",
      "\u001B[1;32mC:\\ProgramData\\Anaconda3\\lib\\site-packages\\IPython\\core\\ultratb.py\u001B[0m in \u001B[0;36mfind_recursion\u001B[1;34m(etype, value, records)\u001B[0m\n\u001B[0;32m    449\u001B[0m     \u001B[1;31m# first frame (from in to out) that looks different.\u001B[0m\u001B[1;33m\u001B[0m\u001B[1;33m\u001B[0m\u001B[1;33m\u001B[0m\u001B[0m\n\u001B[0;32m    450\u001B[0m     \u001B[1;32mif\u001B[0m \u001B[1;32mnot\u001B[0m \u001B[0mis_recursion_error\u001B[0m\u001B[1;33m(\u001B[0m\u001B[0metype\u001B[0m\u001B[1;33m,\u001B[0m \u001B[0mvalue\u001B[0m\u001B[1;33m,\u001B[0m \u001B[0mrecords\u001B[0m\u001B[1;33m)\u001B[0m\u001B[1;33m:\u001B[0m\u001B[1;33m\u001B[0m\u001B[1;33m\u001B[0m\u001B[0m\n\u001B[1;32m--> 451\u001B[1;33m         \u001B[1;32mreturn\u001B[0m \u001B[0mlen\u001B[0m\u001B[1;33m(\u001B[0m\u001B[0mrecords\u001B[0m\u001B[1;33m)\u001B[0m\u001B[1;33m,\u001B[0m \u001B[1;36m0\u001B[0m\u001B[1;33m\u001B[0m\u001B[1;33m\u001B[0m\u001B[0m\n\u001B[0m\u001B[0;32m    452\u001B[0m \u001B[1;33m\u001B[0m\u001B[0m\n\u001B[0;32m    453\u001B[0m     \u001B[1;31m# Select filename, lineno, func_name to track frames with\u001B[0m\u001B[1;33m\u001B[0m\u001B[1;33m\u001B[0m\u001B[1;33m\u001B[0m\u001B[0m\n",
      "\u001B[1;31mTypeError\u001B[0m: object of type 'NoneType' has no len()"
     ]
    }
   ],
   "source": [
    "del combined_data[\"Day\"]\n",
    "del combined_data[\"Date\"]"
   ],
   "metadata": {
    "collapsed": false,
    "ExecuteTime": {
     "end_time": "2024-09-28T13:20:00.293313800Z",
     "start_time": "2024-09-28T13:19:51.908574Z"
    }
   }
  },
  {
   "cell_type": "code",
   "execution_count": 28,
   "outputs": [
    {
     "data": {
      "text/plain": "       Departing_Port Arriving_Port  Month  Year  Average_Fare     Distance  \\\n0            Adelaide      Brisbane      8  2010         157.0  1619.982414   \n1            Adelaide      Brisbane      8  2010         157.0  1619.982414   \n2            Adelaide      Brisbane      8  2010         157.0  1619.982414   \n3            Adelaide      Brisbane      8  2010         157.0  1619.982414   \n4            Adelaide      Canberra      8  2010         350.0   970.229046   \n...               ...           ...    ...   ...           ...          ...   \n61430  Sunshine Coast     Melbourne      7  2010         414.0  1453.957673   \n61431          Sydney   Wagga Wagga      7  2010         414.0   365.844014   \n61432          Sydney   Wagga Wagga      7  2010         414.0   365.844014   \n61433          Sydney    Townsville      7  2010         414.0  1691.132106   \n61434          Sydney    Townsville      7  2010         414.0  1691.132106   \n\n        MinTemp    MaxTemp  Rainfall  Evaporation  ...  Pressure9am  \\\n0      7.039858  16.730247  2.423597     3.102688  ...  1017.589078   \n1      7.039858  16.730247  2.423597     3.102688  ...  1017.589078   \n2      7.039858  16.730247  2.423597     3.102688  ...  1017.589078   \n3      7.039858  16.730247  2.423597     3.102688  ...  1017.589078   \n4      7.039858  16.730247  2.423597     3.102688  ...  1017.589078   \n...         ...        ...       ...          ...  ...          ...   \n61430  6.961549  16.439830  2.435533     2.219612  ...  1023.556308   \n61431  6.961549  16.439830  2.435533     2.219612  ...  1023.556308   \n61432  6.961549  16.439830  2.435533     2.219612  ...  1023.556308   \n61433  6.961549  16.439830  2.435533     2.219612  ...  1023.556308   \n61434  6.961549  16.439830  2.435533     2.219612  ...  1023.556308   \n\n       Pressure3pm  Cloud9am  Cloud3pm    Temp9am    Temp3pm  \\\n0      1014.939908  4.275437  4.529652  11.515598  15.568909   \n1      1014.939908  4.275437  4.529652  11.515598  15.568909   \n2      1014.939908  4.275437  4.529652  11.515598  15.568909   \n3      1014.939908  4.275437  4.529652  11.515598  15.568909   \n4      1014.939908  4.275437  4.529652  11.515598  15.568909   \n...            ...       ...       ...        ...        ...   \n61430  1021.219584  4.746964  5.162051  10.580601  15.363305   \n61431  1021.219584  4.746964  5.162051  10.580601  15.363305   \n61432  1021.219584  4.746964  5.162051  10.580601  15.363305   \n61433  1021.219584  4.746964  5.162051  10.580601  15.363305   \n61434  1021.219584  4.746964  5.162051  10.580601  15.363305   \n\n                  Airline  Departure_Delays_%  Arrival_Delays_%  \\\n0                 Jetstar            0.451613          0.290323   \n1                  Qantas            0.067961          0.097087   \n2      Tigerair Australia            0.227273          0.227273   \n3        Virgin Australia            0.150538          0.086022   \n4                  Qantas            0.061224          0.040816   \n...                   ...                 ...               ...   \n61430    Virgin Australia            0.416667          0.333333   \n61431          QantasLink            0.307018          0.412281   \n61432    Regional Express            0.165468          0.230216   \n61433             Jetstar            0.136364          0.045455   \n61434    Virgin Australia            0.354839          0.387097   \n\n       Cancellations_%  \n0             0.000000  \n1             0.000000  \n2             0.000000  \n3             0.021505  \n4             0.000000  \n...                ...  \n61430         0.027778  \n61431         0.017544  \n61432         0.028777  \n61433         0.000000  \n61434         0.000000  \n\n[30116 rows x 26 columns]",
      "text/html": "<div>\n<style scoped>\n    .dataframe tbody tr th:only-of-type {\n        vertical-align: middle;\n    }\n\n    .dataframe tbody tr th {\n        vertical-align: top;\n    }\n\n    .dataframe thead th {\n        text-align: right;\n    }\n</style>\n<table border=\"1\" class=\"dataframe\">\n  <thead>\n    <tr style=\"text-align: right;\">\n      <th></th>\n      <th>Departing_Port</th>\n      <th>Arriving_Port</th>\n      <th>Month</th>\n      <th>Year</th>\n      <th>Average_Fare</th>\n      <th>Distance</th>\n      <th>MinTemp</th>\n      <th>MaxTemp</th>\n      <th>Rainfall</th>\n      <th>Evaporation</th>\n      <th>...</th>\n      <th>Pressure9am</th>\n      <th>Pressure3pm</th>\n      <th>Cloud9am</th>\n      <th>Cloud3pm</th>\n      <th>Temp9am</th>\n      <th>Temp3pm</th>\n      <th>Airline</th>\n      <th>Departure_Delays_%</th>\n      <th>Arrival_Delays_%</th>\n      <th>Cancellations_%</th>\n    </tr>\n  </thead>\n  <tbody>\n    <tr>\n      <th>0</th>\n      <td>Adelaide</td>\n      <td>Brisbane</td>\n      <td>8</td>\n      <td>2010</td>\n      <td>157.0</td>\n      <td>1619.982414</td>\n      <td>7.039858</td>\n      <td>16.730247</td>\n      <td>2.423597</td>\n      <td>3.102688</td>\n      <td>...</td>\n      <td>1017.589078</td>\n      <td>1014.939908</td>\n      <td>4.275437</td>\n      <td>4.529652</td>\n      <td>11.515598</td>\n      <td>15.568909</td>\n      <td>Jetstar</td>\n      <td>0.451613</td>\n      <td>0.290323</td>\n      <td>0.000000</td>\n    </tr>\n    <tr>\n      <th>1</th>\n      <td>Adelaide</td>\n      <td>Brisbane</td>\n      <td>8</td>\n      <td>2010</td>\n      <td>157.0</td>\n      <td>1619.982414</td>\n      <td>7.039858</td>\n      <td>16.730247</td>\n      <td>2.423597</td>\n      <td>3.102688</td>\n      <td>...</td>\n      <td>1017.589078</td>\n      <td>1014.939908</td>\n      <td>4.275437</td>\n      <td>4.529652</td>\n      <td>11.515598</td>\n      <td>15.568909</td>\n      <td>Qantas</td>\n      <td>0.067961</td>\n      <td>0.097087</td>\n      <td>0.000000</td>\n    </tr>\n    <tr>\n      <th>2</th>\n      <td>Adelaide</td>\n      <td>Brisbane</td>\n      <td>8</td>\n      <td>2010</td>\n      <td>157.0</td>\n      <td>1619.982414</td>\n      <td>7.039858</td>\n      <td>16.730247</td>\n      <td>2.423597</td>\n      <td>3.102688</td>\n      <td>...</td>\n      <td>1017.589078</td>\n      <td>1014.939908</td>\n      <td>4.275437</td>\n      <td>4.529652</td>\n      <td>11.515598</td>\n      <td>15.568909</td>\n      <td>Tigerair Australia</td>\n      <td>0.227273</td>\n      <td>0.227273</td>\n      <td>0.000000</td>\n    </tr>\n    <tr>\n      <th>3</th>\n      <td>Adelaide</td>\n      <td>Brisbane</td>\n      <td>8</td>\n      <td>2010</td>\n      <td>157.0</td>\n      <td>1619.982414</td>\n      <td>7.039858</td>\n      <td>16.730247</td>\n      <td>2.423597</td>\n      <td>3.102688</td>\n      <td>...</td>\n      <td>1017.589078</td>\n      <td>1014.939908</td>\n      <td>4.275437</td>\n      <td>4.529652</td>\n      <td>11.515598</td>\n      <td>15.568909</td>\n      <td>Virgin Australia</td>\n      <td>0.150538</td>\n      <td>0.086022</td>\n      <td>0.021505</td>\n    </tr>\n    <tr>\n      <th>4</th>\n      <td>Adelaide</td>\n      <td>Canberra</td>\n      <td>8</td>\n      <td>2010</td>\n      <td>350.0</td>\n      <td>970.229046</td>\n      <td>7.039858</td>\n      <td>16.730247</td>\n      <td>2.423597</td>\n      <td>3.102688</td>\n      <td>...</td>\n      <td>1017.589078</td>\n      <td>1014.939908</td>\n      <td>4.275437</td>\n      <td>4.529652</td>\n      <td>11.515598</td>\n      <td>15.568909</td>\n      <td>Qantas</td>\n      <td>0.061224</td>\n      <td>0.040816</td>\n      <td>0.000000</td>\n    </tr>\n    <tr>\n      <th>...</th>\n      <td>...</td>\n      <td>...</td>\n      <td>...</td>\n      <td>...</td>\n      <td>...</td>\n      <td>...</td>\n      <td>...</td>\n      <td>...</td>\n      <td>...</td>\n      <td>...</td>\n      <td>...</td>\n      <td>...</td>\n      <td>...</td>\n      <td>...</td>\n      <td>...</td>\n      <td>...</td>\n      <td>...</td>\n      <td>...</td>\n      <td>...</td>\n      <td>...</td>\n      <td>...</td>\n    </tr>\n    <tr>\n      <th>61430</th>\n      <td>Sunshine Coast</td>\n      <td>Melbourne</td>\n      <td>7</td>\n      <td>2010</td>\n      <td>414.0</td>\n      <td>1453.957673</td>\n      <td>6.961549</td>\n      <td>16.439830</td>\n      <td>2.435533</td>\n      <td>2.219612</td>\n      <td>...</td>\n      <td>1023.556308</td>\n      <td>1021.219584</td>\n      <td>4.746964</td>\n      <td>5.162051</td>\n      <td>10.580601</td>\n      <td>15.363305</td>\n      <td>Virgin Australia</td>\n      <td>0.416667</td>\n      <td>0.333333</td>\n      <td>0.027778</td>\n    </tr>\n    <tr>\n      <th>61431</th>\n      <td>Sydney</td>\n      <td>Wagga Wagga</td>\n      <td>7</td>\n      <td>2010</td>\n      <td>414.0</td>\n      <td>365.844014</td>\n      <td>6.961549</td>\n      <td>16.439830</td>\n      <td>2.435533</td>\n      <td>2.219612</td>\n      <td>...</td>\n      <td>1023.556308</td>\n      <td>1021.219584</td>\n      <td>4.746964</td>\n      <td>5.162051</td>\n      <td>10.580601</td>\n      <td>15.363305</td>\n      <td>QantasLink</td>\n      <td>0.307018</td>\n      <td>0.412281</td>\n      <td>0.017544</td>\n    </tr>\n    <tr>\n      <th>61432</th>\n      <td>Sydney</td>\n      <td>Wagga Wagga</td>\n      <td>7</td>\n      <td>2010</td>\n      <td>414.0</td>\n      <td>365.844014</td>\n      <td>6.961549</td>\n      <td>16.439830</td>\n      <td>2.435533</td>\n      <td>2.219612</td>\n      <td>...</td>\n      <td>1023.556308</td>\n      <td>1021.219584</td>\n      <td>4.746964</td>\n      <td>5.162051</td>\n      <td>10.580601</td>\n      <td>15.363305</td>\n      <td>Regional Express</td>\n      <td>0.165468</td>\n      <td>0.230216</td>\n      <td>0.028777</td>\n    </tr>\n    <tr>\n      <th>61433</th>\n      <td>Sydney</td>\n      <td>Townsville</td>\n      <td>7</td>\n      <td>2010</td>\n      <td>414.0</td>\n      <td>1691.132106</td>\n      <td>6.961549</td>\n      <td>16.439830</td>\n      <td>2.435533</td>\n      <td>2.219612</td>\n      <td>...</td>\n      <td>1023.556308</td>\n      <td>1021.219584</td>\n      <td>4.746964</td>\n      <td>5.162051</td>\n      <td>10.580601</td>\n      <td>15.363305</td>\n      <td>Jetstar</td>\n      <td>0.136364</td>\n      <td>0.045455</td>\n      <td>0.000000</td>\n    </tr>\n    <tr>\n      <th>61434</th>\n      <td>Sydney</td>\n      <td>Townsville</td>\n      <td>7</td>\n      <td>2010</td>\n      <td>414.0</td>\n      <td>1691.132106</td>\n      <td>6.961549</td>\n      <td>16.439830</td>\n      <td>2.435533</td>\n      <td>2.219612</td>\n      <td>...</td>\n      <td>1023.556308</td>\n      <td>1021.219584</td>\n      <td>4.746964</td>\n      <td>5.162051</td>\n      <td>10.580601</td>\n      <td>15.363305</td>\n      <td>Virgin Australia</td>\n      <td>0.354839</td>\n      <td>0.387097</td>\n      <td>0.000000</td>\n    </tr>\n  </tbody>\n</table>\n<p>30116 rows × 26 columns</p>\n</div>"
     },
     "execution_count": 28,
     "metadata": {},
     "output_type": "execute_result"
    }
   ],
   "source": [
    "combined_data"
   ],
   "metadata": {
    "collapsed": false,
    "ExecuteTime": {
     "end_time": "2024-09-28T13:20:02.805081300Z",
     "start_time": "2024-09-28T13:20:02.726953600Z"
    }
   }
  },
  {
   "cell_type": "code",
   "execution_count": 30,
   "outputs": [],
   "source": [
    "# Sort the data by date (earliest to latest)\n",
    "\n",
    "combined_data = combined_data.sort_values(by=[\"Year\", \"Month\"]).reset_index(drop=True)"
   ],
   "metadata": {
    "collapsed": false,
    "ExecuteTime": {
     "end_time": "2024-09-28T13:21:15.739328400Z",
     "start_time": "2024-09-28T13:21:15.686246400Z"
    }
   }
  },
  {
   "cell_type": "code",
   "execution_count": 31,
   "outputs": [
    {
     "data": {
      "text/plain": "      Departing_Port Arriving_Port  Month  Year  Average_Fare    Distance  \\\n0           Adelaide     Melbourne      1  2010         414.0  641.652927   \n1           Adelaide     Melbourne      1  2010         414.0  641.652927   \n2           Adelaide     Melbourne      1  2010         414.0  641.652927   \n3           Adelaide     Melbourne      1  2010         414.0  641.652927   \n4           Adelaide      Canberra      1  2010         414.0  970.229046   \n...              ...           ...    ...   ...           ...         ...   \n30111       Moranbah      Brisbane      6  2017        1277.0  779.683481   \n30112       Armidale        Sydney      6  2017         326.0  382.268024   \n30113       Armidale        Sydney      6  2017         326.0  382.268024   \n30114       Tamworth        Sydney      6  2017         643.0  319.769513   \n30115       Tamworth        Sydney      6  2017         643.0  319.769513   \n\n        MinTemp    MaxTemp  Rainfall  Evaporation  ...  Pressure9am  \\\n0      17.33103  29.763540  2.198292     8.894267  ...  1013.053858   \n1      17.33103  29.763540  2.198292     8.894267  ...  1013.053858   \n2      17.33103  29.763540  2.198292     8.894267  ...  1013.053858   \n3      17.33103  29.763540  2.198292     8.894267  ...  1013.053858   \n4      17.33103  29.763540  2.198292     8.894267  ...  1013.053858   \n...         ...        ...       ...          ...  ...          ...   \n30111   7.14584  18.217691  1.944638     2.741813  ...  1025.984182   \n30112   7.14584  18.217691  1.944638     2.741813  ...  1025.984182   \n30113   7.14584  18.217691  1.944638     2.741813  ...  1025.984182   \n30114   7.14584  18.217691  1.944638     2.741813  ...  1025.984182   \n30115   7.14584  18.217691  1.944638     2.741813  ...  1025.984182   \n\n       Pressure3pm  Cloud9am  Cloud3pm    Temp9am    Temp3pm  \\\n0      1010.905502  4.167756  4.016930  22.526185  27.847663   \n1      1010.905502  4.167756  4.016930  22.526185  27.847663   \n2      1010.905502  4.167756  4.016930  22.526185  27.847663   \n3      1010.905502  4.167756  4.016930  22.526185  27.847663   \n4      1010.905502  4.167756  4.016930  22.526185  27.847663   \n...            ...       ...       ...        ...        ...   \n30111  1023.486260  4.872945  5.115312  11.379967  16.965475   \n30112  1023.486260  4.872945  5.115312  11.379967  16.965475   \n30113  1023.486260  4.872945  5.115312  11.379967  16.965475   \n30114  1023.486260  4.872945  5.115312  11.379967  16.965475   \n30115  1023.486260  4.872945  5.115312  11.379967  16.965475   \n\n                  Airline  Departure_Delays_%  Arrival_Delays_%  \\\n0                 Jetstar            0.255319          0.234043   \n1                  Qantas            0.087542          0.090909   \n2      Tigerair Australia            0.083333          0.033333   \n3        Virgin Australia            0.072874          0.068826   \n4                  Qantas            0.111111          0.083333   \n...                   ...                 ...               ...   \n30111    Virgin Australia            0.078431          0.058824   \n30112          QantasLink            0.256198          0.297521   \n30113    Regional Express            0.278481          0.329114   \n30114          QantasLink            0.180645          0.174194   \n30115    Virgin Australia            0.156863          0.156863   \n\n       Cancellations_%  \n0             0.000000  \n1             0.003367  \n2             0.050000  \n3             0.012146  \n4             0.000000  \n...                ...  \n30111         0.000000  \n30112         0.115702  \n30113         0.050633  \n30114         0.051613  \n30115         0.019608  \n\n[30116 rows x 26 columns]",
      "text/html": "<div>\n<style scoped>\n    .dataframe tbody tr th:only-of-type {\n        vertical-align: middle;\n    }\n\n    .dataframe tbody tr th {\n        vertical-align: top;\n    }\n\n    .dataframe thead th {\n        text-align: right;\n    }\n</style>\n<table border=\"1\" class=\"dataframe\">\n  <thead>\n    <tr style=\"text-align: right;\">\n      <th></th>\n      <th>Departing_Port</th>\n      <th>Arriving_Port</th>\n      <th>Month</th>\n      <th>Year</th>\n      <th>Average_Fare</th>\n      <th>Distance</th>\n      <th>MinTemp</th>\n      <th>MaxTemp</th>\n      <th>Rainfall</th>\n      <th>Evaporation</th>\n      <th>...</th>\n      <th>Pressure9am</th>\n      <th>Pressure3pm</th>\n      <th>Cloud9am</th>\n      <th>Cloud3pm</th>\n      <th>Temp9am</th>\n      <th>Temp3pm</th>\n      <th>Airline</th>\n      <th>Departure_Delays_%</th>\n      <th>Arrival_Delays_%</th>\n      <th>Cancellations_%</th>\n    </tr>\n  </thead>\n  <tbody>\n    <tr>\n      <th>0</th>\n      <td>Adelaide</td>\n      <td>Melbourne</td>\n      <td>1</td>\n      <td>2010</td>\n      <td>414.0</td>\n      <td>641.652927</td>\n      <td>17.33103</td>\n      <td>29.763540</td>\n      <td>2.198292</td>\n      <td>8.894267</td>\n      <td>...</td>\n      <td>1013.053858</td>\n      <td>1010.905502</td>\n      <td>4.167756</td>\n      <td>4.016930</td>\n      <td>22.526185</td>\n      <td>27.847663</td>\n      <td>Jetstar</td>\n      <td>0.255319</td>\n      <td>0.234043</td>\n      <td>0.000000</td>\n    </tr>\n    <tr>\n      <th>1</th>\n      <td>Adelaide</td>\n      <td>Melbourne</td>\n      <td>1</td>\n      <td>2010</td>\n      <td>414.0</td>\n      <td>641.652927</td>\n      <td>17.33103</td>\n      <td>29.763540</td>\n      <td>2.198292</td>\n      <td>8.894267</td>\n      <td>...</td>\n      <td>1013.053858</td>\n      <td>1010.905502</td>\n      <td>4.167756</td>\n      <td>4.016930</td>\n      <td>22.526185</td>\n      <td>27.847663</td>\n      <td>Qantas</td>\n      <td>0.087542</td>\n      <td>0.090909</td>\n      <td>0.003367</td>\n    </tr>\n    <tr>\n      <th>2</th>\n      <td>Adelaide</td>\n      <td>Melbourne</td>\n      <td>1</td>\n      <td>2010</td>\n      <td>414.0</td>\n      <td>641.652927</td>\n      <td>17.33103</td>\n      <td>29.763540</td>\n      <td>2.198292</td>\n      <td>8.894267</td>\n      <td>...</td>\n      <td>1013.053858</td>\n      <td>1010.905502</td>\n      <td>4.167756</td>\n      <td>4.016930</td>\n      <td>22.526185</td>\n      <td>27.847663</td>\n      <td>Tigerair Australia</td>\n      <td>0.083333</td>\n      <td>0.033333</td>\n      <td>0.050000</td>\n    </tr>\n    <tr>\n      <th>3</th>\n      <td>Adelaide</td>\n      <td>Melbourne</td>\n      <td>1</td>\n      <td>2010</td>\n      <td>414.0</td>\n      <td>641.652927</td>\n      <td>17.33103</td>\n      <td>29.763540</td>\n      <td>2.198292</td>\n      <td>8.894267</td>\n      <td>...</td>\n      <td>1013.053858</td>\n      <td>1010.905502</td>\n      <td>4.167756</td>\n      <td>4.016930</td>\n      <td>22.526185</td>\n      <td>27.847663</td>\n      <td>Virgin Australia</td>\n      <td>0.072874</td>\n      <td>0.068826</td>\n      <td>0.012146</td>\n    </tr>\n    <tr>\n      <th>4</th>\n      <td>Adelaide</td>\n      <td>Canberra</td>\n      <td>1</td>\n      <td>2010</td>\n      <td>414.0</td>\n      <td>970.229046</td>\n      <td>17.33103</td>\n      <td>29.763540</td>\n      <td>2.198292</td>\n      <td>8.894267</td>\n      <td>...</td>\n      <td>1013.053858</td>\n      <td>1010.905502</td>\n      <td>4.167756</td>\n      <td>4.016930</td>\n      <td>22.526185</td>\n      <td>27.847663</td>\n      <td>Qantas</td>\n      <td>0.111111</td>\n      <td>0.083333</td>\n      <td>0.000000</td>\n    </tr>\n    <tr>\n      <th>...</th>\n      <td>...</td>\n      <td>...</td>\n      <td>...</td>\n      <td>...</td>\n      <td>...</td>\n      <td>...</td>\n      <td>...</td>\n      <td>...</td>\n      <td>...</td>\n      <td>...</td>\n      <td>...</td>\n      <td>...</td>\n      <td>...</td>\n      <td>...</td>\n      <td>...</td>\n      <td>...</td>\n      <td>...</td>\n      <td>...</td>\n      <td>...</td>\n      <td>...</td>\n      <td>...</td>\n    </tr>\n    <tr>\n      <th>30111</th>\n      <td>Moranbah</td>\n      <td>Brisbane</td>\n      <td>6</td>\n      <td>2017</td>\n      <td>1277.0</td>\n      <td>779.683481</td>\n      <td>7.14584</td>\n      <td>18.217691</td>\n      <td>1.944638</td>\n      <td>2.741813</td>\n      <td>...</td>\n      <td>1025.984182</td>\n      <td>1023.486260</td>\n      <td>4.872945</td>\n      <td>5.115312</td>\n      <td>11.379967</td>\n      <td>16.965475</td>\n      <td>Virgin Australia</td>\n      <td>0.078431</td>\n      <td>0.058824</td>\n      <td>0.000000</td>\n    </tr>\n    <tr>\n      <th>30112</th>\n      <td>Armidale</td>\n      <td>Sydney</td>\n      <td>6</td>\n      <td>2017</td>\n      <td>326.0</td>\n      <td>382.268024</td>\n      <td>7.14584</td>\n      <td>18.217691</td>\n      <td>1.944638</td>\n      <td>2.741813</td>\n      <td>...</td>\n      <td>1025.984182</td>\n      <td>1023.486260</td>\n      <td>4.872945</td>\n      <td>5.115312</td>\n      <td>11.379967</td>\n      <td>16.965475</td>\n      <td>QantasLink</td>\n      <td>0.256198</td>\n      <td>0.297521</td>\n      <td>0.115702</td>\n    </tr>\n    <tr>\n      <th>30113</th>\n      <td>Armidale</td>\n      <td>Sydney</td>\n      <td>6</td>\n      <td>2017</td>\n      <td>326.0</td>\n      <td>382.268024</td>\n      <td>7.14584</td>\n      <td>18.217691</td>\n      <td>1.944638</td>\n      <td>2.741813</td>\n      <td>...</td>\n      <td>1025.984182</td>\n      <td>1023.486260</td>\n      <td>4.872945</td>\n      <td>5.115312</td>\n      <td>11.379967</td>\n      <td>16.965475</td>\n      <td>Regional Express</td>\n      <td>0.278481</td>\n      <td>0.329114</td>\n      <td>0.050633</td>\n    </tr>\n    <tr>\n      <th>30114</th>\n      <td>Tamworth</td>\n      <td>Sydney</td>\n      <td>6</td>\n      <td>2017</td>\n      <td>643.0</td>\n      <td>319.769513</td>\n      <td>7.14584</td>\n      <td>18.217691</td>\n      <td>1.944638</td>\n      <td>2.741813</td>\n      <td>...</td>\n      <td>1025.984182</td>\n      <td>1023.486260</td>\n      <td>4.872945</td>\n      <td>5.115312</td>\n      <td>11.379967</td>\n      <td>16.965475</td>\n      <td>QantasLink</td>\n      <td>0.180645</td>\n      <td>0.174194</td>\n      <td>0.051613</td>\n    </tr>\n    <tr>\n      <th>30115</th>\n      <td>Tamworth</td>\n      <td>Sydney</td>\n      <td>6</td>\n      <td>2017</td>\n      <td>643.0</td>\n      <td>319.769513</td>\n      <td>7.14584</td>\n      <td>18.217691</td>\n      <td>1.944638</td>\n      <td>2.741813</td>\n      <td>...</td>\n      <td>1025.984182</td>\n      <td>1023.486260</td>\n      <td>4.872945</td>\n      <td>5.115312</td>\n      <td>11.379967</td>\n      <td>16.965475</td>\n      <td>Virgin Australia</td>\n      <td>0.156863</td>\n      <td>0.156863</td>\n      <td>0.019608</td>\n    </tr>\n  </tbody>\n</table>\n<p>30116 rows × 26 columns</p>\n</div>"
     },
     "execution_count": 31,
     "metadata": {},
     "output_type": "execute_result"
    }
   ],
   "source": [
    "combined_data"
   ],
   "metadata": {
    "collapsed": false,
    "ExecuteTime": {
     "end_time": "2024-09-28T13:21:20.617344400Z",
     "start_time": "2024-09-28T13:21:20.615346Z"
    }
   }
  },
  {
   "cell_type": "code",
   "execution_count": 34,
   "outputs": [],
   "source": [
    "combined_data.to_csv(\"flights_data.csv\", index=False, header=True)"
   ],
   "metadata": {
    "collapsed": false,
    "ExecuteTime": {
     "end_time": "2024-09-28T13:23:16.055139400Z",
     "start_time": "2024-09-28T13:23:14.386399300Z"
    }
   }
  }
 ],
 "metadata": {
  "kernelspec": {
   "display_name": "Python 3",
   "language": "python",
   "name": "python3"
  },
  "language_info": {
   "codemirror_mode": {
    "name": "ipython",
    "version": 2
   },
   "file_extension": ".py",
   "mimetype": "text/x-python",
   "name": "python",
   "nbconvert_exporter": "python",
   "pygments_lexer": "ipython2",
   "version": "2.7.6"
  }
 },
 "nbformat": 4,
 "nbformat_minor": 0
}
