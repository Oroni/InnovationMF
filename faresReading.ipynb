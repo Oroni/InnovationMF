{
 "cells": [
  {
   "cell_type": "code",
   "execution_count": 1,
   "outputs": [],
   "source": [
    "import pandas as pd\n",
    "import numpy as np\n",
    "import itertools"
   ],
   "metadata": {
    "collapsed": false,
    "ExecuteTime": {
     "end_time": "2024-09-26T13:34:04.166068700Z",
     "start_time": "2024-09-26T13:34:03.827899400Z"
    }
   }
  },
  {
   "cell_type": "code",
   "execution_count": 2,
   "outputs": [],
   "source": [
    "PORT_FARES = r\"C:\\Users\\ASUS\\OneDrive\\Semester 3\\Innovation Project\\Assign_02\\fares.csv\"\n",
    "PORT_TIME_SERIES = r\"C:\\Users\\ASUS\\OneDrive\\Semester 3\\Innovation Project\\Assign_02\\time_series.csv\""
   ],
   "metadata": {
    "collapsed": false,
    "ExecuteTime": {
     "end_time": "2024-09-26T13:34:04.166068700Z",
     "start_time": "2024-09-26T13:34:03.841683800Z"
    }
   }
  },
  {
   "cell_type": "code",
   "execution_count": 3,
   "outputs": [],
   "source": [
    "port_fares = pd.read_csv(PORT_FARES)\n",
    "port_time_series = pd.read_csv(PORT_TIME_SERIES)"
   ],
   "metadata": {
    "collapsed": false,
    "ExecuteTime": {
     "end_time": "2024-09-26T13:34:04.167065800Z",
     "start_time": "2024-09-26T13:34:03.857642700Z"
    }
   }
  },
  {
   "cell_type": "code",
   "execution_count": 4,
   "outputs": [
    {
     "data": {
      "text/plain": "  departure_port   arrival_port  real_fare_(AUD)     Date\n0       Adelaide  Alice Springs              661  2024-01\n1       Adelaide       Brisbane              323  2024-01\n2       Adelaide       Canberra              543  2024-01\n3       Adelaide         Darwin              607  2024-01\n4       Adelaide     Gold Coast              256  2024-01",
      "text/html": "<div>\n<style scoped>\n    .dataframe tbody tr th:only-of-type {\n        vertical-align: middle;\n    }\n\n    .dataframe tbody tr th {\n        vertical-align: top;\n    }\n\n    .dataframe thead th {\n        text-align: right;\n    }\n</style>\n<table border=\"1\" class=\"dataframe\">\n  <thead>\n    <tr style=\"text-align: right;\">\n      <th></th>\n      <th>departure_port</th>\n      <th>arrival_port</th>\n      <th>real_fare_(AUD)</th>\n      <th>Date</th>\n    </tr>\n  </thead>\n  <tbody>\n    <tr>\n      <th>0</th>\n      <td>Adelaide</td>\n      <td>Alice Springs</td>\n      <td>661</td>\n      <td>2024-01</td>\n    </tr>\n    <tr>\n      <th>1</th>\n      <td>Adelaide</td>\n      <td>Brisbane</td>\n      <td>323</td>\n      <td>2024-01</td>\n    </tr>\n    <tr>\n      <th>2</th>\n      <td>Adelaide</td>\n      <td>Canberra</td>\n      <td>543</td>\n      <td>2024-01</td>\n    </tr>\n    <tr>\n      <th>3</th>\n      <td>Adelaide</td>\n      <td>Darwin</td>\n      <td>607</td>\n      <td>2024-01</td>\n    </tr>\n    <tr>\n      <th>4</th>\n      <td>Adelaide</td>\n      <td>Gold Coast</td>\n      <td>256</td>\n      <td>2024-01</td>\n    </tr>\n  </tbody>\n</table>\n</div>"
     },
     "execution_count": 4,
     "metadata": {},
     "output_type": "execute_result"
    }
   ],
   "source": [
    "port_fares.head()"
   ],
   "metadata": {
    "collapsed": false,
    "ExecuteTime": {
     "end_time": "2024-09-26T13:34:04.167065800Z",
     "start_time": "2024-09-26T13:34:03.939941100Z"
    }
   }
  },
  {
   "cell_type": "code",
   "execution_count": 5,
   "outputs": [
    {
     "data": {
      "text/plain": "       departure_port   arrival_port  real_fare_(AUD)     Date\n0            Adelaide  Alice Springs              661  2024-01\n1            Adelaide       Brisbane              323  2024-01\n2            Adelaide       Canberra              543  2024-01\n3            Adelaide         Darwin              607  2024-01\n4            Adelaide     Gold Coast              256  2024-01\n...               ...            ...              ...      ...\n11211  Port Macquarie         Sydney              223  2010-08\n11212          Sydney       Tamworth              288  2010-08\n11213          Sydney     Townsville              386  2010-08\n11214          Sydney    Wagga Wagga              305  2010-08\n11215       Newcastle     Gold Coast              195  2010-08\n\n[11216 rows x 4 columns]",
      "text/html": "<div>\n<style scoped>\n    .dataframe tbody tr th:only-of-type {\n        vertical-align: middle;\n    }\n\n    .dataframe tbody tr th {\n        vertical-align: top;\n    }\n\n    .dataframe thead th {\n        text-align: right;\n    }\n</style>\n<table border=\"1\" class=\"dataframe\">\n  <thead>\n    <tr style=\"text-align: right;\">\n      <th></th>\n      <th>departure_port</th>\n      <th>arrival_port</th>\n      <th>real_fare_(AUD)</th>\n      <th>Date</th>\n    </tr>\n  </thead>\n  <tbody>\n    <tr>\n      <th>0</th>\n      <td>Adelaide</td>\n      <td>Alice Springs</td>\n      <td>661</td>\n      <td>2024-01</td>\n    </tr>\n    <tr>\n      <th>1</th>\n      <td>Adelaide</td>\n      <td>Brisbane</td>\n      <td>323</td>\n      <td>2024-01</td>\n    </tr>\n    <tr>\n      <th>2</th>\n      <td>Adelaide</td>\n      <td>Canberra</td>\n      <td>543</td>\n      <td>2024-01</td>\n    </tr>\n    <tr>\n      <th>3</th>\n      <td>Adelaide</td>\n      <td>Darwin</td>\n      <td>607</td>\n      <td>2024-01</td>\n    </tr>\n    <tr>\n      <th>4</th>\n      <td>Adelaide</td>\n      <td>Gold Coast</td>\n      <td>256</td>\n      <td>2024-01</td>\n    </tr>\n    <tr>\n      <th>...</th>\n      <td>...</td>\n      <td>...</td>\n      <td>...</td>\n      <td>...</td>\n    </tr>\n    <tr>\n      <th>11211</th>\n      <td>Port Macquarie</td>\n      <td>Sydney</td>\n      <td>223</td>\n      <td>2010-08</td>\n    </tr>\n    <tr>\n      <th>11212</th>\n      <td>Sydney</td>\n      <td>Tamworth</td>\n      <td>288</td>\n      <td>2010-08</td>\n    </tr>\n    <tr>\n      <th>11213</th>\n      <td>Sydney</td>\n      <td>Townsville</td>\n      <td>386</td>\n      <td>2010-08</td>\n    </tr>\n    <tr>\n      <th>11214</th>\n      <td>Sydney</td>\n      <td>Wagga Wagga</td>\n      <td>305</td>\n      <td>2010-08</td>\n    </tr>\n    <tr>\n      <th>11215</th>\n      <td>Newcastle</td>\n      <td>Gold Coast</td>\n      <td>195</td>\n      <td>2010-08</td>\n    </tr>\n  </tbody>\n</table>\n<p>11216 rows × 4 columns</p>\n</div>"
     },
     "execution_count": 5,
     "metadata": {},
     "output_type": "execute_result"
    }
   ],
   "source": [
    "port_fares"
   ],
   "metadata": {
    "collapsed": false,
    "ExecuteTime": {
     "end_time": "2024-09-26T13:34:04.167065800Z",
     "start_time": "2024-09-26T13:34:03.960885200Z"
    }
   }
  },
  {
   "cell_type": "code",
   "execution_count": 6,
   "outputs": [],
   "source": [
    "# Source: https://stackoverflow.com/a/41815118\n",
    "\n",
    "port_fares = pd.merge(\n",
    "    left=port_time_series,\n",
    "    right=port_fares,\n",
    "    how='left',\n",
    "    left_on=['departure_port', 'arrival_port', 'Date'],\n",
    "    right_on=['departure_port', 'arrival_port', 'Date'],\n",
    ")"
   ],
   "metadata": {
    "collapsed": false,
    "ExecuteTime": {
     "end_time": "2024-09-26T13:34:04.180428200Z",
     "start_time": "2024-09-26T13:34:03.971853100Z"
    }
   }
  },
  {
   "cell_type": "code",
   "execution_count": 7,
   "outputs": [],
   "source": [
    "port_fares['Date'] = pd.to_datetime(port_fares['Date'])\n",
    "port_fares['Year'] = port_fares['Date'].dt.year\n",
    "port_fares['Month'] = port_fares['Date'].dt.month"
   ],
   "metadata": {
    "collapsed": false,
    "ExecuteTime": {
     "end_time": "2024-09-26T13:34:04.180428200Z",
     "start_time": "2024-09-26T13:34:04.018807500Z"
    }
   }
  },
  {
   "cell_type": "code",
   "execution_count": 8,
   "outputs": [
    {
     "data": {
      "text/plain": "      departure_port    arrival_port  Departure Delay  Arrival Delay  \\\n0           Adelaide        Brisbane        16.194332      12.955466   \n1           Adelaide        Canberra        12.500000       7.500000   \n2           Adelaide      Gold Coast         7.142857       4.761905   \n3           Adelaide       Melbourne        13.125846      15.426252   \n4           Adelaide           Perth         9.134615      12.019231   \n...              ...             ...              ...            ...   \n76448         Sydney  Sunshine Coast        22.330097      23.300971   \n76449         Sydney     Wagga Wagga        27.810651      30.177515   \n76450     Townsville        Brisbane        26.804124      29.896907   \n76451     Townsville          Cairns        11.510791      12.949640   \n76452    Wagga Wagga          Sydney        22.155689      23.952096   \n\n            Date  real_fare_(AUD)  Year  Month  \n0     2010-08-01            157.0  2010      8  \n1     2010-08-01            350.0  2010      8  \n2     2010-08-01            232.0  2010      8  \n3     2010-08-01             87.0  2010      8  \n4     2010-08-01            406.0  2010      8  \n...          ...              ...   ...    ...  \n76448 2024-02-01              NaN  2024      2  \n76449 2024-02-01              NaN  2024      2  \n76450 2024-02-01              NaN  2024      2  \n76451 2024-02-01              NaN  2024      2  \n76452 2024-02-01              NaN  2024      2  \n\n[76453 rows x 8 columns]",
      "text/html": "<div>\n<style scoped>\n    .dataframe tbody tr th:only-of-type {\n        vertical-align: middle;\n    }\n\n    .dataframe tbody tr th {\n        vertical-align: top;\n    }\n\n    .dataframe thead th {\n        text-align: right;\n    }\n</style>\n<table border=\"1\" class=\"dataframe\">\n  <thead>\n    <tr style=\"text-align: right;\">\n      <th></th>\n      <th>departure_port</th>\n      <th>arrival_port</th>\n      <th>Departure Delay</th>\n      <th>Arrival Delay</th>\n      <th>Date</th>\n      <th>real_fare_(AUD)</th>\n      <th>Year</th>\n      <th>Month</th>\n    </tr>\n  </thead>\n  <tbody>\n    <tr>\n      <th>0</th>\n      <td>Adelaide</td>\n      <td>Brisbane</td>\n      <td>16.194332</td>\n      <td>12.955466</td>\n      <td>2010-08-01</td>\n      <td>157.0</td>\n      <td>2010</td>\n      <td>8</td>\n    </tr>\n    <tr>\n      <th>1</th>\n      <td>Adelaide</td>\n      <td>Canberra</td>\n      <td>12.500000</td>\n      <td>7.500000</td>\n      <td>2010-08-01</td>\n      <td>350.0</td>\n      <td>2010</td>\n      <td>8</td>\n    </tr>\n    <tr>\n      <th>2</th>\n      <td>Adelaide</td>\n      <td>Gold Coast</td>\n      <td>7.142857</td>\n      <td>4.761905</td>\n      <td>2010-08-01</td>\n      <td>232.0</td>\n      <td>2010</td>\n      <td>8</td>\n    </tr>\n    <tr>\n      <th>3</th>\n      <td>Adelaide</td>\n      <td>Melbourne</td>\n      <td>13.125846</td>\n      <td>15.426252</td>\n      <td>2010-08-01</td>\n      <td>87.0</td>\n      <td>2010</td>\n      <td>8</td>\n    </tr>\n    <tr>\n      <th>4</th>\n      <td>Adelaide</td>\n      <td>Perth</td>\n      <td>9.134615</td>\n      <td>12.019231</td>\n      <td>2010-08-01</td>\n      <td>406.0</td>\n      <td>2010</td>\n      <td>8</td>\n    </tr>\n    <tr>\n      <th>...</th>\n      <td>...</td>\n      <td>...</td>\n      <td>...</td>\n      <td>...</td>\n      <td>...</td>\n      <td>...</td>\n      <td>...</td>\n      <td>...</td>\n    </tr>\n    <tr>\n      <th>76448</th>\n      <td>Sydney</td>\n      <td>Sunshine Coast</td>\n      <td>22.330097</td>\n      <td>23.300971</td>\n      <td>2024-02-01</td>\n      <td>NaN</td>\n      <td>2024</td>\n      <td>2</td>\n    </tr>\n    <tr>\n      <th>76449</th>\n      <td>Sydney</td>\n      <td>Wagga Wagga</td>\n      <td>27.810651</td>\n      <td>30.177515</td>\n      <td>2024-02-01</td>\n      <td>NaN</td>\n      <td>2024</td>\n      <td>2</td>\n    </tr>\n    <tr>\n      <th>76450</th>\n      <td>Townsville</td>\n      <td>Brisbane</td>\n      <td>26.804124</td>\n      <td>29.896907</td>\n      <td>2024-02-01</td>\n      <td>NaN</td>\n      <td>2024</td>\n      <td>2</td>\n    </tr>\n    <tr>\n      <th>76451</th>\n      <td>Townsville</td>\n      <td>Cairns</td>\n      <td>11.510791</td>\n      <td>12.949640</td>\n      <td>2024-02-01</td>\n      <td>NaN</td>\n      <td>2024</td>\n      <td>2</td>\n    </tr>\n    <tr>\n      <th>76452</th>\n      <td>Wagga Wagga</td>\n      <td>Sydney</td>\n      <td>22.155689</td>\n      <td>23.952096</td>\n      <td>2024-02-01</td>\n      <td>NaN</td>\n      <td>2024</td>\n      <td>2</td>\n    </tr>\n  </tbody>\n</table>\n<p>76453 rows × 8 columns</p>\n</div>"
     },
     "execution_count": 8,
     "metadata": {},
     "output_type": "execute_result"
    }
   ],
   "source": [
    "port_fares"
   ],
   "metadata": {
    "collapsed": false,
    "ExecuteTime": {
     "end_time": "2024-09-26T13:34:04.182043100Z",
     "start_time": "2024-09-26T13:34:04.046360500Z"
    }
   }
  },
  {
   "cell_type": "code",
   "execution_count": 9,
   "outputs": [],
   "source": [
    "port_combinations = port_fares.groupby(['Year', 'Month', 'departure_port', 'arrival_port', 'Arrival Delay', 'Departure Delay'])['real_fare_(AUD)'].mean().reset_index(name='Average_Fare')"
   ],
   "metadata": {
    "collapsed": false,
    "ExecuteTime": {
     "end_time": "2024-09-26T13:34:04.182043100Z",
     "start_time": "2024-09-26T13:34:04.079329400Z"
    }
   }
  },
  {
   "cell_type": "code",
   "execution_count": 10,
   "outputs": [
    {
     "data": {
      "text/plain": "       Year  Month departure_port arrival_port  Arrival Delay  \\\n0      2010      8       Adelaide     Brisbane       8.791209   \n1      2010      8       Adelaide     Brisbane       9.708738   \n2      2010      8       Adelaide     Brisbane      12.955466   \n3      2010      8       Adelaide     Brisbane      22.727273   \n4      2010      8       Adelaide     Brisbane      29.032258   \n...     ...    ...            ...          ...            ...   \n76358  2024      2     Townsville       Cairns      12.949640   \n76359  2024      2     Townsville       Cairns      45.454545   \n76360  2024      2    Wagga Wagga       Sydney      22.580645   \n76361  2024      2    Wagga Wagga       Sydney      23.952096   \n76362  2024      2    Wagga Wagga       Sydney      25.675676   \n\n       Departure Delay  Average_Fare  \n0            15.384615         157.0  \n1             6.796117         157.0  \n2            16.194332         157.0  \n3            22.727273         157.0  \n4            45.161290         157.0  \n...                ...           ...  \n76358        11.510791           NaN  \n76359        45.454545           NaN  \n76360        23.655914           NaN  \n76361        22.155689           NaN  \n76362        20.270270           NaN  \n\n[76363 rows x 7 columns]",
      "text/html": "<div>\n<style scoped>\n    .dataframe tbody tr th:only-of-type {\n        vertical-align: middle;\n    }\n\n    .dataframe tbody tr th {\n        vertical-align: top;\n    }\n\n    .dataframe thead th {\n        text-align: right;\n    }\n</style>\n<table border=\"1\" class=\"dataframe\">\n  <thead>\n    <tr style=\"text-align: right;\">\n      <th></th>\n      <th>Year</th>\n      <th>Month</th>\n      <th>departure_port</th>\n      <th>arrival_port</th>\n      <th>Arrival Delay</th>\n      <th>Departure Delay</th>\n      <th>Average_Fare</th>\n    </tr>\n  </thead>\n  <tbody>\n    <tr>\n      <th>0</th>\n      <td>2010</td>\n      <td>8</td>\n      <td>Adelaide</td>\n      <td>Brisbane</td>\n      <td>8.791209</td>\n      <td>15.384615</td>\n      <td>157.0</td>\n    </tr>\n    <tr>\n      <th>1</th>\n      <td>2010</td>\n      <td>8</td>\n      <td>Adelaide</td>\n      <td>Brisbane</td>\n      <td>9.708738</td>\n      <td>6.796117</td>\n      <td>157.0</td>\n    </tr>\n    <tr>\n      <th>2</th>\n      <td>2010</td>\n      <td>8</td>\n      <td>Adelaide</td>\n      <td>Brisbane</td>\n      <td>12.955466</td>\n      <td>16.194332</td>\n      <td>157.0</td>\n    </tr>\n    <tr>\n      <th>3</th>\n      <td>2010</td>\n      <td>8</td>\n      <td>Adelaide</td>\n      <td>Brisbane</td>\n      <td>22.727273</td>\n      <td>22.727273</td>\n      <td>157.0</td>\n    </tr>\n    <tr>\n      <th>4</th>\n      <td>2010</td>\n      <td>8</td>\n      <td>Adelaide</td>\n      <td>Brisbane</td>\n      <td>29.032258</td>\n      <td>45.161290</td>\n      <td>157.0</td>\n    </tr>\n    <tr>\n      <th>...</th>\n      <td>...</td>\n      <td>...</td>\n      <td>...</td>\n      <td>...</td>\n      <td>...</td>\n      <td>...</td>\n      <td>...</td>\n    </tr>\n    <tr>\n      <th>76358</th>\n      <td>2024</td>\n      <td>2</td>\n      <td>Townsville</td>\n      <td>Cairns</td>\n      <td>12.949640</td>\n      <td>11.510791</td>\n      <td>NaN</td>\n    </tr>\n    <tr>\n      <th>76359</th>\n      <td>2024</td>\n      <td>2</td>\n      <td>Townsville</td>\n      <td>Cairns</td>\n      <td>45.454545</td>\n      <td>45.454545</td>\n      <td>NaN</td>\n    </tr>\n    <tr>\n      <th>76360</th>\n      <td>2024</td>\n      <td>2</td>\n      <td>Wagga Wagga</td>\n      <td>Sydney</td>\n      <td>22.580645</td>\n      <td>23.655914</td>\n      <td>NaN</td>\n    </tr>\n    <tr>\n      <th>76361</th>\n      <td>2024</td>\n      <td>2</td>\n      <td>Wagga Wagga</td>\n      <td>Sydney</td>\n      <td>23.952096</td>\n      <td>22.155689</td>\n      <td>NaN</td>\n    </tr>\n    <tr>\n      <th>76362</th>\n      <td>2024</td>\n      <td>2</td>\n      <td>Wagga Wagga</td>\n      <td>Sydney</td>\n      <td>25.675676</td>\n      <td>20.270270</td>\n      <td>NaN</td>\n    </tr>\n  </tbody>\n</table>\n<p>76363 rows × 7 columns</p>\n</div>"
     },
     "execution_count": 10,
     "metadata": {},
     "output_type": "execute_result"
    }
   ],
   "source": [
    "port_combinations"
   ],
   "metadata": {
    "collapsed": false,
    "ExecuteTime": {
     "end_time": "2024-09-26T13:34:04.203988200Z",
     "start_time": "2024-09-26T13:34:04.158091500Z"
    }
   }
  },
  {
   "cell_type": "code",
   "execution_count": 11,
   "outputs": [],
   "source": [
    "unique_departure_port = port_fares['departure_port'].unique().tolist()"
   ],
   "metadata": {
    "collapsed": false,
    "ExecuteTime": {
     "end_time": "2024-09-26T13:34:04.251774300Z",
     "start_time": "2024-09-26T13:34:04.187032800Z"
    }
   }
  },
  {
   "cell_type": "code",
   "execution_count": 12,
   "outputs": [
    {
     "data": {
      "text/plain": "['Adelaide',\n 'Albury',\n 'Alice Springs',\n 'Ballina',\n 'Brisbane',\n 'Broome',\n 'Cairns',\n 'Canberra',\n 'Coffs Harbour',\n 'Darwin',\n 'Dubbo',\n 'Gold Coast',\n 'Hamilton Island',\n 'Hobart',\n 'Kalgoorlie',\n 'Karratha',\n 'Launceston',\n 'Mackay',\n 'Melbourne',\n 'Mildura',\n 'Newcastle',\n 'Newman',\n 'Perth',\n 'Port Hedland',\n 'Port Lincoln',\n 'Port Macquarie',\n 'Proserpine',\n 'Rockhampton',\n 'Sunshine Coast',\n 'Sydney',\n 'Townsville',\n 'Wagga Wagga',\n 'Ayers Rock',\n 'Gladstone',\n 'Geraldton',\n 'Emerald',\n 'Mount Isa',\n 'Bundaberg',\n 'Moranbah',\n 'Armidale',\n 'Tamworth',\n 'Devonport']"
     },
     "execution_count": 12,
     "metadata": {},
     "output_type": "execute_result"
    }
   ],
   "source": [
    "unique_departure_port"
   ],
   "metadata": {
    "collapsed": false,
    "ExecuteTime": {
     "end_time": "2024-09-26T13:34:04.252772100Z",
     "start_time": "2024-09-26T13:34:04.204984900Z"
    }
   }
  },
  {
   "cell_type": "code",
   "execution_count": 13,
   "outputs": [
    {
     "data": {
      "text/plain": "42"
     },
     "execution_count": 13,
     "metadata": {},
     "output_type": "execute_result"
    }
   ],
   "source": [
    "unique_departure_port_count = len(unique_departure_port)\n",
    "unique_departure_port_count"
   ],
   "metadata": {
    "collapsed": false,
    "ExecuteTime": {
     "end_time": "2024-09-26T13:34:04.354108200Z",
     "start_time": "2024-09-26T13:34:04.218244400Z"
    }
   }
  },
  {
   "cell_type": "code",
   "execution_count": 14,
   "outputs": [
    {
     "data": {
      "text/plain": "['Brisbane',\n 'Canberra',\n 'Gold Coast',\n 'Melbourne',\n 'Perth',\n 'Port Lincoln',\n 'Sydney',\n 'Adelaide',\n 'Cairns',\n 'Darwin',\n 'Hamilton Island',\n 'Mackay',\n 'Newcastle',\n 'Proserpine',\n 'Rockhampton',\n 'Townsville',\n 'Alice Springs',\n 'Hobart',\n 'Launceston',\n 'Mildura',\n 'Sunshine Coast',\n 'Broome',\n 'Kalgoorlie',\n 'Karratha',\n 'Newman',\n 'Port Hedland',\n 'Albury',\n 'Ballina',\n 'Coffs Harbour',\n 'Dubbo',\n 'Port Macquarie',\n 'Wagga Wagga',\n 'Ayers Rock',\n 'Gladstone',\n 'Geraldton',\n 'Emerald',\n 'Mount Isa',\n 'Bundaberg',\n 'Moranbah',\n 'Armidale',\n 'Tamworth',\n 'Devonport']"
     },
     "execution_count": 14,
     "metadata": {},
     "output_type": "execute_result"
    }
   ],
   "source": [
    "unique_arrival_port = port_fares['arrival_port'].unique().tolist()\n",
    "unique_arrival_port"
   ],
   "metadata": {
    "collapsed": false,
    "ExecuteTime": {
     "end_time": "2024-09-26T13:34:04.417934400Z",
     "start_time": "2024-09-26T13:34:04.237812Z"
    }
   }
  },
  {
   "cell_type": "code",
   "execution_count": 15,
   "outputs": [
    {
     "data": {
      "text/plain": "42"
     },
     "execution_count": 15,
     "metadata": {},
     "output_type": "execute_result"
    }
   ],
   "source": [
    "unique_arrival_port_count = len(unique_arrival_port)\n",
    "unique_arrival_port_count"
   ],
   "metadata": {
    "collapsed": false,
    "ExecuteTime": {
     "end_time": "2024-09-26T13:34:04.467321900Z",
     "start_time": "2024-09-26T13:34:04.250777Z"
    }
   }
  },
  {
   "cell_type": "code",
   "execution_count": 16,
   "outputs": [
    {
     "data": {
      "text/plain": "       Year  Month departure_port arrival_port  Arrival Delay  \\\n0      2010      8       Adelaide     Brisbane       8.791209   \n1      2010      8       Adelaide     Brisbane       9.708738   \n2      2010      8       Adelaide     Brisbane      12.955466   \n3      2010      8       Adelaide     Brisbane      22.727273   \n4      2010      8       Adelaide     Brisbane      29.032258   \n...     ...    ...            ...          ...            ...   \n75899  2024      2       Adelaide       Sydney      23.041475   \n75900  2024      2       Adelaide       Sydney      24.822695   \n75901  2024      2       Adelaide       Sydney      25.152130   \n75902  2024      2       Adelaide       Sydney      26.415094   \n75903  2024      2       Adelaide       Sydney      37.931034   \n\n       Departure Delay  Average_Fare  \n0            15.384615         157.0  \n1             6.796117         157.0  \n2            16.194332         157.0  \n3            22.727273         157.0  \n4            45.161290         157.0  \n...                ...           ...  \n75899        24.884793           NaN  \n75900        26.241135           NaN  \n75901        26.774848           NaN  \n75902        25.471698           NaN  \n75903        48.275862           NaN  \n\n[4982 rows x 7 columns]",
      "text/html": "<div>\n<style scoped>\n    .dataframe tbody tr th:only-of-type {\n        vertical-align: middle;\n    }\n\n    .dataframe tbody tr th {\n        vertical-align: top;\n    }\n\n    .dataframe thead th {\n        text-align: right;\n    }\n</style>\n<table border=\"1\" class=\"dataframe\">\n  <thead>\n    <tr style=\"text-align: right;\">\n      <th></th>\n      <th>Year</th>\n      <th>Month</th>\n      <th>departure_port</th>\n      <th>arrival_port</th>\n      <th>Arrival Delay</th>\n      <th>Departure Delay</th>\n      <th>Average_Fare</th>\n    </tr>\n  </thead>\n  <tbody>\n    <tr>\n      <th>0</th>\n      <td>2010</td>\n      <td>8</td>\n      <td>Adelaide</td>\n      <td>Brisbane</td>\n      <td>8.791209</td>\n      <td>15.384615</td>\n      <td>157.0</td>\n    </tr>\n    <tr>\n      <th>1</th>\n      <td>2010</td>\n      <td>8</td>\n      <td>Adelaide</td>\n      <td>Brisbane</td>\n      <td>9.708738</td>\n      <td>6.796117</td>\n      <td>157.0</td>\n    </tr>\n    <tr>\n      <th>2</th>\n      <td>2010</td>\n      <td>8</td>\n      <td>Adelaide</td>\n      <td>Brisbane</td>\n      <td>12.955466</td>\n      <td>16.194332</td>\n      <td>157.0</td>\n    </tr>\n    <tr>\n      <th>3</th>\n      <td>2010</td>\n      <td>8</td>\n      <td>Adelaide</td>\n      <td>Brisbane</td>\n      <td>22.727273</td>\n      <td>22.727273</td>\n      <td>157.0</td>\n    </tr>\n    <tr>\n      <th>4</th>\n      <td>2010</td>\n      <td>8</td>\n      <td>Adelaide</td>\n      <td>Brisbane</td>\n      <td>29.032258</td>\n      <td>45.161290</td>\n      <td>157.0</td>\n    </tr>\n    <tr>\n      <th>...</th>\n      <td>...</td>\n      <td>...</td>\n      <td>...</td>\n      <td>...</td>\n      <td>...</td>\n      <td>...</td>\n      <td>...</td>\n    </tr>\n    <tr>\n      <th>75899</th>\n      <td>2024</td>\n      <td>2</td>\n      <td>Adelaide</td>\n      <td>Sydney</td>\n      <td>23.041475</td>\n      <td>24.884793</td>\n      <td>NaN</td>\n    </tr>\n    <tr>\n      <th>75900</th>\n      <td>2024</td>\n      <td>2</td>\n      <td>Adelaide</td>\n      <td>Sydney</td>\n      <td>24.822695</td>\n      <td>26.241135</td>\n      <td>NaN</td>\n    </tr>\n    <tr>\n      <th>75901</th>\n      <td>2024</td>\n      <td>2</td>\n      <td>Adelaide</td>\n      <td>Sydney</td>\n      <td>25.152130</td>\n      <td>26.774848</td>\n      <td>NaN</td>\n    </tr>\n    <tr>\n      <th>75902</th>\n      <td>2024</td>\n      <td>2</td>\n      <td>Adelaide</td>\n      <td>Sydney</td>\n      <td>26.415094</td>\n      <td>25.471698</td>\n      <td>NaN</td>\n    </tr>\n    <tr>\n      <th>75903</th>\n      <td>2024</td>\n      <td>2</td>\n      <td>Adelaide</td>\n      <td>Sydney</td>\n      <td>37.931034</td>\n      <td>48.275862</td>\n      <td>NaN</td>\n    </tr>\n  </tbody>\n</table>\n<p>4982 rows × 7 columns</p>\n</div>"
     },
     "execution_count": 16,
     "metadata": {},
     "output_type": "execute_result"
    }
   ],
   "source": [
    "adelaide_flights = port_combinations[port_combinations['departure_port'] == 'Adelaide']\n",
    "adelaide_flights"
   ],
   "metadata": {
    "collapsed": false,
    "ExecuteTime": {
     "end_time": "2024-09-26T13:34:04.614491100Z",
     "start_time": "2024-09-26T13:34:04.271815100Z"
    }
   }
  },
  {
   "cell_type": "code",
   "execution_count": 17,
   "outputs": [],
   "source": [
    "def get_individual_port_combinations(departure_port_name):\n",
    "    selected_departure_data = port_combinations[port_combinations['departure_port'] == departure_port_name]\n",
    "\n",
    "    #TODO: Refactor this to get average fare, arrival delay, and departure delay\n",
    "\n",
    "    port_combinations_grouped = selected_departure_data.groupby(['Year', 'Month', 'arrival_port']).agg({'Average_Fare': 'mean'}).reset_index()\n",
    "\n",
    "    #port_combinations_grouped = selected_departure_data.groupby(['Year', 'Month', 'Arrival Delay']).agg({'Average_Arrival_Delay': 'mean'}).reset_index()\n",
    "\n",
    "    #port_combinations_grouped = selected_departure_data.groupby(['Year', 'Month', 'Departure Delay']).agg({'Average_Departure_Delay': 'mean'}).reset_index()\n",
    "\n",
    "\n",
    "    port_combinations_grouped['departure_port'] = departure_port_name\n",
    "\n",
    "    return port_combinations_grouped\n"
   ],
   "metadata": {
    "collapsed": false,
    "ExecuteTime": {
     "end_time": "2024-09-26T13:34:04.619479900Z",
     "start_time": "2024-09-26T13:34:04.299740300Z"
    }
   }
  },
  {
   "cell_type": "code",
   "execution_count": 18,
   "outputs": [],
   "source": [
    "starting_point = port_fares.drop_duplicates(subset=[\"departure_port\"])\n",
    "unique_departure_ports = starting_point['departure_port'].unique()\n",
    "\n",
    "results = []\n",
    "\n",
    "for departure_port_name in unique_departure_ports:\n",
    "    port_data = get_individual_port_combinations(departure_port_name)\n",
    "\n",
    "    results.append(port_data)\n",
    "\n",
    "all_combinations = pd.concat(results, ignore_index=True)"
   ],
   "metadata": {
    "collapsed": false,
    "ExecuteTime": {
     "end_time": "2024-09-26T13:34:04.816095200Z",
     "start_time": "2024-09-26T13:34:04.318691700Z"
    }
   }
  },
  {
   "cell_type": "code",
   "execution_count": 19,
   "outputs": [
    {
     "data": {
      "text/plain": "       Year  Month arrival_port  Average_Fare departure_port\n0      2010      8     Brisbane         157.0       Adelaide\n1      2010      8     Canberra         350.0       Adelaide\n2      2010      8   Gold Coast         232.0       Adelaide\n3      2010      8    Melbourne          87.0       Adelaide\n4      2010      8        Perth         406.0       Adelaide\n...     ...    ...          ...           ...            ...\n19395  2023     10    Melbourne         438.0      Devonport\n19396  2023     11    Melbourne           NaN      Devonport\n19397  2023     12    Melbourne         480.0      Devonport\n19398  2024      1    Melbourne         414.0      Devonport\n19399  2024      2    Melbourne           NaN      Devonport\n\n[19400 rows x 5 columns]",
      "text/html": "<div>\n<style scoped>\n    .dataframe tbody tr th:only-of-type {\n        vertical-align: middle;\n    }\n\n    .dataframe tbody tr th {\n        vertical-align: top;\n    }\n\n    .dataframe thead th {\n        text-align: right;\n    }\n</style>\n<table border=\"1\" class=\"dataframe\">\n  <thead>\n    <tr style=\"text-align: right;\">\n      <th></th>\n      <th>Year</th>\n      <th>Month</th>\n      <th>arrival_port</th>\n      <th>Average_Fare</th>\n      <th>departure_port</th>\n    </tr>\n  </thead>\n  <tbody>\n    <tr>\n      <th>0</th>\n      <td>2010</td>\n      <td>8</td>\n      <td>Brisbane</td>\n      <td>157.0</td>\n      <td>Adelaide</td>\n    </tr>\n    <tr>\n      <th>1</th>\n      <td>2010</td>\n      <td>8</td>\n      <td>Canberra</td>\n      <td>350.0</td>\n      <td>Adelaide</td>\n    </tr>\n    <tr>\n      <th>2</th>\n      <td>2010</td>\n      <td>8</td>\n      <td>Gold Coast</td>\n      <td>232.0</td>\n      <td>Adelaide</td>\n    </tr>\n    <tr>\n      <th>3</th>\n      <td>2010</td>\n      <td>8</td>\n      <td>Melbourne</td>\n      <td>87.0</td>\n      <td>Adelaide</td>\n    </tr>\n    <tr>\n      <th>4</th>\n      <td>2010</td>\n      <td>8</td>\n      <td>Perth</td>\n      <td>406.0</td>\n      <td>Adelaide</td>\n    </tr>\n    <tr>\n      <th>...</th>\n      <td>...</td>\n      <td>...</td>\n      <td>...</td>\n      <td>...</td>\n      <td>...</td>\n    </tr>\n    <tr>\n      <th>19395</th>\n      <td>2023</td>\n      <td>10</td>\n      <td>Melbourne</td>\n      <td>438.0</td>\n      <td>Devonport</td>\n    </tr>\n    <tr>\n      <th>19396</th>\n      <td>2023</td>\n      <td>11</td>\n      <td>Melbourne</td>\n      <td>NaN</td>\n      <td>Devonport</td>\n    </tr>\n    <tr>\n      <th>19397</th>\n      <td>2023</td>\n      <td>12</td>\n      <td>Melbourne</td>\n      <td>480.0</td>\n      <td>Devonport</td>\n    </tr>\n    <tr>\n      <th>19398</th>\n      <td>2024</td>\n      <td>1</td>\n      <td>Melbourne</td>\n      <td>414.0</td>\n      <td>Devonport</td>\n    </tr>\n    <tr>\n      <th>19399</th>\n      <td>2024</td>\n      <td>2</td>\n      <td>Melbourne</td>\n      <td>NaN</td>\n      <td>Devonport</td>\n    </tr>\n  </tbody>\n</table>\n<p>19400 rows × 5 columns</p>\n</div>"
     },
     "execution_count": 19,
     "metadata": {},
     "output_type": "execute_result"
    }
   ],
   "source": [
    "all_combinations"
   ],
   "metadata": {
    "collapsed": false,
    "ExecuteTime": {
     "end_time": "2024-09-26T13:34:04.938792500Z",
     "start_time": "2024-09-26T13:34:04.780133500Z"
    }
   }
  },
  {
   "cell_type": "code",
   "execution_count": 20,
   "outputs": [],
   "source": [
    "# port_data.to_csv(f'individual_data/departure_port_{departure_port_name}.csv', index=False)\n",
    "\n",
    "all_combinations.rename(columns={'arrival_port': 'Arriving_Port'}, inplace=True)\n",
    "all_combinations.rename(columns={'departure_port': 'Departing_Port'}, inplace=True)\n"
   ],
   "metadata": {
    "collapsed": false,
    "ExecuteTime": {
     "end_time": "2024-09-26T13:34:04.939792800Z",
     "start_time": "2024-09-26T13:34:04.806162Z"
    }
   }
  },
  {
   "cell_type": "code",
   "execution_count": 21,
   "outputs": [
    {
     "data": {
      "text/plain": "0        False\n1        False\n2        False\n3        False\n4        False\n         ...  \n19395    False\n19396     True\n19397    False\n19398    False\n19399     True\nName: Average_Fare, Length: 19400, dtype: bool"
     },
     "execution_count": 21,
     "metadata": {},
     "output_type": "execute_result"
    }
   ],
   "source": [
    "all_combinations[\"Average_Fare\"].isnull()\n"
   ],
   "metadata": {
    "collapsed": false,
    "ExecuteTime": {
     "end_time": "2024-09-26T13:34:04.939792800Z",
     "start_time": "2024-09-26T13:34:04.824080200Z"
    }
   }
  },
  {
   "cell_type": "code",
   "execution_count": 22,
   "outputs": [],
   "source": [
    "#all_combinations.to_csv(f'fares_reading.csv', index=False, header=True)"
   ],
   "metadata": {
    "collapsed": false,
    "ExecuteTime": {
     "end_time": "2024-09-26T13:34:04.980865700Z",
     "start_time": "2024-09-26T13:34:04.837626300Z"
    }
   }
  },
  {
   "cell_type": "code",
   "execution_count": 23,
   "outputs": [],
   "source": [
    "null_indices = all_combinations['Average_Fare'].isnull()"
   ],
   "metadata": {
    "collapsed": false,
    "ExecuteTime": {
     "end_time": "2024-09-26T13:34:04.981828300Z",
     "start_time": "2024-09-26T13:34:04.900821200Z"
    }
   }
  },
  {
   "cell_type": "code",
   "execution_count": 24,
   "outputs": [],
   "source": [
    "missing_fares = all_combinations[null_indices]\n"
   ],
   "metadata": {
    "collapsed": false,
    "ExecuteTime": {
     "end_time": "2024-09-26T13:34:05.100972Z",
     "start_time": "2024-09-26T13:34:04.913787600Z"
    }
   }
  },
  {
   "cell_type": "code",
   "execution_count": 25,
   "outputs": [
    {
     "data": {
      "text/plain": "       Year  Month  Arriving_Port  Average_Fare Departing_Port\n406    2015      6  Alice Springs           NaN       Adelaide\n414    2015      7  Alice Springs           NaN       Adelaide\n422    2015      8  Alice Springs           NaN       Adelaide\n430    2015      9  Alice Springs           NaN       Adelaide\n438    2015     10  Alice Springs           NaN       Adelaide\n...     ...    ...            ...           ...            ...\n19387  2020      1         Sydney           NaN       Tamworth\n19388  2020      2         Sydney           NaN       Tamworth\n19389  2020      3         Sydney           NaN       Tamworth\n19396  2023     11      Melbourne           NaN      Devonport\n19399  2024      2      Melbourne           NaN      Devonport\n\n[10006 rows x 5 columns]",
      "text/html": "<div>\n<style scoped>\n    .dataframe tbody tr th:only-of-type {\n        vertical-align: middle;\n    }\n\n    .dataframe tbody tr th {\n        vertical-align: top;\n    }\n\n    .dataframe thead th {\n        text-align: right;\n    }\n</style>\n<table border=\"1\" class=\"dataframe\">\n  <thead>\n    <tr style=\"text-align: right;\">\n      <th></th>\n      <th>Year</th>\n      <th>Month</th>\n      <th>Arriving_Port</th>\n      <th>Average_Fare</th>\n      <th>Departing_Port</th>\n    </tr>\n  </thead>\n  <tbody>\n    <tr>\n      <th>406</th>\n      <td>2015</td>\n      <td>6</td>\n      <td>Alice Springs</td>\n      <td>NaN</td>\n      <td>Adelaide</td>\n    </tr>\n    <tr>\n      <th>414</th>\n      <td>2015</td>\n      <td>7</td>\n      <td>Alice Springs</td>\n      <td>NaN</td>\n      <td>Adelaide</td>\n    </tr>\n    <tr>\n      <th>422</th>\n      <td>2015</td>\n      <td>8</td>\n      <td>Alice Springs</td>\n      <td>NaN</td>\n      <td>Adelaide</td>\n    </tr>\n    <tr>\n      <th>430</th>\n      <td>2015</td>\n      <td>9</td>\n      <td>Alice Springs</td>\n      <td>NaN</td>\n      <td>Adelaide</td>\n    </tr>\n    <tr>\n      <th>438</th>\n      <td>2015</td>\n      <td>10</td>\n      <td>Alice Springs</td>\n      <td>NaN</td>\n      <td>Adelaide</td>\n    </tr>\n    <tr>\n      <th>...</th>\n      <td>...</td>\n      <td>...</td>\n      <td>...</td>\n      <td>...</td>\n      <td>...</td>\n    </tr>\n    <tr>\n      <th>19387</th>\n      <td>2020</td>\n      <td>1</td>\n      <td>Sydney</td>\n      <td>NaN</td>\n      <td>Tamworth</td>\n    </tr>\n    <tr>\n      <th>19388</th>\n      <td>2020</td>\n      <td>2</td>\n      <td>Sydney</td>\n      <td>NaN</td>\n      <td>Tamworth</td>\n    </tr>\n    <tr>\n      <th>19389</th>\n      <td>2020</td>\n      <td>3</td>\n      <td>Sydney</td>\n      <td>NaN</td>\n      <td>Tamworth</td>\n    </tr>\n    <tr>\n      <th>19396</th>\n      <td>2023</td>\n      <td>11</td>\n      <td>Melbourne</td>\n      <td>NaN</td>\n      <td>Devonport</td>\n    </tr>\n    <tr>\n      <th>19399</th>\n      <td>2024</td>\n      <td>2</td>\n      <td>Melbourne</td>\n      <td>NaN</td>\n      <td>Devonport</td>\n    </tr>\n  </tbody>\n</table>\n<p>10006 rows × 5 columns</p>\n</div>"
     },
     "execution_count": 25,
     "metadata": {},
     "output_type": "execute_result"
    }
   ],
   "source": [
    "missing_fares"
   ],
   "metadata": {
    "collapsed": false,
    "ExecuteTime": {
     "end_time": "2024-09-26T13:34:05.100972Z",
     "start_time": "2024-09-26T13:34:05.044125700Z"
    }
   }
  },
  {
   "cell_type": "code",
   "execution_count": 26,
   "outputs": [],
   "source": [
    "all_combinations_copy = all_combinations.copy()"
   ],
   "metadata": {
    "collapsed": false,
    "ExecuteTime": {
     "end_time": "2024-09-26T13:34:05.101969200Z",
     "start_time": "2024-09-26T13:34:05.044125700Z"
    }
   }
  },
  {
   "cell_type": "code",
   "execution_count": 27,
   "outputs": [],
   "source": [
    "# Used Interpolation to fill the missing values.\n",
    "\n",
    "all_combinations['Average_Fare'] = all_combinations['Average_Fare'].interpolate(method='polynomial', order=2)"
   ],
   "metadata": {
    "collapsed": false,
    "ExecuteTime": {
     "end_time": "2024-09-26T13:34:05.101969200Z",
     "start_time": "2024-09-26T13:34:05.059086400Z"
    }
   }
  },
  {
   "cell_type": "code",
   "execution_count": 28,
   "outputs": [
    {
     "data": {
      "text/plain": "1"
     },
     "execution_count": 28,
     "metadata": {},
     "output_type": "execute_result"
    }
   ],
   "source": [
    "all_combinations['Average_Fare'].isnull().sum()"
   ],
   "metadata": {
    "collapsed": false,
    "ExecuteTime": {
     "end_time": "2024-09-26T13:34:05.143101300Z",
     "start_time": "2024-09-26T13:34:05.100972Z"
    }
   }
  },
  {
   "cell_type": "code",
   "execution_count": 29,
   "outputs": [],
   "source": [
    "missing_fares = all_combinations[null_indices]"
   ],
   "metadata": {
    "collapsed": false,
    "ExecuteTime": {
     "end_time": "2024-09-26T13:34:05.204932700Z",
     "start_time": "2024-09-26T13:34:05.116931400Z"
    }
   }
  },
  {
   "cell_type": "code",
   "execution_count": 30,
   "outputs": [
    {
     "data": {
      "text/plain": "       Year  Month  Arriving_Port  Average_Fare Departing_Port\n406    2015      6  Alice Springs     98.282887       Adelaide\n414    2015      7  Alice Springs     93.791890       Adelaide\n422    2015      8  Alice Springs    118.627676       Adelaide\n430    2015      9  Alice Springs    196.775952       Adelaide\n438    2015     10  Alice Springs    154.701416       Adelaide\n...     ...    ...            ...           ...            ...\n19387  2020      1         Sydney    472.662758       Tamworth\n19388  2020      2         Sydney    468.014962       Tamworth\n19389  2020      3         Sydney    463.460709       Tamworth\n19396  2023     11      Melbourne    470.242523      Devonport\n19399  2024      2      Melbourne           NaN      Devonport\n\n[10006 rows x 5 columns]",
      "text/html": "<div>\n<style scoped>\n    .dataframe tbody tr th:only-of-type {\n        vertical-align: middle;\n    }\n\n    .dataframe tbody tr th {\n        vertical-align: top;\n    }\n\n    .dataframe thead th {\n        text-align: right;\n    }\n</style>\n<table border=\"1\" class=\"dataframe\">\n  <thead>\n    <tr style=\"text-align: right;\">\n      <th></th>\n      <th>Year</th>\n      <th>Month</th>\n      <th>Arriving_Port</th>\n      <th>Average_Fare</th>\n      <th>Departing_Port</th>\n    </tr>\n  </thead>\n  <tbody>\n    <tr>\n      <th>406</th>\n      <td>2015</td>\n      <td>6</td>\n      <td>Alice Springs</td>\n      <td>98.282887</td>\n      <td>Adelaide</td>\n    </tr>\n    <tr>\n      <th>414</th>\n      <td>2015</td>\n      <td>7</td>\n      <td>Alice Springs</td>\n      <td>93.791890</td>\n      <td>Adelaide</td>\n    </tr>\n    <tr>\n      <th>422</th>\n      <td>2015</td>\n      <td>8</td>\n      <td>Alice Springs</td>\n      <td>118.627676</td>\n      <td>Adelaide</td>\n    </tr>\n    <tr>\n      <th>430</th>\n      <td>2015</td>\n      <td>9</td>\n      <td>Alice Springs</td>\n      <td>196.775952</td>\n      <td>Adelaide</td>\n    </tr>\n    <tr>\n      <th>438</th>\n      <td>2015</td>\n      <td>10</td>\n      <td>Alice Springs</td>\n      <td>154.701416</td>\n      <td>Adelaide</td>\n    </tr>\n    <tr>\n      <th>...</th>\n      <td>...</td>\n      <td>...</td>\n      <td>...</td>\n      <td>...</td>\n      <td>...</td>\n    </tr>\n    <tr>\n      <th>19387</th>\n      <td>2020</td>\n      <td>1</td>\n      <td>Sydney</td>\n      <td>472.662758</td>\n      <td>Tamworth</td>\n    </tr>\n    <tr>\n      <th>19388</th>\n      <td>2020</td>\n      <td>2</td>\n      <td>Sydney</td>\n      <td>468.014962</td>\n      <td>Tamworth</td>\n    </tr>\n    <tr>\n      <th>19389</th>\n      <td>2020</td>\n      <td>3</td>\n      <td>Sydney</td>\n      <td>463.460709</td>\n      <td>Tamworth</td>\n    </tr>\n    <tr>\n      <th>19396</th>\n      <td>2023</td>\n      <td>11</td>\n      <td>Melbourne</td>\n      <td>470.242523</td>\n      <td>Devonport</td>\n    </tr>\n    <tr>\n      <th>19399</th>\n      <td>2024</td>\n      <td>2</td>\n      <td>Melbourne</td>\n      <td>NaN</td>\n      <td>Devonport</td>\n    </tr>\n  </tbody>\n</table>\n<p>10006 rows × 5 columns</p>\n</div>"
     },
     "execution_count": 30,
     "metadata": {},
     "output_type": "execute_result"
    }
   ],
   "source": [
    "missing_fares"
   ],
   "metadata": {
    "collapsed": false,
    "ExecuteTime": {
     "end_time": "2024-09-26T13:34:05.252316400Z",
     "start_time": "2024-09-26T13:34:05.145094900Z"
    }
   }
  },
  {
   "cell_type": "code",
   "execution_count": 35,
   "outputs": [],
   "source": [
    "all_combinations['Average_Fare'] = all_combinations['Average_Fare'].fillna(method=\"ffill\")"
   ],
   "metadata": {
    "collapsed": false,
    "ExecuteTime": {
     "end_time": "2024-09-26T13:37:05.932041900Z",
     "start_time": "2024-09-26T13:37:05.886465800Z"
    }
   }
  },
  {
   "cell_type": "code",
   "execution_count": 32,
   "outputs": [],
   "source": [
    "all_combinations['Average_Fare'] = all_combinations['Average_Fare'].astype('int')"
   ],
   "metadata": {
    "collapsed": false,
    "ExecuteTime": {
     "end_time": "2024-09-26T13:34:05.323130800Z",
     "start_time": "2024-09-26T13:34:05.181994500Z"
    }
   }
  },
  {
   "cell_type": "code",
   "execution_count": 33,
   "outputs": [],
   "source": [
    "all_combinations['Average_Fare'] = all_combinations['Average_Fare'].abs()"
   ],
   "metadata": {
    "collapsed": false,
    "ExecuteTime": {
     "end_time": "2024-09-26T13:34:05.324128600Z",
     "start_time": "2024-09-26T13:34:05.196954700Z"
    }
   }
  },
  {
   "cell_type": "code",
   "execution_count": 34,
   "outputs": [],
   "source": [
    "#all_combinations.to_csv('fares_reading.csv', index=False, header=True)"
   ],
   "metadata": {
    "collapsed": false,
    "ExecuteTime": {
     "end_time": "2024-09-26T13:34:05.350566400Z",
     "start_time": "2024-09-26T13:34:05.215904100Z"
    }
   }
  },
  {
   "cell_type": "code",
   "execution_count": 34,
   "outputs": [],
   "source": [],
   "metadata": {
    "collapsed": false,
    "ExecuteTime": {
     "end_time": "2024-09-26T13:34:05.411401900Z",
     "start_time": "2024-09-26T13:34:05.226877600Z"
    }
   }
  }
 ],
 "metadata": {
  "kernelspec": {
   "display_name": "Python 3",
   "language": "python",
   "name": "python3"
  },
  "language_info": {
   "codemirror_mode": {
    "name": "ipython",
    "version": 2
   },
   "file_extension": ".py",
   "mimetype": "text/x-python",
   "name": "python",
   "nbconvert_exporter": "python",
   "pygments_lexer": "ipython2",
   "version": "2.7.6"
  }
 },
 "nbformat": 4,
 "nbformat_minor": 0
}
